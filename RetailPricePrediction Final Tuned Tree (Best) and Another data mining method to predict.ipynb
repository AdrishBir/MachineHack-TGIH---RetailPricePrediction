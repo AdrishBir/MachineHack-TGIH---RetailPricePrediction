{
 "cells": [
  {
   "cell_type": "code",
   "execution_count": 2,
   "metadata": {
    "executionInfo": {
     "elapsed": 2120,
     "status": "ok",
     "timestamp": 1606036535375,
     "user": {
      "displayName": "adrish bir",
      "photoUrl": "https://lh3.googleusercontent.com/a-/AOh14GjvnDCPOpuviVvO_227LaSth7sl8OIBxCSMqQmFO4c=s64",
      "userId": "15664726640138518444"
     },
     "user_tz": -330
    },
    "id": "IOyzVdDtzEQe"
   },
   "outputs": [],
   "source": [
    "import numpy as np\n",
    "import pandas as pd\n",
    "import matplotlib.pyplot as plt\n",
    "from matplotlib import style\n",
    "import seaborn as sns\n",
    "%matplotlib inline\n",
    "import datetime\n",
    "import warnings\n",
    "warnings.filterwarnings(\"ignore\")"
   ]
  },
  {
   "cell_type": "code",
   "execution_count": 3,
   "metadata": {
    "colab": {
     "base_uri": "https://localhost:8080/"
    },
    "executionInfo": {
     "elapsed": 24713,
     "status": "ok",
     "timestamp": 1606036560617,
     "user": {
      "displayName": "adrish bir",
      "photoUrl": "https://lh3.googleusercontent.com/a-/AOh14GjvnDCPOpuviVvO_227LaSth7sl8OIBxCSMqQmFO4c=s64",
      "userId": "15664726640138518444"
     },
     "user_tz": -330
    },
    "id": "mqBuR2DrzQcw",
    "outputId": "c9141a66-1068-40b5-85d3-a734652bc56c"
   },
   "outputs": [
    {
     "name": "stdout",
     "output_type": "stream",
     "text": [
      "Mounted at /content/gdrive\n"
     ]
    }
   ],
   "source": [
    "from google.colab import drive\n",
    "drive.mount('/content/gdrive')"
   ]
  },
  {
   "cell_type": "code",
   "execution_count": 8,
   "metadata": {
    "colab": {
     "base_uri": "https://localhost:8080/",
     "height": 202
    },
    "executionInfo": {
     "elapsed": 2285,
     "status": "ok",
     "timestamp": 1606023332097,
     "user": {
      "displayName": "adrish bir",
      "photoUrl": "https://lh3.googleusercontent.com/a-/AOh14GjvnDCPOpuviVvO_227LaSth7sl8OIBxCSMqQmFO4c=s64",
      "userId": "15664726640138518444"
     },
     "user_tz": -330
    },
    "id": "L00s31uRzSKm",
    "outputId": "6f8decf6-075b-4fbf-c6eb-2c18ccbaba66"
   },
   "outputs": [
    {
     "data": {
      "text/html": [
       "<div>\n",
       "<style scoped>\n",
       "    .dataframe tbody tr th:only-of-type {\n",
       "        vertical-align: middle;\n",
       "    }\n",
       "\n",
       "    .dataframe tbody tr th {\n",
       "        vertical-align: top;\n",
       "    }\n",
       "\n",
       "    .dataframe thead th {\n",
       "        text-align: right;\n",
       "    }\n",
       "</style>\n",
       "<table border=\"1\" class=\"dataframe\">\n",
       "  <thead>\n",
       "    <tr style=\"text-align: right;\">\n",
       "      <th></th>\n",
       "      <th>InvoiceNo</th>\n",
       "      <th>StockCode</th>\n",
       "      <th>Description</th>\n",
       "      <th>Quantity</th>\n",
       "      <th>InvoiceDate</th>\n",
       "      <th>UnitPrice</th>\n",
       "      <th>CustomerID</th>\n",
       "      <th>Country</th>\n",
       "    </tr>\n",
       "  </thead>\n",
       "  <tbody>\n",
       "    <tr>\n",
       "      <th>0</th>\n",
       "      <td>6141</td>\n",
       "      <td>1583</td>\n",
       "      <td>144</td>\n",
       "      <td>3</td>\n",
       "      <td>2011-05-06 16:54:00</td>\n",
       "      <td>3.75</td>\n",
       "      <td>14056.0</td>\n",
       "      <td>35</td>\n",
       "    </tr>\n",
       "    <tr>\n",
       "      <th>1</th>\n",
       "      <td>6349</td>\n",
       "      <td>1300</td>\n",
       "      <td>3682</td>\n",
       "      <td>6</td>\n",
       "      <td>2011-05-11 07:35:00</td>\n",
       "      <td>1.95</td>\n",
       "      <td>13098.0</td>\n",
       "      <td>35</td>\n",
       "    </tr>\n",
       "    <tr>\n",
       "      <th>2</th>\n",
       "      <td>16783</td>\n",
       "      <td>2178</td>\n",
       "      <td>1939</td>\n",
       "      <td>4</td>\n",
       "      <td>2011-11-20 13:20:00</td>\n",
       "      <td>5.95</td>\n",
       "      <td>15044.0</td>\n",
       "      <td>35</td>\n",
       "    </tr>\n",
       "    <tr>\n",
       "      <th>3</th>\n",
       "      <td>16971</td>\n",
       "      <td>2115</td>\n",
       "      <td>2983</td>\n",
       "      <td>1</td>\n",
       "      <td>2011-11-22 12:07:00</td>\n",
       "      <td>0.83</td>\n",
       "      <td>15525.0</td>\n",
       "      <td>35</td>\n",
       "    </tr>\n",
       "    <tr>\n",
       "      <th>4</th>\n",
       "      <td>6080</td>\n",
       "      <td>1210</td>\n",
       "      <td>2886</td>\n",
       "      <td>12</td>\n",
       "      <td>2011-05-06 09:00:00</td>\n",
       "      <td>1.65</td>\n",
       "      <td>13952.0</td>\n",
       "      <td>35</td>\n",
       "    </tr>\n",
       "  </tbody>\n",
       "</table>\n",
       "</div>"
      ],
      "text/plain": [
       "   InvoiceNo  StockCode  Description  ...  UnitPrice CustomerID  Country\n",
       "0       6141       1583          144  ...       3.75    14056.0       35\n",
       "1       6349       1300         3682  ...       1.95    13098.0       35\n",
       "2      16783       2178         1939  ...       5.95    15044.0       35\n",
       "3      16971       2115         2983  ...       0.83    15525.0       35\n",
       "4       6080       1210         2886  ...       1.65    13952.0       35\n",
       "\n",
       "[5 rows x 8 columns]"
      ]
     },
     "execution_count": 8,
     "metadata": {
      "tags": []
     },
     "output_type": "execute_result"
    }
   ],
   "source": [
    "Data_dir = '/content/gdrive/My Drive/Colab Notebooks/Datasets/MahineHack - Retail Price Prediction/'\n",
    "df = pd.read_csv(Data_dir+ 'Train.csv')\n",
    "test_data = pd.read_csv(Data_dir + 'Test.csv')\n",
    "df.head()"
   ]
  },
  {
   "cell_type": "markdown",
   "metadata": {
    "id": "GpzfI6Ph_T6Z"
   },
   "source": [
    "## New Section\n",
    "\n",
    "\n",
    "\n"
   ]
  },
  {
   "cell_type": "code",
   "execution_count": null,
   "metadata": {
    "colab": {
     "base_uri": "https://localhost:8080/"
    },
    "executionInfo": {
     "elapsed": 2228,
     "status": "ok",
     "timestamp": 1605933422626,
     "user": {
      "displayName": "adrish bir",
      "photoUrl": "https://lh3.googleusercontent.com/a-/AOh14GjvnDCPOpuviVvO_227LaSth7sl8OIBxCSMqQmFO4c=s64",
      "userId": "15664726640138518444"
     },
     "user_tz": -330
    },
    "id": "7ayLzooR4oRY",
    "outputId": "1379f100-9342-45c6-b920-bff175dc039e"
   },
   "outputs": [
    {
     "data": {
      "text/plain": [
       "(284780, 8)"
      ]
     },
     "execution_count": 4,
     "metadata": {
      "tags": []
     },
     "output_type": "execute_result"
    }
   ],
   "source": [
    "df.shape"
   ]
  },
  {
   "cell_type": "code",
   "execution_count": 10,
   "metadata": {
    "colab": {
     "base_uri": "https://localhost:8080/",
     "height": 202
    },
    "executionInfo": {
     "elapsed": 1605,
     "status": "ok",
     "timestamp": 1606023526011,
     "user": {
      "displayName": "adrish bir",
      "photoUrl": "https://lh3.googleusercontent.com/a-/AOh14GjvnDCPOpuviVvO_227LaSth7sl8OIBxCSMqQmFO4c=s64",
      "userId": "15664726640138518444"
     },
     "user_tz": -330
    },
    "id": "S70lsgDFzwJ6",
    "outputId": "d970aa9e-b888-4948-d1e2-adc9b125fcc3"
   },
   "outputs": [
    {
     "data": {
      "text/html": [
       "<div>\n",
       "<style scoped>\n",
       "    .dataframe tbody tr th:only-of-type {\n",
       "        vertical-align: middle;\n",
       "    }\n",
       "\n",
       "    .dataframe tbody tr th {\n",
       "        vertical-align: top;\n",
       "    }\n",
       "\n",
       "    .dataframe thead th {\n",
       "        text-align: right;\n",
       "    }\n",
       "</style>\n",
       "<table border=\"1\" class=\"dataframe\">\n",
       "  <thead>\n",
       "    <tr style=\"text-align: right;\">\n",
       "      <th></th>\n",
       "      <th>InvoiceNo</th>\n",
       "      <th>StockCode</th>\n",
       "      <th>Description</th>\n",
       "      <th>Quantity</th>\n",
       "      <th>UnitPrice</th>\n",
       "      <th>CustomerID</th>\n",
       "      <th>Country</th>\n",
       "      <th>Year</th>\n",
       "      <th>Month</th>\n",
       "      <th>Day</th>\n",
       "      <th>Timelight</th>\n",
       "      <th>Weekday</th>\n",
       "    </tr>\n",
       "  </thead>\n",
       "  <tbody>\n",
       "    <tr>\n",
       "      <th>0</th>\n",
       "      <td>6141</td>\n",
       "      <td>1583</td>\n",
       "      <td>144</td>\n",
       "      <td>3</td>\n",
       "      <td>3.75</td>\n",
       "      <td>14056.0</td>\n",
       "      <td>35</td>\n",
       "      <td>2011</td>\n",
       "      <td>5</td>\n",
       "      <td>6</td>\n",
       "      <td>Noon</td>\n",
       "      <td>Friday</td>\n",
       "    </tr>\n",
       "    <tr>\n",
       "      <th>1</th>\n",
       "      <td>6349</td>\n",
       "      <td>1300</td>\n",
       "      <td>3682</td>\n",
       "      <td>6</td>\n",
       "      <td>1.95</td>\n",
       "      <td>13098.0</td>\n",
       "      <td>35</td>\n",
       "      <td>2011</td>\n",
       "      <td>5</td>\n",
       "      <td>11</td>\n",
       "      <td>Morning</td>\n",
       "      <td>Wednesday</td>\n",
       "    </tr>\n",
       "    <tr>\n",
       "      <th>2</th>\n",
       "      <td>16783</td>\n",
       "      <td>2178</td>\n",
       "      <td>1939</td>\n",
       "      <td>4</td>\n",
       "      <td>5.95</td>\n",
       "      <td>15044.0</td>\n",
       "      <td>35</td>\n",
       "      <td>2011</td>\n",
       "      <td>11</td>\n",
       "      <td>20</td>\n",
       "      <td>Noon</td>\n",
       "      <td>Sunday</td>\n",
       "    </tr>\n",
       "    <tr>\n",
       "      <th>3</th>\n",
       "      <td>16971</td>\n",
       "      <td>2115</td>\n",
       "      <td>2983</td>\n",
       "      <td>1</td>\n",
       "      <td>0.83</td>\n",
       "      <td>15525.0</td>\n",
       "      <td>35</td>\n",
       "      <td>2011</td>\n",
       "      <td>11</td>\n",
       "      <td>22</td>\n",
       "      <td>Noon</td>\n",
       "      <td>Tuesday</td>\n",
       "    </tr>\n",
       "    <tr>\n",
       "      <th>4</th>\n",
       "      <td>6080</td>\n",
       "      <td>1210</td>\n",
       "      <td>2886</td>\n",
       "      <td>12</td>\n",
       "      <td>1.65</td>\n",
       "      <td>13952.0</td>\n",
       "      <td>35</td>\n",
       "      <td>2011</td>\n",
       "      <td>5</td>\n",
       "      <td>6</td>\n",
       "      <td>Morning</td>\n",
       "      <td>Friday</td>\n",
       "    </tr>\n",
       "  </tbody>\n",
       "</table>\n",
       "</div>"
      ],
      "text/plain": [
       "   InvoiceNo  StockCode  Description  Quantity  ...  Month  Day  Timelight    Weekday\n",
       "0       6141       1583          144         3  ...      5    6       Noon     Friday\n",
       "1       6349       1300         3682         6  ...      5   11    Morning  Wednesday\n",
       "2      16783       2178         1939         4  ...     11   20       Noon     Sunday\n",
       "3      16971       2115         2983         1  ...     11   22       Noon    Tuesday\n",
       "4       6080       1210         2886        12  ...      5    6    Morning     Friday\n",
       "\n",
       "[5 rows x 12 columns]"
      ]
     },
     "execution_count": 10,
     "metadata": {
      "tags": []
     },
     "output_type": "execute_result"
    }
   ],
   "source": [
    "Data_dir = '/content/gdrive/My Drive/Colab Notebooks/Datasets/MahineHack - Retail Price Prediction/'\n",
    "ff = pd.read_csv(Data_dir+ 'DataPrep1.csv')\n",
    "ff.head()"
   ]
  },
  {
   "cell_type": "code",
   "execution_count": 11,
   "metadata": {
    "colab": {
     "base_uri": "https://localhost:8080/"
    },
    "executionInfo": {
     "elapsed": 1149,
     "status": "ok",
     "timestamp": 1606023529173,
     "user": {
      "displayName": "adrish bir",
      "photoUrl": "https://lh3.googleusercontent.com/a-/AOh14GjvnDCPOpuviVvO_227LaSth7sl8OIBxCSMqQmFO4c=s64",
      "userId": "15664726640138518444"
     },
     "user_tz": -330
    },
    "id": "Li3LGreT4wn_",
    "outputId": "7e720733-837f-4b45-c0de-f5c89790c6ce"
   },
   "outputs": [
    {
     "data": {
      "text/plain": [
       "(284780, 12)"
      ]
     },
     "execution_count": 11,
     "metadata": {
      "tags": []
     },
     "output_type": "execute_result"
    }
   ],
   "source": [
    "ff.shape"
   ]
  },
  {
   "cell_type": "code",
   "execution_count": null,
   "metadata": {
    "colab": {
     "base_uri": "https://localhost:8080/",
     "height": 283
    },
    "executionInfo": {
     "elapsed": 2647,
     "status": "ok",
     "timestamp": 1605900142711,
     "user": {
      "displayName": "adrish bir",
      "photoUrl": "https://lh3.googleusercontent.com/a-/AOh14GjvnDCPOpuviVvO_227LaSth7sl8OIBxCSMqQmFO4c=s64",
      "userId": "15664726640138518444"
     },
     "user_tz": -330
    },
    "id": "S2pEHiSV4yJ_",
    "outputId": "1a603545-2c30-4978-a99e-7c02552a01c7"
   },
   "outputs": [
    {
     "data": {
      "text/plain": [
       "<matplotlib.axes._subplots.AxesSubplot at 0x7f1188150cf8>"
      ]
     },
     "execution_count": 7,
     "metadata": {
      "tags": []
     },
     "output_type": "execute_result"
    },
    {
     "data": {
      "image/png": "[encoded data removed]",
      "text/plain": [
       "<Figure size 432x288 with 1 Axes>"
      ]
     },
     "metadata": {
      "needs_background": "light",
      "tags": []
     },
     "output_type": "display_data"
    }
   ],
   "source": [
    "#df.drop(['InvoiceNo'],axis=1,inplace=True)\n",
    "df.Quantity.hist()"
   ]
  },
  {
   "cell_type": "code",
   "execution_count": null,
   "metadata": {
    "id": "FFiELiGz5sZO"
   },
   "outputs": [],
   "source": [
    "ff['Quantity'] = ff['Quantity'].abs()"
   ]
  },
  {
   "cell_type": "code",
   "execution_count": 12,
   "metadata": {
    "executionInfo": {
     "elapsed": 1631,
     "status": "ok",
     "timestamp": 1606023549278,
     "user": {
      "displayName": "adrish bir",
      "photoUrl": "https://lh3.googleusercontent.com/a-/AOh14GjvnDCPOpuviVvO_227LaSth7sl8OIBxCSMqQmFO4c=s64",
      "userId": "15664726640138518444"
     },
     "user_tz": -330
    },
    "id": "4IMgleRE52Df"
   },
   "outputs": [],
   "source": [
    "def transformation(data):\n",
    "  data['Quantity'] = data['Quantity'].abs()\n",
    "  data['Month'] = data['Month'].apply(lambda x: 'A' if x in range(1,5) else ( 'B' if x in range(5,9) else  'C'))\n",
    "  data['Day'] = data['Day'].apply(lambda x: 'week1' if x in range(1,11) else ( 'week2' if x in range(11,21) else 'week3') )\n",
    "  #data1 = data.drop(['InvoiceNo'],axis=1)\n",
    "  return data\n",
    "\n",
    "ff = transformation(ff)"
   ]
  },
  {
   "cell_type": "code",
   "execution_count": 13,
   "metadata": {
    "colab": {
     "base_uri": "https://localhost:8080/"
    },
    "executionInfo": {
     "elapsed": 3717,
     "status": "ok",
     "timestamp": 1606023563639,
     "user": {
      "displayName": "adrish bir",
      "photoUrl": "https://lh3.googleusercontent.com/a-/AOh14GjvnDCPOpuviVvO_227LaSth7sl8OIBxCSMqQmFO4c=s64",
      "userId": "15664726640138518444"
     },
     "user_tz": -330
    },
    "id": "ahTauLiN6TFW",
    "outputId": "b6893c37-c44e-48f0-c34b-124b007d4f76"
   },
   "outputs": [
    {
     "data": {
      "text/plain": [
       "339.938574117959"
      ]
     },
     "execution_count": 13,
     "metadata": {
      "tags": []
     },
     "output_type": "execute_result"
    }
   ],
   "source": [
    "for i in range(0,len(ff)):\n",
    "  if ff.loc[i,'UnitPrice'] == 0 :\n",
    "    a = ff.loc[i,'StockCode']\n",
    "    ff.loc[i,'UnitPrice'] = ff[ff.StockCode == a].UnitPrice.mean()\n",
    "\n",
    "ff[ff.StockCode==3681].UnitPrice.mean()     #check whether it is 339"
   ]
  },
  {
   "cell_type": "code",
   "execution_count": 14,
   "metadata": {
    "colab": {
     "base_uri": "https://localhost:8080/",
     "height": 202
    },
    "executionInfo": {
     "elapsed": 2964,
     "status": "ok",
     "timestamp": 1606023563643,
     "user": {
      "displayName": "adrish bir",
      "photoUrl": "https://lh3.googleusercontent.com/a-/AOh14GjvnDCPOpuviVvO_227LaSth7sl8OIBxCSMqQmFO4c=s64",
      "userId": "15664726640138518444"
     },
     "user_tz": -330
    },
    "id": "j516Acqh74x6",
    "outputId": "e2e69b17-7917-4baf-c06b-1db251499adc"
   },
   "outputs": [
    {
     "data": {
      "text/html": [
       "<div>\n",
       "<style scoped>\n",
       "    .dataframe tbody tr th:only-of-type {\n",
       "        vertical-align: middle;\n",
       "    }\n",
       "\n",
       "    .dataframe tbody tr th {\n",
       "        vertical-align: top;\n",
       "    }\n",
       "\n",
       "    .dataframe thead th {\n",
       "        text-align: right;\n",
       "    }\n",
       "</style>\n",
       "<table border=\"1\" class=\"dataframe\">\n",
       "  <thead>\n",
       "    <tr style=\"text-align: right;\">\n",
       "      <th></th>\n",
       "      <th>InvoiceNo</th>\n",
       "      <th>StockCode</th>\n",
       "      <th>Description</th>\n",
       "      <th>Quantity</th>\n",
       "      <th>UnitPrice</th>\n",
       "      <th>CustomerID</th>\n",
       "      <th>Country</th>\n",
       "      <th>Year</th>\n",
       "      <th>Month</th>\n",
       "      <th>Day</th>\n",
       "      <th>Timelight</th>\n",
       "      <th>Weekday</th>\n",
       "    </tr>\n",
       "  </thead>\n",
       "  <tbody>\n",
       "    <tr>\n",
       "      <th>0</th>\n",
       "      <td>6141</td>\n",
       "      <td>1583</td>\n",
       "      <td>144</td>\n",
       "      <td>3</td>\n",
       "      <td>3.75</td>\n",
       "      <td>14056.0</td>\n",
       "      <td>35</td>\n",
       "      <td>2011</td>\n",
       "      <td>B</td>\n",
       "      <td>week1</td>\n",
       "      <td>Noon</td>\n",
       "      <td>Friday</td>\n",
       "    </tr>\n",
       "    <tr>\n",
       "      <th>1</th>\n",
       "      <td>6349</td>\n",
       "      <td>1300</td>\n",
       "      <td>3682</td>\n",
       "      <td>6</td>\n",
       "      <td>1.95</td>\n",
       "      <td>13098.0</td>\n",
       "      <td>35</td>\n",
       "      <td>2011</td>\n",
       "      <td>B</td>\n",
       "      <td>week2</td>\n",
       "      <td>Morning</td>\n",
       "      <td>Wednesday</td>\n",
       "    </tr>\n",
       "    <tr>\n",
       "      <th>2</th>\n",
       "      <td>16783</td>\n",
       "      <td>2178</td>\n",
       "      <td>1939</td>\n",
       "      <td>4</td>\n",
       "      <td>5.95</td>\n",
       "      <td>15044.0</td>\n",
       "      <td>35</td>\n",
       "      <td>2011</td>\n",
       "      <td>C</td>\n",
       "      <td>week2</td>\n",
       "      <td>Noon</td>\n",
       "      <td>Sunday</td>\n",
       "    </tr>\n",
       "    <tr>\n",
       "      <th>3</th>\n",
       "      <td>16971</td>\n",
       "      <td>2115</td>\n",
       "      <td>2983</td>\n",
       "      <td>1</td>\n",
       "      <td>0.83</td>\n",
       "      <td>15525.0</td>\n",
       "      <td>35</td>\n",
       "      <td>2011</td>\n",
       "      <td>C</td>\n",
       "      <td>week3</td>\n",
       "      <td>Noon</td>\n",
       "      <td>Tuesday</td>\n",
       "    </tr>\n",
       "    <tr>\n",
       "      <th>4</th>\n",
       "      <td>6080</td>\n",
       "      <td>1210</td>\n",
       "      <td>2886</td>\n",
       "      <td>12</td>\n",
       "      <td>1.65</td>\n",
       "      <td>13952.0</td>\n",
       "      <td>35</td>\n",
       "      <td>2011</td>\n",
       "      <td>B</td>\n",
       "      <td>week1</td>\n",
       "      <td>Morning</td>\n",
       "      <td>Friday</td>\n",
       "    </tr>\n",
       "  </tbody>\n",
       "</table>\n",
       "</div>"
      ],
      "text/plain": [
       "   InvoiceNo  StockCode  Description  ...    Day  Timelight    Weekday\n",
       "0       6141       1583          144  ...  week1       Noon     Friday\n",
       "1       6349       1300         3682  ...  week2    Morning  Wednesday\n",
       "2      16783       2178         1939  ...  week2       Noon     Sunday\n",
       "3      16971       2115         2983  ...  week3       Noon    Tuesday\n",
       "4       6080       1210         2886  ...  week1    Morning     Friday\n",
       "\n",
       "[5 rows x 12 columns]"
      ]
     },
     "execution_count": 14,
     "metadata": {
      "tags": []
     },
     "output_type": "execute_result"
    }
   ],
   "source": [
    "ff.head()"
   ]
  },
  {
   "cell_type": "code",
   "execution_count": null,
   "metadata": {
    "colab": {
     "base_uri": "https://localhost:8080/",
     "height": 297
    },
    "executionInfo": {
     "elapsed": 2153,
     "status": "ok",
     "timestamp": 1605845851973,
     "user": {
      "displayName": "adrish bir",
      "photoUrl": "https://lh3.googleusercontent.com/a-/AOh14GjvnDCPOpuviVvO_227LaSth7sl8OIBxCSMqQmFO4c=s64",
      "userId": "15664726640138518444"
     },
     "user_tz": -330
    },
    "id": "pNuqm3_y6p9E",
    "outputId": "5cdb2316-862d-4c0d-948e-08aa3898c558"
   },
   "outputs": [
    {
     "data": {
      "text/plain": [
       "<matplotlib.axes._subplots.AxesSubplot at 0x7fa7031415c0>"
      ]
     },
     "execution_count": 13,
     "metadata": {
      "tags": []
     },
     "output_type": "execute_result"
    },
    {
     "data": {
      "image/png": "[encoded data removed]",
      "text/plain": [
       "<Figure size 432x288 with 1 Axes>"
      ]
     },
     "metadata": {
      "tags": []
     },
     "output_type": "display_data"
    }
   ],
   "source": [
    "sns.boxplot(x='UnitPrice',data=df)"
   ]
  },
  {
   "cell_type": "code",
   "execution_count": null,
   "metadata": {
    "colab": {
     "base_uri": "https://localhost:8080/",
     "height": 297
    },
    "executionInfo": {
     "elapsed": 3365,
     "status": "ok",
     "timestamp": 1605857538294,
     "user": {
      "displayName": "adrish bir",
      "photoUrl": "https://lh3.googleusercontent.com/a-/AOh14GjvnDCPOpuviVvO_227LaSth7sl8OIBxCSMqQmFO4c=s64",
      "userId": "15664726640138518444"
     },
     "user_tz": -330
    },
    "id": "9dxRo3TEkTof",
    "outputId": "9079f675-92a8-4bae-964b-1a191a022c7b"
   },
   "outputs": [
    {
     "data": {
      "text/plain": [
       "<matplotlib.axes._subplots.AxesSubplot at 0x7fa6f42b6550>"
      ]
     },
     "execution_count": 76,
     "metadata": {
      "tags": []
     },
     "output_type": "execute_result"
    },
    {
     "data": {
      "image/png": "[encoded data removed]",
      "text/plain": [
       "<Figure size 432x288 with 1 Axes>"
      ]
     },
     "metadata": {
      "tags": []
     },
     "output_type": "display_data"
    }
   ],
   "source": [
    "sns.boxplot(x='InvoiceNo',data=df)"
   ]
  },
  {
   "cell_type": "code",
   "execution_count": null,
   "metadata": {
    "colab": {
     "base_uri": "https://localhost:8080/",
     "height": 297
    },
    "executionInfo": {
     "elapsed": 8392,
     "status": "ok",
     "timestamp": 1605811802625,
     "user": {
      "displayName": "adrish bir",
      "photoUrl": "https://lh3.googleusercontent.com/a-/AOh14GjvnDCPOpuviVvO_227LaSth7sl8OIBxCSMqQmFO4c=s64",
      "userId": "15664726640138518444"
     },
     "user_tz": -330
    },
    "id": "ignsTsz_Yn2o",
    "outputId": "208b1b3d-8cbb-439f-b04a-5162e0908746"
   },
   "outputs": [
    {
     "data": {
      "text/plain": [
       "<matplotlib.axes._subplots.AxesSubplot at 0x7f34c2a65dd8>"
      ]
     },
     "execution_count": 136,
     "metadata": {
      "tags": []
     },
     "output_type": "execute_result"
    },
    {
     "data": {
      "image/png": "[encoded data removed]",
      "text/plain": [
       "<Figure size 432x288 with 1 Axes>"
      ]
     },
     "metadata": {
      "tags": []
     },
     "output_type": "display_data"
    }
   ],
   "source": [
    "sns.boxplot(x='Quantity',data=df)"
   ]
  },
  {
   "cell_type": "code",
   "execution_count": null,
   "metadata": {
    "colab": {
     "base_uri": "https://localhost:8080/",
     "height": 202
    },
    "executionInfo": {
     "elapsed": 8378,
     "status": "ok",
     "timestamp": 1605811802628,
     "user": {
      "displayName": "adrish bir",
      "photoUrl": "https://lh3.googleusercontent.com/a-/AOh14GjvnDCPOpuviVvO_227LaSth7sl8OIBxCSMqQmFO4c=s64",
      "userId": "15664726640138518444"
     },
     "user_tz": -330
    },
    "id": "Cu1jl7UXYui_",
    "outputId": "d30aa299-d2f2-4190-fe3b-212dc43302db"
   },
   "outputs": [
    {
     "data": {
      "text/html": [
       "<div>\n",
       "<style scoped>\n",
       "    .dataframe tbody tr th:only-of-type {\n",
       "        vertical-align: middle;\n",
       "    }\n",
       "\n",
       "    .dataframe tbody tr th {\n",
       "        vertical-align: top;\n",
       "    }\n",
       "\n",
       "    .dataframe thead th {\n",
       "        text-align: right;\n",
       "    }\n",
       "</style>\n",
       "<table border=\"1\" class=\"dataframe\">\n",
       "  <thead>\n",
       "    <tr style=\"text-align: right;\">\n",
       "      <th></th>\n",
       "      <th>StockCode</th>\n",
       "      <th>Description</th>\n",
       "      <th>Quantity</th>\n",
       "      <th>UnitPrice</th>\n",
       "      <th>CustomerID</th>\n",
       "      <th>Country</th>\n",
       "      <th>Year</th>\n",
       "      <th>Month</th>\n",
       "      <th>Day</th>\n",
       "      <th>Timelight</th>\n",
       "      <th>Weekday</th>\n",
       "    </tr>\n",
       "  </thead>\n",
       "  <tbody>\n",
       "    <tr>\n",
       "      <th>26477</th>\n",
       "      <td>3034</td>\n",
       "      <td>248</td>\n",
       "      <td>12540</td>\n",
       "      <td>0.521154</td>\n",
       "      <td>13256.0</td>\n",
       "      <td>35</td>\n",
       "      <td>2011</td>\n",
       "      <td>C</td>\n",
       "      <td>week3</td>\n",
       "      <td>Noon</td>\n",
       "      <td>Friday</td>\n",
       "    </tr>\n",
       "    <tr>\n",
       "      <th>141379</th>\n",
       "      <td>2001</td>\n",
       "      <td>2002</td>\n",
       "      <td>74215</td>\n",
       "      <td>1.040000</td>\n",
       "      <td>12346.0</td>\n",
       "      <td>35</td>\n",
       "      <td>2011</td>\n",
       "      <td>A</td>\n",
       "      <td>week2</td>\n",
       "      <td>Morning</td>\n",
       "      <td>Tuesday</td>\n",
       "    </tr>\n",
       "    <tr>\n",
       "      <th>180978</th>\n",
       "      <td>2403</td>\n",
       "      <td>2329</td>\n",
       "      <td>80995</td>\n",
       "      <td>2.080000</td>\n",
       "      <td>16446.0</td>\n",
       "      <td>35</td>\n",
       "      <td>2011</td>\n",
       "      <td>C</td>\n",
       "      <td>week1</td>\n",
       "      <td>Morning</td>\n",
       "      <td>Friday</td>\n",
       "    </tr>\n",
       "    <tr>\n",
       "      <th>210734</th>\n",
       "      <td>2403</td>\n",
       "      <td>2329</td>\n",
       "      <td>80995</td>\n",
       "      <td>2.080000</td>\n",
       "      <td>16446.0</td>\n",
       "      <td>35</td>\n",
       "      <td>2011</td>\n",
       "      <td>C</td>\n",
       "      <td>week1</td>\n",
       "      <td>Morning</td>\n",
       "      <td>Friday</td>\n",
       "    </tr>\n",
       "    <tr>\n",
       "      <th>271013</th>\n",
       "      <td>2001</td>\n",
       "      <td>2002</td>\n",
       "      <td>74215</td>\n",
       "      <td>1.040000</td>\n",
       "      <td>12346.0</td>\n",
       "      <td>35</td>\n",
       "      <td>2011</td>\n",
       "      <td>A</td>\n",
       "      <td>week2</td>\n",
       "      <td>Morning</td>\n",
       "      <td>Tuesday</td>\n",
       "    </tr>\n",
       "  </tbody>\n",
       "</table>\n",
       "</div>"
      ],
      "text/plain": [
       "        StockCode  Description  Quantity  ...    Day  Timelight  Weekday\n",
       "26477        3034          248     12540  ...  week3       Noon   Friday\n",
       "141379       2001         2002     74215  ...  week2    Morning  Tuesday\n",
       "180978       2403         2329     80995  ...  week1    Morning   Friday\n",
       "210734       2403         2329     80995  ...  week1    Morning   Friday\n",
       "271013       2001         2002     74215  ...  week2    Morning  Tuesday\n",
       "\n",
       "[5 rows x 11 columns]"
      ]
     },
     "execution_count": 137,
     "metadata": {
      "tags": []
     },
     "output_type": "execute_result"
    }
   ],
   "source": [
    "df[df.Quantity > 10000]"
   ]
  },
  {
   "cell_type": "code",
   "execution_count": 341,
   "metadata": {
    "colab": {
     "base_uri": "https://localhost:8080/",
     "height": 49
    },
    "executionInfo": {
     "elapsed": 1128,
     "status": "ok",
     "timestamp": 1606052408245,
     "user": {
      "displayName": "adrish bir",
      "photoUrl": "https://lh3.googleusercontent.com/a-/AOh14GjvnDCPOpuviVvO_227LaSth7sl8OIBxCSMqQmFO4c=s64",
      "userId": "15664726640138518444"
     },
     "user_tz": -330
    },
    "id": "NYYTYDp-aKmU",
    "outputId": "0eac8a2c-cd9a-49d6-b5cd-b6fc0559b31d"
   },
   "outputs": [
    {
     "data": {
      "text/html": [
       "<div>\n",
       "<style scoped>\n",
       "    .dataframe tbody tr th:only-of-type {\n",
       "        vertical-align: middle;\n",
       "    }\n",
       "\n",
       "    .dataframe tbody tr th {\n",
       "        vertical-align: top;\n",
       "    }\n",
       "\n",
       "    .dataframe thead th {\n",
       "        text-align: right;\n",
       "    }\n",
       "</style>\n",
       "<table border=\"1\" class=\"dataframe\">\n",
       "  <thead>\n",
       "    <tr style=\"text-align: right;\">\n",
       "      <th></th>\n",
       "      <th>InvoiceNo</th>\n",
       "      <th>StockCode</th>\n",
       "      <th>Description</th>\n",
       "      <th>Quantity</th>\n",
       "      <th>UnitPrice</th>\n",
       "      <th>CustomerID</th>\n",
       "      <th>Country</th>\n",
       "      <th>Year</th>\n",
       "      <th>Month</th>\n",
       "      <th>Day</th>\n",
       "      <th>Timelight</th>\n",
       "      <th>Weekday</th>\n",
       "    </tr>\n",
       "  </thead>\n",
       "  <tbody>\n",
       "  </tbody>\n",
       "</table>\n",
       "</div>"
      ],
      "text/plain": [
       "Empty DataFrame\n",
       "Columns: [InvoiceNo, StockCode, Description, Quantity, UnitPrice, CustomerID, Country, Year, Month, Day, Timelight, Weekday]\n",
       "Index: []"
      ]
     },
     "execution_count": 341,
     "metadata": {
      "tags": []
     },
     "output_type": "execute_result"
    }
   ],
   "source": [
    "df.drop(df[df.Quantity > 10000].index,axis=0,inplace=True)\n",
    "df[df.Quantity > 10000]"
   ]
  },
  {
   "cell_type": "code",
   "execution_count": 344,
   "metadata": {
    "colab": {
     "base_uri": "https://localhost:8080/",
     "height": 49
    },
    "executionInfo": {
     "elapsed": 1015,
     "status": "ok",
     "timestamp": 1606052460224,
     "user": {
      "displayName": "adrish bir",
      "photoUrl": "https://lh3.googleusercontent.com/a-/AOh14GjvnDCPOpuviVvO_227LaSth7sl8OIBxCSMqQmFO4c=s64",
      "userId": "15664726640138518444"
     },
     "user_tz": -330
    },
    "id": "5g7TrGUX8o-z",
    "outputId": "754cd371-4779-4fd6-fcd2-f4dd5f7a6caf"
   },
   "outputs": [
    {
     "data": {
      "text/html": [
       "<div>\n",
       "<style scoped>\n",
       "    .dataframe tbody tr th:only-of-type {\n",
       "        vertical-align: middle;\n",
       "    }\n",
       "\n",
       "    .dataframe tbody tr th {\n",
       "        vertical-align: top;\n",
       "    }\n",
       "\n",
       "    .dataframe thead th {\n",
       "        text-align: right;\n",
       "    }\n",
       "</style>\n",
       "<table border=\"1\" class=\"dataframe\">\n",
       "  <thead>\n",
       "    <tr style=\"text-align: right;\">\n",
       "      <th></th>\n",
       "      <th>InvoiceNo</th>\n",
       "      <th>StockCode</th>\n",
       "      <th>Description</th>\n",
       "      <th>Quantity</th>\n",
       "      <th>UnitPrice</th>\n",
       "      <th>CustomerID</th>\n",
       "      <th>Country</th>\n",
       "      <th>Year</th>\n",
       "      <th>Month</th>\n",
       "      <th>Day</th>\n",
       "      <th>Timelight</th>\n",
       "      <th>Weekday</th>\n",
       "    </tr>\n",
       "  </thead>\n",
       "  <tbody>\n",
       "  </tbody>\n",
       "</table>\n",
       "</div>"
      ],
      "text/plain": [
       "Empty DataFrame\n",
       "Columns: [InvoiceNo, StockCode, Description, Quantity, UnitPrice, CustomerID, Country, Year, Month, Day, Timelight, Weekday]\n",
       "Index: []"
      ]
     },
     "execution_count": 344,
     "metadata": {
      "tags": []
     },
     "output_type": "execute_result"
    }
   ],
   "source": [
    "df[df.UnitPrice > 2500]"
   ]
  },
  {
   "cell_type": "code",
   "execution_count": 343,
   "metadata": {
    "colab": {
     "base_uri": "https://localhost:8080/",
     "height": 49
    },
    "executionInfo": {
     "elapsed": 1036,
     "status": "ok",
     "timestamp": 1606052456222,
     "user": {
      "displayName": "adrish bir",
      "photoUrl": "https://lh3.googleusercontent.com/a-/AOh14GjvnDCPOpuviVvO_227LaSth7sl8OIBxCSMqQmFO4c=s64",
      "userId": "15664726640138518444"
     },
     "user_tz": -330
    },
    "id": "-cxxZoT_9PPg",
    "outputId": "fd8dde5d-0998-46f4-f418-05e326815b51"
   },
   "outputs": [
    {
     "data": {
      "text/html": [
       "<div>\n",
       "<style scoped>\n",
       "    .dataframe tbody tr th:only-of-type {\n",
       "        vertical-align: middle;\n",
       "    }\n",
       "\n",
       "    .dataframe tbody tr th {\n",
       "        vertical-align: top;\n",
       "    }\n",
       "\n",
       "    .dataframe thead th {\n",
       "        text-align: right;\n",
       "    }\n",
       "</style>\n",
       "<table border=\"1\" class=\"dataframe\">\n",
       "  <thead>\n",
       "    <tr style=\"text-align: right;\">\n",
       "      <th></th>\n",
       "      <th>InvoiceNo</th>\n",
       "      <th>StockCode</th>\n",
       "      <th>Description</th>\n",
       "      <th>Quantity</th>\n",
       "      <th>UnitPrice</th>\n",
       "      <th>CustomerID</th>\n",
       "      <th>Country</th>\n",
       "      <th>Year</th>\n",
       "      <th>Month</th>\n",
       "      <th>Day</th>\n",
       "      <th>Timelight</th>\n",
       "      <th>Weekday</th>\n",
       "    </tr>\n",
       "  </thead>\n",
       "  <tbody>\n",
       "  </tbody>\n",
       "</table>\n",
       "</div>"
      ],
      "text/plain": [
       "Empty DataFrame\n",
       "Columns: [InvoiceNo, StockCode, Description, Quantity, UnitPrice, CustomerID, Country, Year, Month, Day, Timelight, Weekday]\n",
       "Index: []"
      ]
     },
     "execution_count": 343,
     "metadata": {
      "tags": []
     },
     "output_type": "execute_result"
    }
   ],
   "source": [
    "df.drop(df[df.UnitPrice > 2500].index,axis=0,inplace=True)\n",
    "df[df.UnitPrice > 2500]"
   ]
  },
  {
   "cell_type": "code",
   "execution_count": 345,
   "metadata": {
    "executionInfo": {
     "elapsed": 2497,
     "status": "ok",
     "timestamp": 1606052469746,
     "user": {
      "displayName": "adrish bir",
      "photoUrl": "https://lh3.googleusercontent.com/a-/AOh14GjvnDCPOpuviVvO_227LaSth7sl8OIBxCSMqQmFO4c=s64",
      "userId": "15664726640138518444"
     },
     "user_tz": -330
    },
    "id": "c-yrRLmeGQkP"
   },
   "outputs": [],
   "source": [
    "df.to_csv(Data_dir+\"final_data.csv\")"
   ]
  },
  {
   "cell_type": "markdown",
   "metadata": {
    "id": "YIpASErx_p_2"
   },
   "source": [
    "Prepare test_data"
   ]
  },
  {
   "cell_type": "code",
   "execution_count": null,
   "metadata": {
    "id": "K_M4BzJx-dm9"
   },
   "outputs": [],
   "source": [
    "def test_data_transformation(train):\n",
    "  train['Date'] = train['InvoiceDate'].apply(lambda x: x.split(' ')[0])\n",
    "  train['InvoiceDate'] = pd.to_datetime(train['InvoiceDate'])\n",
    "  train['Year'] = train['InvoiceDate'].dt.year\n",
    "  train['Month'] = train['InvoiceDate'].dt.month\n",
    "  train['Day'] = train['InvoiceDate'].dt.day\n",
    "  train['Time'] = train['InvoiceDate'].dt.time \n",
    "  train['Timelight'] = train['Time'].apply(lambda x : 'Morning' if 6<=x.hour<12 else ('Noon' if 12<=x.hour<18 else 'Night' ))\n",
    "  day_name= ['Monday', 'Tuesday', 'Wednesday', 'Thursday', 'Friday', 'Saturday','Sunday']\n",
    "  train['Weekday'] = train['Date'].apply(lambda x: day_name[datetime.datetime.strptime(x, '%Y-%m-%d').weekday()])\n",
    "  #train1 = train.copy()\n",
    "  train.drop(['InvoiceDate','Time'],axis = 1,inplace=True)\n",
    "  train['Quantity'] = train['Quantity'].abs()\n",
    "  train['Month'] = train['Month'].apply(lambda x: 'A' if x in range(1,5) else ( 'B' if x in range(5,9) else  'C'))\n",
    "  train['Day'] = train['Day'].apply(lambda x: 'week1' if x in range(1,11) else ( 'week2' if x in range(11,21) else 'week3') )\n",
    "  return train"
   ]
  },
  {
   "cell_type": "code",
   "execution_count": null,
   "metadata": {
    "colab": {
     "base_uri": "https://localhost:8080/",
     "height": 202
    },
    "executionInfo": {
     "elapsed": 2583,
     "status": "ok",
     "timestamp": 1605933615449,
     "user": {
      "displayName": "adrish bir",
      "photoUrl": "https://lh3.googleusercontent.com/a-/AOh14GjvnDCPOpuviVvO_227LaSth7sl8OIBxCSMqQmFO4c=s64",
      "userId": "15664726640138518444"
     },
     "user_tz": -330
    },
    "id": "SEJvug6x_-tM",
    "outputId": "f58d8c54-a59e-4e8b-82ca-614a2116f4f5"
   },
   "outputs": [
    {
     "data": {
      "text/html": [
       "<div>\n",
       "<style scoped>\n",
       "    .dataframe tbody tr th:only-of-type {\n",
       "        vertical-align: middle;\n",
       "    }\n",
       "\n",
       "    .dataframe tbody tr th {\n",
       "        vertical-align: top;\n",
       "    }\n",
       "\n",
       "    .dataframe thead th {\n",
       "        text-align: right;\n",
       "    }\n",
       "</style>\n",
       "<table border=\"1\" class=\"dataframe\">\n",
       "  <thead>\n",
       "    <tr style=\"text-align: right;\">\n",
       "      <th></th>\n",
       "      <th>InvoiceNo</th>\n",
       "      <th>StockCode</th>\n",
       "      <th>Description</th>\n",
       "      <th>Quantity</th>\n",
       "      <th>CustomerID</th>\n",
       "      <th>Country</th>\n",
       "      <th>Date</th>\n",
       "      <th>Year</th>\n",
       "      <th>Month</th>\n",
       "      <th>Day</th>\n",
       "      <th>Timelight</th>\n",
       "      <th>Weekday</th>\n",
       "    </tr>\n",
       "  </thead>\n",
       "  <tbody>\n",
       "    <tr>\n",
       "      <th>0</th>\n",
       "      <td>3139</td>\n",
       "      <td>1709</td>\n",
       "      <td>1079</td>\n",
       "      <td>3</td>\n",
       "      <td>16161.0</td>\n",
       "      <td>35</td>\n",
       "      <td>2011-02-22</td>\n",
       "      <td>2011</td>\n",
       "      <td>A</td>\n",
       "      <td>week3</td>\n",
       "      <td>Noon</td>\n",
       "      <td>Tuesday</td>\n",
       "    </tr>\n",
       "    <tr>\n",
       "      <th>1</th>\n",
       "      <td>617</td>\n",
       "      <td>510</td>\n",
       "      <td>3457</td>\n",
       "      <td>1</td>\n",
       "      <td>17341.0</td>\n",
       "      <td>35</td>\n",
       "      <td>2010-12-08</td>\n",
       "      <td>2010</td>\n",
       "      <td>C</td>\n",
       "      <td>week1</td>\n",
       "      <td>Noon</td>\n",
       "      <td>Wednesday</td>\n",
       "    </tr>\n",
       "    <tr>\n",
       "      <th>2</th>\n",
       "      <td>14653</td>\n",
       "      <td>604</td>\n",
       "      <td>694</td>\n",
       "      <td>36</td>\n",
       "      <td>15158.0</td>\n",
       "      <td>35</td>\n",
       "      <td>2011-10-25</td>\n",
       "      <td>2011</td>\n",
       "      <td>C</td>\n",
       "      <td>week3</td>\n",
       "      <td>Noon</td>\n",
       "      <td>Tuesday</td>\n",
       "    </tr>\n",
       "    <tr>\n",
       "      <th>3</th>\n",
       "      <td>8634</td>\n",
       "      <td>1478</td>\n",
       "      <td>3473</td>\n",
       "      <td>2</td>\n",
       "      <td>16033.0</td>\n",
       "      <td>35</td>\n",
       "      <td>2011-06-27</td>\n",
       "      <td>2011</td>\n",
       "      <td>B</td>\n",
       "      <td>week3</td>\n",
       "      <td>Noon</td>\n",
       "      <td>Monday</td>\n",
       "    </tr>\n",
       "    <tr>\n",
       "      <th>4</th>\n",
       "      <td>15546</td>\n",
       "      <td>3216</td>\n",
       "      <td>871</td>\n",
       "      <td>1</td>\n",
       "      <td>15351.0</td>\n",
       "      <td>35</td>\n",
       "      <td>2011-11-06</td>\n",
       "      <td>2011</td>\n",
       "      <td>C</td>\n",
       "      <td>week1</td>\n",
       "      <td>Noon</td>\n",
       "      <td>Sunday</td>\n",
       "    </tr>\n",
       "  </tbody>\n",
       "</table>\n",
       "</div>"
      ],
      "text/plain": [
       "   InvoiceNo  StockCode  Description  ...    Day  Timelight    Weekday\n",
       "0       3139       1709         1079  ...  week3       Noon    Tuesday\n",
       "1        617        510         3457  ...  week1       Noon  Wednesday\n",
       "2      14653        604          694  ...  week3       Noon    Tuesday\n",
       "3       8634       1478         3473  ...  week3       Noon     Monday\n",
       "4      15546       3216          871  ...  week1       Noon     Sunday\n",
       "\n",
       "[5 rows x 12 columns]"
      ]
     },
     "execution_count": 15,
     "metadata": {
      "tags": []
     },
     "output_type": "execute_result"
    }
   ],
   "source": [
    "test_data_transformation(test_data)\n",
    "test_data.head()"
   ]
  },
  {
   "cell_type": "code",
   "execution_count": null,
   "metadata": {
    "id": "qeccqBYmAC-G"
   },
   "outputs": [],
   "source": [
    "test_data.drop(['Date'],axis=1,inplace=True)"
   ]
  },
  {
   "cell_type": "code",
   "execution_count": null,
   "metadata": {
    "colab": {
     "base_uri": "https://localhost:8080/",
     "height": 283
    },
    "executionInfo": {
     "elapsed": 1261,
     "status": "ok",
     "timestamp": 1605857620594,
     "user": {
      "displayName": "adrish bir",
      "photoUrl": "https://lh3.googleusercontent.com/a-/AOh14GjvnDCPOpuviVvO_227LaSth7sl8OIBxCSMqQmFO4c=s64",
      "userId": "15664726640138518444"
     },
     "user_tz": -330
    },
    "id": "nISuK3leAOwm",
    "outputId": "28b64404-1336-415d-e5bd-420560fdf0c4"
   },
   "outputs": [
    {
     "data": {
      "text/plain": [
       "<matplotlib.axes._subplots.AxesSubplot at 0x7fa6f8f2aba8>"
      ]
     },
     "execution_count": 92,
     "metadata": {
      "tags": []
     },
     "output_type": "execute_result"
    },
    {
     "data": {
      "image/png": "[encoded data removed]",
      "text/plain": [
       "<Figure size 432x288 with 1 Axes>"
      ]
     },
     "metadata": {
      "tags": []
     },
     "output_type": "display_data"
    }
   ],
   "source": [
    "test_data.Quantity.hist()"
   ]
  },
  {
   "cell_type": "code",
   "execution_count": null,
   "metadata": {
    "colab": {
     "base_uri": "https://localhost:8080/",
     "height": 202
    },
    "executionInfo": {
     "elapsed": 1169,
     "status": "ok",
     "timestamp": 1605900180786,
     "user": {
      "displayName": "adrish bir",
      "photoUrl": "https://lh3.googleusercontent.com/a-/AOh14GjvnDCPOpuviVvO_227LaSth7sl8OIBxCSMqQmFO4c=s64",
      "userId": "15664726640138518444"
     },
     "user_tz": -330
    },
    "id": "uTeTfWciA9mf",
    "outputId": "f4fdf812-50bb-43d4-e345-3ed2122ce820"
   },
   "outputs": [
    {
     "data": {
      "text/html": [
       "<div>\n",
       "<style scoped>\n",
       "    .dataframe tbody tr th:only-of-type {\n",
       "        vertical-align: middle;\n",
       "    }\n",
       "\n",
       "    .dataframe tbody tr th {\n",
       "        vertical-align: top;\n",
       "    }\n",
       "\n",
       "    .dataframe thead th {\n",
       "        text-align: right;\n",
       "    }\n",
       "</style>\n",
       "<table border=\"1\" class=\"dataframe\">\n",
       "  <thead>\n",
       "    <tr style=\"text-align: right;\">\n",
       "      <th></th>\n",
       "      <th>InvoiceNo</th>\n",
       "      <th>StockCode</th>\n",
       "      <th>Description</th>\n",
       "      <th>Quantity</th>\n",
       "      <th>CustomerID</th>\n",
       "      <th>Country</th>\n",
       "      <th>Year</th>\n",
       "      <th>Month</th>\n",
       "      <th>Day</th>\n",
       "      <th>Timelight</th>\n",
       "      <th>Weekday</th>\n",
       "    </tr>\n",
       "  </thead>\n",
       "  <tbody>\n",
       "    <tr>\n",
       "      <th>0</th>\n",
       "      <td>3139</td>\n",
       "      <td>1709</td>\n",
       "      <td>1079</td>\n",
       "      <td>3</td>\n",
       "      <td>16161.0</td>\n",
       "      <td>35</td>\n",
       "      <td>2011</td>\n",
       "      <td>A</td>\n",
       "      <td>week3</td>\n",
       "      <td>Noon</td>\n",
       "      <td>Tuesday</td>\n",
       "    </tr>\n",
       "    <tr>\n",
       "      <th>1</th>\n",
       "      <td>617</td>\n",
       "      <td>510</td>\n",
       "      <td>3457</td>\n",
       "      <td>1</td>\n",
       "      <td>17341.0</td>\n",
       "      <td>35</td>\n",
       "      <td>2010</td>\n",
       "      <td>C</td>\n",
       "      <td>week1</td>\n",
       "      <td>Noon</td>\n",
       "      <td>Wednesday</td>\n",
       "    </tr>\n",
       "    <tr>\n",
       "      <th>2</th>\n",
       "      <td>14653</td>\n",
       "      <td>604</td>\n",
       "      <td>694</td>\n",
       "      <td>36</td>\n",
       "      <td>15158.0</td>\n",
       "      <td>35</td>\n",
       "      <td>2011</td>\n",
       "      <td>C</td>\n",
       "      <td>week3</td>\n",
       "      <td>Noon</td>\n",
       "      <td>Tuesday</td>\n",
       "    </tr>\n",
       "    <tr>\n",
       "      <th>3</th>\n",
       "      <td>8634</td>\n",
       "      <td>1478</td>\n",
       "      <td>3473</td>\n",
       "      <td>2</td>\n",
       "      <td>16033.0</td>\n",
       "      <td>35</td>\n",
       "      <td>2011</td>\n",
       "      <td>B</td>\n",
       "      <td>week3</td>\n",
       "      <td>Noon</td>\n",
       "      <td>Monday</td>\n",
       "    </tr>\n",
       "    <tr>\n",
       "      <th>4</th>\n",
       "      <td>15546</td>\n",
       "      <td>3216</td>\n",
       "      <td>871</td>\n",
       "      <td>1</td>\n",
       "      <td>15351.0</td>\n",
       "      <td>35</td>\n",
       "      <td>2011</td>\n",
       "      <td>C</td>\n",
       "      <td>week1</td>\n",
       "      <td>Noon</td>\n",
       "      <td>Sunday</td>\n",
       "    </tr>\n",
       "  </tbody>\n",
       "</table>\n",
       "</div>"
      ],
      "text/plain": [
       "   InvoiceNo  StockCode  Description  ...    Day  Timelight    Weekday\n",
       "0       3139       1709         1079  ...  week3       Noon    Tuesday\n",
       "1        617        510         3457  ...  week1       Noon  Wednesday\n",
       "2      14653        604          694  ...  week3       Noon    Tuesday\n",
       "3       8634       1478         3473  ...  week3       Noon     Monday\n",
       "4      15546       3216          871  ...  week1       Noon     Sunday\n",
       "\n",
       "[5 rows x 11 columns]"
      ]
     },
     "execution_count": 17,
     "metadata": {
      "tags": []
     },
     "output_type": "execute_result"
    }
   ],
   "source": [
    "test_data.head()"
   ]
  },
  {
   "cell_type": "code",
   "execution_count": null,
   "metadata": {
    "colab": {
     "base_uri": "https://localhost:8080/",
     "height": 297
    },
    "executionInfo": {
     "elapsed": 12252,
     "status": "ok",
     "timestamp": 1605811806663,
     "user": {
      "displayName": "adrish bir",
      "photoUrl": "https://lh3.googleusercontent.com/a-/AOh14GjvnDCPOpuviVvO_227LaSth7sl8OIBxCSMqQmFO4c=s64",
      "userId": "15664726640138518444"
     },
     "user_tz": -330
    },
    "id": "1_rNkX26YK54",
    "outputId": "4bd07413-c8d3-43e6-90cd-37846898a4b7"
   },
   "outputs": [
    {
     "data": {
      "text/plain": [
       "<matplotlib.axes._subplots.AxesSubplot at 0x7f34c1502cc0>"
      ]
     },
     "execution_count": 146,
     "metadata": {
      "tags": []
     },
     "output_type": "execute_result"
    },
    {
     "data": {
      "image/png": "[encoded data removed]",
      "text/plain": [
       "<Figure size 432x288 with 1 Axes>"
      ]
     },
     "metadata": {
      "tags": []
     },
     "output_type": "display_data"
    }
   ],
   "source": [
    "sns.boxplot(x='Description',data=df)"
   ]
  },
  {
   "cell_type": "code",
   "execution_count": null,
   "metadata": {
    "id": "qTJihpYTbW-7"
   },
   "outputs": [],
   "source": [
    "df1 = df.copy()"
   ]
  },
  {
   "cell_type": "code",
   "execution_count": null,
   "metadata": {
    "id": "utlN1itlfRre"
   },
   "outputs": [],
   "source": [
    "test_data.to_csv(Data_dir+\"final_test_data.csv\")"
   ]
  },
  {
   "cell_type": "code",
   "execution_count": null,
   "metadata": {
    "id": "4XFW5McrGO4z"
   },
   "outputs": [],
   "source": [
    "from sklearn.preprocessing import PowerTransformer\n",
    "y = y.values.reshape(-1,1)\n",
    "# power transform the raw data\n",
    "power = PowerTransformer(method='yeo-johnson', standardize=True)\n",
    "y = power.fit_transform(y)"
   ]
  },
  {
   "cell_type": "markdown",
   "metadata": {
    "id": "uJpQyuklG0vw"
   },
   "source": [
    "2nd Transformation"
   ]
  },
  {
   "cell_type": "code",
   "execution_count": null,
   "metadata": {
    "colab": {
     "base_uri": "https://localhost:8080/",
     "height": 202
    },
    "executionInfo": {
     "elapsed": 1230,
     "status": "ok",
     "timestamp": 1605933723797,
     "user": {
      "displayName": "adrish bir",
      "photoUrl": "https://lh3.googleusercontent.com/a-/AOh14GjvnDCPOpuviVvO_227LaSth7sl8OIBxCSMqQmFO4c=s64",
      "userId": "15664726640138518444"
     },
     "user_tz": -330
    },
    "id": "78OERUsaGkOA",
    "outputId": "bebce650-1600-4db6-915b-a1048c53d159"
   },
   "outputs": [
    {
     "data": {
      "text/html": [
       "<div>\n",
       "<style scoped>\n",
       "    .dataframe tbody tr th:only-of-type {\n",
       "        vertical-align: middle;\n",
       "    }\n",
       "\n",
       "    .dataframe tbody tr th {\n",
       "        vertical-align: top;\n",
       "    }\n",
       "\n",
       "    .dataframe thead th {\n",
       "        text-align: right;\n",
       "    }\n",
       "</style>\n",
       "<table border=\"1\" class=\"dataframe\">\n",
       "  <thead>\n",
       "    <tr style=\"text-align: right;\">\n",
       "      <th></th>\n",
       "      <th>InvoiceNo</th>\n",
       "      <th>StockCode</th>\n",
       "      <th>Description</th>\n",
       "      <th>Quantity</th>\n",
       "      <th>InvoiceDate</th>\n",
       "      <th>UnitPrice</th>\n",
       "      <th>CustomerID</th>\n",
       "      <th>Country</th>\n",
       "    </tr>\n",
       "  </thead>\n",
       "  <tbody>\n",
       "    <tr>\n",
       "      <th>0</th>\n",
       "      <td>6141</td>\n",
       "      <td>1583</td>\n",
       "      <td>144</td>\n",
       "      <td>3</td>\n",
       "      <td>2011-05-06 16:54:00</td>\n",
       "      <td>3.75</td>\n",
       "      <td>14056.0</td>\n",
       "      <td>35</td>\n",
       "    </tr>\n",
       "    <tr>\n",
       "      <th>1</th>\n",
       "      <td>6349</td>\n",
       "      <td>1300</td>\n",
       "      <td>3682</td>\n",
       "      <td>6</td>\n",
       "      <td>2011-05-11 07:35:00</td>\n",
       "      <td>1.95</td>\n",
       "      <td>13098.0</td>\n",
       "      <td>35</td>\n",
       "    </tr>\n",
       "    <tr>\n",
       "      <th>2</th>\n",
       "      <td>16783</td>\n",
       "      <td>2178</td>\n",
       "      <td>1939</td>\n",
       "      <td>4</td>\n",
       "      <td>2011-11-20 13:20:00</td>\n",
       "      <td>5.95</td>\n",
       "      <td>15044.0</td>\n",
       "      <td>35</td>\n",
       "    </tr>\n",
       "    <tr>\n",
       "      <th>3</th>\n",
       "      <td>16971</td>\n",
       "      <td>2115</td>\n",
       "      <td>2983</td>\n",
       "      <td>1</td>\n",
       "      <td>2011-11-22 12:07:00</td>\n",
       "      <td>0.83</td>\n",
       "      <td>15525.0</td>\n",
       "      <td>35</td>\n",
       "    </tr>\n",
       "    <tr>\n",
       "      <th>4</th>\n",
       "      <td>6080</td>\n",
       "      <td>1210</td>\n",
       "      <td>2886</td>\n",
       "      <td>12</td>\n",
       "      <td>2011-05-06 09:00:00</td>\n",
       "      <td>1.65</td>\n",
       "      <td>13952.0</td>\n",
       "      <td>35</td>\n",
       "    </tr>\n",
       "  </tbody>\n",
       "</table>\n",
       "</div>"
      ],
      "text/plain": [
       "   InvoiceNo  StockCode  Description  ...  UnitPrice CustomerID  Country\n",
       "0       6141       1583          144  ...       3.75    14056.0       35\n",
       "1       6349       1300         3682  ...       1.95    13098.0       35\n",
       "2      16783       2178         1939  ...       5.95    15044.0       35\n",
       "3      16971       2115         2983  ...       0.83    15525.0       35\n",
       "4       6080       1210         2886  ...       1.65    13952.0       35\n",
       "\n",
       "[5 rows x 8 columns]"
      ]
     },
     "execution_count": 18,
     "metadata": {
      "tags": []
     },
     "output_type": "execute_result"
    }
   ],
   "source": [
    "df.head()"
   ]
  },
  {
   "cell_type": "code",
   "execution_count": null,
   "metadata": {
    "id": "bVFdlffCHABQ"
   },
   "outputs": [],
   "source": [
    "def test_data_transformation(train):\n",
    "  train['Date'] = train['InvoiceDate'].apply(lambda x: x.split(' ')[0])\n",
    "  train['InvoiceDate'] = pd.to_datetime(train['InvoiceDate'])\n",
    "  train['Year'] = train['InvoiceDate'].dt.year\n",
    "  train['Month'] = train['InvoiceDate'].dt.month\n",
    "  train['Day'] = train['InvoiceDate'].dt.day\n",
    "  train['Time'] = train['InvoiceDate'].dt.time \n",
    "  train['Timelight'] = train['Time'].apply(lambda x : 'Morning' if 6<=x.hour<12 else ('Noon' if 12<=x.hour<18 else 'Night' ))\n",
    "  day_name= ['Monday', 'Tuesday', 'Wednesday', 'Thursday', 'Friday', 'Saturday','Sunday']\n",
    "  train['Weekday'] = train['Date'].apply(lambda x: day_name[datetime.datetime.strptime(x, '%Y-%m-%d').weekday()])\n",
    "  #train1 = train.copy()\n",
    "  train.drop(['InvoiceDate','Time','Date'],axis = 1,inplace=True)\n",
    "  train['Quantity'] = train['Quantity'].abs()\n",
    "  #train['Month'] = train['Month'].apply(lambda x: 'A' if x in range(1,5) else ( 'B' if x in range(5,9) else  'C'))\n",
    "  #train['Day'] = train['Day'].apply(lambda x: 'week1' if x in range(1,11) else ( 'week2' if x in range(11,21) else 'week3') )\n",
    "  return train"
   ]
  },
  {
   "cell_type": "code",
   "execution_count": null,
   "metadata": {
    "colab": {
     "base_uri": "https://localhost:8080/",
     "height": 202
    },
    "executionInfo": {
     "elapsed": 4539,
     "status": "ok",
     "timestamp": 1605934309411,
     "user": {
      "displayName": "adrish bir",
      "photoUrl": "https://lh3.googleusercontent.com/a-/AOh14GjvnDCPOpuviVvO_227LaSth7sl8OIBxCSMqQmFO4c=s64",
      "userId": "15664726640138518444"
     },
     "user_tz": -330
    },
    "id": "izJ6mQBGHATx",
    "outputId": "7eadaa35-8dbb-4f5f-bb04-f6cd7d57d8d8"
   },
   "outputs": [
    {
     "data": {
      "text/html": [
       "<div>\n",
       "<style scoped>\n",
       "    .dataframe tbody tr th:only-of-type {\n",
       "        vertical-align: middle;\n",
       "    }\n",
       "\n",
       "    .dataframe tbody tr th {\n",
       "        vertical-align: top;\n",
       "    }\n",
       "\n",
       "    .dataframe thead th {\n",
       "        text-align: right;\n",
       "    }\n",
       "</style>\n",
       "<table border=\"1\" class=\"dataframe\">\n",
       "  <thead>\n",
       "    <tr style=\"text-align: right;\">\n",
       "      <th></th>\n",
       "      <th>InvoiceNo</th>\n",
       "      <th>StockCode</th>\n",
       "      <th>Description</th>\n",
       "      <th>Quantity</th>\n",
       "      <th>UnitPrice</th>\n",
       "      <th>CustomerID</th>\n",
       "      <th>Country</th>\n",
       "      <th>Year</th>\n",
       "      <th>Month</th>\n",
       "      <th>Day</th>\n",
       "      <th>Timelight</th>\n",
       "      <th>Weekday</th>\n",
       "    </tr>\n",
       "  </thead>\n",
       "  <tbody>\n",
       "    <tr>\n",
       "      <th>0</th>\n",
       "      <td>6141</td>\n",
       "      <td>1583</td>\n",
       "      <td>144</td>\n",
       "      <td>3</td>\n",
       "      <td>3.75</td>\n",
       "      <td>14056.0</td>\n",
       "      <td>35</td>\n",
       "      <td>2011</td>\n",
       "      <td>5</td>\n",
       "      <td>6</td>\n",
       "      <td>Noon</td>\n",
       "      <td>Friday</td>\n",
       "    </tr>\n",
       "    <tr>\n",
       "      <th>1</th>\n",
       "      <td>6349</td>\n",
       "      <td>1300</td>\n",
       "      <td>3682</td>\n",
       "      <td>6</td>\n",
       "      <td>1.95</td>\n",
       "      <td>13098.0</td>\n",
       "      <td>35</td>\n",
       "      <td>2011</td>\n",
       "      <td>5</td>\n",
       "      <td>11</td>\n",
       "      <td>Morning</td>\n",
       "      <td>Wednesday</td>\n",
       "    </tr>\n",
       "    <tr>\n",
       "      <th>2</th>\n",
       "      <td>16783</td>\n",
       "      <td>2178</td>\n",
       "      <td>1939</td>\n",
       "      <td>4</td>\n",
       "      <td>5.95</td>\n",
       "      <td>15044.0</td>\n",
       "      <td>35</td>\n",
       "      <td>2011</td>\n",
       "      <td>11</td>\n",
       "      <td>20</td>\n",
       "      <td>Noon</td>\n",
       "      <td>Sunday</td>\n",
       "    </tr>\n",
       "    <tr>\n",
       "      <th>3</th>\n",
       "      <td>16971</td>\n",
       "      <td>2115</td>\n",
       "      <td>2983</td>\n",
       "      <td>1</td>\n",
       "      <td>0.83</td>\n",
       "      <td>15525.0</td>\n",
       "      <td>35</td>\n",
       "      <td>2011</td>\n",
       "      <td>11</td>\n",
       "      <td>22</td>\n",
       "      <td>Noon</td>\n",
       "      <td>Tuesday</td>\n",
       "    </tr>\n",
       "    <tr>\n",
       "      <th>4</th>\n",
       "      <td>6080</td>\n",
       "      <td>1210</td>\n",
       "      <td>2886</td>\n",
       "      <td>12</td>\n",
       "      <td>1.65</td>\n",
       "      <td>13952.0</td>\n",
       "      <td>35</td>\n",
       "      <td>2011</td>\n",
       "      <td>5</td>\n",
       "      <td>6</td>\n",
       "      <td>Morning</td>\n",
       "      <td>Friday</td>\n",
       "    </tr>\n",
       "  </tbody>\n",
       "</table>\n",
       "</div>"
      ],
      "text/plain": [
       "   InvoiceNo  StockCode  Description  Quantity  ...  Month  Day  Timelight    Weekday\n",
       "0       6141       1583          144         3  ...      5    6       Noon     Friday\n",
       "1       6349       1300         3682         6  ...      5   11    Morning  Wednesday\n",
       "2      16783       2178         1939         4  ...     11   20       Noon     Sunday\n",
       "3      16971       2115         2983         1  ...     11   22       Noon    Tuesday\n",
       "4       6080       1210         2886        12  ...      5    6    Morning     Friday\n",
       "\n",
       "[5 rows x 12 columns]"
      ]
     },
     "execution_count": 25,
     "metadata": {
      "tags": []
     },
     "output_type": "execute_result"
    }
   ],
   "source": [
    "df = test_data_transformation(df)\n",
    "df.head()"
   ]
  },
  {
   "cell_type": "code",
   "execution_count": null,
   "metadata": {
    "colab": {
     "base_uri": "https://localhost:8080/",
     "height": 202
    },
    "executionInfo": {
     "elapsed": 2456,
     "status": "ok",
     "timestamp": 1605934338288,
     "user": {
      "displayName": "adrish bir",
      "photoUrl": "https://lh3.googleusercontent.com/a-/AOh14GjvnDCPOpuviVvO_227LaSth7sl8OIBxCSMqQmFO4c=s64",
      "userId": "15664726640138518444"
     },
     "user_tz": -330
    },
    "id": "NOH6YxMzJPAM",
    "outputId": "6240ac63-f25d-4d51-e815-803aa18e3d19"
   },
   "outputs": [
    {
     "data": {
      "text/html": [
       "<div>\n",
       "<style scoped>\n",
       "    .dataframe tbody tr th:only-of-type {\n",
       "        vertical-align: middle;\n",
       "    }\n",
       "\n",
       "    .dataframe tbody tr th {\n",
       "        vertical-align: top;\n",
       "    }\n",
       "\n",
       "    .dataframe thead th {\n",
       "        text-align: right;\n",
       "    }\n",
       "</style>\n",
       "<table border=\"1\" class=\"dataframe\">\n",
       "  <thead>\n",
       "    <tr style=\"text-align: right;\">\n",
       "      <th></th>\n",
       "      <th>InvoiceNo</th>\n",
       "      <th>StockCode</th>\n",
       "      <th>Description</th>\n",
       "      <th>Quantity</th>\n",
       "      <th>CustomerID</th>\n",
       "      <th>Country</th>\n",
       "      <th>Year</th>\n",
       "      <th>Month</th>\n",
       "      <th>Day</th>\n",
       "      <th>Timelight</th>\n",
       "      <th>Weekday</th>\n",
       "    </tr>\n",
       "  </thead>\n",
       "  <tbody>\n",
       "    <tr>\n",
       "      <th>0</th>\n",
       "      <td>3139</td>\n",
       "      <td>1709</td>\n",
       "      <td>1079</td>\n",
       "      <td>3</td>\n",
       "      <td>16161.0</td>\n",
       "      <td>35</td>\n",
       "      <td>2011</td>\n",
       "      <td>2</td>\n",
       "      <td>22</td>\n",
       "      <td>Noon</td>\n",
       "      <td>Tuesday</td>\n",
       "    </tr>\n",
       "    <tr>\n",
       "      <th>1</th>\n",
       "      <td>617</td>\n",
       "      <td>510</td>\n",
       "      <td>3457</td>\n",
       "      <td>1</td>\n",
       "      <td>17341.0</td>\n",
       "      <td>35</td>\n",
       "      <td>2010</td>\n",
       "      <td>12</td>\n",
       "      <td>8</td>\n",
       "      <td>Noon</td>\n",
       "      <td>Wednesday</td>\n",
       "    </tr>\n",
       "    <tr>\n",
       "      <th>2</th>\n",
       "      <td>14653</td>\n",
       "      <td>604</td>\n",
       "      <td>694</td>\n",
       "      <td>36</td>\n",
       "      <td>15158.0</td>\n",
       "      <td>35</td>\n",
       "      <td>2011</td>\n",
       "      <td>10</td>\n",
       "      <td>25</td>\n",
       "      <td>Noon</td>\n",
       "      <td>Tuesday</td>\n",
       "    </tr>\n",
       "    <tr>\n",
       "      <th>3</th>\n",
       "      <td>8634</td>\n",
       "      <td>1478</td>\n",
       "      <td>3473</td>\n",
       "      <td>2</td>\n",
       "      <td>16033.0</td>\n",
       "      <td>35</td>\n",
       "      <td>2011</td>\n",
       "      <td>6</td>\n",
       "      <td>27</td>\n",
       "      <td>Noon</td>\n",
       "      <td>Monday</td>\n",
       "    </tr>\n",
       "    <tr>\n",
       "      <th>4</th>\n",
       "      <td>15546</td>\n",
       "      <td>3216</td>\n",
       "      <td>871</td>\n",
       "      <td>1</td>\n",
       "      <td>15351.0</td>\n",
       "      <td>35</td>\n",
       "      <td>2011</td>\n",
       "      <td>11</td>\n",
       "      <td>6</td>\n",
       "      <td>Noon</td>\n",
       "      <td>Sunday</td>\n",
       "    </tr>\n",
       "  </tbody>\n",
       "</table>\n",
       "</div>"
      ],
      "text/plain": [
       "   InvoiceNo  StockCode  Description  Quantity  ...  Month  Day  Timelight    Weekday\n",
       "0       3139       1709         1079         3  ...      2   22       Noon    Tuesday\n",
       "1        617        510         3457         1  ...     12    8       Noon  Wednesday\n",
       "2      14653        604          694        36  ...     10   25       Noon    Tuesday\n",
       "3       8634       1478         3473         2  ...      6   27       Noon     Monday\n",
       "4      15546       3216          871         1  ...     11    6       Noon     Sunday\n",
       "\n",
       "[5 rows x 11 columns]"
      ]
     },
     "execution_count": 26,
     "metadata": {
      "tags": []
     },
     "output_type": "execute_result"
    }
   ],
   "source": [
    "test = test_data_transformation(test_data)\n",
    "test.head()"
   ]
  },
  {
   "cell_type": "code",
   "execution_count": null,
   "metadata": {
    "colab": {
     "base_uri": "https://localhost:8080/",
     "height": 202
    },
    "executionInfo": {
     "elapsed": 1181,
     "status": "ok",
     "timestamp": 1605934397321,
     "user": {
      "displayName": "adrish bir",
      "photoUrl": "https://lh3.googleusercontent.com/a-/AOh14GjvnDCPOpuviVvO_227LaSth7sl8OIBxCSMqQmFO4c=s64",
      "userId": "15664726640138518444"
     },
     "user_tz": -330
    },
    "id": "RMOwO4Y5HAhI",
    "outputId": "d18129c9-b95d-4f9c-8c8a-1dae7aa861cc"
   },
   "outputs": [
    {
     "data": {
      "text/html": [
       "<div>\n",
       "<style scoped>\n",
       "    .dataframe tbody tr th:only-of-type {\n",
       "        vertical-align: middle;\n",
       "    }\n",
       "\n",
       "    .dataframe tbody tr th {\n",
       "        vertical-align: top;\n",
       "    }\n",
       "\n",
       "    .dataframe thead th {\n",
       "        text-align: right;\n",
       "    }\n",
       "</style>\n",
       "<table border=\"1\" class=\"dataframe\">\n",
       "  <thead>\n",
       "    <tr style=\"text-align: right;\">\n",
       "      <th></th>\n",
       "      <th>InvoiceNo</th>\n",
       "      <th>StockCode</th>\n",
       "      <th>Description</th>\n",
       "      <th>Quantity</th>\n",
       "      <th>UnitPrice</th>\n",
       "      <th>CustomerID</th>\n",
       "      <th>Country</th>\n",
       "      <th>Year</th>\n",
       "      <th>Month</th>\n",
       "      <th>Day</th>\n",
       "      <th>Timelight</th>\n",
       "      <th>Weekday</th>\n",
       "    </tr>\n",
       "  </thead>\n",
       "  <tbody>\n",
       "    <tr>\n",
       "      <th>0</th>\n",
       "      <td>6141</td>\n",
       "      <td>1583</td>\n",
       "      <td>144</td>\n",
       "      <td>3</td>\n",
       "      <td>3.75</td>\n",
       "      <td>14056.0</td>\n",
       "      <td>55405</td>\n",
       "      <td>3183413</td>\n",
       "      <td>7915</td>\n",
       "      <td>9498</td>\n",
       "      <td>Noon</td>\n",
       "      <td>Friday</td>\n",
       "    </tr>\n",
       "    <tr>\n",
       "      <th>1</th>\n",
       "      <td>6349</td>\n",
       "      <td>1300</td>\n",
       "      <td>3682</td>\n",
       "      <td>6</td>\n",
       "      <td>1.95</td>\n",
       "      <td>13098.0</td>\n",
       "      <td>45500</td>\n",
       "      <td>2614300</td>\n",
       "      <td>6500</td>\n",
       "      <td>14300</td>\n",
       "      <td>Morning</td>\n",
       "      <td>Wednesday</td>\n",
       "    </tr>\n",
       "    <tr>\n",
       "      <th>2</th>\n",
       "      <td>16783</td>\n",
       "      <td>2178</td>\n",
       "      <td>1939</td>\n",
       "      <td>4</td>\n",
       "      <td>5.95</td>\n",
       "      <td>15044.0</td>\n",
       "      <td>76230</td>\n",
       "      <td>4379958</td>\n",
       "      <td>23958</td>\n",
       "      <td>43560</td>\n",
       "      <td>Noon</td>\n",
       "      <td>Sunday</td>\n",
       "    </tr>\n",
       "    <tr>\n",
       "      <th>3</th>\n",
       "      <td>16971</td>\n",
       "      <td>2115</td>\n",
       "      <td>2983</td>\n",
       "      <td>1</td>\n",
       "      <td>0.83</td>\n",
       "      <td>15525.0</td>\n",
       "      <td>74025</td>\n",
       "      <td>4253265</td>\n",
       "      <td>23265</td>\n",
       "      <td>46530</td>\n",
       "      <td>Noon</td>\n",
       "      <td>Tuesday</td>\n",
       "    </tr>\n",
       "    <tr>\n",
       "      <th>4</th>\n",
       "      <td>6080</td>\n",
       "      <td>1210</td>\n",
       "      <td>2886</td>\n",
       "      <td>12</td>\n",
       "      <td>1.65</td>\n",
       "      <td>13952.0</td>\n",
       "      <td>42350</td>\n",
       "      <td>2433310</td>\n",
       "      <td>6050</td>\n",
       "      <td>7260</td>\n",
       "      <td>Morning</td>\n",
       "      <td>Friday</td>\n",
       "    </tr>\n",
       "  </tbody>\n",
       "</table>\n",
       "</div>"
      ],
      "text/plain": [
       "   InvoiceNo  StockCode  Description  ...    Day  Timelight    Weekday\n",
       "0       6141       1583          144  ...   9498       Noon     Friday\n",
       "1       6349       1300         3682  ...  14300    Morning  Wednesday\n",
       "2      16783       2178         1939  ...  43560       Noon     Sunday\n",
       "3      16971       2115         2983  ...  46530       Noon    Tuesday\n",
       "4       6080       1210         2886  ...   7260    Morning     Friday\n",
       "\n",
       "[5 rows x 12 columns]"
      ]
     },
     "execution_count": 27,
     "metadata": {
      "tags": []
     },
     "output_type": "execute_result"
    }
   ],
   "source": [
    "def trans_sec(train):\n",
    "  train1 = train.copy()\n",
    "  train1['Country'] = train1['StockCode']*train1['Country']\n",
    "  train1['Year'] = train1['StockCode']*train1['Year']\n",
    "  train1['Month'] = train1['StockCode']*train1['Month']\n",
    "  train1['Day'] = train1['StockCode']*train1['Day']\n",
    "  return train1\n",
    "\n",
    "df1 = trans_sec(df)\n",
    "df1.head()"
   ]
  },
  {
   "cell_type": "code",
   "execution_count": null,
   "metadata": {
    "colab": {
     "base_uri": "https://localhost:8080/",
     "height": 49
    },
    "executionInfo": {
     "elapsed": 1389,
     "status": "ok",
     "timestamp": 1605934589896,
     "user": {
      "displayName": "adrish bir",
      "photoUrl": "https://lh3.googleusercontent.com/a-/AOh14GjvnDCPOpuviVvO_227LaSth7sl8OIBxCSMqQmFO4c=s64",
      "userId": "15664726640138518444"
     },
     "user_tz": -330
    },
    "id": "ySPJcGJ_KIb0",
    "outputId": "832330d5-740e-4ff4-88ac-fa231d4a4a04"
   },
   "outputs": [
    {
     "data": {
      "text/html": [
       "<div>\n",
       "<style scoped>\n",
       "    .dataframe tbody tr th:only-of-type {\n",
       "        vertical-align: middle;\n",
       "    }\n",
       "\n",
       "    .dataframe tbody tr th {\n",
       "        vertical-align: top;\n",
       "    }\n",
       "\n",
       "    .dataframe thead th {\n",
       "        text-align: right;\n",
       "    }\n",
       "</style>\n",
       "<table border=\"1\" class=\"dataframe\">\n",
       "  <thead>\n",
       "    <tr style=\"text-align: right;\">\n",
       "      <th></th>\n",
       "      <th>InvoiceNo</th>\n",
       "      <th>StockCode</th>\n",
       "      <th>Description</th>\n",
       "      <th>Quantity</th>\n",
       "      <th>UnitPrice</th>\n",
       "      <th>CustomerID</th>\n",
       "      <th>Country</th>\n",
       "      <th>Year</th>\n",
       "      <th>Month</th>\n",
       "      <th>Day</th>\n",
       "      <th>Timelight</th>\n",
       "      <th>Weekday</th>\n",
       "    </tr>\n",
       "  </thead>\n",
       "  <tbody>\n",
       "  </tbody>\n",
       "</table>\n",
       "</div>"
      ],
      "text/plain": [
       "Empty DataFrame\n",
       "Columns: [InvoiceNo, StockCode, Description, Quantity, UnitPrice, CustomerID, Country, Year, Month, Day, Timelight, Weekday]\n",
       "Index: []"
      ]
     },
     "execution_count": 31,
     "metadata": {
      "tags": []
     },
     "output_type": "execute_result"
    }
   ],
   "source": [
    "df1.drop(df1[df1.Quantity > 10000].index,axis=0,inplace=True)\n",
    "df1[df1.Quantity > 10000]"
   ]
  },
  {
   "cell_type": "code",
   "execution_count": null,
   "metadata": {
    "colab": {
     "base_uri": "https://localhost:8080/",
     "height": 49
    },
    "executionInfo": {
     "elapsed": 849,
     "status": "ok",
     "timestamp": 1605934590343,
     "user": {
      "displayName": "adrish bir",
      "photoUrl": "https://lh3.googleusercontent.com/a-/AOh14GjvnDCPOpuviVvO_227LaSth7sl8OIBxCSMqQmFO4c=s64",
      "userId": "15664726640138518444"
     },
     "user_tz": -330
    },
    "id": "z5DPXsjNKL5R",
    "outputId": "6a95eb43-5f6d-4511-93cc-07ebd4bce341"
   },
   "outputs": [
    {
     "data": {
      "text/html": [
       "<div>\n",
       "<style scoped>\n",
       "    .dataframe tbody tr th:only-of-type {\n",
       "        vertical-align: middle;\n",
       "    }\n",
       "\n",
       "    .dataframe tbody tr th {\n",
       "        vertical-align: top;\n",
       "    }\n",
       "\n",
       "    .dataframe thead th {\n",
       "        text-align: right;\n",
       "    }\n",
       "</style>\n",
       "<table border=\"1\" class=\"dataframe\">\n",
       "  <thead>\n",
       "    <tr style=\"text-align: right;\">\n",
       "      <th></th>\n",
       "      <th>InvoiceNo</th>\n",
       "      <th>StockCode</th>\n",
       "      <th>Description</th>\n",
       "      <th>Quantity</th>\n",
       "      <th>UnitPrice</th>\n",
       "      <th>CustomerID</th>\n",
       "      <th>Country</th>\n",
       "      <th>Year</th>\n",
       "      <th>Month</th>\n",
       "      <th>Day</th>\n",
       "      <th>Timelight</th>\n",
       "      <th>Weekday</th>\n",
       "    </tr>\n",
       "  </thead>\n",
       "  <tbody>\n",
       "  </tbody>\n",
       "</table>\n",
       "</div>"
      ],
      "text/plain": [
       "Empty DataFrame\n",
       "Columns: [InvoiceNo, StockCode, Description, Quantity, UnitPrice, CustomerID, Country, Year, Month, Day, Timelight, Weekday]\n",
       "Index: []"
      ]
     },
     "execution_count": 32,
     "metadata": {
      "tags": []
     },
     "output_type": "execute_result"
    }
   ],
   "source": [
    "df1.drop(df1[df1.UnitPrice > 2500].index,axis=0,inplace=True)\n",
    "df1[df1.UnitPrice > 2500]"
   ]
  },
  {
   "cell_type": "code",
   "execution_count": null,
   "metadata": {
    "colab": {
     "base_uri": "https://localhost:8080/",
     "height": 202
    },
    "executionInfo": {
     "elapsed": 1181,
     "status": "ok",
     "timestamp": 1605934440908,
     "user": {
      "displayName": "adrish bir",
      "photoUrl": "https://lh3.googleusercontent.com/a-/AOh14GjvnDCPOpuviVvO_227LaSth7sl8OIBxCSMqQmFO4c=s64",
      "userId": "15664726640138518444"
     },
     "user_tz": -330
    },
    "id": "Cg8jUiEGIlYY",
    "outputId": "28f4fcb8-6226-4e25-85bb-91abcd4dffd1"
   },
   "outputs": [
    {
     "data": {
      "text/html": [
       "<div>\n",
       "<style scoped>\n",
       "    .dataframe tbody tr th:only-of-type {\n",
       "        vertical-align: middle;\n",
       "    }\n",
       "\n",
       "    .dataframe tbody tr th {\n",
       "        vertical-align: top;\n",
       "    }\n",
       "\n",
       "    .dataframe thead th {\n",
       "        text-align: right;\n",
       "    }\n",
       "</style>\n",
       "<table border=\"1\" class=\"dataframe\">\n",
       "  <thead>\n",
       "    <tr style=\"text-align: right;\">\n",
       "      <th></th>\n",
       "      <th>InvoiceNo</th>\n",
       "      <th>StockCode</th>\n",
       "      <th>Description</th>\n",
       "      <th>Quantity</th>\n",
       "      <th>CustomerID</th>\n",
       "      <th>Country</th>\n",
       "      <th>Year</th>\n",
       "      <th>Month</th>\n",
       "      <th>Day</th>\n",
       "      <th>Timelight</th>\n",
       "      <th>Weekday</th>\n",
       "    </tr>\n",
       "  </thead>\n",
       "  <tbody>\n",
       "    <tr>\n",
       "      <th>0</th>\n",
       "      <td>3139</td>\n",
       "      <td>1709</td>\n",
       "      <td>1079</td>\n",
       "      <td>3</td>\n",
       "      <td>16161.0</td>\n",
       "      <td>59815</td>\n",
       "      <td>3436799</td>\n",
       "      <td>3418</td>\n",
       "      <td>37598</td>\n",
       "      <td>Noon</td>\n",
       "      <td>Tuesday</td>\n",
       "    </tr>\n",
       "    <tr>\n",
       "      <th>1</th>\n",
       "      <td>617</td>\n",
       "      <td>510</td>\n",
       "      <td>3457</td>\n",
       "      <td>1</td>\n",
       "      <td>17341.0</td>\n",
       "      <td>17850</td>\n",
       "      <td>1025100</td>\n",
       "      <td>6120</td>\n",
       "      <td>4080</td>\n",
       "      <td>Noon</td>\n",
       "      <td>Wednesday</td>\n",
       "    </tr>\n",
       "    <tr>\n",
       "      <th>2</th>\n",
       "      <td>14653</td>\n",
       "      <td>604</td>\n",
       "      <td>694</td>\n",
       "      <td>36</td>\n",
       "      <td>15158.0</td>\n",
       "      <td>21140</td>\n",
       "      <td>1214644</td>\n",
       "      <td>6040</td>\n",
       "      <td>15100</td>\n",
       "      <td>Noon</td>\n",
       "      <td>Tuesday</td>\n",
       "    </tr>\n",
       "    <tr>\n",
       "      <th>3</th>\n",
       "      <td>8634</td>\n",
       "      <td>1478</td>\n",
       "      <td>3473</td>\n",
       "      <td>2</td>\n",
       "      <td>16033.0</td>\n",
       "      <td>51730</td>\n",
       "      <td>2972258</td>\n",
       "      <td>8868</td>\n",
       "      <td>39906</td>\n",
       "      <td>Noon</td>\n",
       "      <td>Monday</td>\n",
       "    </tr>\n",
       "    <tr>\n",
       "      <th>4</th>\n",
       "      <td>15546</td>\n",
       "      <td>3216</td>\n",
       "      <td>871</td>\n",
       "      <td>1</td>\n",
       "      <td>15351.0</td>\n",
       "      <td>112560</td>\n",
       "      <td>6467376</td>\n",
       "      <td>35376</td>\n",
       "      <td>19296</td>\n",
       "      <td>Noon</td>\n",
       "      <td>Sunday</td>\n",
       "    </tr>\n",
       "  </tbody>\n",
       "</table>\n",
       "</div>"
      ],
      "text/plain": [
       "   InvoiceNo  StockCode  Description  ...    Day  Timelight    Weekday\n",
       "0       3139       1709         1079  ...  37598       Noon    Tuesday\n",
       "1        617        510         3457  ...   4080       Noon  Wednesday\n",
       "2      14653        604          694  ...  15100       Noon    Tuesday\n",
       "3       8634       1478         3473  ...  39906       Noon     Monday\n",
       "4      15546       3216          871  ...  19296       Noon     Sunday\n",
       "\n",
       "[5 rows x 11 columns]"
      ]
     },
     "execution_count": 29,
     "metadata": {
      "tags": []
     },
     "output_type": "execute_result"
    }
   ],
   "source": [
    "test1 = trans_sec(test)\n",
    "test1.head()"
   ]
  },
  {
   "cell_type": "markdown",
   "metadata": {
    "id": "8BYdm3EkCjFt"
   },
   "source": [
    "Prepare Random Forest Model"
   ]
  },
  {
   "cell_type": "code",
   "execution_count": null,
   "metadata": {
    "id": "tPfMkMBiBCh9"
   },
   "outputs": [],
   "source": [
    "from sklearn.pipeline import Pipeline\n",
    "from sklearn.preprocessing import StandardScaler\n",
    "from sklearn.compose import ColumnTransformer\n",
    "from sklearn.preprocessing import OneHotEncoder\n",
    "\n",
    "\n",
    "num_attribs = ['StockCode','Quantity','Description','CustomerID','InvoiceNo','Country']\n",
    "cat_attribs = [ 'Weekday','Timelight','Year','Month','Day']\n",
    "\n",
    "full_pipeline = ColumnTransformer([\n",
    "        (\"num\", StandardScaler(), num_attribs),\n",
    "        (\"cat\", OneHotEncoder(), cat_attribs),\n",
    "    ])"
   ]
  },
  {
   "cell_type": "code",
   "execution_count": null,
   "metadata": {
    "id": "Ocq0vJLpGCsK"
   },
   "outputs": [],
   "source": [
    "df['Country'] = df['StockCode']*df['Country']\n",
    "test_data['Country'] = test_data['StockCode']*test_data['Country']"
   ]
  },
  {
   "cell_type": "code",
   "execution_count": null,
   "metadata": {
    "colab": {
     "base_uri": "https://localhost:8080/"
    },
    "executionInfo": {
     "elapsed": 1695,
     "status": "ok",
     "timestamp": 1605950354499,
     "user": {
      "displayName": "adrish bir",
      "photoUrl": "https://lh3.googleusercontent.com/a-/AOh14GjvnDCPOpuviVvO_227LaSth7sl8OIBxCSMqQmFO4c=s64",
      "userId": "15664726640138518444"
     },
     "user_tz": -330
    },
    "id": "jtZV8UD8bp0W",
    "outputId": "763932f7-63bc-44b0-f933-2bd011a22498"
   },
   "outputs": [
    {
     "name": "stdout",
     "output_type": "stream",
     "text": [
      "(284767, 23)\n",
      "(122049, 23)\n"
     ]
    }
   ],
   "source": [
    "X= df[['InvoiceNo','StockCode', 'Quantity', 'Country','Year','Month','Day','Weekday','Description','CustomerID','Timelight']]\n",
    "y = df['UnitPrice']\n",
    "\n",
    "X = full_pipeline.fit_transform(X)\n",
    "test_data = full_pipeline.fit_transform(test_data)\n",
    "print(X.shape)\n",
    "print(test_data.shape)"
   ]
  },
  {
   "cell_type": "code",
   "execution_count": null,
   "metadata": {
    "id": "2J_cgN9ScCOl"
   },
   "outputs": [],
   "source": [
    "from sklearn.metrics import mean_squared_error\n",
    "from sklearn.ensemble import RandomForestRegressor\n",
    "from sklearn.model_selection import RandomizedSearchCV\n",
    "from scipy.stats import randint\n",
    "from pprint import pprint\n",
    "\n",
    "rf = RandomForestRegressor()\n",
    "\n",
    "# Look at parameters used by our current forest\n",
    "print('Parameters currently in use:\\n')\n",
    "pprint(rf.get_params())\n",
    "\n",
    "# Randomized Search CV\n",
    "\n",
    "# Number of trees in random forest\n",
    "n_estimators = randint(low=1, high=250)\n",
    "# Number of features to consider at every split\n",
    "max_features = ['auto', 'sqrt']\n",
    "# Maximum number of levels in tree\n",
    "max_depth = [int(x) for x in np.linspace(0, 30, num = 10)]\n",
    "# max_depth.append(None)\n",
    "# Minimum number of samples required to split a node\n",
    "min_samples_split = [2, 5, 10, 15, 100]\n",
    "# Minimum number of samples required at each leaf node\n",
    "min_samples_leaf = [1, 2, 5, 10]\n",
    "# Method of selecting samples for training each tree\n",
    "bootstrap = [True, False]\n",
    "\n",
    "random_grid = {'n_estimators': n_estimators,\n",
    "               'max_features': max_features,\n",
    "               'max_depth': max_depth,\n",
    "               'min_samples_split': min_samples_split,\n",
    "               'min_samples_leaf': min_samples_leaf,\n",
    "               'bootstrap' : bootstrap}\n",
    "          \n",
    "\n",
    "pprint(random_grid)\n",
    "\n",
    "rf = RandomForestRegressor()"
   ]
  },
  {
   "cell_type": "code",
   "execution_count": null,
   "metadata": {
    "id": "3gn5i12w05Jd"
   },
   "outputs": [],
   "source": [
    "from sklearn.model_selection import train_test_split\n",
    "\n",
    "# Random search of parameters, using 3 fold cross validation, \n",
    "# search across 100 different combinations\n",
    "\n",
    "rf_random = RandomizedSearchCV(estimator = rf, param_distributions = random_grid, n_iter = 100, cv = 3, verbose=2, n_jobs = -1,scoring='neg_mean_squared_error', random_state=42)\n",
    "\n",
    "# Fit the random search model\n",
    "# In order to test these models I will need to do a train test split with the training data-set. \n",
    "X_train, X_test, y_train, y_test = train_test_split(X, y, test_size=0.2)\n",
    "\n",
    "rf_random.fit(X_train, y_train)"
   ]
  },
  {
   "cell_type": "code",
   "execution_count": null,
   "metadata": {
    "id": "pxfOD6-z39SX"
   },
   "outputs": [],
   "source": [
    "from sklearn.ensemble import RandomForestRegressor\n",
    "rfr = RandomForestRegressor(bootstrap=False, ccp_alpha=0.0, criterion='mse',\n",
    "                      max_depth=23, max_features='auto', max_leaf_nodes=None,\n",
    "                      max_samples=None, min_impurity_decrease=0.0,\n",
    "                      min_impurity_split=None, min_samples_leaf=5,\n",
    "                      min_samples_split=10, min_weight_fraction_leaf=0.0,\n",
    "                      n_estimators=81, n_jobs=None, oob_score=False,\n",
    "                      random_state=None, verbose=0, warm_start=False)\n",
    "\n",
    "rfr.fit(X,y)\n",
    "\n",
    "predictions = rfr.predict(test_data)\n",
    "#rfr_mse = mean_squared_error(y_test, predictions)\n",
    "#rfr_rmse = np.sqrt(rfr_mse)\n",
    "#rfr_rmse"
   ]
  },
  {
   "cell_type": "code",
   "execution_count": null,
   "metadata": {
    "id": "ozQA4vnyHf0T"
   },
   "outputs": [],
   "source": [
    "# Applying inverse power transform to get back original form of unit price\n",
    "predictions = pd.DataFrame(data=predictions)\n",
    "a_inverse_transformed = power.inverse_transform(predictions)\n",
    "#a_inverse_transformed"
   ]
  },
  {
   "cell_type": "code",
   "execution_count": null,
   "metadata": {
    "colab": {
     "base_uri": "https://localhost:8080/",
     "height": 202
    },
    "executionInfo": {
     "elapsed": 1223,
     "status": "ok",
     "timestamp": 1605900455505,
     "user": {
      "displayName": "adrish bir",
      "photoUrl": "https://lh3.googleusercontent.com/a-/AOh14GjvnDCPOpuviVvO_227LaSth7sl8OIBxCSMqQmFO4c=s64",
      "userId": "15664726640138518444"
     },
     "user_tz": -330
    },
    "id": "EznCAkU6IC4c",
    "outputId": "105963ea-1728-4be9-8eec-9f4dd8c3fab1"
   },
   "outputs": [
    {
     "data": {
      "text/html": [
       "<div>\n",
       "<style scoped>\n",
       "    .dataframe tbody tr th:only-of-type {\n",
       "        vertical-align: middle;\n",
       "    }\n",
       "\n",
       "    .dataframe tbody tr th {\n",
       "        vertical-align: top;\n",
       "    }\n",
       "\n",
       "    .dataframe thead th {\n",
       "        text-align: right;\n",
       "    }\n",
       "</style>\n",
       "<table border=\"1\" class=\"dataframe\">\n",
       "  <thead>\n",
       "    <tr style=\"text-align: right;\">\n",
       "      <th></th>\n",
       "      <th>0</th>\n",
       "    </tr>\n",
       "  </thead>\n",
       "  <tbody>\n",
       "    <tr>\n",
       "      <th>0</th>\n",
       "      <td>1.20</td>\n",
       "    </tr>\n",
       "    <tr>\n",
       "      <th>1</th>\n",
       "      <td>1.25</td>\n",
       "    </tr>\n",
       "    <tr>\n",
       "      <th>2</th>\n",
       "      <td>3.08</td>\n",
       "    </tr>\n",
       "    <tr>\n",
       "      <th>3</th>\n",
       "      <td>1.65</td>\n",
       "    </tr>\n",
       "    <tr>\n",
       "      <th>4</th>\n",
       "      <td>5.45</td>\n",
       "    </tr>\n",
       "  </tbody>\n",
       "</table>\n",
       "</div>"
      ],
      "text/plain": [
       "      0\n",
       "0  1.20\n",
       "1  1.25\n",
       "2  3.08\n",
       "3  1.65\n",
       "4  5.45"
      ]
     },
     "execution_count": 25,
     "metadata": {
      "tags": []
     },
     "output_type": "execute_result"
    }
   ],
   "source": [
    "result = pd.DataFrame(data=a_inverse_transformed).round(2)\n",
    "result.head()"
   ]
  },
  {
   "cell_type": "code",
   "execution_count": null,
   "metadata": {
    "id": "mTYM6IcCIHrk"
   },
   "outputs": [],
   "source": [
    "result.to_excel(Data_dir+\"predictions\"+str(21)+\".xlsx\")"
   ]
  },
  {
   "cell_type": "code",
   "execution_count": 360,
   "metadata": {
    "executionInfo": {
     "elapsed": 994,
     "status": "ok",
     "timestamp": 1606053729266,
     "user": {
      "displayName": "adrish bir",
      "photoUrl": "https://lh3.googleusercontent.com/a-/AOh14GjvnDCPOpuviVvO_227LaSth7sl8OIBxCSMqQmFO4c=s64",
      "userId": "15664726640138518444"
     },
     "user_tz": -330
    },
    "id": "s0ngDpdONf4W"
   },
   "outputs": [],
   "source": [
    "predictions = np.exp(predictions)"
   ]
  },
  {
   "cell_type": "code",
   "execution_count": 361,
   "metadata": {
    "executionInfo": {
     "elapsed": 967,
     "status": "ok",
     "timestamp": 1606053743845,
     "user": {
      "displayName": "adrish bir",
      "photoUrl": "https://lh3.googleusercontent.com/a-/AOh14GjvnDCPOpuviVvO_227LaSth7sl8OIBxCSMqQmFO4c=s64",
      "userId": "15664726640138518444"
     },
     "user_tz": -330
    },
    "id": "hvFvtbPcVpV9"
   },
   "outputs": [],
   "source": [
    "text = 'SUB25-Tunedtree_withlog'\n",
    "np.savetxt(Data_dir+\"predictions\"+str(25)+text+\".csv\", predictions, delimiter=\",\")"
   ]
  },
  {
   "cell_type": "code",
   "execution_count": 363,
   "metadata": {
    "colab": {
     "base_uri": "https://localhost:8080/"
    },
    "executionInfo": {
     "elapsed": 171939,
     "status": "ok",
     "timestamp": 1606055396595,
     "user": {
      "displayName": "adrish bir",
      "photoUrl": "https://lh3.googleusercontent.com/a-/AOh14GjvnDCPOpuviVvO_227LaSth7sl8OIBxCSMqQmFO4c=s64",
      "userId": "15664726640138518444"
     },
     "user_tz": -330
    },
    "id": "UG-kxsoPd0-4",
    "outputId": "7d4d658a-bd34-4d2b-fd7d-7decf43a6506"
   },
   "outputs": [
    {
     "name": "stdout",
     "output_type": "stream",
     "text": [
      "RMSE: 0.230387 max_depth: 2.000000\n",
      "RMSE: 0.229966 max_depth: 4.000000\n",
      "RMSE: 0.228321 max_depth: 6.000000\n",
      "RMSE: 0.225823 max_depth: 8.000000\n",
      "RMSE: 0.225272 max_depth: 10.000000\n",
      "RMSE: 0.224517 max_depth: 12.000000\n",
      "RMSE: 0.226449 max_depth: 14.000000\n",
      "RMSE: 0.226928 max_depth: 16.000000\n",
      "RMSE: 0.229448 max_depth: 18.000000\n"
     ]
    }
   ],
   "source": [
    "from sklearn.tree import DecisionTreeRegressor\n",
    "from sklearn.metrics import mean_squared_error\n",
    "\n",
    "from sklearn.model_selection import train_test_split\n",
    "X_train, X_test, y_train, y_test = train_test_split(X, y, test_size=0.2, random_state=100)\n",
    "\n",
    "for i in range(2,20,2):\n",
    "  tree_reg = DecisionTreeRegressor( max_depth=76,\n",
    "  max_features='auto', max_leaf_nodes=None,\n",
    "  min_impurity_split=1e-08, min_samples_leaf=2,\n",
    "  min_samples_split=i, min_weight_fraction_leaf=0.0,\n",
    "  presort=i, random_state=None)\n",
    "  tree_reg.fit(X_train,y_train)\n",
    "  preds = tree_reg.predict(X_test)\n",
    "\n",
    "  rmse = np.sqrt(mean_squared_error(y_test, preds))\n",
    "  print(\"RMSE: %f\" % (rmse) + \" max_depth: %f\" %(i))\n",
    "\n",
    "#tree_reg.fit(X,y)\n",
    "#predictions = tree_reg.predict(test_data)\n",
    "#27 max depth"
   ]
  },
  {
   "cell_type": "code",
   "execution_count": 359,
   "metadata": {
    "executionInfo": {
     "elapsed": 25528,
     "status": "ok",
     "timestamp": 1606053692008,
     "user": {
      "displayName": "adrish bir",
      "photoUrl": "https://lh3.googleusercontent.com/a-/AOh14GjvnDCPOpuviVvO_227LaSth7sl8OIBxCSMqQmFO4c=s64",
      "userId": "15664726640138518444"
     },
     "user_tz": -330
    },
    "id": "nSdFoPGHjPo9"
   },
   "outputs": [],
   "source": [
    "from sklearn.tree import DecisionTreeRegressor\n",
    "from sklearn.metrics import mean_squared_error\n",
    "\n",
    "tree_reg = DecisionTreeRegressor( max_depth=58,\n",
    "  max_features='auto', max_leaf_nodes=None,\n",
    "  min_impurity_split=1e-08, min_samples_leaf=2,\n",
    "  min_samples_split=12, min_weight_fraction_leaf=0.0,\n",
    "  presort=False, random_state=None)\n",
    "\n",
    "tree_reg.fit(X,y)\n",
    "predictions = tree_reg.predict(test_data)"
   ]
  },
  {
   "cell_type": "code",
   "execution_count": null,
   "metadata": {
    "colab": {
     "base_uri": "https://localhost:8080/"
    },
    "executionInfo": {
     "elapsed": 318176,
     "status": "ok",
     "timestamp": 1605938895384,
     "user": {
      "displayName": "adrish bir",
      "photoUrl": "https://lh3.googleusercontent.com/a-/AOh14GjvnDCPOpuviVvO_227LaSth7sl8OIBxCSMqQmFO4c=s64",
      "userId": "15664726640138518444"
     },
     "user_tz": -330
    },
    "id": "7mHM5xpR0gyH",
    "outputId": "0a925258-f7cc-4a58-f95d-006b33f6203f"
   },
   "outputs": [
    {
     "name": "stdout",
     "output_type": "stream",
     "text": [
      "RMSE: 11.274182 max_depth: 0.400000\n",
      "RMSE: 11.150281 max_depth: 0.500000\n",
      "RMSE: 11.556741 max_depth: 0.200000\n",
      "RMSE: 11.414145 max_depth: 0.300000\n",
      "RMSE: 11.003075 max_depth: 0.600000\n",
      "RMSE: 10.967591 max_depth: 0.700000\n",
      "RMSE: 10.959443 max_depth: 0.800000\n",
      "RMSE: 11.009430 max_depth: 0.900000\n",
      "RMSE: 11.119826 max_depth: 1.000000\n"
     ]
    }
   ],
   "source": [
    "from sklearn.metrics import mean_squared_error\n",
    "import xgboost as xgb\n",
    "\n",
    "#data_dmatrix = xgb.DMatrix(data=X,label=y)\n",
    "from sklearn.model_selection import train_test_split\n",
    "X_train, X_test, y_train, y_test = train_test_split(X, y, test_size=0.2, random_state=100)\n",
    "\n",
    "for i in (0.4,0.5,0.2,0.3,0.6,0.7,0.8,0.9,1):\n",
    "  xg_reg = xgb.XGBRegressor(objective ='reg:squarederror', colsample_bytree = i, learning_rate = 0.1, max_depth = 6, \n",
    "                          alpha = 1, n_estimators = 145)\n",
    "  xg_reg.fit(X_train,y_train)\n",
    "  preds = xg_reg.predict(X_test)\n",
    "\n",
    "  rmse = np.sqrt(mean_squared_error(y_test, preds))\n",
    "  print(\"RMSE: %f\" % (rmse) + \" max_depth: %f\" %(i))\n",
    "\n",
    "#max depth 6 rmse 11.099"
   ]
  },
  {
   "cell_type": "code",
   "execution_count": null,
   "metadata": {
    "id": "QdWRk_5O4n51"
   },
   "outputs": [],
   "source": [
    "xg_reg = xgb.XGBRegressor(objective ='reg:squarederror', colsample_bytree = 0.8, learning_rate = 0.1, max_depth = 6, \n",
    "                          alpha = 1, n_estimators = 145)\n",
    "\n",
    "xg_reg.fit(X,y)\n",
    "predictions = xg_reg.predict(test_data)"
   ]
  },
  {
   "cell_type": "code",
   "execution_count": null,
   "metadata": {
    "colab": {
     "base_uri": "https://localhost:8080/",
     "height": 904
    },
    "executionInfo": {
     "elapsed": 3324,
     "status": "ok",
     "timestamp": 1605862474172,
     "user": {
      "displayName": "adrish bir",
      "photoUrl": "https://lh3.googleusercontent.com/a-/AOh14GjvnDCPOpuviVvO_227LaSth7sl8OIBxCSMqQmFO4c=s64",
      "userId": "15664726640138518444"
     },
     "user_tz": -330
    },
    "id": "-seaB95jbtjw",
    "outputId": "4967ac6b-c389-4bfa-c41d-20d042e24784"
   },
   "outputs": [
    {
     "data": {
      "text/plain": [
       "<matplotlib.axes._subplots.AxesSubplot at 0x7fa6f32db438>"
      ]
     },
     "execution_count": 104,
     "metadata": {
      "tags": []
     },
     "output_type": "execute_result"
    },
    {
     "data": {
      "image/png": "[encoded data removed]",
      "text/plain": [
       "<Figure size 1440x1080 with 1 Axes>"
      ]
     },
     "metadata": {
      "needs_background": "light",
      "tags": []
     },
     "output_type": "display_data"
    }
   ],
   "source": [
    "import xgboost as xgb\n",
    "plt.figure(figsize=(20,15)) \n",
    "xgb.plot_importance(xg_reg, ax=plt.gca())"
   ]
  },
  {
   "cell_type": "markdown",
   "metadata": {
    "id": "G_Jb2uDY-kBQ"
   },
   "source": [
    "## Final"
   ]
  },
  {
   "cell_type": "code",
   "execution_count": 468,
   "metadata": {
    "colab": {
     "base_uri": "https://localhost:8080/",
     "height": 202
    },
    "executionInfo": {
     "elapsed": 1513,
     "status": "ok",
     "timestamp": 1606067421353,
     "user": {
      "displayName": "adrish bir",
      "photoUrl": "https://lh3.googleusercontent.com/a-/AOh14GjvnDCPOpuviVvO_227LaSth7sl8OIBxCSMqQmFO4c=s64",
      "userId": "15664726640138518444"
     },
     "user_tz": -330
    },
    "id": "yHMe5lbTH2jZ",
    "outputId": "d80b7673-854f-44e1-9ae7-ed3cee415607"
   },
   "outputs": [
    {
     "data": {
      "text/html": [
       "<div>\n",
       "<style scoped>\n",
       "    .dataframe tbody tr th:only-of-type {\n",
       "        vertical-align: middle;\n",
       "    }\n",
       "\n",
       "    .dataframe tbody tr th {\n",
       "        vertical-align: top;\n",
       "    }\n",
       "\n",
       "    .dataframe thead th {\n",
       "        text-align: right;\n",
       "    }\n",
       "</style>\n",
       "<table border=\"1\" class=\"dataframe\">\n",
       "  <thead>\n",
       "    <tr style=\"text-align: right;\">\n",
       "      <th></th>\n",
       "      <th>Unnamed: 0</th>\n",
       "      <th>InvoiceNo</th>\n",
       "      <th>StockCode</th>\n",
       "      <th>Description</th>\n",
       "      <th>Quantity</th>\n",
       "      <th>UnitPrice</th>\n",
       "      <th>CustomerID</th>\n",
       "      <th>Country</th>\n",
       "      <th>Year</th>\n",
       "      <th>Month</th>\n",
       "      <th>Day</th>\n",
       "      <th>Timelight</th>\n",
       "      <th>Weekday</th>\n",
       "    </tr>\n",
       "  </thead>\n",
       "  <tbody>\n",
       "    <tr>\n",
       "      <th>0</th>\n",
       "      <td>0</td>\n",
       "      <td>6141</td>\n",
       "      <td>1583</td>\n",
       "      <td>144</td>\n",
       "      <td>3</td>\n",
       "      <td>3.75</td>\n",
       "      <td>14056.0</td>\n",
       "      <td>35</td>\n",
       "      <td>2011</td>\n",
       "      <td>B</td>\n",
       "      <td>week1</td>\n",
       "      <td>Noon</td>\n",
       "      <td>Friday</td>\n",
       "    </tr>\n",
       "    <tr>\n",
       "      <th>1</th>\n",
       "      <td>1</td>\n",
       "      <td>6349</td>\n",
       "      <td>1300</td>\n",
       "      <td>3682</td>\n",
       "      <td>6</td>\n",
       "      <td>1.95</td>\n",
       "      <td>13098.0</td>\n",
       "      <td>35</td>\n",
       "      <td>2011</td>\n",
       "      <td>B</td>\n",
       "      <td>week2</td>\n",
       "      <td>Morning</td>\n",
       "      <td>Wednesday</td>\n",
       "    </tr>\n",
       "    <tr>\n",
       "      <th>2</th>\n",
       "      <td>2</td>\n",
       "      <td>16783</td>\n",
       "      <td>2178</td>\n",
       "      <td>1939</td>\n",
       "      <td>4</td>\n",
       "      <td>5.95</td>\n",
       "      <td>15044.0</td>\n",
       "      <td>35</td>\n",
       "      <td>2011</td>\n",
       "      <td>C</td>\n",
       "      <td>week2</td>\n",
       "      <td>Noon</td>\n",
       "      <td>Sunday</td>\n",
       "    </tr>\n",
       "    <tr>\n",
       "      <th>3</th>\n",
       "      <td>3</td>\n",
       "      <td>16971</td>\n",
       "      <td>2115</td>\n",
       "      <td>2983</td>\n",
       "      <td>1</td>\n",
       "      <td>0.83</td>\n",
       "      <td>15525.0</td>\n",
       "      <td>35</td>\n",
       "      <td>2011</td>\n",
       "      <td>C</td>\n",
       "      <td>week3</td>\n",
       "      <td>Noon</td>\n",
       "      <td>Tuesday</td>\n",
       "    </tr>\n",
       "    <tr>\n",
       "      <th>4</th>\n",
       "      <td>4</td>\n",
       "      <td>6080</td>\n",
       "      <td>1210</td>\n",
       "      <td>2886</td>\n",
       "      <td>12</td>\n",
       "      <td>1.65</td>\n",
       "      <td>13952.0</td>\n",
       "      <td>35</td>\n",
       "      <td>2011</td>\n",
       "      <td>B</td>\n",
       "      <td>week1</td>\n",
       "      <td>Morning</td>\n",
       "      <td>Friday</td>\n",
       "    </tr>\n",
       "  </tbody>\n",
       "</table>\n",
       "</div>"
      ],
      "text/plain": [
       "   Unnamed: 0  InvoiceNo  StockCode  ...    Day  Timelight    Weekday\n",
       "0           0       6141       1583  ...  week1       Noon     Friday\n",
       "1           1       6349       1300  ...  week2    Morning  Wednesday\n",
       "2           2      16783       2178  ...  week2       Noon     Sunday\n",
       "3           3      16971       2115  ...  week3       Noon    Tuesday\n",
       "4           4       6080       1210  ...  week1    Morning     Friday\n",
       "\n",
       "[5 rows x 13 columns]"
      ]
     },
     "execution_count": 468,
     "metadata": {
      "tags": []
     },
     "output_type": "execute_result"
    }
   ],
   "source": [
    "Data_dir = '/content/gdrive/My Drive/Colab Notebooks/Datasets/MahineHack - Retail Price Prediction/'\n",
    "df = pd.read_csv(Data_dir+ 'final_data.csv')\n",
    "test_data = pd.read_csv(Data_dir + 'final_test_data.csv')\n",
    "df.head()"
   ]
  },
  {
   "cell_type": "code",
   "execution_count": 469,
   "metadata": {
    "colab": {
     "base_uri": "https://localhost:8080/",
     "height": 202
    },
    "executionInfo": {
     "elapsed": 794,
     "status": "ok",
     "timestamp": 1606067421355,
     "user": {
      "displayName": "adrish bir",
      "photoUrl": "https://lh3.googleusercontent.com/a-/AOh14GjvnDCPOpuviVvO_227LaSth7sl8OIBxCSMqQmFO4c=s64",
      "userId": "15664726640138518444"
     },
     "user_tz": -330
    },
    "id": "HBieW4MX3Tgw",
    "outputId": "030c8fbb-c903-4599-8159-64cf33875b93"
   },
   "outputs": [
    {
     "data": {
      "text/html": [
       "<div>\n",
       "<style scoped>\n",
       "    .dataframe tbody tr th:only-of-type {\n",
       "        vertical-align: middle;\n",
       "    }\n",
       "\n",
       "    .dataframe tbody tr th {\n",
       "        vertical-align: top;\n",
       "    }\n",
       "\n",
       "    .dataframe thead th {\n",
       "        text-align: right;\n",
       "    }\n",
       "</style>\n",
       "<table border=\"1\" class=\"dataframe\">\n",
       "  <thead>\n",
       "    <tr style=\"text-align: right;\">\n",
       "      <th></th>\n",
       "      <th>InvoiceNo</th>\n",
       "      <th>StockCode</th>\n",
       "      <th>Description</th>\n",
       "      <th>Quantity</th>\n",
       "      <th>UnitPrice</th>\n",
       "      <th>CustomerID</th>\n",
       "      <th>Country</th>\n",
       "      <th>Year</th>\n",
       "      <th>Month</th>\n",
       "      <th>Day</th>\n",
       "      <th>Timelight</th>\n",
       "      <th>Weekday</th>\n",
       "    </tr>\n",
       "  </thead>\n",
       "  <tbody>\n",
       "    <tr>\n",
       "      <th>0</th>\n",
       "      <td>6141</td>\n",
       "      <td>1583</td>\n",
       "      <td>144</td>\n",
       "      <td>3</td>\n",
       "      <td>3.75</td>\n",
       "      <td>14056.0</td>\n",
       "      <td>35</td>\n",
       "      <td>2011</td>\n",
       "      <td>B</td>\n",
       "      <td>week1</td>\n",
       "      <td>Noon</td>\n",
       "      <td>Friday</td>\n",
       "    </tr>\n",
       "    <tr>\n",
       "      <th>1</th>\n",
       "      <td>6349</td>\n",
       "      <td>1300</td>\n",
       "      <td>3682</td>\n",
       "      <td>6</td>\n",
       "      <td>1.95</td>\n",
       "      <td>13098.0</td>\n",
       "      <td>35</td>\n",
       "      <td>2011</td>\n",
       "      <td>B</td>\n",
       "      <td>week2</td>\n",
       "      <td>Morning</td>\n",
       "      <td>Wednesday</td>\n",
       "    </tr>\n",
       "    <tr>\n",
       "      <th>2</th>\n",
       "      <td>16783</td>\n",
       "      <td>2178</td>\n",
       "      <td>1939</td>\n",
       "      <td>4</td>\n",
       "      <td>5.95</td>\n",
       "      <td>15044.0</td>\n",
       "      <td>35</td>\n",
       "      <td>2011</td>\n",
       "      <td>C</td>\n",
       "      <td>week2</td>\n",
       "      <td>Noon</td>\n",
       "      <td>Sunday</td>\n",
       "    </tr>\n",
       "    <tr>\n",
       "      <th>3</th>\n",
       "      <td>16971</td>\n",
       "      <td>2115</td>\n",
       "      <td>2983</td>\n",
       "      <td>1</td>\n",
       "      <td>0.83</td>\n",
       "      <td>15525.0</td>\n",
       "      <td>35</td>\n",
       "      <td>2011</td>\n",
       "      <td>C</td>\n",
       "      <td>week3</td>\n",
       "      <td>Noon</td>\n",
       "      <td>Tuesday</td>\n",
       "    </tr>\n",
       "    <tr>\n",
       "      <th>4</th>\n",
       "      <td>6080</td>\n",
       "      <td>1210</td>\n",
       "      <td>2886</td>\n",
       "      <td>12</td>\n",
       "      <td>1.65</td>\n",
       "      <td>13952.0</td>\n",
       "      <td>35</td>\n",
       "      <td>2011</td>\n",
       "      <td>B</td>\n",
       "      <td>week1</td>\n",
       "      <td>Morning</td>\n",
       "      <td>Friday</td>\n",
       "    </tr>\n",
       "  </tbody>\n",
       "</table>\n",
       "</div>"
      ],
      "text/plain": [
       "   InvoiceNo  StockCode  Description  ...    Day  Timelight    Weekday\n",
       "0       6141       1583          144  ...  week1       Noon     Friday\n",
       "1       6349       1300         3682  ...  week2    Morning  Wednesday\n",
       "2      16783       2178         1939  ...  week2       Noon     Sunday\n",
       "3      16971       2115         2983  ...  week3       Noon    Tuesday\n",
       "4       6080       1210         2886  ...  week1    Morning     Friday\n",
       "\n",
       "[5 rows x 12 columns]"
      ]
     },
     "execution_count": 469,
     "metadata": {
      "tags": []
     },
     "output_type": "execute_result"
    }
   ],
   "source": [
    "df.drop(['Unnamed: 0'],axis=1,inplace=True)\n",
    "df.head()"
   ]
  },
  {
   "cell_type": "code",
   "execution_count": 470,
   "metadata": {
    "colab": {
     "base_uri": "https://localhost:8080/"
    },
    "executionInfo": {
     "elapsed": 727,
     "status": "ok",
     "timestamp": 1606067422008,
     "user": {
      "displayName": "adrish bir",
      "photoUrl": "https://lh3.googleusercontent.com/a-/AOh14GjvnDCPOpuviVvO_227LaSth7sl8OIBxCSMqQmFO4c=s64",
      "userId": "15664726640138518444"
     },
     "user_tz": -330
    },
    "id": "qOHqcTp4eUyr",
    "outputId": "51df71e2-5144-4cdc-ed6d-5f9565f49ee6"
   },
   "outputs": [
    {
     "data": {
      "text/plain": [
       "(284767, 12)"
      ]
     },
     "execution_count": 470,
     "metadata": {
      "tags": []
     },
     "output_type": "execute_result"
    }
   ],
   "source": [
    "df.shape"
   ]
  },
  {
   "cell_type": "code",
   "execution_count": 471,
   "metadata": {
    "colab": {
     "base_uri": "https://localhost:8080/",
     "height": 202
    },
    "executionInfo": {
     "elapsed": 746,
     "status": "ok",
     "timestamp": 1606067422669,
     "user": {
      "displayName": "adrish bir",
      "photoUrl": "https://lh3.googleusercontent.com/a-/AOh14GjvnDCPOpuviVvO_227LaSth7sl8OIBxCSMqQmFO4c=s64",
      "userId": "15664726640138518444"
     },
     "user_tz": -330
    },
    "id": "D6WQHledFWkm",
    "outputId": "e4b68250-a5f1-4a82-bbbc-c7bab83c8cf7"
   },
   "outputs": [
    {
     "data": {
      "text/html": [
       "<div>\n",
       "<style scoped>\n",
       "    .dataframe tbody tr th:only-of-type {\n",
       "        vertical-align: middle;\n",
       "    }\n",
       "\n",
       "    .dataframe tbody tr th {\n",
       "        vertical-align: top;\n",
       "    }\n",
       "\n",
       "    .dataframe thead th {\n",
       "        text-align: right;\n",
       "    }\n",
       "</style>\n",
       "<table border=\"1\" class=\"dataframe\">\n",
       "  <thead>\n",
       "    <tr style=\"text-align: right;\">\n",
       "      <th></th>\n",
       "      <th>InvoiceNo</th>\n",
       "      <th>StockCode</th>\n",
       "      <th>Description</th>\n",
       "      <th>Quantity</th>\n",
       "      <th>CustomerID</th>\n",
       "      <th>Country</th>\n",
       "      <th>Year</th>\n",
       "      <th>Month</th>\n",
       "      <th>Day</th>\n",
       "      <th>Timelight</th>\n",
       "      <th>Weekday</th>\n",
       "    </tr>\n",
       "  </thead>\n",
       "  <tbody>\n",
       "    <tr>\n",
       "      <th>0</th>\n",
       "      <td>3139</td>\n",
       "      <td>1709</td>\n",
       "      <td>1079</td>\n",
       "      <td>3</td>\n",
       "      <td>16161.0</td>\n",
       "      <td>35</td>\n",
       "      <td>2011</td>\n",
       "      <td>A</td>\n",
       "      <td>week3</td>\n",
       "      <td>Noon</td>\n",
       "      <td>Tuesday</td>\n",
       "    </tr>\n",
       "    <tr>\n",
       "      <th>1</th>\n",
       "      <td>617</td>\n",
       "      <td>510</td>\n",
       "      <td>3457</td>\n",
       "      <td>1</td>\n",
       "      <td>17341.0</td>\n",
       "      <td>35</td>\n",
       "      <td>2010</td>\n",
       "      <td>C</td>\n",
       "      <td>week1</td>\n",
       "      <td>Noon</td>\n",
       "      <td>Wednesday</td>\n",
       "    </tr>\n",
       "    <tr>\n",
       "      <th>2</th>\n",
       "      <td>14653</td>\n",
       "      <td>604</td>\n",
       "      <td>694</td>\n",
       "      <td>36</td>\n",
       "      <td>15158.0</td>\n",
       "      <td>35</td>\n",
       "      <td>2011</td>\n",
       "      <td>C</td>\n",
       "      <td>week3</td>\n",
       "      <td>Noon</td>\n",
       "      <td>Tuesday</td>\n",
       "    </tr>\n",
       "    <tr>\n",
       "      <th>3</th>\n",
       "      <td>8634</td>\n",
       "      <td>1478</td>\n",
       "      <td>3473</td>\n",
       "      <td>2</td>\n",
       "      <td>16033.0</td>\n",
       "      <td>35</td>\n",
       "      <td>2011</td>\n",
       "      <td>B</td>\n",
       "      <td>week3</td>\n",
       "      <td>Noon</td>\n",
       "      <td>Monday</td>\n",
       "    </tr>\n",
       "    <tr>\n",
       "      <th>4</th>\n",
       "      <td>15546</td>\n",
       "      <td>3216</td>\n",
       "      <td>871</td>\n",
       "      <td>1</td>\n",
       "      <td>15351.0</td>\n",
       "      <td>35</td>\n",
       "      <td>2011</td>\n",
       "      <td>C</td>\n",
       "      <td>week1</td>\n",
       "      <td>Noon</td>\n",
       "      <td>Sunday</td>\n",
       "    </tr>\n",
       "  </tbody>\n",
       "</table>\n",
       "</div>"
      ],
      "text/plain": [
       "   InvoiceNo  StockCode  Description  ...    Day  Timelight    Weekday\n",
       "0       3139       1709         1079  ...  week3       Noon    Tuesday\n",
       "1        617        510         3457  ...  week1       Noon  Wednesday\n",
       "2      14653        604          694  ...  week3       Noon    Tuesday\n",
       "3       8634       1478         3473  ...  week3       Noon     Monday\n",
       "4      15546       3216          871  ...  week1       Noon     Sunday\n",
       "\n",
       "[5 rows x 11 columns]"
      ]
     },
     "execution_count": 471,
     "metadata": {
      "tags": []
     },
     "output_type": "execute_result"
    }
   ],
   "source": [
    "test_data.drop(['Unnamed: 0'],axis=1,inplace=True)\n",
    "test_data.head()"
   ]
  },
  {
   "cell_type": "code",
   "execution_count": 472,
   "metadata": {
    "colab": {
     "base_uri": "https://localhost:8080/",
     "height": 297
    },
    "executionInfo": {
     "elapsed": 1335,
     "status": "ok",
     "timestamp": 1606067424273,
     "user": {
      "displayName": "adrish bir",
      "photoUrl": "https://lh3.googleusercontent.com/a-/AOh14GjvnDCPOpuviVvO_227LaSth7sl8OIBxCSMqQmFO4c=s64",
      "userId": "15664726640138518444"
     },
     "user_tz": -330
    },
    "id": "etzq4VSsFg64",
    "outputId": "49ebfa08-65e3-47d4-9d20-dd07a525797a"
   },
   "outputs": [
    {
     "data": {
      "text/plain": [
       "<matplotlib.axes._subplots.AxesSubplot at 0x7feeadb8bbe0>"
      ]
     },
     "execution_count": 472,
     "metadata": {
      "tags": []
     },
     "output_type": "execute_result"
    },
    {
     "data": {
      "image/png": "[encoded data removed]",
      "text/plain": [
       "<Figure size 432x288 with 1 Axes>"
      ]
     },
     "metadata": {
      "needs_background": "light",
      "tags": []
     },
     "output_type": "display_data"
    }
   ],
   "source": [
    "sns.boxplot(x='UnitPrice',data=df)"
   ]
  },
  {
   "cell_type": "code",
   "execution_count": 473,
   "metadata": {
    "colab": {
     "base_uri": "https://localhost:8080/"
    },
    "executionInfo": {
     "elapsed": 749,
     "status": "ok",
     "timestamp": 1606067424951,
     "user": {
      "displayName": "adrish bir",
      "photoUrl": "https://lh3.googleusercontent.com/a-/AOh14GjvnDCPOpuviVvO_227LaSth7sl8OIBxCSMqQmFO4c=s64",
      "userId": "15664726640138518444"
     },
     "user_tz": -330
    },
    "id": "8UV0SOfzF0Lz",
    "outputId": "9d463f07-cfb4-46c1-d824-742f9f545e74"
   },
   "outputs": [
    {
     "data": {
      "text/plain": [
       "array([  54,   56,   75,   88,  107,  141,  155,  260,  274,  556,  558,\n",
       "        717,  825,  826, 1045, 1110, 1204, 1230, 2261, 2420, 2428, 2529,\n",
       "       2549, 2571, 2604, 2651, 2739, 2752, 2759, 2801, 2826, 2909, 2932,\n",
       "       2968, 2983, 3014, 3033, 3049, 3154, 3195, 3229, 3242, 3288, 3368,\n",
       "       3389, 3400, 3409, 3419, 3431, 3446, 3463, 3481, 3483, 3484, 3516,\n",
       "       3526, 3527, 3559, 3562, 3564, 3579, 3589, 3590, 3619, 3671])"
      ]
     },
     "execution_count": 473,
     "metadata": {
      "tags": []
     },
     "output_type": "execute_result"
    }
   ],
   "source": [
    "main_list = np.setdiff1d(test_data.StockCode,df.StockCode)\n",
    "main_list"
   ]
  },
  {
   "cell_type": "code",
   "execution_count": 474,
   "metadata": {
    "colab": {
     "base_uri": "https://localhost:8080/",
     "height": 49
    },
    "executionInfo": {
     "elapsed": 718,
     "status": "ok",
     "timestamp": 1606067425589,
     "user": {
      "displayName": "adrish bir",
      "photoUrl": "https://lh3.googleusercontent.com/a-/AOh14GjvnDCPOpuviVvO_227LaSth7sl8OIBxCSMqQmFO4c=s64",
      "userId": "15664726640138518444"
     },
     "user_tz": -330
    },
    "id": "jsGy3zCZgiw7",
    "outputId": "9ee4b378-a587-405b-982c-a66ba7e3bd5f"
   },
   "outputs": [
    {
     "data": {
      "text/html": [
       "<div>\n",
       "<style scoped>\n",
       "    .dataframe tbody tr th:only-of-type {\n",
       "        vertical-align: middle;\n",
       "    }\n",
       "\n",
       "    .dataframe tbody tr th {\n",
       "        vertical-align: top;\n",
       "    }\n",
       "\n",
       "    .dataframe thead th {\n",
       "        text-align: right;\n",
       "    }\n",
       "</style>\n",
       "<table border=\"1\" class=\"dataframe\">\n",
       "  <thead>\n",
       "    <tr style=\"text-align: right;\">\n",
       "      <th></th>\n",
       "      <th>InvoiceNo</th>\n",
       "      <th>StockCode</th>\n",
       "      <th>Description</th>\n",
       "      <th>Quantity</th>\n",
       "      <th>UnitPrice</th>\n",
       "      <th>CustomerID</th>\n",
       "      <th>Country</th>\n",
       "      <th>Year</th>\n",
       "      <th>Month</th>\n",
       "      <th>Day</th>\n",
       "      <th>Timelight</th>\n",
       "      <th>Weekday</th>\n",
       "    </tr>\n",
       "  </thead>\n",
       "  <tbody>\n",
       "  </tbody>\n",
       "</table>\n",
       "</div>"
      ],
      "text/plain": [
       "Empty DataFrame\n",
       "Columns: [InvoiceNo, StockCode, Description, Quantity, UnitPrice, CustomerID, Country, Year, Month, Day, Timelight, Weekday]\n",
       "Index: []"
      ]
     },
     "execution_count": 474,
     "metadata": {
      "tags": []
     },
     "output_type": "execute_result"
    }
   ],
   "source": [
    "df[df.StockCode==3559]"
   ]
  },
  {
   "cell_type": "code",
   "execution_count": 475,
   "metadata": {
    "colab": {
     "base_uri": "https://localhost:8080/",
     "height": 415
    },
    "executionInfo": {
     "elapsed": 718,
     "status": "ok",
     "timestamp": 1606067426182,
     "user": {
      "displayName": "adrish bir",
      "photoUrl": "https://lh3.googleusercontent.com/a-/AOh14GjvnDCPOpuviVvO_227LaSth7sl8OIBxCSMqQmFO4c=s64",
      "userId": "15664726640138518444"
     },
     "user_tz": -330
    },
    "id": "3WP5DkVlhgQx",
    "outputId": "a58969fa-5980-469c-de07-3d87eec8d1d2"
   },
   "outputs": [
    {
     "data": {
      "text/html": [
       "<div>\n",
       "<style scoped>\n",
       "    .dataframe tbody tr th:only-of-type {\n",
       "        vertical-align: middle;\n",
       "    }\n",
       "\n",
       "    .dataframe tbody tr th {\n",
       "        vertical-align: top;\n",
       "    }\n",
       "\n",
       "    .dataframe thead th {\n",
       "        text-align: right;\n",
       "    }\n",
       "</style>\n",
       "<table border=\"1\" class=\"dataframe\">\n",
       "  <thead>\n",
       "    <tr style=\"text-align: right;\">\n",
       "      <th></th>\n",
       "      <th>InvoiceNo</th>\n",
       "      <th>StockCode</th>\n",
       "      <th>Description</th>\n",
       "      <th>Quantity</th>\n",
       "      <th>CustomerID</th>\n",
       "      <th>Country</th>\n",
       "      <th>Year</th>\n",
       "      <th>Month</th>\n",
       "      <th>Day</th>\n",
       "      <th>Timelight</th>\n",
       "      <th>Weekday</th>\n",
       "    </tr>\n",
       "  </thead>\n",
       "  <tbody>\n",
       "    <tr>\n",
       "      <th>1565</th>\n",
       "      <td>17251</td>\n",
       "      <td>3516</td>\n",
       "      <td>3738</td>\n",
       "      <td>1</td>\n",
       "      <td>17364.0</td>\n",
       "      <td>35</td>\n",
       "      <td>2011</td>\n",
       "      <td>C</td>\n",
       "      <td>week3</td>\n",
       "      <td>Noon</td>\n",
       "      <td>Thursday</td>\n",
       "    </tr>\n",
       "    <tr>\n",
       "      <th>3056</th>\n",
       "      <td>1998</td>\n",
       "      <td>825</td>\n",
       "      <td>1403</td>\n",
       "      <td>2</td>\n",
       "      <td>15498.0</td>\n",
       "      <td>35</td>\n",
       "      <td>2011</td>\n",
       "      <td>A</td>\n",
       "      <td>week2</td>\n",
       "      <td>Noon</td>\n",
       "      <td>Thursday</td>\n",
       "    </tr>\n",
       "    <tr>\n",
       "      <th>5492</th>\n",
       "      <td>926</td>\n",
       "      <td>3463</td>\n",
       "      <td>2574</td>\n",
       "      <td>2</td>\n",
       "      <td>17231.0</td>\n",
       "      <td>35</td>\n",
       "      <td>2010</td>\n",
       "      <td>C</td>\n",
       "      <td>week2</td>\n",
       "      <td>Noon</td>\n",
       "      <td>Monday</td>\n",
       "    </tr>\n",
       "    <tr>\n",
       "      <th>7567</th>\n",
       "      <td>307</td>\n",
       "      <td>2932</td>\n",
       "      <td>2434</td>\n",
       "      <td>2</td>\n",
       "      <td>12725.0</td>\n",
       "      <td>18</td>\n",
       "      <td>2010</td>\n",
       "      <td>C</td>\n",
       "      <td>week1</td>\n",
       "      <td>Noon</td>\n",
       "      <td>Friday</td>\n",
       "    </tr>\n",
       "    <tr>\n",
       "      <th>8592</th>\n",
       "      <td>19709</td>\n",
       "      <td>3049</td>\n",
       "      <td>3296</td>\n",
       "      <td>1</td>\n",
       "      <td>15299.0</td>\n",
       "      <td>35</td>\n",
       "      <td>2011</td>\n",
       "      <td>A</td>\n",
       "      <td>week2</td>\n",
       "      <td>Morning</td>\n",
       "      <td>Thursday</td>\n",
       "    </tr>\n",
       "    <tr>\n",
       "      <th>...</th>\n",
       "      <td>...</td>\n",
       "      <td>...</td>\n",
       "      <td>...</td>\n",
       "      <td>...</td>\n",
       "      <td>...</td>\n",
       "      <td>...</td>\n",
       "      <td>...</td>\n",
       "      <td>...</td>\n",
       "      <td>...</td>\n",
       "      <td>...</td>\n",
       "      <td>...</td>\n",
       "    </tr>\n",
       "    <tr>\n",
       "      <th>113691</th>\n",
       "      <td>2822</td>\n",
       "      <td>717</td>\n",
       "      <td>1389</td>\n",
       "      <td>1</td>\n",
       "      <td>14715.0</td>\n",
       "      <td>35</td>\n",
       "      <td>2011</td>\n",
       "      <td>A</td>\n",
       "      <td>week2</td>\n",
       "      <td>Noon</td>\n",
       "      <td>Monday</td>\n",
       "    </tr>\n",
       "    <tr>\n",
       "      <th>114179</th>\n",
       "      <td>1270</td>\n",
       "      <td>3579</td>\n",
       "      <td>1059</td>\n",
       "      <td>1</td>\n",
       "      <td>12748.0</td>\n",
       "      <td>35</td>\n",
       "      <td>2010</td>\n",
       "      <td>C</td>\n",
       "      <td>week2</td>\n",
       "      <td>Noon</td>\n",
       "      <td>Friday</td>\n",
       "    </tr>\n",
       "    <tr>\n",
       "      <th>114233</th>\n",
       "      <td>16360</td>\n",
       "      <td>2261</td>\n",
       "      <td>3074</td>\n",
       "      <td>12</td>\n",
       "      <td>16156.0</td>\n",
       "      <td>35</td>\n",
       "      <td>2011</td>\n",
       "      <td>C</td>\n",
       "      <td>week2</td>\n",
       "      <td>Noon</td>\n",
       "      <td>Tuesday</td>\n",
       "    </tr>\n",
       "    <tr>\n",
       "      <th>114292</th>\n",
       "      <td>4494</td>\n",
       "      <td>3154</td>\n",
       "      <td>1162</td>\n",
       "      <td>3</td>\n",
       "      <td>15033.0</td>\n",
       "      <td>35</td>\n",
       "      <td>2011</td>\n",
       "      <td>A</td>\n",
       "      <td>week3</td>\n",
       "      <td>Noon</td>\n",
       "      <td>Monday</td>\n",
       "    </tr>\n",
       "    <tr>\n",
       "      <th>117349</th>\n",
       "      <td>17996</td>\n",
       "      <td>107</td>\n",
       "      <td>2873</td>\n",
       "      <td>2</td>\n",
       "      <td>16438.0</td>\n",
       "      <td>35</td>\n",
       "      <td>2011</td>\n",
       "      <td>C</td>\n",
       "      <td>week1</td>\n",
       "      <td>Morning</td>\n",
       "      <td>Sunday</td>\n",
       "    </tr>\n",
       "  </tbody>\n",
       "</table>\n",
       "<p>91 rows × 11 columns</p>\n",
       "</div>"
      ],
      "text/plain": [
       "        InvoiceNo  StockCode  Description  ...    Day  Timelight   Weekday\n",
       "1565        17251       3516         3738  ...  week3       Noon  Thursday\n",
       "3056         1998        825         1403  ...  week2       Noon  Thursday\n",
       "5492          926       3463         2574  ...  week2       Noon    Monday\n",
       "7567          307       2932         2434  ...  week1       Noon    Friday\n",
       "8592        19709       3049         3296  ...  week2    Morning  Thursday\n",
       "...           ...        ...          ...  ...    ...        ...       ...\n",
       "113691       2822        717         1389  ...  week2       Noon    Monday\n",
       "114179       1270       3579         1059  ...  week2       Noon    Friday\n",
       "114233      16360       2261         3074  ...  week2       Noon   Tuesday\n",
       "114292       4494       3154         1162  ...  week3       Noon    Monday\n",
       "117349      17996        107         2873  ...  week1    Morning    Sunday\n",
       "\n",
       "[91 rows x 11 columns]"
      ]
     },
     "execution_count": 475,
     "metadata": {
      "tags": []
     },
     "output_type": "execute_result"
    }
   ],
   "source": [
    " test_uni = test_data[test_data['StockCode'].isin(main_list)]\n",
    " test_uni"
   ]
  },
  {
   "cell_type": "code",
   "execution_count": 476,
   "metadata": {
    "colab": {
     "base_uri": "https://localhost:8080/"
    },
    "executionInfo": {
     "elapsed": 982,
     "status": "ok",
     "timestamp": 1606067429704,
     "user": {
      "displayName": "adrish bir",
      "photoUrl": "https://lh3.googleusercontent.com/a-/AOh14GjvnDCPOpuviVvO_227LaSth7sl8OIBxCSMqQmFO4c=s64",
      "userId": "15664726640138518444"
     },
     "user_tz": -330
    },
    "id": "Y2rCCuSbiCYG",
    "outputId": "81008de7-eb62-4e5c-d638-907e70012f7a"
   },
   "outputs": [
    {
     "name": "stdout",
     "output_type": "stream",
     "text": [
      "(91, 11)\n",
      "(122049, 11)\n"
     ]
    }
   ],
   "source": [
    "print(test_uni.shape)\n",
    "print(test_data.shape)"
   ]
  },
  {
   "cell_type": "code",
   "execution_count": 477,
   "metadata": {
    "colab": {
     "base_uri": "https://localhost:8080/"
    },
    "executionInfo": {
     "elapsed": 1084,
     "status": "ok",
     "timestamp": 1606067432558,
     "user": {
      "displayName": "adrish bir",
      "photoUrl": "https://lh3.googleusercontent.com/a-/AOh14GjvnDCPOpuviVvO_227LaSth7sl8OIBxCSMqQmFO4c=s64",
      "userId": "15664726640138518444"
     },
     "user_tz": -330
    },
    "id": "7oTjk3EAkWx5",
    "outputId": "e243c983-5d34-44dc-a5c8-dfa0375c36ac"
   },
   "outputs": [
    {
     "data": {
      "text/plain": [
       "(121958, 11)"
      ]
     },
     "execution_count": 477,
     "metadata": {
      "tags": []
     },
     "output_type": "execute_result"
    }
   ],
   "source": [
    "test_com = test_data.drop(test_uni.index) \n",
    "test_com.shape"
   ]
  },
  {
   "cell_type": "code",
   "execution_count": 478,
   "metadata": {
    "colab": {
     "base_uri": "https://localhost:8080/"
    },
    "executionInfo": {
     "elapsed": 1117,
     "status": "ok",
     "timestamp": 1606067448541,
     "user": {
      "displayName": "adrish bir",
      "photoUrl": "https://lh3.googleusercontent.com/a-/AOh14GjvnDCPOpuviVvO_227LaSth7sl8OIBxCSMqQmFO4c=s64",
      "userId": "15664726640138518444"
     },
     "user_tz": -330
    },
    "id": "-lSywBJCkbZm",
    "outputId": "ec80b302-9947-480c-ced5-fe1b70f6195d"
   },
   "outputs": [
    {
     "data": {
      "text/plain": [
       "array([], dtype=int64)"
      ]
     },
     "execution_count": 478,
     "metadata": {
      "tags": []
     },
     "output_type": "execute_result"
    }
   ],
   "source": [
    "np.setdiff1d(test_com.StockCode,df.StockCode)"
   ]
  },
  {
   "cell_type": "code",
   "execution_count": 479,
   "metadata": {
    "colab": {
     "base_uri": "https://localhost:8080/"
    },
    "executionInfo": {
     "elapsed": 1057,
     "status": "ok",
     "timestamp": 1606067448988,
     "user": {
      "displayName": "adrish bir",
      "photoUrl": "https://lh3.googleusercontent.com/a-/AOh14GjvnDCPOpuviVvO_227LaSth7sl8OIBxCSMqQmFO4c=s64",
      "userId": "15664726640138518444"
     },
     "user_tz": -330
    },
    "id": "HzNbMr5hloj3",
    "outputId": "455d83cf-93c5-49fc-c5de-cf4af760d797"
   },
   "outputs": [
    {
     "data": {
      "text/plain": [
       "1.25    29\n",
       "0.83     8\n",
       "2.46     1\n",
       "Name: UnitPrice, dtype: int64"
      ]
     },
     "execution_count": 479,
     "metadata": {
      "tags": []
     },
     "output_type": "execute_result"
    }
   ],
   "source": [
    "df[df.StockCode==510].UnitPrice.value_counts()"
   ]
  },
  {
   "cell_type": "code",
   "execution_count": 480,
   "metadata": {
    "colab": {
     "base_uri": "https://localhost:8080/"
    },
    "executionInfo": {
     "elapsed": 682,
     "status": "ok",
     "timestamp": 1606067449364,
     "user": {
      "displayName": "adrish bir",
      "photoUrl": "https://lh3.googleusercontent.com/a-/AOh14GjvnDCPOpuviVvO_227LaSth7sl8OIBxCSMqQmFO4c=s64",
      "userId": "15664726640138518444"
     },
     "user_tz": -330
    },
    "id": "MDH3xweemEmf",
    "outputId": "eca584e6-1768-4b73-c5c6-afc4a92d4f24"
   },
   "outputs": [
    {
     "data": {
      "text/plain": [
       "1.25"
      ]
     },
     "execution_count": 480,
     "metadata": {
      "tags": []
     },
     "output_type": "execute_result"
    }
   ],
   "source": [
    "df[df.StockCode==510].UnitPrice.mode()[0]"
   ]
  },
  {
   "cell_type": "code",
   "execution_count": 481,
   "metadata": {
    "colab": {
     "base_uri": "https://localhost:8080/"
    },
    "executionInfo": {
     "elapsed": 1023,
     "status": "ok",
     "timestamp": 1606067450487,
     "user": {
      "displayName": "adrish bir",
      "photoUrl": "https://lh3.googleusercontent.com/a-/AOh14GjvnDCPOpuviVvO_227LaSth7sl8OIBxCSMqQmFO4c=s64",
      "userId": "15664726640138518444"
     },
     "user_tz": -330
    },
    "id": "65_FQmvmmQAK",
    "outputId": "4a6682f2-606a-4697-b1a6-7a5973b8ca4a"
   },
   "outputs": [
    {
     "data": {
      "text/plain": [
       "1.0744655954424385"
      ]
     },
     "execution_count": 481,
     "metadata": {
      "tags": []
     },
     "output_type": "execute_result"
    }
   ],
   "source": [
    "np.sqrt(((((1.25 - 1.25)**2)*29) + (((0.83 - 1.25)**2)*8) + (((2.46 - 1.25)**2)*29) )/38)"
   ]
  },
  {
   "cell_type": "code",
   "execution_count": 482,
   "metadata": {
    "executionInfo": {
     "elapsed": 746,
     "status": "ok",
     "timestamp": 1606067451073,
     "user": {
      "displayName": "adrish bir",
      "photoUrl": "https://lh3.googleusercontent.com/a-/AOh14GjvnDCPOpuviVvO_227LaSth7sl8OIBxCSMqQmFO4c=s64",
      "userId": "15664726640138518444"
     },
     "user_tz": -330
    },
    "id": "J5cHu_Yimfz9"
   },
   "outputs": [],
   "source": [
    "def price(data):\n",
    "  for i in range(0,len(data)):\n",
    "    a = data.loc[i,'StockCode']\n",
    "    b = data[data.StockCode==a].UnitPrice.mode()[0]\n",
    "    data.loc[i,'ModePrice'] = b"
   ]
  },
  {
   "cell_type": "code",
   "execution_count": 45,
   "metadata": {
    "colab": {
     "base_uri": "https://localhost:8080/",
     "height": 202
    },
    "executionInfo": {
     "elapsed": 1001457,
     "status": "ok",
     "timestamp": 1606027742231,
     "user": {
      "displayName": "adrish bir",
      "photoUrl": "https://lh3.googleusercontent.com/a-/AOh14GjvnDCPOpuviVvO_227LaSth7sl8OIBxCSMqQmFO4c=s64",
      "userId": "15664726640138518444"
     },
     "user_tz": -330
    },
    "id": "CvDBe7REpwGu",
    "outputId": "b12da914-0ab2-4635-f700-8d94f64a8626"
   },
   "outputs": [
    {
     "data": {
      "text/html": [
       "<div>\n",
       "<style scoped>\n",
       "    .dataframe tbody tr th:only-of-type {\n",
       "        vertical-align: middle;\n",
       "    }\n",
       "\n",
       "    .dataframe tbody tr th {\n",
       "        vertical-align: top;\n",
       "    }\n",
       "\n",
       "    .dataframe thead th {\n",
       "        text-align: right;\n",
       "    }\n",
       "</style>\n",
       "<table border=\"1\" class=\"dataframe\">\n",
       "  <thead>\n",
       "    <tr style=\"text-align: right;\">\n",
       "      <th></th>\n",
       "      <th>InvoiceNo</th>\n",
       "      <th>StockCode</th>\n",
       "      <th>Description</th>\n",
       "      <th>Quantity</th>\n",
       "      <th>UnitPrice</th>\n",
       "      <th>CustomerID</th>\n",
       "      <th>Country</th>\n",
       "      <th>Year</th>\n",
       "      <th>Month</th>\n",
       "      <th>Day</th>\n",
       "      <th>Timelight</th>\n",
       "      <th>Weekday</th>\n",
       "      <th>ModePrice</th>\n",
       "    </tr>\n",
       "  </thead>\n",
       "  <tbody>\n",
       "    <tr>\n",
       "      <th>0</th>\n",
       "      <td>6141</td>\n",
       "      <td>1583</td>\n",
       "      <td>144</td>\n",
       "      <td>3</td>\n",
       "      <td>3.75</td>\n",
       "      <td>14056.0</td>\n",
       "      <td>35</td>\n",
       "      <td>2011</td>\n",
       "      <td>B</td>\n",
       "      <td>week1</td>\n",
       "      <td>Noon</td>\n",
       "      <td>Friday</td>\n",
       "      <td>3.75</td>\n",
       "    </tr>\n",
       "    <tr>\n",
       "      <th>1</th>\n",
       "      <td>6349</td>\n",
       "      <td>1300</td>\n",
       "      <td>3682</td>\n",
       "      <td>6</td>\n",
       "      <td>1.95</td>\n",
       "      <td>13098.0</td>\n",
       "      <td>35</td>\n",
       "      <td>2011</td>\n",
       "      <td>B</td>\n",
       "      <td>week2</td>\n",
       "      <td>Morning</td>\n",
       "      <td>Wednesday</td>\n",
       "      <td>1.95</td>\n",
       "    </tr>\n",
       "    <tr>\n",
       "      <th>2</th>\n",
       "      <td>16783</td>\n",
       "      <td>2178</td>\n",
       "      <td>1939</td>\n",
       "      <td>4</td>\n",
       "      <td>5.95</td>\n",
       "      <td>15044.0</td>\n",
       "      <td>35</td>\n",
       "      <td>2011</td>\n",
       "      <td>C</td>\n",
       "      <td>week2</td>\n",
       "      <td>Noon</td>\n",
       "      <td>Sunday</td>\n",
       "      <td>5.95</td>\n",
       "    </tr>\n",
       "    <tr>\n",
       "      <th>3</th>\n",
       "      <td>16971</td>\n",
       "      <td>2115</td>\n",
       "      <td>2983</td>\n",
       "      <td>1</td>\n",
       "      <td>0.83</td>\n",
       "      <td>15525.0</td>\n",
       "      <td>35</td>\n",
       "      <td>2011</td>\n",
       "      <td>C</td>\n",
       "      <td>week3</td>\n",
       "      <td>Noon</td>\n",
       "      <td>Tuesday</td>\n",
       "      <td>0.83</td>\n",
       "    </tr>\n",
       "    <tr>\n",
       "      <th>4</th>\n",
       "      <td>6080</td>\n",
       "      <td>1210</td>\n",
       "      <td>2886</td>\n",
       "      <td>12</td>\n",
       "      <td>1.65</td>\n",
       "      <td>13952.0</td>\n",
       "      <td>35</td>\n",
       "      <td>2011</td>\n",
       "      <td>B</td>\n",
       "      <td>week1</td>\n",
       "      <td>Morning</td>\n",
       "      <td>Friday</td>\n",
       "      <td>1.65</td>\n",
       "    </tr>\n",
       "  </tbody>\n",
       "</table>\n",
       "</div>"
      ],
      "text/plain": [
       "   InvoiceNo  StockCode  Description  ...  Timelight    Weekday  ModePrice\n",
       "0       6141       1583          144  ...       Noon     Friday       3.75\n",
       "1       6349       1300         3682  ...    Morning  Wednesday       1.95\n",
       "2      16783       2178         1939  ...       Noon     Sunday       5.95\n",
       "3      16971       2115         2983  ...       Noon    Tuesday       0.83\n",
       "4       6080       1210         2886  ...    Morning     Friday       1.65\n",
       "\n",
       "[5 rows x 13 columns]"
      ]
     },
     "execution_count": 45,
     "metadata": {
      "tags": []
     },
     "output_type": "execute_result"
    }
   ],
   "source": [
    "price(df)\n",
    "df.head()"
   ]
  },
  {
   "cell_type": "code",
   "execution_count": 46,
   "metadata": {
    "executionInfo": {
     "elapsed": 2790,
     "status": "ok",
     "timestamp": 1606028444673,
     "user": {
      "displayName": "adrish bir",
      "photoUrl": "https://lh3.googleusercontent.com/a-/AOh14GjvnDCPOpuviVvO_227LaSth7sl8OIBxCSMqQmFO4c=s64",
      "userId": "15664726640138518444"
     },
     "user_tz": -330
    },
    "id": "J36LEE3hrxhP"
   },
   "outputs": [],
   "source": [
    "df.to_csv(Data_dir+\"ModePrice_data.csv\",index=False)"
   ]
  },
  {
   "cell_type": "code",
   "execution_count": 483,
   "metadata": {
    "executionInfo": {
     "elapsed": 1554,
     "status": "ok",
     "timestamp": 1606067459706,
     "user": {
      "displayName": "adrish bir",
      "photoUrl": "https://lh3.googleusercontent.com/a-/AOh14GjvnDCPOpuviVvO_227LaSth7sl8OIBxCSMqQmFO4c=s64",
      "userId": "15664726640138518444"
     },
     "user_tz": -330
    },
    "id": "UIH4SIyhPn-V"
   },
   "outputs": [],
   "source": [
    "df = pd.read_csv(Data_dir+ 'ModePrice_data.csv')"
   ]
  },
  {
   "cell_type": "code",
   "execution_count": 484,
   "metadata": {
    "colab": {
     "base_uri": "https://localhost:8080/"
    },
    "executionInfo": {
     "elapsed": 677,
     "status": "ok",
     "timestamp": 1606067459707,
     "user": {
      "displayName": "adrish bir",
      "photoUrl": "https://lh3.googleusercontent.com/a-/AOh14GjvnDCPOpuviVvO_227LaSth7sl8OIBxCSMqQmFO4c=s64",
      "userId": "15664726640138518444"
     },
     "user_tz": -330
    },
    "id": "bLOhLWDSp0JL",
    "outputId": "6b84e185-a520-4d67-87dd-25097b963df9"
   },
   "outputs": [
    {
     "data": {
      "text/plain": [
       "78.30221694495715"
      ]
     },
     "execution_count": 484,
     "metadata": {
      "tags": []
     },
     "output_type": "execute_result"
    }
   ],
   "source": [
    "from sklearn.metrics import mean_squared_error\n",
    "\n",
    "np.sqrt(mean_squared_error(df.UnitPrice,df.ModePrice))"
   ]
  },
  {
   "cell_type": "code",
   "execution_count": 485,
   "metadata": {
    "colab": {
     "base_uri": "https://localhost:8080/",
     "height": 283
    },
    "executionInfo": {
     "elapsed": 1905,
     "status": "ok",
     "timestamp": 1606067462272,
     "user": {
      "displayName": "adrish bir",
      "photoUrl": "https://lh3.googleusercontent.com/a-/AOh14GjvnDCPOpuviVvO_227LaSth7sl8OIBxCSMqQmFO4c=s64",
      "userId": "15664726640138518444"
     },
     "user_tz": -330
    },
    "id": "LPrpqEjZw7vT",
    "outputId": "d0f489da-356a-4114-fc50-f260740a0e35"
   },
   "outputs": [
    {
     "data": {
      "text/plain": [
       "<matplotlib.axes._subplots.AxesSubplot at 0x7feeae2e0cf8>"
      ]
     },
     "execution_count": 485,
     "metadata": {
      "tags": []
     },
     "output_type": "execute_result"
    },
    {
     "data": {
      "image/png": "[encoded data removed]",
      "text/plain": [
       "<Figure size 432x288 with 1 Axes>"
      ]
     },
     "metadata": {
      "needs_background": "light",
      "tags": []
     },
     "output_type": "display_data"
    }
   ],
   "source": [
    "df['PriceDiff'] = df['ModePrice']-df['UnitPrice']\n",
    "df['PriceDiff'].hist()"
   ]
  },
  {
   "cell_type": "code",
   "execution_count": 486,
   "metadata": {
    "colab": {
     "base_uri": "https://localhost:8080/"
    },
    "executionInfo": {
     "elapsed": 966,
     "status": "ok",
     "timestamp": 1606067462273,
     "user": {
      "displayName": "adrish bir",
      "photoUrl": "https://lh3.googleusercontent.com/a-/AOh14GjvnDCPOpuviVvO_227LaSth7sl8OIBxCSMqQmFO4c=s64",
      "userId": "15664726640138518444"
     },
     "user_tz": -330
    },
    "id": "9v_GGiOgh4PW",
    "outputId": "96363212-9bde-4bc1-d365-7e1af32e4d7b"
   },
   "outputs": [
    {
     "data": {
      "text/plain": [
       "0"
      ]
     },
     "execution_count": 486,
     "metadata": {
      "tags": []
     },
     "output_type": "execute_result"
    }
   ],
   "source": [
    "df.ModePrice.isnull().sum()"
   ]
  },
  {
   "cell_type": "code",
   "execution_count": 487,
   "metadata": {
    "colab": {
     "base_uri": "https://localhost:8080/",
     "height": 297
    },
    "executionInfo": {
     "elapsed": 1122,
     "status": "ok",
     "timestamp": 1606067466567,
     "user": {
      "displayName": "adrish bir",
      "photoUrl": "https://lh3.googleusercontent.com/a-/AOh14GjvnDCPOpuviVvO_227LaSth7sl8OIBxCSMqQmFO4c=s64",
      "userId": "15664726640138518444"
     },
     "user_tz": -330
    },
    "id": "ChkZM4rfQXRN",
    "outputId": "eed52e1b-157e-44e0-828e-7d27392d2985"
   },
   "outputs": [
    {
     "data": {
      "text/plain": [
       "<matplotlib.axes._subplots.AxesSubplot at 0x7feeae2e09b0>"
      ]
     },
     "execution_count": 487,
     "metadata": {
      "tags": []
     },
     "output_type": "execute_result"
    },
    {
     "data": {
      "image/png": "[encoded data removed]",
      "text/plain": [
       "<Figure size 432x288 with 1 Axes>"
      ]
     },
     "metadata": {
      "needs_background": "light",
      "tags": []
     },
     "output_type": "display_data"
    }
   ],
   "source": [
    "sns.boxplot(x='PriceDiff',data=df)"
   ]
  },
  {
   "cell_type": "code",
   "execution_count": 488,
   "metadata": {
    "colab": {
     "base_uri": "https://localhost:8080/"
    },
    "executionInfo": {
     "elapsed": 975,
     "status": "ok",
     "timestamp": 1606067470556,
     "user": {
      "displayName": "adrish bir",
      "photoUrl": "https://lh3.googleusercontent.com/a-/AOh14GjvnDCPOpuviVvO_227LaSth7sl8OIBxCSMqQmFO4c=s64",
      "userId": "15664726640138518444"
     },
     "user_tz": -330
    },
    "id": "Rp894ULwQigO",
    "outputId": "89ffe749-1277-467e-9b4a-767e43e6888e"
   },
   "outputs": [
    {
     "data": {
      "text/plain": [
       "count    284780.000000\n",
       "mean         -0.496006\n",
       "std          78.300783\n",
       "min      -38969.150000\n",
       "25%           0.000000\n",
       "50%           0.000000\n",
       "75%           0.000000\n",
       "max          80.000000\n",
       "Name: PriceDiff, dtype: float64"
      ]
     },
     "execution_count": 488,
     "metadata": {
      "tags": []
     },
     "output_type": "execute_result"
    }
   ],
   "source": [
    "df.PriceDiff.describe()"
   ]
  },
  {
   "cell_type": "code",
   "execution_count": 489,
   "metadata": {
    "executionInfo": {
     "elapsed": 1351,
     "status": "ok",
     "timestamp": 1606067494035,
     "user": {
      "displayName": "adrish bir",
      "photoUrl": "https://lh3.googleusercontent.com/a-/AOh14GjvnDCPOpuviVvO_227LaSth7sl8OIBxCSMqQmFO4c=s64",
      "userId": "15664726640138518444"
     },
     "user_tz": -330
    },
    "id": "H3dc2hdyTMzr"
   },
   "outputs": [],
   "source": [
    "df_exc_list = list(set(df[df.PriceDiff<-100].StockCode))"
   ]
  },
  {
   "cell_type": "code",
   "execution_count": 490,
   "metadata": {
    "colab": {
     "base_uri": "https://localhost:8080/",
     "height": 171
    },
    "executionInfo": {
     "elapsed": 1061,
     "status": "ok",
     "timestamp": 1606067494038,
     "user": {
      "displayName": "adrish bir",
      "photoUrl": "https://lh3.googleusercontent.com/a-/AOh14GjvnDCPOpuviVvO_227LaSth7sl8OIBxCSMqQmFO4c=s64",
      "userId": "15664726640138518444"
     },
     "user_tz": -330
    },
    "id": "MHrzdMykUYAG",
    "outputId": "e1795f84-a206-4d63-efa8-0f648053c1b5"
   },
   "outputs": [
    {
     "data": {
      "text/html": [
       "<div>\n",
       "<style scoped>\n",
       "    .dataframe tbody tr th:only-of-type {\n",
       "        vertical-align: middle;\n",
       "    }\n",
       "\n",
       "    .dataframe tbody tr th {\n",
       "        vertical-align: top;\n",
       "    }\n",
       "\n",
       "    .dataframe thead th {\n",
       "        text-align: right;\n",
       "    }\n",
       "</style>\n",
       "<table border=\"1\" class=\"dataframe\">\n",
       "  <thead>\n",
       "    <tr style=\"text-align: right;\">\n",
       "      <th></th>\n",
       "      <th>InvoiceNo</th>\n",
       "      <th>StockCode</th>\n",
       "      <th>Description</th>\n",
       "      <th>Quantity</th>\n",
       "      <th>UnitPrice</th>\n",
       "      <th>CustomerID</th>\n",
       "      <th>Country</th>\n",
       "      <th>Year</th>\n",
       "      <th>Month</th>\n",
       "      <th>Day</th>\n",
       "      <th>Timelight</th>\n",
       "      <th>Weekday</th>\n",
       "      <th>ModePrice</th>\n",
       "      <th>PriceDiff</th>\n",
       "    </tr>\n",
       "  </thead>\n",
       "  <tbody>\n",
       "    <tr>\n",
       "      <th>36993</th>\n",
       "      <td>5350</td>\n",
       "      <td>3682</td>\n",
       "      <td>2285</td>\n",
       "      <td>1</td>\n",
       "      <td>0.00100</td>\n",
       "      <td>13952.0</td>\n",
       "      <td>35</td>\n",
       "      <td>2011</td>\n",
       "      <td>A</td>\n",
       "      <td>week2</td>\n",
       "      <td>Morning</td>\n",
       "      <td>Friday</td>\n",
       "      <td>0.001</td>\n",
       "      <td>0.00000</td>\n",
       "    </tr>\n",
       "    <tr>\n",
       "      <th>71706</th>\n",
       "      <td>9869</td>\n",
       "      <td>3682</td>\n",
       "      <td>2285</td>\n",
       "      <td>1</td>\n",
       "      <td>0.00100</td>\n",
       "      <td>15618.0</td>\n",
       "      <td>35</td>\n",
       "      <td>2011</td>\n",
       "      <td>B</td>\n",
       "      <td>week3</td>\n",
       "      <td>Morning</td>\n",
       "      <td>Tuesday</td>\n",
       "      <td>0.001</td>\n",
       "      <td>0.00000</td>\n",
       "    </tr>\n",
       "    <tr>\n",
       "      <th>163862</th>\n",
       "      <td>12763</td>\n",
       "      <td>3682</td>\n",
       "      <td>2285</td>\n",
       "      <td>1</td>\n",
       "      <td>0.00100</td>\n",
       "      <td>16198.0</td>\n",
       "      <td>35</td>\n",
       "      <td>2011</td>\n",
       "      <td>C</td>\n",
       "      <td>week3</td>\n",
       "      <td>Noon</td>\n",
       "      <td>Sunday</td>\n",
       "      <td>0.001</td>\n",
       "      <td>0.00000</td>\n",
       "    </tr>\n",
       "    <tr>\n",
       "      <th>194547</th>\n",
       "      <td>12722</td>\n",
       "      <td>3682</td>\n",
       "      <td>2285</td>\n",
       "      <td>1</td>\n",
       "      <td>0.00075</td>\n",
       "      <td>16133.0</td>\n",
       "      <td>35</td>\n",
       "      <td>2011</td>\n",
       "      <td>C</td>\n",
       "      <td>week3</td>\n",
       "      <td>Noon</td>\n",
       "      <td>Sunday</td>\n",
       "      <td>0.001</td>\n",
       "      <td>0.00025</td>\n",
       "    </tr>\n",
       "  </tbody>\n",
       "</table>\n",
       "</div>"
      ],
      "text/plain": [
       "        InvoiceNo  StockCode  Description  ...  Weekday  ModePrice  PriceDiff\n",
       "36993        5350       3682         2285  ...   Friday      0.001    0.00000\n",
       "71706        9869       3682         2285  ...  Tuesday      0.001    0.00000\n",
       "163862      12763       3682         2285  ...   Sunday      0.001    0.00000\n",
       "194547      12722       3682         2285  ...   Sunday      0.001    0.00025\n",
       "\n",
       "[4 rows x 14 columns]"
      ]
     },
     "execution_count": 490,
     "metadata": {
      "tags": []
     },
     "output_type": "execute_result"
    }
   ],
   "source": [
    "df[df.StockCode == 3682]"
   ]
  },
  {
   "cell_type": "code",
   "execution_count": 491,
   "metadata": {
    "colab": {
     "base_uri": "https://localhost:8080/"
    },
    "executionInfo": {
     "elapsed": 733,
     "status": "ok",
     "timestamp": 1606067496088,
     "user": {
      "displayName": "adrish bir",
      "photoUrl": "https://lh3.googleusercontent.com/a-/AOh14GjvnDCPOpuviVvO_227LaSth7sl8OIBxCSMqQmFO4c=s64",
      "userId": "15664726640138518444"
     },
     "user_tz": -330
    },
    "id": "OCVTbuL_WYIA",
    "outputId": "40a52243-6e09-4e48-d516-5039bd6b8e1d"
   },
   "outputs": [
    {
     "data": {
      "text/plain": [
       "(284780, 14)"
      ]
     },
     "execution_count": 491,
     "metadata": {
      "tags": []
     },
     "output_type": "execute_result"
    }
   ],
   "source": [
    "df.shape"
   ]
  },
  {
   "cell_type": "code",
   "execution_count": 492,
   "metadata": {
    "colab": {
     "base_uri": "https://localhost:8080/"
    },
    "executionInfo": {
     "elapsed": 672,
     "status": "ok",
     "timestamp": 1606067496543,
     "user": {
      "displayName": "adrish bir",
      "photoUrl": "https://lh3.googleusercontent.com/a-/AOh14GjvnDCPOpuviVvO_227LaSth7sl8OIBxCSMqQmFO4c=s64",
      "userId": "15664726640138518444"
     },
     "user_tz": -330
    },
    "id": "O41ao4fEVOVb",
    "outputId": "9962c7ff-fca9-4d30-c3f5-40807b5206ee"
   },
   "outputs": [
    {
     "data": {
      "text/plain": [
       "(1491, 14)"
      ]
     },
     "execution_count": 492,
     "metadata": {
      "tags": []
     },
     "output_type": "execute_result"
    }
   ],
   "source": [
    "df_exc = df[df['StockCode'].isin(df_exc_list)]\n",
    "df_exc.shape"
   ]
  },
  {
   "cell_type": "code",
   "execution_count": 493,
   "metadata": {
    "colab": {
     "base_uri": "https://localhost:8080/"
    },
    "executionInfo": {
     "elapsed": 885,
     "status": "ok",
     "timestamp": 1606067497570,
     "user": {
      "displayName": "adrish bir",
      "photoUrl": "https://lh3.googleusercontent.com/a-/AOh14GjvnDCPOpuviVvO_227LaSth7sl8OIBxCSMqQmFO4c=s64",
      "userId": "15664726640138518444"
     },
     "user_tz": -330
    },
    "id": "Q-rzyOimWcFP",
    "outputId": "e673f81e-dc7c-4818-b2d6-aa4460f1ac91"
   },
   "outputs": [
    {
     "data": {
      "text/plain": [
       "(283289, 14)"
      ]
     },
     "execution_count": 493,
     "metadata": {
      "tags": []
     },
     "output_type": "execute_result"
    }
   ],
   "source": [
    "df_norm = df.drop(df_exc.index) \n",
    "df_norm.shape"
   ]
  },
  {
   "cell_type": "code",
   "execution_count": 494,
   "metadata": {
    "colab": {
     "base_uri": "https://localhost:8080/"
    },
    "executionInfo": {
     "elapsed": 1263,
     "status": "ok",
     "timestamp": 1606067498656,
     "user": {
      "displayName": "adrish bir",
      "photoUrl": "https://lh3.googleusercontent.com/a-/AOh14GjvnDCPOpuviVvO_227LaSth7sl8OIBxCSMqQmFO4c=s64",
      "userId": "15664726640138518444"
     },
     "user_tz": -330
    },
    "id": "2o54aC9qXJvI",
    "outputId": "a4d32078-baab-4826-e896-61d83c2b6096"
   },
   "outputs": [
    {
     "data": {
      "text/plain": [
       "(644, 11)"
      ]
     },
     "execution_count": 494,
     "metadata": {
      "tags": []
     },
     "output_type": "execute_result"
    }
   ],
   "source": [
    "test_exc = test_com[test_com['StockCode'].isin(df_exc_list)]\n",
    "test_exc.shape"
   ]
  },
  {
   "cell_type": "code",
   "execution_count": 495,
   "metadata": {
    "colab": {
     "base_uri": "https://localhost:8080/"
    },
    "executionInfo": {
     "elapsed": 1104,
     "status": "ok",
     "timestamp": 1606067499133,
     "user": {
      "displayName": "adrish bir",
      "photoUrl": "https://lh3.googleusercontent.com/a-/AOh14GjvnDCPOpuviVvO_227LaSth7sl8OIBxCSMqQmFO4c=s64",
      "userId": "15664726640138518444"
     },
     "user_tz": -330
    },
    "id": "Giacic6OXgX_",
    "outputId": "3fe1c93d-da34-4f94-e666-da73d82c805e"
   },
   "outputs": [
    {
     "data": {
      "text/plain": [
       "(121314, 11)"
      ]
     },
     "execution_count": 495,
     "metadata": {
      "tags": []
     },
     "output_type": "execute_result"
    }
   ],
   "source": [
    "test_norm = test_com.drop(test_exc.index) \n",
    "test_norm.shape"
   ]
  },
  {
   "cell_type": "code",
   "execution_count": 496,
   "metadata": {
    "colab": {
     "base_uri": "https://localhost:8080/"
    },
    "executionInfo": {
     "elapsed": 1108,
     "status": "ok",
     "timestamp": 1606067499675,
     "user": {
      "displayName": "adrish bir",
      "photoUrl": "https://lh3.googleusercontent.com/a-/AOh14GjvnDCPOpuviVvO_227LaSth7sl8OIBxCSMqQmFO4c=s64",
      "userId": "15664726640138518444"
     },
     "user_tz": -330
    },
    "id": "wLxWV-F4Xs3q",
    "outputId": "2c1cd17f-dc88-42d6-ec51-1481a979fc63"
   },
   "outputs": [
    {
     "data": {
      "text/plain": [
       "True"
      ]
     },
     "execution_count": 496,
     "metadata": {
      "tags": []
     },
     "output_type": "execute_result"
    }
   ],
   "source": [
    "len(test_data) == len(test_uni) + len(test_exc) + len(test_norm)"
   ]
  },
  {
   "cell_type": "markdown",
   "metadata": {
    "id": "aZ2EgOFNbSEi"
   },
   "source": [
    "### Norm"
   ]
  },
  {
   "cell_type": "code",
   "execution_count": 497,
   "metadata": {
    "colab": {
     "base_uri": "https://localhost:8080/",
     "height": 283
    },
    "executionInfo": {
     "elapsed": 1316,
     "status": "ok",
     "timestamp": 1606067505492,
     "user": {
      "displayName": "adrish bir",
      "photoUrl": "https://lh3.googleusercontent.com/a-/AOh14GjvnDCPOpuviVvO_227LaSth7sl8OIBxCSMqQmFO4c=s64",
      "userId": "15664726640138518444"
     },
     "user_tz": -330
    },
    "id": "8nfMMWnnXzrK",
    "outputId": "b4d3d43f-ee80-4a65-c067-c46ab28e66b3"
   },
   "outputs": [
    {
     "data": {
      "text/plain": [
       "<matplotlib.axes._subplots.AxesSubplot at 0x7feead45a1d0>"
      ]
     },
     "execution_count": 497,
     "metadata": {
      "tags": []
     },
     "output_type": "execute_result"
    },
    {
     "data": {
      "image/png": "[encoded data removed]",
      "text/plain": [
       "<Figure size 432x288 with 1 Axes>"
      ]
     },
     "metadata": {
      "needs_background": "light",
      "tags": []
     },
     "output_type": "display_data"
    }
   ],
   "source": [
    "df_norm.PriceDiff.hist()"
   ]
  },
  {
   "cell_type": "code",
   "execution_count": 498,
   "metadata": {
    "colab": {
     "base_uri": "https://localhost:8080/"
    },
    "executionInfo": {
     "elapsed": 1399,
     "status": "ok",
     "timestamp": 1606067506124,
     "user": {
      "displayName": "adrish bir",
      "photoUrl": "https://lh3.googleusercontent.com/a-/AOh14GjvnDCPOpuviVvO_227LaSth7sl8OIBxCSMqQmFO4c=s64",
      "userId": "15664726640138518444"
     },
     "user_tz": -330
    },
    "id": "ZpbK-Og8YCQs",
    "outputId": "61ea87df-c8f6-49d7-dbd6-06eb9012cb83"
   },
   "outputs": [
    {
     "data": {
      "text/plain": [
       "0.6627062153490887"
      ]
     },
     "execution_count": 498,
     "metadata": {
      "tags": []
     },
     "output_type": "execute_result"
    }
   ],
   "source": [
    "np.sqrt(mean_squared_error(df_norm.UnitPrice,df_norm.ModePrice))"
   ]
  },
  {
   "cell_type": "code",
   "execution_count": 499,
   "metadata": {
    "colab": {
     "base_uri": "https://localhost:8080/",
     "height": 202
    },
    "executionInfo": {
     "elapsed": 776,
     "status": "ok",
     "timestamp": 1606067506125,
     "user": {
      "displayName": "adrish bir",
      "photoUrl": "https://lh3.googleusercontent.com/a-/AOh14GjvnDCPOpuviVvO_227LaSth7sl8OIBxCSMqQmFO4c=s64",
      "userId": "15664726640138518444"
     },
     "user_tz": -330
    },
    "id": "yLTcy4Kmcixw",
    "outputId": "7fee3042-46ec-4f9c-aeb9-10140c0cf691"
   },
   "outputs": [
    {
     "data": {
      "text/html": [
       "<div>\n",
       "<style scoped>\n",
       "    .dataframe tbody tr th:only-of-type {\n",
       "        vertical-align: middle;\n",
       "    }\n",
       "\n",
       "    .dataframe tbody tr th {\n",
       "        vertical-align: top;\n",
       "    }\n",
       "\n",
       "    .dataframe thead th {\n",
       "        text-align: right;\n",
       "    }\n",
       "</style>\n",
       "<table border=\"1\" class=\"dataframe\">\n",
       "  <thead>\n",
       "    <tr style=\"text-align: right;\">\n",
       "      <th></th>\n",
       "      <th>InvoiceNo</th>\n",
       "      <th>StockCode</th>\n",
       "      <th>Description</th>\n",
       "      <th>Quantity</th>\n",
       "      <th>CustomerID</th>\n",
       "      <th>Country</th>\n",
       "      <th>Year</th>\n",
       "      <th>Month</th>\n",
       "      <th>Day</th>\n",
       "      <th>Timelight</th>\n",
       "      <th>Weekday</th>\n",
       "    </tr>\n",
       "  </thead>\n",
       "  <tbody>\n",
       "    <tr>\n",
       "      <th>0</th>\n",
       "      <td>3139</td>\n",
       "      <td>1709</td>\n",
       "      <td>1079</td>\n",
       "      <td>3</td>\n",
       "      <td>16161.0</td>\n",
       "      <td>35</td>\n",
       "      <td>2011</td>\n",
       "      <td>A</td>\n",
       "      <td>week3</td>\n",
       "      <td>Noon</td>\n",
       "      <td>Tuesday</td>\n",
       "    </tr>\n",
       "    <tr>\n",
       "      <th>1</th>\n",
       "      <td>617</td>\n",
       "      <td>510</td>\n",
       "      <td>3457</td>\n",
       "      <td>1</td>\n",
       "      <td>17341.0</td>\n",
       "      <td>35</td>\n",
       "      <td>2010</td>\n",
       "      <td>C</td>\n",
       "      <td>week1</td>\n",
       "      <td>Noon</td>\n",
       "      <td>Wednesday</td>\n",
       "    </tr>\n",
       "    <tr>\n",
       "      <th>2</th>\n",
       "      <td>14653</td>\n",
       "      <td>604</td>\n",
       "      <td>694</td>\n",
       "      <td>36</td>\n",
       "      <td>15158.0</td>\n",
       "      <td>35</td>\n",
       "      <td>2011</td>\n",
       "      <td>C</td>\n",
       "      <td>week3</td>\n",
       "      <td>Noon</td>\n",
       "      <td>Tuesday</td>\n",
       "    </tr>\n",
       "    <tr>\n",
       "      <th>3</th>\n",
       "      <td>8634</td>\n",
       "      <td>1478</td>\n",
       "      <td>3473</td>\n",
       "      <td>2</td>\n",
       "      <td>16033.0</td>\n",
       "      <td>35</td>\n",
       "      <td>2011</td>\n",
       "      <td>B</td>\n",
       "      <td>week3</td>\n",
       "      <td>Noon</td>\n",
       "      <td>Monday</td>\n",
       "    </tr>\n",
       "    <tr>\n",
       "      <th>4</th>\n",
       "      <td>15546</td>\n",
       "      <td>3216</td>\n",
       "      <td>871</td>\n",
       "      <td>1</td>\n",
       "      <td>15351.0</td>\n",
       "      <td>35</td>\n",
       "      <td>2011</td>\n",
       "      <td>C</td>\n",
       "      <td>week1</td>\n",
       "      <td>Noon</td>\n",
       "      <td>Sunday</td>\n",
       "    </tr>\n",
       "  </tbody>\n",
       "</table>\n",
       "</div>"
      ],
      "text/plain": [
       "   InvoiceNo  StockCode  Description  ...    Day  Timelight    Weekday\n",
       "0       3139       1709         1079  ...  week3       Noon    Tuesday\n",
       "1        617        510         3457  ...  week1       Noon  Wednesday\n",
       "2      14653        604          694  ...  week3       Noon    Tuesday\n",
       "3       8634       1478         3473  ...  week3       Noon     Monday\n",
       "4      15546       3216          871  ...  week1       Noon     Sunday\n",
       "\n",
       "[5 rows x 11 columns]"
      ]
     },
     "execution_count": 499,
     "metadata": {
      "tags": []
     },
     "output_type": "execute_result"
    }
   ],
   "source": [
    "test_norm.head()"
   ]
  },
  {
   "cell_type": "code",
   "execution_count": 500,
   "metadata": {
    "colab": {
     "base_uri": "https://localhost:8080/"
    },
    "executionInfo": {
     "elapsed": 6585,
     "status": "ok",
     "timestamp": 1606067512520,
     "user": {
      "displayName": "adrish bir",
      "photoUrl": "https://lh3.googleusercontent.com/a-/AOh14GjvnDCPOpuviVvO_227LaSth7sl8OIBxCSMqQmFO4c=s64",
      "userId": "15664726640138518444"
     },
     "user_tz": -330
    },
    "id": "j13QeESQkGYS",
    "outputId": "e0346913-d381-4d4b-d0b0-1c22fbab3b04"
   },
   "outputs": [
    {
     "name": "stdout",
     "output_type": "stream",
     "text": [
      "{0: 0.85, 1: 0.39, 2: 0.21, 4: 0.42, 5: 0.42, 6: 0.85, 7: 0.42, 8: 1.25, 9: 1.69, 10: 0.29, 11: 0.14, 12: 0.83, 13: 0.85, 14: 2.95, 15: 2.95, 16: 2.95, 17: 2.95, 18: 5.95, 19: 5.95, 20: 5.95, 21: 7.95, 22: 7.95, 23: 7.95, 24: 3.75, 25: 0.12, 26: 0.12, 27: 0.21, 28: 0.21, 29: 0.42, 30: 0.5, 31: 0.85, 33: 0.12, 35: 0.04, 36: 0.85, 37: 0.12, 39: 0.42, 40: 0.12, 41: 1.25, 42: 0.42, 43: 0.42, 44: 0.1, 46: 0.42, 47: 0.42, 48: 0.65, 49: 0.42, 50: 0.42, 51: 0.42, 52: 0.42, 53: 0.42, 58: 0.5, 60: 2.95, 61: 2.95, 62: 0.06, 63: 0.06, 64: 0.06, 65: 1.25, 66: 0.21, 67: 0.21, 68: 0.21, 69: 0.21, 70: 0.5, 71: 1.25, 72: 0.85, 73: 0.42, 74: 0.08, 76: 0.29, 78: 0.65, 79: 0.85, 80: 0.85, 81: 0.85, 82: 0.85, 83: 0.5, 84: 0.85, 85: 0.42, 86: 0.42, 87: 0.3, 89: 0.1, 90: 0.21, 91: 0.21, 92: 0.21, 93: 0.21, 94: 0.21, 95: 1.25, 96: 1.25, 97: 0.38, 98: 0.38, 99: 0.21, 100: 2.55, 102: 0.85, 103: 0.08, 104: 0.42, 105: 1.05, 108: 0.18, 109: 1.25, 111: 2.55, 112: 2.95, 113: 0.75, 114: 0.75, 115: 2.1, 116: 2.1, 117: 2.1, 118: 2.1, 119: 1.25, 120: 1.25, 121: 1.25, 122: 1.25, 123: 1.25, 124: 1.25, 125: 1.25, 126: 2.95, 127: 2.95, 128: 2.95, 129: 2.95, 130: 2.95, 131: 2.95, 133: 0.12, 134: 1.25, 135: 2.95, 137: 1.25, 138: 1.25, 139: 1.25, 140: 1.25, 142: 5.95, 143: 3.25, 144: 3.25, 145: 3.25, 146: 7.95, 147: 3.25, 148: 3.75, 149: 4.25, 150: 3.75, 151: 2.55, 152: 2.55, 153: 2.55, 154: 3.75, 156: 4.25, 157: 4.25, 158: 6.95, 159: 1.95, 160: 1.25, 161: 2.08, 162: 2.08, 163: 2.08, 164: 1.25, 165: 1.25, 166: 1.25, 167: 0.85, 168: 0.85, 169: 0.85, 170: 1.65, 171: 1.65, 172: 1.65, 173: 1.65, 174: 1.25, 175: 0.85, 176: 0.85, 177: 12.75, 178: 7.95, 179: 7.95, 180: 2.1, 181: 2.1, 182: 2.1, 183: 0.85, 184: 0.85, 185: 0.85, 186: 0.85, 187: 0.85, 188: 0.85, 189: 3.75, 190: 3.75, 191: 3.75, 192: 3.75, 193: 3.75, 194: 3.75, 195: 2.55, 196: 2.55, 197: 2.55, 198: 2.55, 199: 2.55, 200: 2.55, 201: 1.65, 202: 1.65, 203: 1.65, 204: 1.65, 205: 1.65, 206: 5.49, 207: 5.49, 208: 5.49, 210: 6.75, 211: 2.55, 212: 2.1, 213: 1.65, 214: 2.1, 215: 0.79, 216: 1.65, 217: 0.39, 220: 3.75, 221: 4.95, 222: 4.95, 223: 0.79, 224: 0.39, 226: 2.55, 227: 2.1, 228: 2.1, 229: 2.1, 230: 0.39, 231: 0.83, 232: 0.83, 233: 0.83, 234: 0.85, 235: 0.85, 236: 0.85, 237: 6.35, 238: 1.25, 239: 3.75, 240: 2.95, 241: 5.95, 242: 1.65, 243: 1.65, 244: 1.65, 246: 1.25, 247: 1.25, 248: 0.39, 249: 0.39, 250: 1.25, 251: 1.95, 253: 2.55, 254: 2.95, 255: 2.95, 256: 2.95, 257: 6.35, 258: 6.35, 259: 6.35, 262: 2.95, 263: 2.95, 264: 2.95, 265: 2.95, 266: 5.45, 267: 2.95, 268: 2.95, 269: 1.25, 270: 1.25, 272: 1.25, 273: 1.25, 275: 1.25, 276: 3.75, 277: 3.75, 278: 3.75, 279: 1.25, 280: 1.25, 281: 0.65, 282: 0.65, 283: 0.65, 284: 1.25, 285: 1.25, 286: 1.25, 287: 1.25, 288: 0.85, 289: 0.85, 290: 0.85, 291: 0.29, 292: 1.25, 293: 1.25, 294: 0.39, 295: 0.19, 296: 4.95, 297: 2.95, 298: 4.25, 299: 5.95, 300: 4.25, 301: 6.35, 302: 1.45, 303: 2.1, 304: 0.29, 305: 0.29, 306: 0.85, 307: 1.25, 308: 1.25, 309: 1.25, 310: 1.25, 311: 1.25, 312: 1.25, 313: 1.25, 314: 2.08, 315: 0.95, 316: 3.25, 317: 0.79, 318: 2.55, 319: 0.79, 320: 2.95, 321: 5.95, 322: 1.95, 323: 2.1, 324: 8.95, 325: 8.95, 326: 8.95, 327: 0.85, 328: 0.85, 329: 0.85, 330: 0.85, 331: 0.85, 332: 0.85, 333: 5.95, 334: 5.95, 335: 1.25, 336: 1.25, 337: 1.25, 338: 1.25, 339: 1.25, 340: 1.25, 341: 0.85, 342: 0.85, 343: 0.19, 344: 0.65, 345: 0.65, 346: 0.19, 347: 0.19, 348: 0.39, 349: 0.85, 350: 0.85, 351: 0.39, 352: 1.25, 353: 1.65, 354: 2.95, 355: 2.95, 356: 0.79, 357: 1.95, 358: 6.75, 359: 1.25, 360: 2.95, 361: 1.25, 362: 6.75, 363: 4.95, 364: 1.25, 365: 1.25, 366: 1.25, 367: 1.25, 368: 1.25, 369: 1.25, 370: 1.25, 371: 6.95, 372: 6.95, 373: 4.25, 374: 4.25, 375: 1.69, 376: 1.69, 377: 3.75, 378: 1.95, 381: 2.1, 382: 1.25, 383: 2.55, 384: 1.95, 385: 2.1, 386: 0.39, 387: 0.39, 388: 1.45, 389: 0.39, 390: 0.39, 391: 2.95, 392: 1.69, 393: 2.08, 394: 0.21, 395: 1.69, 396: 1.45, 397: 1.45, 398: 2.08, 399: 2.55, 400: 0.39, 401: 2.1, 402: 1.65, 403: 2.95, 404: 1.65, 405: 1.45, 406: 2.1, 407: 1.65, 408: 0.65, 409: 2.1, 410: 1.65, 411: 1.65, 412: 1.65, 413: 1.65, 414: 1.65, 415: 2.55, 416: 1.65, 417: 1.65, 418: 2.55, 419: 1.65, 420: 1.65, 421: 0.39, 422: 0.39, 423: 1.45, 424: 1.45, 425: 0.55, 426: 0.55, 427: 0.55, 428: 4.95, 429: 9.95, 430: 3.75, 431: 1.25, 432: 1.25, 433: 1.25, 434: 1.25, 435: 1.25, 436: 1.25, 438: 1.25, 439: 1.25, 440: 0.85, 441: 0.85, 442: 0.85, 443: 1.69, 444: 1.69, 445: 1.69, 446: 1.69, 447: 4.95, 448: 1.45, 449: 2.95, 450: 2.95, 451: 2.95, 452: 2.95, 453: 7.95, 454: 12.75, 455: 5.95, 456: 3.25, 457: 2.95, 458: 2.95, 459: 1.95, 460: 1.95, 461: 1.95, 463: 8.5, 464: 12.75, 465: 1.25, 466: 16.95, 467: 21.95, 468: 2.55, 469: 2.55, 470: 2.55, 471: 2.55, 472: 1.69, 473: 0.39, 474: 0.59, 475: 0.38, 476: 2.95, 477: 1.25, 478: 0.85, 479: 0.85, 480: 2.1, 481: 0.39, 482: 0.29, 483: 0.29, 485: 0.29, 486: 0.85, 487: 2.1, 488: 0.79, 489: 5.45, 490: 0.39, 491: 1.65, 492: 0.79, 493: 2.95, 494: 0.65, 495: 1.65, 496: 1.65, 497: 1.65, 499: 12.75, 500: 2.95, 502: 12.75, 503: 9.95, 504: 2.55, 505: 6.75, 506: 6.75, 507: 2.95, 508: 1.25, 509: 1.25, 510: 1.25, 511: 1.25, 512: 1.25, 513: 3.95, 514: 9.95, 515: 12.75, 516: 4.95, 517: 6.75, 518: 0.75, 519: 4.25, 520: 0.75, 521: 0.75, 522: 1.25, 523: 1.65, 524: 0.75, 525: 0.75, 526: 0.75, 527: 1.25, 528: 5.45, 529: 5.45, 530: 1.65, 531: 1.65, 532: 1.25, 533: 2.95, 534: 1.69, 535: 0.75, 536: 0.65, 537: 0.85, 538: 0.19, 539: 0.85, 540: 1.25, 541: 0.75, 542: 0.39, 544: 0.39, 545: 0.39, 546: 0.39, 547: 0.39, 548: 0.39, 549: 0.12, 550: 0.12, 551: 0.12, 552: 0.12, 553: 4.25, 554: 4.25, 555: 4.25, 557: 1.25, 559: 2.1, 561: 2.1, 562: 2.55, 563: 3.25, 564: 1.25, 565: 0.85, 566: 2.95, 567: 2.95, 568: 2.1, 569: 2.1, 570: 4.25, 571: 1.95, 572: 3.75, 573: 1.25, 574: 0.85, 575: 0.85, 576: 1.25, 577: 1.25, 578: 1.25, 579: 1.65, 580: 2.95, 581: 0.85, 582: 0.85, 583: 1.25, 584: 1.25, 585: 1.25, 586: 1.95, 587: 1.95, 588: 1.95, 589: 6.75, 590: 5.95, 591: 4.25, 592: 3.75, 593: 3.75, 594: 3.75, 595: 3.75, 596: 3.75, 597: 3.75, 598: 3.75, 599: 3.75, 600: 19.95, 601: 14.95, 602: 4.25, 603: 3.75, 604: 4.25, 605: 4.95, 606: 3.75, 607: 3.95, 608: 1.25, 609: 0.42, 610: 0.42, 611: 0.42, 612: 0.42, 613: 0.42, 614: 0.42, 615: 0.42, 616: 0.42, 617: 0.42, 618: 0.42, 619: 0.42, 620: 0.42, 621: 0.42, 622: 0.42, 623: 7.95, 624: 7.95, 625: 7.95, 626: 6.95, 627: 0.79, 628: 2.55, 629: 4.95, 630: 4.95, 631: 2.55, 632: 4.25, 634: 4.95, 635: 0.85, 636: 2.95, 637: 2.55, 638: 2.55, 639: 2.95, 640: 2.55, 641: 2.55, 642: 2.55, 643: 1.25, 644: 2.95, 645: 2.95, 646: 2.25, 647: 2.25, 648: 2.25, 649: 2.25, 650: 2.25, 651: 2.25, 652: 1.65, 653: 2.55, 654: 2.55, 655: 2.55, 656: 1.25, 657: 1.25, 658: 2.95, 659: 2.95, 661: 1.25, 662: 1.25, 663: 1.25, 664: 1.25, 665: 1.25, 666: 1.25, 667: 8.5, 668: 4.95, 669: 9.95, 670: 5.95, 671: 6.95, 672: 1.95, 673: 14.95, 674: 14.95, 675: 7.95, 676: 8.95, 677: 3.95, 678: 3.95, 679: 12.75, 680: 0.39, 681: 1.25, 682: 0.75, 683: 1.25, 684: 2.1, 685: 0.85, 686: 0.29, 687: 0.29, 688: 1.25, 689: 1.25, 691: 2.1, 692: 1.25, 693: 0.19, 694: 1.65, 695: 0.39, 696: 1.69, 697: 1.45, 698: 6.95, 699: 3.95, 701: 5.95, 702: 3.75, 703: 0.65, 705: 1.25, 706: 1.25, 707: 1.25, 708: 1.25, 709: 1.25, 710: 1.25, 711: 0.85, 712: 0.85, 713: 0.85, 714: 0.85, 715: 0.85, 716: 0.85, 718: 4.95, 719: 2.95, 720: 0.85, 721: 39.95, 722: 2.95, 723: 3.75, 724: 3.75, 725: 3.75, 726: 2.95, 727: 2.95, 728: 2.95, 729: 2.95, 730: 0.39, 731: 0.85, 732: 0.42, 733: 0.85, 734: 1.65, 735: 4.95, 736: 4.95, 737: 4.95, 738: 4.95, 739: 4.95, 740: 4.95, 741: 2.1, 742: 1.25, 743: 2.55, 744: 2.55, 745: 2.55, 746: 1.25, 747: 0.85, 748: 0.85, 749: 0.85, 750: 0.85, 751: 0.85, 752: 0.85, 753: 0.85, 754: 0.85, 755: 4.95, 756: 1.65, 757: 2.95, 758: 12.75, 759: 2.1, 760: 2.95, 761: 2.95, 762: 2.95, 763: 5.95, 764: 2.95, 765: 2.95, 766: 3.75, 767: 1.25, 768: 1.25, 769: 2.1, 770: 2.1, 771: 5.95, 772: 5.95, 773: 5.95, 774: 4.95, 775: 6.45, 776: 29.95, 778: 52.77, 779: 4.95, 780: 1.25, 781: 1.25, 782: 1.25, 783: 7.95, 784: 14.95, 785: 9.95, 786: 0.85, 787: 0.42, 788: 0.85, 789: 0.85, 790: 0.85, 791: 0.85, 792: 1.25, 793: 3.95, 794: 3.95, 795: 3.95, 796: 0.42, 797: 0.42, 798: 0.42, 799: 3.75, 800: 0.42, 801: 3.75, 802: 0.39, 803: 0.39, 804: 0.39, 805: 4.95, 806: 4.95, 807: 1.45, 808: 1.45, 809: 1.45, 810: 0.39, 811: 0.39, 812: 0.39, 813: 3.75, 814: 3.75, 815: 0.79, 816: 0.39, 817: 0.39, 818: 1.25, 819: 1.25, 820: 1.25, 821: 0.21, 822: 0.42, 823: 1.65, 824: 1.69, 827: 4.25, 828: 10.95, 829: 2.95, 830: 0.79, 831: 4.95, 832: 4.95, 833: 4.95, 834: 4.95, 835: 4.95, 836: 2.1, 837: 2.1, 838: 1.25, 839: 1.25, 840: 1.25, 841: 1.25, 842: 1.25, 843: 1.25, 844: 1.25, 845: 1.25, 846: 1.25, 847: 1.25, 848: 1.25, 849: 0.85, 850: 0.65, 851: 0.65, 852: 0.65, 853: 0.65, 854: 0.65, 855: 0.65, 856: 3.75, 857: 1.25, 858: 3.25, 859: 1.45, 860: 1.25, 861: 1.25, 863: 2.1, 864: 3.21, 865: 2.95, 866: 0.65, 867: 0.65, 868: 0.65, 869: 0.65, 870: 2.1, 871: 2.1, 872: 0.79, 873: 6.75, 874: 2.1, 875: 2.1, 877: 1.65, 878: 3.75, 879: 3.75, 880: 1.25, 881: 1.25, 882: 0.42, 883: 0.42, 884: 0.42, 885: 7.95, 886: 1.25, 887: 1.25, 888: 1.25, 889: 2.08, 890: 2.08, 891: 2.08, 892: 2.08, 893: 1.65, 894: 1.65, 895: 1.65, 896: 1.65, 897: 2.95, 898: 2.95, 899: 0.85, 900: 0.85, 901: 0.85, 902: 0.85, 903: 0.85, 904: 1.25, 905: 1.25, 906: 1.25, 907: 7.95, 908: 0.29, 909: 1.45, 910: 1.45, 911: 1.45, 912: 0.55, 913: 0.55, 914: 0.55, 915: 0.29, 916: 0.29, 917: 0.29, 918: 0.29, 919: 0.29, 920: 0.29, 921: 0.29, 922: 0.65, 923: 0.85, 924: 0.85, 925: 1.25, 926: 1.25, 927: 1.25, 928: 1.25, 929: 1.65, 930: 0.42, 931: 0.42, 932: 0.42, 933: 0.42, 934: 0.42, 935: 0.42, 936: 0.42, 937: 0.42, 938: 0.42, 939: 0.42, 940: 0.42, 942: 0.42, 943: 0.42, 944: 0.42, 945: 0.42, 946: 0.42, 947: 2.55, 948: 0.42, 949: 0.19, 950: 0.19, 951: 0.42, 952: 0.42, 953: 0.42, 954: 0.42, 955: 0.19, 956: 0.42, 957: 0.42, 958: 0.42, 959: 1.25, 960: 1.65, 961: 1.49, 962: 1.49, 963: 3.95, 964: 9.95, 965: 0.83, 966: 2.95, 967: 1.65, 968: 0.39, 969: 0.39, 970: 1.65, 971: 1.65, 972: 1.65, 973: 3.75, 974: 3.75, 975: 3.75, 976: 3.75, 977: 1.65, 978: 1.65, 979: 1.65, 980: 1.65, 981: 2.1, 982: 1.65, 983: 1.65, 984: 1.65, 985: 1.65, 986: 2.95, 987: 2.95, 988: 2.95, 989: 2.95, 990: 2.95, 991: 2.95, 992: 2.95, 993: 2.95, 994: 0.39, 995: 0.39, 996: 0.39, 997: 0.39, 998: 0.39, 999: 0.39, 1000: 0.39, 1001: 0.39, 1002: 0.39, 1003: 0.39, 1004: 2.1, 1005: 1.65, 1006: 1.65, 1007: 1.45, 1008: 4.25, 1009: 6.75, 1010: 3.75, 1011: 3.29, 1012: 3.75, 1013: 2.55, 1014: 4.95, 1015: 4.95, 1016: 4.25, 1017: 4.25, 1018: 0.79, 1019: 0.79, 1020: 2.95, 1021: 4.95, 1022: 6.95, 1023: 9.95, 1024: 5.95, 1025: 1.95, 1026: 2.46, 1028: 1.25, 1029: 1.25, 1030: 0.85, 1031: 0.85, 1032: 1.95, 1033: 0.85, 1034: 0.85, 1035: 0.42, 1036: 0.42, 1037: 1.65, 1038: 2.95, 1039: 4.95, 1040: 4.95, 1041: 2.1, 1042: 1.45, 1043: 2.1, 1046: 1.45, 1047: 1.95, 1048: 2.1, 1049: 1.95, 1050: 0.42, 1051: 0.42, 1052: 0.42, 1053: 0.42, 1054: 0.42, 1055: 0.85, 1056: 0.85, 1057: 2.95, 1058: 0.19, 1059: 2.95, 1060: 0.79, 1061: 2.95, 1062: 12.75, 1063: 7.95, 1064: 9.95, 1065: 8.5, 1066: 8.5, 1067: 6.75, 1068: 8.5, 1069: 2.95, 1070: 1.65, 1071: 2.95, 1072: 2.95, 1073: 1.25, 1074: 6.75, 1075: 9.95, 1076: 0.85, 1077: 4.95, 1078: 6.75, 1079: 8.5, 1080: 1.65, 1081: 1.95, 1082: 1.95, 1083: 3.95, 1084: 3.95, 1085: 2.1, 1086: 8.5, 1087: 8.5, 1088: 8.5, 1089: 8.5, 1090: 1.65, 1091: 0.85, 1092: 0.85, 1093: 1.65, 1094: 4.25, 1095: 4.25, 1096: 4.25, 1097: 3.75, 1098: 3.75, 1099: 3.75, 1100: 4.25, 1101: 0.83, 1102: 0.83, 1103: 0.83, 1104: 0.83, 1105: 2.1, 1106: 2.55, 1107: 8.5, 1108: 0.85, 1109: 1.25, 1111: 0.85, 1112: 9.95, 1113: 9.95, 1114: 4.95, 1115: 4.95, 1116: 2.95, 1117: 0.65, 1118: 0.85, 1119: 0.85, 1120: 0.29, 1121: 0.59, 1122: 0.59, 1123: 0.59, 1124: 12.75, 1125: 1.25, 1126: 1.65, 1127: 1.65, 1128: 1.95, 1129: 0.85, 1130: 1.95, 1131: 0.85, 1132: 0.85, 1133: 0.85, 1134: 0.85, 1135: 1.25, 1136: 1.25, 1137: 1.25, 1138: 0.85, 1139: 1.25, 1140: 1.25, 1141: 1.25, 1142: 1.25, 1143: 0.85, 1144: 0.85, 1145: 0.85, 1146: 0.85, 1147: 0.85, 1148: 0.65, 1149: 0.65, 1150: 1.25, 1151: 0.85, 1152: 0.39, 1153: 3.75, 1154: 2.95, 1155: 2.95, 1156: 2.95, 1157: 2.95, 1159: 2.55, 1160: 2.1, 1161: 4.95, 1162: 1.25, 1163: 1.25, 1164: 5.95, 1165: 12.75, 1166: 7.95, 1167: 1.65, 1168: 1.65, 1169: 1.65, 1170: 1.65, 1171: 1.25, 1172: 1.25, 1173: 1.45, 1174: 1.45, 1175: 1.45, 1176: 1.25, 1177: 1.65, 1178: 1.65, 1179: 1.25, 1180: 1.25, 1181: 2.55, 1182: 2.55, 1183: 2.55, 1184: 2.55, 1185: 2.55, 1186: 2.55, 1187: 1.06, 1188: 1.06, 1189: 2.55, 1190: 2.55, 1191: 1.65, 1192: 2.95, 1193: 2.95, 1194: 2.95, 1195: 2.95, 1196: 1.25, 1197: 1.25, 1198: 2.95, 1199: 2.95, 1200: 0.65, 1201: 5.95, 1202: 0.85, 1203: 0.85, 1205: 1.95, 1206: 4.95, 1207: 2.95, 1208: 2.95, 1209: 2.95, 1210: 1.65, 1211: 1.65, 1212: 1.65, 1213: 1.65, 1214: 1.65, 1215: 0.65, 1216: 0.65, 1217: 0.65, 1218: 0.19, 1219: 0.19, 1220: 0.39, 1221: 1.65, 1222: 0.75, 1223: 0.85, 1224: 0.85, 1225: 0.85, 1226: 0.85, 1227: 0.85, 1228: 3.75, 1229: 2.55, 1231: 2.55, 1232: 2.55, 1233: 3.75, 1234: 0.85, 1235: 0.85, 1236: 4.25, 1237: 2.95, 1238: 2.95, 1239: 2.95, 1240: 2.95, 1241: 2.95, 1242: 2.95, 1243: 2.95, 1244: 7.95, 1245: 7.95, 1246: 1.95, 1247: 4.25, 1248: 4.25, 1249: 4.25, 1250: 4.25, 1251: 4.25, 1252: 2.1, 1253: 2.1, 1254: 2.1, 1255: 2.1, 1256: 2.1, 1257: 1.65, 1258: 1.65, 1259: 1.65, 1260: 2.08, 1261: 2.08, 1262: 2.55, 1263: 2.55, 1264: 2.55, 1265: 2.55, 1266: 2.55, 1267: 0.39, 1268: 0.39, 1269: 0.39, 1270: 1.25, 1271: 0.39, 1272: 0.39, 1273: 0.39, 1274: 1.25, 1275: 1.25, 1276: 1.25, 1277: 1.25, 1278: 1.25, 1279: 1.25, 1280: 2.08, 1281: 2.1, 1282: 2.95, 1283: 7.95, 1284: 7.95, 1285: 1.45, 1286: 0.55, 1287: 0.85, 1288: 0.42, 1289: 0.42, 1290: 0.42, 1291: 0.65, 1292: 12.75, 1293: 12.75, 1294: 4.95, 1295: 3.75, 1296: 5.95, 1297: 6.95, 1298: 4.25, 1299: 4.95, 1300: 1.95, 1301: 1.95, 1302: 1.95, 1303: 1.95, 1304: 1.25, 1305: 0.65, 1306: 0.85, 1307: 1.95, 1308: 0.65, 1309: 0.42, 1310: 2.1, 1311: 7.95, 1312: 7.95, 1313: 1.25, 1314: 2.95, 1315: 3.35, 1316: 3.35, 1317: 3.35, 1318: 3.35, 1319: 3.35, 1320: 3.35, 1321: 2.95, 1322: 2.95, 1323: 2.95, 1324: 4.95, 1325: 2.95, 1326: 2.55, 1327: 2.55, 1328: 1.25, 1329: 3.95, 1330: 1.65, 1331: 1.65, 1332: 1.95, 1333: 2.55, 1334: 6.75, 1335: 1.65, 1336: 2.95, 1337: 4.95, 1338: 4.95, 1339: 4.95, 1340: 4.95, 1341: 4.95, 1342: 4.95, 1343: 1.25, 1344: 1.25, 1345: 1.25, 1346: 1.25, 1347: 1.25, 1348: 1.25, 1349: 2.95, 1350: 12.75, 1351: 12.75, 1352: 9.95, 1353: 1.65, 1354: 0.42, 1355: 0.85, 1356: 0.65, 1357: 1.65, 1358: 1.25, 1359: 2.95, 1360: 2.95, 1361: 4.25, 1362: 5.95, 1363: 5.95, 1364: 4.95, 1365: 9.95, 1367: 12.75, 1368: 29.95, 1369: 4.95, 1370: 4.95, 1371: 3.75, 1372: 16.95, 1373: 3.75, 1374: 3.75, 1375: 3.75, 1376: 3.75, 1377: 2.1, 1378: 2.1, 1379: 2.1, 1380: 2.1, 1381: 2.1, 1382: 2.1, 1383: 0.85, 1384: 0.85, 1385: 0.85, 1386: 0.85, 1387: 1.25, 1388: 1.25, 1389: 12.75, 1390: 0.42, 1391: 0.42, 1392: 0.42, 1393: 0.42, 1394: 0.42, 1395: 0.42, 1396: 0.42, 1397: 0.42, 1398: 0.42, 1399: 0.42, 1400: 0.42, 1401: 0.42, 1402: 0.42, 1403: 0.42, 1404: 0.42, 1405: 0.42, 1406: 0.42, 1407: 0.42, 1408: 1.25, 1409: 1.45, 1410: 3.75, 1411: 1.65, 1412: 1.65, 1413: 1.65, 1414: 1.65, 1415: 1.65, 1416: 1.65, 1417: 1.65, 1418: 1.25, 1419: 1.25, 1420: 1.65, 1421: 1.25, 1422: 1.25, 1423: 1.25, 1424: 0.85, 1425: 0.85, 1426: 1.45, 1427: 3.75, 1428: 3.75, 1429: 3.75, 1430: 0.85, 1431: 0.85, 1432: 0.85, 1433: 0.85, 1434: 1.95, 1435: 0.85, 1436: 0.29, 1437: 0.29, 1438: 0.29, 1439: 5.95, 1440: 0.85, 1441: 2.55, 1442: 2.55, 1443: 2.55, 1444: 1.25, 1445: 0.85, 1446: 0.85, 1447: 2.89, 1448: 2.89, 1449: 3.25, 1450: 3.75, 1451: 0.85, 1452: 0.85, 1453: 0.85, 1454: 1.25, 1455: 0.29, 1456: 0.29, 1457: 0.29, 1458: 0.85, 1459: 0.85, 1460: 0.85, 1461: 0.85, 1462: 2.55, 1463: 14.95, 1464: 15.95, 1465: 9.95, 1466: 0.19, 1467: 0.19, 1468: 0.19, 1469: 4.95, 1470: 0.85, 1471: 0.29, 1472: 0.29, 1473: 0.29, 1474: 4.95, 1475: 9.95, 1476: 3.75, 1477: 1.45, 1478: 1.65, 1479: 11.95, 1480: 5.95, 1481: 8.5, 1482: 8.5, 1483: 8.5, 1484: 8.5, 1485: 4.95, 1486: 1.95, 1487: 1.95, 1488: 1.95, 1489: 2.1, 1490: 2.1, 1491: 9.95, 1492: 9.95, 1493: 8.5, 1494: 2.55, 1495: 2.55, 1496: 2.55, 1497: 2.55, 1498: 2.55, 1499: 2.55, 1500: 2.55, 1501: 1.45, 1502: 1.45, 1503: 1.45, 1504: 1.45, 1505: 4.95, 1506: 1.45, 1507: 0.85, 1508: 1.65, 1509: 1.95, 1510: 5.95, 1513: 1.95, 1514: 7.95, 1515: 0.85, 1516: 1.65, 1517: 2.08, 1518: 2.1, 1519: 2.95, 1520: 2.95, 1521: 2.95, 1522: 2.95, 1523: 2.95, 1524: 1.25, 1525: 1.65, 1526: 1.65, 1527: 1.25, 1528: 1.25, 1529: 1.25, 1530: 1.25, 1531: 1.25, 1532: 1.25, 1533: 1.25, 1534: 1.25, 1535: 1.25, 1536: 1.25, 1537: 1.25, 1538: 1.25, 1539: 1.25, 1540: 1.25, 1541: 8.25, 1542: 8.25, 1543: 8.25, 1544: 7.95, 1545: 7.95, 1546: 7.95, 1547: 1.25, 1548: 2.1, 1549: 1.45, 1550: 1.95, 1551: 2.95, 1552: 2.95, 1553: 2.95, 1554: 2.95, 1555: 2.95, 1556: 2.1, 1557: 2.1, 1558: 0.42, 1559: 0.42, 1560: 0.42, 1561: 0.42, 1562: 0.42, 1563: 0.42, 1564: 0.42, 1565: 0.42, 1566: 0.42, 1567: 0.42, 1568: 0.42, 1569: 0.42, 1570: 0.42, 1571: 0.42, 1572: 0.42, 1573: 1.25, 1574: 4.95, 1575: 4.95, 1576: 3.95, 1577: 3.95, 1578: 3.75, 1579: 3.75, 1580: 3.75, 1581: 3.75, 1582: 3.75, 1583: 3.75, 1584: 1.25, 1585: 1.25, 1586: 1.25, 1587: 2.89, 1588: 1.65, 1589: 1.65, 1590: 1.65, 1591: 1.65, 1592: 1.65, 1593: 0.85, 1594: 0.85, 1595: 2.95, 1596: 2.95, 1597: 2.95, 1598: 2.1, 1599: 2.1, 1600: 2.1, 1601: 2.1, 1602: 3.75, 1603: 3.75, 1604: 3.75, 1605: 8.5, 1606: 0.85, 1607: 0.85, 1608: 0.85, 1609: 1.25, 1610: 1.25, 1611: 1.25, 1612: 1.65, 1613: 12.75, 1614: 24.95, 1615: 14.95, 1616: 9.95, 1619: 2.95, 1620: 9.95, 1621: 9.95, 1622: 24.95, 1623: 14.95, 1624: 1.25, 1625: 1.25, 1626: 1.25, 1627: 1.25, 1628: 1.25, 1629: 9.95, 1630: 8.5, 1631: 3.95, 1632: 4.25, 1633: 4.25, 1634: 7.65, 1635: 24.95, 1636: 7.95, 1637: 4.95, 1638: 6.75, 1639: 5.95, 1640: 9.95, 1641: 1.95, 1642: 1.25, 1643: 0.85, 1644: 7.95, 1645: 6.75, 1646: 9.95, 1647: 16.95, 1648: 2.95, 1649: 8.5, 1650: 3.75, 1651: 3.75, 1652: 19.95, 1653: 35.75, 1654: 2.95, 1655: 1.25, 1656: 2.95, 1657: 2.95, 1658: 2.95, 1659: 2.95, 1660: 2.95, 1661: 2.95, 1662: 1.95, 1663: 1.95, 1664: 0.42, 1665: 0.42, 1666: 0.42, 1667: 0.42, 1668: 0.42, 1669: 0.42, 1670: 0.65, 1671: 0.65, 1672: 5.95, 1673: 125.0, 1674: 35.95, 1675: 7.95, 1677: 165.0, 1678: 145.0, 1679: 9.95, 1680: 26.95, 1681: 2.95, 1682: 10.75, 1683: 49.95, 1684: 2.1, 1685: 4.95, 1686: 4.65, 1687: 14.95, 1688: 14.95, 1689: 7.95, 1690: 7.95, 1691: 6.75, 1692: 6.75, 1693: 8.5, 1694: 6.35, 1695: 16.95, 1696: 16.95, 1697: 16.95, 1698: 16.95, 1699: 0.85, 1700: 4.25, 1701: 3.25, 1702: 4.95, 1703: 1.25, 1704: 1.25, 1705: 0.85, 1706: 1.65, 1707: 1.65, 1708: 1.65, 1709: 1.65, 1710: 4.25, 1711: 2.95, 1712: 2.1, 1713: 2.1, 1714: 2.1, 1716: 1.95, 1717: 1.95, 1718: 1.95, 1719: 1.95, 1720: 1.95, 1721: 1.95, 1722: 1.95, 1723: 1.95, 1724: 1.95, 1725: 2.1, 1726: 1.95, 1727: 1.95, 1728: 1.95, 1729: 1.95, 1730: 1.95, 1731: 1.95, 1732: 1.95, 1733: 1.95, 1734: 1.95, 1735: 1.95, 1736: 2.1, 1737: 9.95, 1738: 4.25, 1739: 1.25, 1740: 0.42, 1741: 9.95, 1742: 3.25, 1743: 2.55, 1744: 1.45, 1745: 1.95, 1746: 2.1, 1747: 3.25, 1748: 2.1, 1749: 2.95, 1750: 2.95, 1751: 2.95, 1752: 1.65, 1753: 0.85, 1754: 0.85, 1755: 0.85, 1756: 2.95, 1757: 2.95, 1758: 4.95, 1759: 4.95, 1760: 4.95, 1761: 0.42, 1762: 0.65, 1763: 0.65, 1764: 0.65, 1765: 0.65, 1766: 0.65, 1767: 0.65, 1768: 0.85, 1769: 0.85, 1770: 0.85, 1771: 5.95, 1772: 5.95, 1773: 5.95, 1774: 5.95, 1775: 65.0, 1776: 2.55, 1777: 2.55, 1778: 2.55, 1779: 2.95, 1780: 2.95, 1781: 3.25, 1782: 3.25, 1783: 2.55, 1784: 1.95, 1785: 4.95, 1786: 4.25, 1787: 8.5, 1788: 8.5, 1789: 4.95, 1790: 0.39, 1791: 0.85, 1792: 16.95, 1793: 7.95, 1794: 0.85, 1795: 1.45, 1796: 1.45, 1797: 0.55, 1798: 0.55, 1799: 1.25, 1800: 1.25, 1801: 2.1, 1802: 2.1, 1803: 2.95, 1804: 0.42, 1805: 4.25, 1806: 1.45, 1807: 0.85, 1808: 0.85, 1809: 2.1, 1810: 2.1, 1811: 1.25, 1812: 2.95, 1813: 9.95, 1814: 1.45, 1815: 2.55, 1816: 2.55, 1817: 1.65, 1818: 1.65, 1819: 1.65, 1820: 1.25, 1821: 1.25, 1822: 1.25, 1823: 3.75, 1824: 1.45, 1825: 1.65, 1826: 1.45, 1827: 1.25, 1828: 0.42, 1829: 0.42, 1830: 0.42, 1831: 0.42, 1832: 0.42, 1833: 1.25, 1834: 3.25, 1835: 4.95, 1836: 1.95, 1837: 1.95, 1838: 1.25, 1839: 0.42, 1840: 0.42, 1841: 0.42, 1842: 0.42, 1843: 0.42, 1844: 0.42, 1845: 0.42, 1846: 0.42, 1847: 0.42, 1848: 0.42, 1849: 0.42, 1850: 0.42, 1851: 16.95, 1852: 16.95, 1853: 16.95, 1854: 16.95, 1855: 3.95, 1856: 3.95, 1857: 3.95, 1858: 8.25, 1859: 7.85, 1860: 12.5, 1861: 12.5, 1862: 8.25, 1863: 12.5, 1864: 4.15, 1865: 2.08, 1866: 1.65, 1867: 2.49, 1868: 2.08, 1869: 2.08, 1870: 2.08, 1871: 1.65, 1872: 1.65, 1873: 1.65, 1874: 1.65, 1875: 1.45, 1876: 1.45, 1877: 1.45, 1878: 1.25, 1879: 1.65, 1880: 0.83, 1881: 1.95, 1882: 5.75, 1883: 4.15, 1884: 6.65, 1885: 6.25, 1886: 4.15, 1887: 4.15, 1888: 6.65, 1889: 5.75, 1890: 4.15, 1891: 8.25, 1892: 8.25, 1893: 8.25, 1894: 8.25, 1895: 8.25, 1896: 8.25, 1897: 6.25, 1898: 6.25, 1899: 4.95, 1900: 0.79, 1901: 2.08, 1902: 1.25, 1903: 49.95, 1904: 12.5, 1905: 8.25, 1906: 4.15, 1907: 2.49, 1908: 6.25, 1909: 4.15, 1910: 12.5, 1911: 12.5, 1912: 12.5, 1913: 2.08, 1914: 4.15, 1915: 1.25, 1916: 1.25, 1917: 1.25, 1918: 8.95, 1919: 8.25, 1920: 8.25, 1921: 3.75, 1922: 3.75, 1923: 2.08, 1924: 10.4, 1925: 1.25, 1926: 1.25, 1927: 1.25, 1928: 1.65, 1929: 0.83, 1930: 6.25, 1931: 7.9, 1932: 2.49, 1933: 12.5, 1934: 1.65, 1935: 6.65, 1936: 1.25, 1937: 0.83, 1938: 0.83, 1939: 1.65, 1940: 12.5, 1941: 2.89, 1942: 2.89, 1943: 6.25, 1944: 2.89, 1945: 5.75, 1946: 12.5, 1947: 7.5, 1948: 4.95, 1949: 4.95, 1950: 4.95, 1951: 4.95, 1952: 4.95, 1953: 7.5, 1954: 0.62, 1955: 0.42, 1956: 0.42, 1957: 0.83, 1958: 0.83, 1959: 1.25, 1960: 1.25, 1961: 4.95, 1962: 4.95, 1963: 4.95, 1964: 4.15, 1965: 4.15, 1966: 4.15, 1967: 5.75, 1968: 8.25, 1969: 8.25, 1970: 5.75, 1971: 3.75, 1972: 3.75, 1973: 1.45, 1974: 1.45, 1975: 4.15, 1976: 4.15, 1977: 10.4, 1978: 3.95, 1979: 0.83, 1980: 0.95, 1981: 3.29, 1982: 1.45, 1983: 0.83, 1984: 2.49, 1985: 2.49, 1986: 2.49, 1987: 3.75, 1988: 3.75, 1989: 2.08, 1990: 0.83, 1991: 2.08, 1992: 2.08, 1993: 2.08, 1994: 2.08, 1995: 1.25, 1996: 1.25, 1997: 3.75, 1998: 2.49, 1999: 4.95, 2000: 1.65, 2001: 1.25, 2002: 0.83, 2003: 1.25, 2004: 4.15, 2005: 1.65, 2006: 1.65, 2007: 1.65, 2008: 9.95, 2009: 4.15, 2010: 3.25, 2011: 2.25, 2012: 2.25, 2013: 2.89, 2014: 2.89, 2015: 4.95, 2016: 8.25, 2017: 0.83, 2018: 3.75, 2019: 4.95, 2020: 0.29, 2021: 0.29, 2022: 0.29, 2023: 1.65, 2024: 2.89, 2025: 1.65, 2026: 1.65, 2027: 1.65, 2028: 2.25, 2029: 2.25, 2030: 1.45, 2031: 1.45, 2032: 1.45, 2033: 2.08, 2034: 2.08, 2035: 2.08, 2036: 2.08, 2037: 2.08, 2038: 0.85, 2039: 0.85, 2040: 1.65, 2041: 1.65, 2042: 1.65, 2043: 1.65, 2044: 1.25, 2045: 1.25, 2046: 1.25, 2047: 1.25, 2048: 2.08, 2049: 2.08, 2050: 1.25, 2051: 1.25, 2052: 1.25, 2053: 1.25, 2054: 0.83, 2055: 0.83, 2056: 0.83, 2057: 0.83, 2058: 0.83, 2059: 0.83, 2060: 1.25, 2061: 1.25, 2062: 1.25, 2063: 3.75, 2064: 0.42, 2065: 0.42, 2066: 0.42, 2067: 0.42, 2068: 2.89, 2069: 2.89, 2070: 2.89, 2071: 4.15, 2072: 4.15, 2073: 4.15, 2074: 4.15, 2075: 2.08, 2076: 2.08, 2077: 4.95, 2078: 1.95, 2079: 4.95, 2080: 2.89, 2081: 1.65, 2082: 1.25, 2083: 1.25, 2084: 3.75, 2085: 15.95, 2086: 4.15, 2087: 4.15, 2088: 4.15, 2089: 1.25, 2090: 1.25, 2091: 1.25, 2092: 1.25, 2093: 1.25, 2094: 1.45, 2095: 1.45, 2096: 1.45, 2097: 0.83, 2098: 1.65, 2099: 1.65, 2100: 1.65, 2101: 1.25, 2102: 0.83, 2103: 0.83, 2104: 0.83, 2105: 8.25, 2106: 8.25, 2107: 0.85, 2108: 0.85, 2109: 0.85, 2110: 0.85, 2111: 1.25, 2112: 1.25, 2113: 1.25, 2114: 1.25, 2115: 0.83, 2116: 0.83, 2117: 0.83, 2118: 1.25, 2119: 1.65, 2120: 4.95, 2121: 3.75, 2122: 1.65, 2123: 1.65, 2124: 1.65, 2125: 1.95, 2126: 1.95, 2127: 1.95, 2128: 1.45, 2129: 0.55, 2130: 0.55, 2131: 0.55, 2132: 0.42, 2133: 2.55, 2134: 4.15, 2135: 4.95, 2136: 12.5, 2137: 9.95, 2138: 9.95, 2139: 9.95, 2140: 2.49, 2141: 2.49, 2142: 2.89, 2143: 1.65, 2144: 2.95, 2145: 2.1, 2146: 2.08, 2147: 1.65, 2148: 0.63, 2149: 0.63, 2150: 3.75, 2151: 1.65, 2152: 1.25, 2153: 0.63, 2154: 1.65, 2155: 1.25, 2156: 0.63, 2157: 2.08, 2158: 2.08, 2159: 2.08, 2160: 2.08, 2161: 2.08, 2162: 1.65, 2163: 8.5, 2164: 8.5, 2165: 2.08, 2166: 2.08, 2167: 1.25, 2168: 1.25, 2169: 1.25, 2170: 2.08, 2171: 1.25, 2172: 1.25, 2173: 1.25, 2174: 1.25, 2175: 0.83, 2176: 0.83, 2177: 4.95, 2178: 5.95, 2179: 4.95, 2180: 3.75, 2181: 1.95, 2182: 1.95, 2183: 0.65, 2184: 0.65, 2185: 0.65, 2186: 0.65, 2187: 1.25, 2188: 1.25, 2189: 1.25, 2190: 1.25, 2191: 0.82, 2192: 0.82, 2193: 0.82, 2194: 0.39, 2195: 0.39, 2196: 0.39, 2197: 0.39, 2198: 0.39, 2199: 0.39, 2200: 3.75, 2201: 4.15, 2202: 4.15, 2203: 4.15, 2204: 4.15, 2205: 2.08, 2206: 3.75, 2207: 3.75, 2208: 3.75, 2209: 3.75, 2210: 9.95, 2211: 0.85, 2212: 0.85, 2213: 6.25, 2214: 6.25, 2215: 3.75, 2216: 3.75, 2217: 4.95, 2218: 4.95, 2219: 6.25, 2220: 9.95, 2221: 2.08, 2222: 3.75, 2223: 8.15, 2224: 4.95, 2225: 7.5, 2226: 4.95, 2227: 9.95, 2228: 1.65, 2229: 1.65, 2230: 1.65, 2231: 2.08, 2232: 2.08, 2233: 2.08, 2234: 2.08, 2235: 2.08, 2236: 3.75, 2237: 4.95, 2238: 2.49, 2239: 2.89, 2240: 12.5, 2241: 8.15, 2242: 8.15, 2243: 8.15, 2244: 0.83, 2245: 0.83, 2246: 0.83, 2247: 0.79, 2248: 0.79, 2249: 1.25, 2250: 1.25, 2251: 1.25, 2252: 2.1, 2253: 2.08, 2254: 0.42, 2255: 2.08, 2256: 15.0, 2257: 0.83, 2259: 1.65, 2260: 1.65, 2262: 1.95, 2263: 1.95, 2264: 1.95, 2265: 4.15, 2266: 2.89, 2267: 4.15, 2268: 4.95, 2269: 14.95, 2270: 12.5, 2271: 9.95, 2272: 4.15, 2273: 19.95, 2274: 9.95, 2275: 4.95, 2276: 8.25, 2277: 8.25, 2278: 3.29, 2279: 8.25, 2280: 4.15, 2281: 6.25, 2282: 9.95, 2283: 14.95, 2284: 0.83, 2285: 0.83, 2286: 0.83, 2287: 1.25, 2288: 1.25, 2289: 1.25, 2290: 7.85, 2291: 3.75, 2292: 1.25, 2293: 1.65, 2294: 1.25, 2295: 2.89, 2296: 25.0, 2297: 16.65, 2298: 9.95, 2299: 2.89, 2300: 3.75, 2301: 8.25, 2302: 8.25, 2303: 1.95, 2304: 5.95, 2305: 1.25, 2306: 1.25, 2307: 1.45, 2308: 1.45, 2309: 0.42, 2310: 1.25, 2311: 1.25, 2312: 1.25, 2313: 1.25, 2314: 1.25, 2315: 1.25, 2316: 0.42, 2317: 0.42, 2318: 0.42, 2319: 0.42, 2320: 0.42, 2321: 2.08, 2322: 2.08, 2323: 2.08, 2324: 2.08, 2325: 2.08, 2326: 3.75, 2327: 2.89, 2328: 2.89, 2329: 3.75, 2330: 3.75, 2331: 2.89, 2332: 2.89, 2333: 3.75, 2334: 3.75, 2335: 3.75, 2336: 5.95, 2337: 3.75, 2338: 3.75, 2339: 3.75, 2340: 4.95, 2341: 6.95, 2342: 4.95, 2343: 5.95, 2344: 5.95, 2345: 5.95, 2346: 5.95, 2347: 4.95, 2348: 4.95, 2349: 5.95, 2350: 6.95, 2351: 8.25, 2352: 8.25, 2353: 8.25, 2354: 8.25, 2355: 0.42, 2356: 0.42, 2357: 0.42, 2358: 0.42, 2359: 0.42, 2360: 0.42, 2361: 0.39, 2362: 2.08, 2363: 12.5, 2364: 12.5, 2365: 12.5, 2366: 12.5, 2367: 12.5, 2368: 12.5, 2369: 2.08, 2370: 2.89, 2371: 2.89, 2372: 2.89, 2373: 1.25, 2374: 1.25, 2375: 1.25, 2376: 1.25, 2377: 1.25, 2378: 4.95, 2379: 1.25, 2380: 1.65, 2381: 7.5, 2382: 1.95, 2383: 1.95, 2384: 1.95, 2385: 1.95, 2386: 1.95, 2387: 2.08, 2388: 2.08, 2389: 1.65, 2390: 2.95, 2391: 2.95, 2392: 2.99, 2393: 1.65, 2394: 1.65, 2396: 1.65, 2397: 0.42, 2399: 0.42, 2400: 0.42, 2401: 0.42, 2402: 3.0, 2404: 4.25, 2405: 2.0, 2406: 4.65, 2407: 5.45, 2408: 6.35, 2410: 0.42, 2411: 0.42, 2412: 4.95, 2413: 1.95, 2415: 8.95, 2416: 0.85, 2417: 0.39, 2423: 0.65, 2424: 2.95, 2425: 0.65, 2426: 1.95, 2427: 2.95, 2429: 0.19, 2433: 1.95, 2434: 1.95, 2435: 1.95, 2436: 1.95, 2438: 1.25, 2440: 0.83, 2441: 3.35, 2443: 1.65, 2444: 2.95, 2445: 0.83, 2447: 0.83, 2448: 0.83, 2449: 0.38, 2450: 0.38, 2453: 0.38, 2454: 0.38, 2455: 0.38, 2457: 1.25, 2460: 1.95, 2462: 0.85, 2463: 2.1, 2464: 1.25, 2465: 0.85, 2466: 0.85, 2467: 1.65, 2468: 1.65, 2471: 0.85, 2472: 1.25, 2473: 1.25, 2474: 4.95, 2475: 0.39, 2476: 2.1, 2477: 0.38, 2478: 0.39, 2479: 0.19, 2480: 0.42, 2481: 0.85, 2482: 0.85, 2483: 0.39, 2484: 0.79, 2486: 0.38, 2487: 0.38, 2488: 1.69, 2489: 1.25, 2490: 1.25, 2491: 0.39, 2493: 4.95, 2494: 0.39, 2495: 0.79, 2496: 1.65, 2498: 1.25, 2500: 0.39, 2502: 0.39, 2503: 2.95, 2504: 0.39, 2505: 1.45, 2506: 1.49, 2507: 1.49, 2508: 9.95, 2509: 2.95, 2511: 0.19, 2513: 0.39, 2514: 0.39, 2516: 9.95, 2517: 9.95, 2518: 0.39, 2519: 0.39, 2520: 0.39, 2522: 0.39, 2523: 0.39, 2524: 0.39, 2525: 0.39, 2526: 0.39, 2530: 3.75, 2531: 4.95, 2532: 6.95, 2535: 0.85, 2536: 1.25, 2537: 0.85, 2538: 0.42, 2540: 0.42, 2541: 0.42, 2543: 0.85, 2544: 0.85, 2546: 0.21, 2547: 0.42, 2552: 2.95, 2553: 1.55, 2554: 4.25, 2555: 1.45, 2556: 1.45, 2557: 1.25, 2558: 0.19, 2559: 0.85, 2560: 1.25, 2561: 0.85, 2562: 16.95, 2563: 4.95, 2564: 4.95, 2565: 4.95, 2566: 4.95, 2570: 0.12, 2572: 0.39, 2573: 1.25, 2574: 1.25, 2575: 1.25, 2576: 0.83, 2577: 0.83, 2578: 0.39, 2579: 2.95, 2580: 3.75, 2581: 2.95, 2582: 2.95, 2583: 0.19, 2584: 0.42, 2585: 0.42, 2586: 0.65, 2587: 0.65, 2588: 1.65, 2589: 0.85, 2590: 0.42, 2591: 0.79, 2593: 0.79, 2594: 0.79, 2595: 0.12, 2597: 1.25, 2598: 1.25, 2599: 4.95, 2600: 4.95, 2601: 5.95, 2602: 10.65, 2603: 0.75, 2605: 0.85, 2607: 2.55, 2608: 3.75, 2609: 2.55, 2611: 5.45, 2612: 5.45, 2613: 1.65, 2614: 1.95, 2615: 0.29, 2616: 0.39, 2617: 1.95, 2618: 1.95, 2619: 2.1, 2620: 2.1, 2621: 7.95, 2622: 7.95, 2623: 7.95, 2624: 7.95, 2625: 7.95, 2626: 7.95, 2627: 7.95, 2628: 7.95, 2629: 7.95, 2630: 7.95, 2631: 3.45, 2632: 0.39, 2633: 0.39, 2634: 0.39, 2635: 0.29, 2636: 0.29, 2637: 1.95, 2638: 0.83, 2640: 1.95, 2644: 0.83, 2645: 1.65, 2646: 1.65, 2647: 5.45, 2648: 0.35, 2649: 3.75, 2650: 0.85, 2652: 0.42, 2653: 1.25, 2654: 2.95, 2655: 2.95, 2656: 0.42, 2657: 0.85, 2658: 3.95, 2659: 0.36, 2661: 0.53, 2662: 0.53, 2663: 0.85, 2665: 0.42, 2666: 0.95, 2667: 1.25, 2668: 0.85, 2669: 0.65, 2670: 1.95, 2671: 1.95, 2672: 1.25, 2673: 0.85, 2674: 0.85, 2675: 0.29, 2676: 0.19, 2677: 2.1, 2678: 2.1, 2679: 2.1, 2680: 1.25, 2681: 0.42, 2682: 0.85, 2683: 0.85, 2684: 1.45, 2685: 9.95, 2686: 0.85, 2688: 1.65, 2689: 2.95, 2690: 2.95, 2691: 2.95, 2692: 2.55, 2693: 2.55, 2694: 2.55, 2695: 2.55, 2696: 1.25, 2697: 1.25, 2698: 1.25, 2699: 4.25, 2700: 4.25, 2701: 4.25, 2702: 4.25, 2703: 4.25, 2704: 4.25, 2705: 4.25, 2706: 1.49, 2707: 4.13, 2709: 1.25, 2710: 0.79, 2711: 0.39, 2712: 2.55, 2714: 0.79, 2715: 1.65, 2716: 1.25, 2717: 1.69, 2718: 0.79, 2719: 1.25, 2721: 1.25, 2722: 5.95, 2723: 1.95, 2724: 1.25, 2725: 0.85, 2726: 0.39, 2727: 0.39, 2728: 0.39, 2729: 0.29, 2730: 0.29, 2731: 0.19, 2732: 0.19, 2733: 0.85, 2734: 3.75, 2735: 2.95, 2736: 0.42, 2737: 0.42, 2738: 0.42, 2742: 2.1, 2743: 2.95, 2744: 0.39, 2745: 0.39, 2746: 0.42, 2747: 0.42, 2748: 0.42, 2749: 0.85, 2750: 0.85, 2751: 0.85, 2753: 2.95, 2755: 5.75, 2756: 6.75, 2757: 6.75, 2761: 0.38, 2762: 0.38, 2763: 0.85, 2764: 0.22, 2765: 0.29, 2766: 0.29, 2767: 0.19, 2768: 0.19, 2770: 0.19, 2771: 3.75, 2772: 3.75, 2773: 3.75, 2774: 3.75, 2775: 7.65, 2776: 2.55, 2777: 6.95, 2778: 7.95, 2779: 8.95, 2780: 2.95, 2781: 1.45, 2782: 1.45, 2783: 2.1, 2784: 0.55, 2785: 0.55, 2786: 0.55, 2787: 2.1, 2788: 2.1, 2789: 2.1, 2790: 2.1, 2792: 1.25, 2793: 1.25, 2794: 1.25, 2795: 1.25, 2797: 1.25, 2798: 1.25, 2799: 0.85, 2800: 0.85, 2802: 4.25, 2803: 4.25, 2804: 4.25, 2805: 4.65, 2806: 4.65, 2807: 2.95, 2808: 2.95, 2809: 1.65, 2810: 1.65, 2811: 0.85, 2812: 0.29, 2813: 39.95, 2814: 2.95, 2815: 2.95, 2816: 1.25, 2817: 0.21, 2820: 0.19, 2822: 0.19, 2823: 0.65, 2824: 1.95, 2825: 0.85, 2827: 0.42, 2828: 0.65, 2829: 2.95, 2830: 0.42, 2831: 2.95, 2832: 0.42, 2833: 2.95, 2834: 0.42, 2835: 0.19, 2836: 0.19, 2837: 0.19, 2838: 3.75, 2839: 3.75, 2840: 10.95, 2841: 1.95, 2842: 1.95, 2843: 0.38, 2844: 2.55, 2845: 16.95, 2846: 6.95, 2847: 8.49, 2848: 5.95, 2849: 2.1, 2850: 1.25, 2851: 1.25, 2853: 0.39, 2854: 0.79, 2855: 4.15, 2856: 1.25, 2858: 0.39, 2859: 2.95, 2860: 0.85, 2861: 0.85, 2862: 1.49, 2863: 1.49, 2864: 2.55, 2865: 1.25, 2866: 2.95, 2867: 1.25, 2868: 3.75, 2870: 2.55, 2871: 2.55, 2872: 2.55, 2873: 2.55, 2874: 2.55, 2875: 3.75, 2876: 3.75, 2877: 3.75, 2878: 3.75, 2879: 3.75, 2880: 1.25, 2881: 1.25, 2882: 1.25, 2883: 1.25, 2884: 1.25, 2885: 0.85, 2886: 1.95, 2887: 1.95, 2888: 0.39, 2889: 0.39, 2890: 0.85, 2891: 0.65, 2892: 0.65, 2893: 0.42, 2894: 0.42, 2896: 1.65, 2897: 1.65, 2900: 2.95, 2901: 0.85, 2902: 0.85, 2903: 7.95, 2904: 2.95, 2905: 2.95, 2906: 0.21, 2907: 1.25, 2908: 1.25, 2910: 1.25, 2911: 5.95, 2912: 1.95, 2913: 3.75, 2914: 3.75, 2915: 2.55, 2916: 2.95, 2917: 2.95, 2918: 1.65, 2919: 0.42, 2920: 0.42, 2921: 0.42, 2922: 0.42, 2923: 0.42, 2924: 0.42, 2925: 1.25, 2926: 1.25, 2928: 7.95, 2929: 8.5, 2933: 29.95, 2936: 0.85, 2937: 0.85, 2938: 4.95, 2939: 7.95, 2940: 59.95, 2941: 5.95, 2942: 6.95, 2943: 6.95, 2944: 2.55, 2945: 0.79, 2946: 0.79, 2947: 0.79, 2948: 2.55, 2949: 2.55, 2950: 0.79, 2951: 0.79, 2952: 5.95, 2954: 0.65, 2955: 0.65, 2956: 2.95, 2958: 2.55, 2959: 3.95, 2960: 1.25, 2961: 3.75, 2962: 4.25, 2963: 5.95, 2964: 4.25, 2967: 0.42, 2969: 8.95, 2970: 2.95, 2971: 9.95, 2972: 9.95, 2973: 4.95, 2974: 5.95, 2975: 9.95, 2976: 9.95, 2977: 7.95, 2978: 2.95, 2979: 1.95, 2980: 0.75, 2984: 1.95, 2986: 1.25, 2988: 0.42, 2990: 3.75, 2992: 0.39, 2993: 0.79, 2994: 1.25, 2995: 0.65, 2996: 1.45, 2997: 1.25, 2998: 1.95, 3000: 3.75, 3001: 4.65, 3002: 7.95, 3005: 12.75, 3006: 2.55, 3007: 2.55, 3008: 1.25, 3009: 2.12, 3010: 1.69, 3011: 1.25, 3012: 2.1, 3013: 2.1, 3017: 2.95, 3018: 2.95, 3020: 1.25, 3021: 0.39, 3022: 1.45, 3023: 2.1, 3025: 12.75, 3026: 39.95, 3027: 2.1, 3028: 0.79, 3029: 4.25, 3030: 5.95, 3031: 0.85, 3032: 7.95, 3034: 0.85, 3035: 0.65, 3036: 1.25, 3037: 0.85, 3038: 1.25, 3041: 3.75, 3042: 5.95, 3043: 2.1, 3044: 3.75, 3045: 1.69, 3046: 1.69, 3047: 1.69, 3050: 1.95, 3051: 1.95, 3052: 1.25, 3053: 1.95, 3054: 1.95, 3055: 1.95, 3056: 2.95, 3057: 3.75, 3058: 3.75, 3059: 16.95, 3060: 16.95, 3061: 1.65, 3062: 1.25, 3063: 1.25, 3064: 1.25, 3065: 1.25, 3067: 1.25, 3068: 1.25, 3069: 1.69, 3070: 7.5, 3071: 6.35, 3072: 3.75, 3073: 3.95, 3074: 2.1, 3076: 5.95, 3077: 7.65, 3078: 5.95, 3079: 3.75, 3080: 3.75, 3081: 4.65, 3082: 4.65, 3083: 1.25, 3084: 5.95, 3085: 1.25, 3086: 6.95, 3087: 3.75, 3090: 3.75, 3092: 2.55, 3093: 2.55, 3094: 0.29, 3095: 0.29, 3096: 0.29, 3097: 0.29, 3098: 2.1, 3099: 0.39, 3100: 2.1, 3101: 0.39, 3102: 0.19, 3103: 2.55, 3104: 2.55, 3105: 1.65, 3106: 0.85, 3107: 1.25, 3108: 1.25, 3109: 1.65, 3110: 0.65, 3111: 0.79, 3112: 0.79, 3114: 3.75, 3115: 3.75, 3118: 12.75, 3119: 12.75, 3120: 12.75, 3121: 12.75, 3122: 12.75, 3123: 12.75, 3124: 4.25, 3125: 0.95, 3126: 0.85, 3127: 0.85, 3128: 9.95, 3130: 0.79, 3131: 1.25, 3133: 4.65, 3134: 4.65, 3135: 1.45, 3136: 1.45, 3137: 1.45, 3138: 0.55, 3140: 0.55, 3141: 0.55, 3142: 0.42, 3143: 0.42, 3144: 4.15, 3145: 4.15, 3146: 4.15, 3147: 4.15, 3148: 0.85, 3149: 4.95, 3150: 5.95, 3151: 5.95, 3152: 0.65, 3153: 2.55, 3155: 0.42, 3156: 0.42, 3157: 2.55, 3158: 1.25, 3159: 1.25, 3160: 1.25, 3161: 2.1, 3162: 2.55, 3164: 1.65, 3165: 1.65, 3166: 1.65, 3167: 1.65, 3168: 0.85, 3169: 1.95, 3171: 1.95, 3172: 1.95, 3173: 4.95, 3176: 0.65, 3177: 0.65, 3178: 0.65, 3179: 0.65, 3180: 1.25, 3181: 1.25, 3182: 1.25, 3183: 4.25, 3184: 4.25, 3185: 1.25, 3186: 4.25, 3187: 1.25, 3188: 1.25, 3189: 2.1, 3190: 1.65, 3191: 1.65, 3192: 1.65, 3193: 1.65, 3194: 1.65, 3196: 4.95, 3197: 6.35, 3198: 7.95, 3199: 1.25, 3200: 1.25, 3201: 1.25, 3202: 1.25, 3203: 1.25, 3204: 1.25, 3205: 1.25, 3206: 1.25, 3207: 2.1, 3208: 2.95, 3209: 3.75, 3210: 3.75, 3211: 0.85, 3212: 1.65, 3214: 5.45, 3216: 12.75, 3217: 18.95, 3219: 0.39, 3220: 0.39, 3221: 0.39, 3222: 0.39, 3223: 0.19, 3224: 0.85, 3225: 0.85, 3226: 2.95, 3227: 2.1, 3228: 2.95, 3230: 0.39, 3231: 0.19, 3232: 1.95, 3233: 3.75, 3235: 2.08, 3236: 2.08, 3237: 2.08, 3239: 2.95, 3240: 2.55, 3241: 2.55, 3243: 0.29, 3244: 1.65, 3245: 1.65, 3246: 1.65, 3247: 0.65, 3248: 1.25, 3249: 2.95, 3250: 2.55, 3251: 2.55, 3252: 4.95, 3254: 4.95, 3255: 1.25, 3256: 1.25, 3257: 1.25, 3258: 1.65, 3259: 0.79, 3260: 0.79, 3261: 0.79, 3262: 1.25, 3263: 0.83, 3264: 0.83, 3265: 0.83, 3266: 1.95, 3267: 1.95, 3268: 1.95, 3269: 7.95, 3270: 7.95, 3271: 7.95, 3272: 7.95, 3273: 7.95, 3274: 7.95, 3275: 3.95, 3276: 1.95, 3277: 3.95, 3278: 1.95, 3279: 2.55, 3280: 2.1, 3281: 1.95, 3282: 1.95, 3283: 0.39, 3284: 18.95, 3285: 12.75, 3286: 12.75, 3287: 4.25, 3289: 1.25, 3290: 1.25, 3291: 1.25, 3292: 1.25, 3294: 2.1, 3295: 2.1, 3296: 2.1, 3297: 0.42, 3298: 2.55, 3299: 4.95, 3300: 0.42, 3301: 0.85, 3302: 0.85, 3303: 1.25, 3304: 1.25, 3305: 1.25, 3306: 1.25, 3307: 4.65, 3308: 1.25, 3309: 1.25, 3310: 2.95, 3311: 2.95, 3313: 0.42, 3314: 0.42, 3315: 1.65, 3316: 0.85, 3317: 0.85, 3318: 0.85, 3319: 0.85, 3320: 0.65, 3321: 2.1, 3322: 2.1, 3323: 0.85, 3324: 0.65, 3325: 0.42, 3326: 1.25, 3327: 0.42, 3328: 0.42, 3329: 0.12, 3330: 2.55, 3331: 1.65, 3332: 1.65, 3333: 2.1, 3334: 0.79, 3335: 0.29, 3336: 0.29, 3337: 1.65, 3339: 0.65, 3341: 1.0, 3342: 0.85, 3343: 0.29, 3344: 0.29, 3345: 0.29, 3346: 0.29, 3347: 0.29, 3348: 0.85, 3349: 0.85, 3350: 4.95, 3351: 4.95, 3352: 4.95, 3353: 5.95, 3354: 5.95, 3355: 5.95, 3357: 4.25, 3359: 4.25, 3360: 3.75, 3362: 3.75, 3363: 3.75, 3364: 3.75, 3365: 8.95, 3366: 8.95, 3367: 8.95, 3371: 2.95, 3372: 3.75, 3373: 3.75, 3374: 9.95, 3375: 9.95, 3376: 2.95, 3377: 4.25, 3378: 8.5, 3379: 4.25, 3380: 4.25, 3381: 4.25, 3382: 4.95, 3383: 4.95, 3384: 4.95, 3386: 3.75, 3387: 4.25, 3392: 3.75, 3397: 8.5, 3402: 1.0, 3403: 1.0, 3404: 1.0, 3405: 1.0, 3406: 6.25, 3408: 10.75, 3411: 7.95, 3413: 7.95, 3414: 7.95, 3424: 3.5, 3425: 3.5, 3429: 9.96, 3433: 6.95, 3434: 6.95, 3437: 1.25, 3438: 0.38, 3439: 0.38, 3441: 1.65, 3442: 1.65, 3443: 1.65, 3444: 1.65, 3447: 5.95, 3448: 12.75, 3449: 8.5, 3450: 8.5, 3451: 3.75, 3452: 3.75, 3453: 6.75, 3460: 4.95, 3462: 2.55, 3464: 4.95, 3465: 4.95, 3466: 4.95, 3467: 6.35, 3468: 6.35, 3470: 0.19, 3472: 0.85, 3473: 1.63, 3474: 1.63, 3475: 0.19, 3476: 0.85, 3477: 2.55, 3478: 2.55, 3479: 2.55, 3480: 2.55, 3482: 2.55, 3486: 1.05, 3487: 2.55, 3488: 1.69, 3490: 2.46, 3491: 4.25, 3492: 4.25, 3494: 4.95, 3496: 4.95, 3497: 5.95, 3498: 5.95, 3499: 5.95, 3500: 5.95, 3502: 9.95, 3503: 9.95, 3504: 0.85, 3505: 0.85, 3506: 2.1, 3507: 0.85, 3511: 2.95, 3512: 2.95, 3517: 2.95, 3519: 4.95, 3521: 9.95, 3523: 4.95, 3524: 4.95, 3525: 4.95, 3528: 4.95, 3529: 7.5, 3530: 3.75, 3531: 5.95, 3533: 9.95, 3534: 12.75, 3535: 6.36, 3540: 8.95, 3541: 7.5, 3543: 4.95, 3546: 6.95, 3547: 6.95, 3548: 6.95, 3549: 6.95, 3550: 4.95, 3551: 4.95, 3552: 4.95, 3553: 4.95, 3555: 2.95, 3556: 2.95, 3557: 2.95, 3558: 7.5, 3560: 1.95, 3561: 1.95, 3563: 4.15, 3566: 2.55, 3567: 1.65, 3569: 2.55, 3570: 8.95, 3571: 8.95, 3572: 8.95, 3573: 7.5, 3576: 7.5, 3580: 2.95, 3581: 2.95, 3583: 11.95, 3587: 9.95, 3588: 9.95, 3591: 2.95, 3593: 8.95, 3594: 8.95, 3595: 8.95, 3596: 4.25, 3597: 4.25, 3598: 4.25, 3599: 4.25, 3600: 2.95, 3601: 2.95, 3603: 2.55, 3604: 7.5, 3607: 2.95, 3608: 2.95, 3609: 4.95, 3610: 4.25, 3612: 8.95, 3613: 12.75, 3616: 4.25, 3617: 4.25, 3618: 6.35, 3620: 6.35, 3622: 4.25, 3623: 4.25, 3624: 4.25, 3625: 4.25, 3626: 4.25, 3627: 2.95, 3628: 2.95, 3629: 2.95, 3630: 2.95, 3631: 2.95, 3632: 2.95, 3635: 3.35, 3636: 1.65, 3637: 1.65, 3638: 4.95, 3639: 4.95, 3640: 2.55, 3641: 2.1, 3642: 2.1, 3643: 2.1, 3645: 2.95, 3646: 1.0, 3647: 1.0, 3648: 5.95, 3652: 1.25, 3654: 1.25, 3655: 1.25, 3657: 0.29, 3658: 0.29, 3660: 0.29, 3661: 1.25, 3662: 1.25, 3663: 1.25, 3664: 1.25, 3665: 0.29, 3667: 1.25, 3668: 1.25, 3669: 1.25, 3672: 0.29, 3674: 0.29, 3676: 15.0, 3677: 50.0}\n"
     ]
    }
   ],
   "source": [
    "dicts = {}\n",
    "keys = list(set(test_norm.StockCode))\n",
    "#values = [\"Hi\", \"I\", \"am\", \"John\"]\n",
    "for i in keys:\n",
    "        dicts[i] = df_norm[df_norm.StockCode==i].UnitPrice.mode()[0]\n",
    "print(dicts)"
   ]
  },
  {
   "cell_type": "code",
   "execution_count": 501,
   "metadata": {
    "colab": {
     "base_uri": "https://localhost:8080/"
    },
    "executionInfo": {
     "elapsed": 5969,
     "status": "ok",
     "timestamp": 1606067512522,
     "user": {
      "displayName": "adrish bir",
      "photoUrl": "https://lh3.googleusercontent.com/a-/AOh14GjvnDCPOpuviVvO_227LaSth7sl8OIBxCSMqQmFO4c=s64",
      "userId": "15664726640138518444"
     },
     "user_tz": -330
    },
    "id": "OEY89Eo9oQxy",
    "outputId": "710615f3-c54f-4857-bbd0-0ae300e60489"
   },
   "outputs": [
    {
     "data": {
      "text/plain": [
       "[3668, 3669, 3672, 3674, 3676, 3677]"
      ]
     },
     "execution_count": 501,
     "metadata": {
      "tags": []
     },
     "output_type": "execute_result"
    }
   ],
   "source": [
    "list(set(test_norm.StockCode))[3330:]"
   ]
  },
  {
   "cell_type": "code",
   "execution_count": 502,
   "metadata": {
    "colab": {
     "base_uri": "https://localhost:8080/"
    },
    "executionInfo": {
     "elapsed": 5418,
     "status": "ok",
     "timestamp": 1606067512524,
     "user": {
      "displayName": "adrish bir",
      "photoUrl": "https://lh3.googleusercontent.com/a-/AOh14GjvnDCPOpuviVvO_227LaSth7sl8OIBxCSMqQmFO4c=s64",
      "userId": "15664726640138518444"
     },
     "user_tz": -330
    },
    "id": "RDZBBPtgo2gX",
    "outputId": "2eef0f9d-f4b4-4de4-b1d0-11619b2342eb"
   },
   "outputs": [
    {
     "data": {
      "text/plain": [
       "1.25"
      ]
     },
     "execution_count": 502,
     "metadata": {
      "tags": []
     },
     "output_type": "execute_result"
    }
   ],
   "source": [
    "dicts.get(3669)"
   ]
  },
  {
   "cell_type": "code",
   "execution_count": 503,
   "metadata": {
    "colab": {
     "base_uri": "https://localhost:8080/"
    },
    "executionInfo": {
     "elapsed": 4842,
     "status": "ok",
     "timestamp": 1606067512525,
     "user": {
      "displayName": "adrish bir",
      "photoUrl": "https://lh3.googleusercontent.com/a-/AOh14GjvnDCPOpuviVvO_227LaSth7sl8OIBxCSMqQmFO4c=s64",
      "userId": "15664726640138518444"
     },
     "user_tz": -330
    },
    "id": "vdW0OenhYWYc",
    "outputId": "5b4e3ace-579d-4d68-a5fb-e31d8313288d"
   },
   "outputs": [
    {
     "data": {
      "text/plain": [
       "0"
      ]
     },
     "execution_count": 503,
     "metadata": {
      "tags": []
     },
     "output_type": "execute_result"
    }
   ],
   "source": [
    "test_norm['UnitPrice'] = test_norm['StockCode'].apply(lambda x : dicts.get(x))\n",
    "test_norm.UnitPrice.isnull().sum()"
   ]
  },
  {
   "cell_type": "code",
   "execution_count": 504,
   "metadata": {
    "colab": {
     "base_uri": "https://localhost:8080/",
     "height": 297
    },
    "executionInfo": {
     "elapsed": 3765,
     "status": "ok",
     "timestamp": 1606067512528,
     "user": {
      "displayName": "adrish bir",
      "photoUrl": "https://lh3.googleusercontent.com/a-/AOh14GjvnDCPOpuviVvO_227LaSth7sl8OIBxCSMqQmFO4c=s64",
      "userId": "15664726640138518444"
     },
     "user_tz": -330
    },
    "id": "kGNClH_iYYY8",
    "outputId": "4fe6f832-1756-432c-fe0a-204501e30a14"
   },
   "outputs": [
    {
     "data": {
      "text/plain": [
       "<matplotlib.axes._subplots.AxesSubplot at 0x7feeae115278>"
      ]
     },
     "execution_count": 504,
     "metadata": {
      "tags": []
     },
     "output_type": "execute_result"
    },
    {
     "data": {
      "image/png": "[encoded data removed]",
      "text/plain": [
       "<Figure size 432x288 with 1 Axes>"
      ]
     },
     "metadata": {
      "needs_background": "light",
      "tags": []
     },
     "output_type": "display_data"
    }
   ],
   "source": [
    "sns.boxplot(x='UnitPrice',data=test_norm)"
   ]
  },
  {
   "cell_type": "code",
   "execution_count": 506,
   "metadata": {
    "colab": {
     "base_uri": "https://localhost:8080/",
     "height": 141
    },
    "executionInfo": {
     "elapsed": 1086,
     "status": "ok",
     "timestamp": 1606067525147,
     "user": {
      "displayName": "adrish bir",
      "photoUrl": "https://lh3.googleusercontent.com/a-/AOh14GjvnDCPOpuviVvO_227LaSth7sl8OIBxCSMqQmFO4c=s64",
      "userId": "15664726640138518444"
     },
     "user_tz": -330
    },
    "id": "vrggdF7fYsCk",
    "outputId": "22c6a5ba-6e19-457c-fa24-ecdd59f398cf"
   },
   "outputs": [
    {
     "data": {
      "text/html": [
       "<div>\n",
       "<style scoped>\n",
       "    .dataframe tbody tr th:only-of-type {\n",
       "        vertical-align: middle;\n",
       "    }\n",
       "\n",
       "    .dataframe tbody tr th {\n",
       "        vertical-align: top;\n",
       "    }\n",
       "\n",
       "    .dataframe thead th {\n",
       "        text-align: right;\n",
       "    }\n",
       "</style>\n",
       "<table border=\"1\" class=\"dataframe\">\n",
       "  <thead>\n",
       "    <tr style=\"text-align: right;\">\n",
       "      <th></th>\n",
       "      <th>InvoiceNo</th>\n",
       "      <th>StockCode</th>\n",
       "      <th>Description</th>\n",
       "      <th>Quantity</th>\n",
       "      <th>CustomerID</th>\n",
       "      <th>Country</th>\n",
       "      <th>Year</th>\n",
       "      <th>Month</th>\n",
       "      <th>Day</th>\n",
       "      <th>Timelight</th>\n",
       "      <th>Weekday</th>\n",
       "      <th>UnitPrice</th>\n",
       "    </tr>\n",
       "  </thead>\n",
       "  <tbody>\n",
       "    <tr>\n",
       "      <th>0</th>\n",
       "      <td>3139</td>\n",
       "      <td>1709</td>\n",
       "      <td>1079</td>\n",
       "      <td>3</td>\n",
       "      <td>16161.0</td>\n",
       "      <td>35</td>\n",
       "      <td>2011</td>\n",
       "      <td>A</td>\n",
       "      <td>week3</td>\n",
       "      <td>Noon</td>\n",
       "      <td>Tuesday</td>\n",
       "      <td>1.65</td>\n",
       "    </tr>\n",
       "    <tr>\n",
       "      <th>1</th>\n",
       "      <td>617</td>\n",
       "      <td>510</td>\n",
       "      <td>3457</td>\n",
       "      <td>1</td>\n",
       "      <td>17341.0</td>\n",
       "      <td>35</td>\n",
       "      <td>2010</td>\n",
       "      <td>C</td>\n",
       "      <td>week1</td>\n",
       "      <td>Noon</td>\n",
       "      <td>Wednesday</td>\n",
       "      <td>1.25</td>\n",
       "    </tr>\n",
       "    <tr>\n",
       "      <th>2</th>\n",
       "      <td>14653</td>\n",
       "      <td>604</td>\n",
       "      <td>694</td>\n",
       "      <td>36</td>\n",
       "      <td>15158.0</td>\n",
       "      <td>35</td>\n",
       "      <td>2011</td>\n",
       "      <td>C</td>\n",
       "      <td>week3</td>\n",
       "      <td>Noon</td>\n",
       "      <td>Tuesday</td>\n",
       "      <td>4.25</td>\n",
       "    </tr>\n",
       "  </tbody>\n",
       "</table>\n",
       "</div>"
      ],
      "text/plain": [
       "   InvoiceNo  StockCode  Description  ...  Timelight    Weekday  UnitPrice\n",
       "0       3139       1709         1079  ...       Noon    Tuesday       1.65\n",
       "1        617        510         3457  ...       Noon  Wednesday       1.25\n",
       "2      14653        604          694  ...       Noon    Tuesday       4.25\n",
       "\n",
       "[3 rows x 12 columns]"
      ]
     },
     "execution_count": 506,
     "metadata": {
      "tags": []
     },
     "output_type": "execute_result"
    }
   ],
   "source": [
    "test_norm.head(3)"
   ]
  },
  {
   "cell_type": "markdown",
   "metadata": {
    "id": "TEE4CPdYqIVB"
   },
   "source": [
    "### test_exc"
   ]
  },
  {
   "cell_type": "code",
   "execution_count": 507,
   "metadata": {
    "colab": {
     "base_uri": "https://localhost:8080/",
     "height": 202
    },
    "executionInfo": {
     "elapsed": 1064,
     "status": "ok",
     "timestamp": 1606067532923,
     "user": {
      "displayName": "adrish bir",
      "photoUrl": "https://lh3.googleusercontent.com/a-/AOh14GjvnDCPOpuviVvO_227LaSth7sl8OIBxCSMqQmFO4c=s64",
      "userId": "15664726640138518444"
     },
     "user_tz": -330
    },
    "id": "xogCKp7SqXva",
    "outputId": "a7470795-f923-4941-ca50-3b6daddf3319"
   },
   "outputs": [
    {
     "data": {
      "text/html": [
       "<div>\n",
       "<style scoped>\n",
       "    .dataframe tbody tr th:only-of-type {\n",
       "        vertical-align: middle;\n",
       "    }\n",
       "\n",
       "    .dataframe tbody tr th {\n",
       "        vertical-align: top;\n",
       "    }\n",
       "\n",
       "    .dataframe thead th {\n",
       "        text-align: right;\n",
       "    }\n",
       "</style>\n",
       "<table border=\"1\" class=\"dataframe\">\n",
       "  <thead>\n",
       "    <tr style=\"text-align: right;\">\n",
       "      <th></th>\n",
       "      <th>InvoiceNo</th>\n",
       "      <th>StockCode</th>\n",
       "      <th>Description</th>\n",
       "      <th>Quantity</th>\n",
       "      <th>CustomerID</th>\n",
       "      <th>Country</th>\n",
       "      <th>Year</th>\n",
       "      <th>Month</th>\n",
       "      <th>Day</th>\n",
       "      <th>Timelight</th>\n",
       "      <th>Weekday</th>\n",
       "    </tr>\n",
       "  </thead>\n",
       "  <tbody>\n",
       "    <tr>\n",
       "      <th>362</th>\n",
       "      <td>3711</td>\n",
       "      <td>3681</td>\n",
       "      <td>2140</td>\n",
       "      <td>1</td>\n",
       "      <td>12924.0</td>\n",
       "      <td>35</td>\n",
       "      <td>2011</td>\n",
       "      <td>A</td>\n",
       "      <td>week1</td>\n",
       "      <td>Morning</td>\n",
       "      <td>Wednesday</td>\n",
       "    </tr>\n",
       "    <tr>\n",
       "      <th>378</th>\n",
       "      <td>5436</td>\n",
       "      <td>1366</td>\n",
       "      <td>2407</td>\n",
       "      <td>4</td>\n",
       "      <td>16947.0</td>\n",
       "      <td>35</td>\n",
       "      <td>2011</td>\n",
       "      <td>A</td>\n",
       "      <td>week2</td>\n",
       "      <td>Morning</td>\n",
       "      <td>Monday</td>\n",
       "    </tr>\n",
       "    <tr>\n",
       "      <th>640</th>\n",
       "      <td>2524</td>\n",
       "      <td>3683</td>\n",
       "      <td>2624</td>\n",
       "      <td>3</td>\n",
       "      <td>12464.0</td>\n",
       "      <td>3</td>\n",
       "      <td>2011</td>\n",
       "      <td>A</td>\n",
       "      <td>week1</td>\n",
       "      <td>Noon</td>\n",
       "      <td>Thursday</td>\n",
       "    </tr>\n",
       "    <tr>\n",
       "      <th>679</th>\n",
       "      <td>7846</td>\n",
       "      <td>3683</td>\n",
       "      <td>2624</td>\n",
       "      <td>1</td>\n",
       "      <td>12399.0</td>\n",
       "      <td>3</td>\n",
       "      <td>2011</td>\n",
       "      <td>B</td>\n",
       "      <td>week1</td>\n",
       "      <td>Noon</td>\n",
       "      <td>Thursday</td>\n",
       "    </tr>\n",
       "    <tr>\n",
       "      <th>1345</th>\n",
       "      <td>12623</td>\n",
       "      <td>3683</td>\n",
       "      <td>2624</td>\n",
       "      <td>1</td>\n",
       "      <td>12437.0</td>\n",
       "      <td>13</td>\n",
       "      <td>2011</td>\n",
       "      <td>C</td>\n",
       "      <td>week3</td>\n",
       "      <td>Noon</td>\n",
       "      <td>Thursday</td>\n",
       "    </tr>\n",
       "  </tbody>\n",
       "</table>\n",
       "</div>"
      ],
      "text/plain": [
       "      InvoiceNo  StockCode  Description  ...    Day  Timelight    Weekday\n",
       "362        3711       3681         2140  ...  week1    Morning  Wednesday\n",
       "378        5436       1366         2407  ...  week2    Morning     Monday\n",
       "640        2524       3683         2624  ...  week1       Noon   Thursday\n",
       "679        7846       3683         2624  ...  week1       Noon   Thursday\n",
       "1345      12623       3683         2624  ...  week3       Noon   Thursday\n",
       "\n",
       "[5 rows x 11 columns]"
      ]
     },
     "execution_count": 507,
     "metadata": {
      "tags": []
     },
     "output_type": "execute_result"
    }
   ],
   "source": [
    "test_exc.head()"
   ]
  },
  {
   "cell_type": "code",
   "execution_count": 508,
   "metadata": {
    "colab": {
     "base_uri": "https://localhost:8080/"
    },
    "executionInfo": {
     "elapsed": 1087,
     "status": "ok",
     "timestamp": 1606067536400,
     "user": {
      "displayName": "adrish bir",
      "photoUrl": "https://lh3.googleusercontent.com/a-/AOh14GjvnDCPOpuviVvO_227LaSth7sl8OIBxCSMqQmFO4c=s64",
      "userId": "15664726640138518444"
     },
     "user_tz": -330
    },
    "id": "0lHpVbnjqiGz",
    "outputId": "ad010517-c332-4e16-cddc-6b5b243035fa"
   },
   "outputs": [
    {
     "name": "stdout",
     "output_type": "stream",
     "text": [
      "{3680: 11.17, 3681: 0.85, 3683: 18.0, 1511: 125.0, 1512: 125.0, 1676: 85.0, 1366: 5.95, 3678: 1.6, 3679: 0.01}\n"
     ]
    }
   ],
   "source": [
    "dicts_exc = {}\n",
    "keys = list(set(test_exc.StockCode))\n",
    "#values = [\"Hi\", \"I\", \"am\", \"John\"]\n",
    "for i in keys:\n",
    "        dicts_exc[i] = df_exc[df_exc.StockCode==i].UnitPrice.mode()[0]\n",
    "print(dicts_exc)"
   ]
  },
  {
   "cell_type": "code",
   "execution_count": 509,
   "metadata": {
    "colab": {
     "base_uri": "https://localhost:8080/"
    },
    "executionInfo": {
     "elapsed": 633,
     "status": "ok",
     "timestamp": 1606067536957,
     "user": {
      "displayName": "adrish bir",
      "photoUrl": "https://lh3.googleusercontent.com/a-/AOh14GjvnDCPOpuviVvO_227LaSth7sl8OIBxCSMqQmFO4c=s64",
      "userId": "15664726640138518444"
     },
     "user_tz": -330
    },
    "id": "A-qO1hBRqwe0",
    "outputId": "02562f83-5467-4151-d680-d8578328fcff"
   },
   "outputs": [
    {
     "data": {
      "text/plain": [
       "0"
      ]
     },
     "execution_count": 509,
     "metadata": {
      "tags": []
     },
     "output_type": "execute_result"
    }
   ],
   "source": [
    "test_exc['ModePrice'] = test_exc['StockCode'].apply(lambda x : dicts_exc.get(x))\n",
    "test_exc.ModePrice.isnull().sum()"
   ]
  },
  {
   "cell_type": "code",
   "execution_count": 510,
   "metadata": {
    "colab": {
     "base_uri": "https://localhost:8080/",
     "height": 202
    },
    "executionInfo": {
     "elapsed": 1029,
     "status": "ok",
     "timestamp": 1606067539381,
     "user": {
      "displayName": "adrish bir",
      "photoUrl": "https://lh3.googleusercontent.com/a-/AOh14GjvnDCPOpuviVvO_227LaSth7sl8OIBxCSMqQmFO4c=s64",
      "userId": "15664726640138518444"
     },
     "user_tz": -330
    },
    "id": "y293Mw3cq1of",
    "outputId": "4a7a9665-5ce4-4ed9-accd-afd01d76e083"
   },
   "outputs": [
    {
     "data": {
      "text/html": [
       "<div>\n",
       "<style scoped>\n",
       "    .dataframe tbody tr th:only-of-type {\n",
       "        vertical-align: middle;\n",
       "    }\n",
       "\n",
       "    .dataframe tbody tr th {\n",
       "        vertical-align: top;\n",
       "    }\n",
       "\n",
       "    .dataframe thead th {\n",
       "        text-align: right;\n",
       "    }\n",
       "</style>\n",
       "<table border=\"1\" class=\"dataframe\">\n",
       "  <thead>\n",
       "    <tr style=\"text-align: right;\">\n",
       "      <th></th>\n",
       "      <th>InvoiceNo</th>\n",
       "      <th>StockCode</th>\n",
       "      <th>Description</th>\n",
       "      <th>Quantity</th>\n",
       "      <th>CustomerID</th>\n",
       "      <th>Country</th>\n",
       "      <th>Year</th>\n",
       "      <th>Month</th>\n",
       "      <th>Day</th>\n",
       "      <th>Timelight</th>\n",
       "      <th>Weekday</th>\n",
       "      <th>ModePrice</th>\n",
       "    </tr>\n",
       "  </thead>\n",
       "  <tbody>\n",
       "    <tr>\n",
       "      <th>362</th>\n",
       "      <td>3711</td>\n",
       "      <td>3681</td>\n",
       "      <td>2140</td>\n",
       "      <td>1</td>\n",
       "      <td>12924.0</td>\n",
       "      <td>35</td>\n",
       "      <td>2011</td>\n",
       "      <td>A</td>\n",
       "      <td>week1</td>\n",
       "      <td>Morning</td>\n",
       "      <td>Wednesday</td>\n",
       "      <td>0.85</td>\n",
       "    </tr>\n",
       "    <tr>\n",
       "      <th>378</th>\n",
       "      <td>5436</td>\n",
       "      <td>1366</td>\n",
       "      <td>2407</td>\n",
       "      <td>4</td>\n",
       "      <td>16947.0</td>\n",
       "      <td>35</td>\n",
       "      <td>2011</td>\n",
       "      <td>A</td>\n",
       "      <td>week2</td>\n",
       "      <td>Morning</td>\n",
       "      <td>Monday</td>\n",
       "      <td>5.95</td>\n",
       "    </tr>\n",
       "    <tr>\n",
       "      <th>640</th>\n",
       "      <td>2524</td>\n",
       "      <td>3683</td>\n",
       "      <td>2624</td>\n",
       "      <td>3</td>\n",
       "      <td>12464.0</td>\n",
       "      <td>3</td>\n",
       "      <td>2011</td>\n",
       "      <td>A</td>\n",
       "      <td>week1</td>\n",
       "      <td>Noon</td>\n",
       "      <td>Thursday</td>\n",
       "      <td>18.00</td>\n",
       "    </tr>\n",
       "    <tr>\n",
       "      <th>679</th>\n",
       "      <td>7846</td>\n",
       "      <td>3683</td>\n",
       "      <td>2624</td>\n",
       "      <td>1</td>\n",
       "      <td>12399.0</td>\n",
       "      <td>3</td>\n",
       "      <td>2011</td>\n",
       "      <td>B</td>\n",
       "      <td>week1</td>\n",
       "      <td>Noon</td>\n",
       "      <td>Thursday</td>\n",
       "      <td>18.00</td>\n",
       "    </tr>\n",
       "    <tr>\n",
       "      <th>1345</th>\n",
       "      <td>12623</td>\n",
       "      <td>3683</td>\n",
       "      <td>2624</td>\n",
       "      <td>1</td>\n",
       "      <td>12437.0</td>\n",
       "      <td>13</td>\n",
       "      <td>2011</td>\n",
       "      <td>C</td>\n",
       "      <td>week3</td>\n",
       "      <td>Noon</td>\n",
       "      <td>Thursday</td>\n",
       "      <td>18.00</td>\n",
       "    </tr>\n",
       "  </tbody>\n",
       "</table>\n",
       "</div>"
      ],
      "text/plain": [
       "      InvoiceNo  StockCode  Description  ...  Timelight    Weekday  ModePrice\n",
       "362        3711       3681         2140  ...    Morning  Wednesday       0.85\n",
       "378        5436       1366         2407  ...    Morning     Monday       5.95\n",
       "640        2524       3683         2624  ...       Noon   Thursday      18.00\n",
       "679        7846       3683         2624  ...       Noon   Thursday      18.00\n",
       "1345      12623       3683         2624  ...       Noon   Thursday      18.00\n",
       "\n",
       "[5 rows x 12 columns]"
      ]
     },
     "execution_count": 510,
     "metadata": {
      "tags": []
     },
     "output_type": "execute_result"
    }
   ],
   "source": [
    "test_exc.head()"
   ]
  },
  {
   "cell_type": "code",
   "execution_count": 511,
   "metadata": {
    "colab": {
     "base_uri": "https://localhost:8080/",
     "height": 202
    },
    "executionInfo": {
     "elapsed": 1253,
     "status": "ok",
     "timestamp": 1606067541131,
     "user": {
      "displayName": "adrish bir",
      "photoUrl": "https://lh3.googleusercontent.com/a-/AOh14GjvnDCPOpuviVvO_227LaSth7sl8OIBxCSMqQmFO4c=s64",
      "userId": "15664726640138518444"
     },
     "user_tz": -330
    },
    "id": "187pOC7YqEZr",
    "outputId": "37edccab-431d-4a61-f72f-ff398fcf0b5c"
   },
   "outputs": [
    {
     "data": {
      "text/html": [
       "<div>\n",
       "<style scoped>\n",
       "    .dataframe tbody tr th:only-of-type {\n",
       "        vertical-align: middle;\n",
       "    }\n",
       "\n",
       "    .dataframe tbody tr th {\n",
       "        vertical-align: top;\n",
       "    }\n",
       "\n",
       "    .dataframe thead th {\n",
       "        text-align: right;\n",
       "    }\n",
       "</style>\n",
       "<table border=\"1\" class=\"dataframe\">\n",
       "  <thead>\n",
       "    <tr style=\"text-align: right;\">\n",
       "      <th></th>\n",
       "      <th>InvoiceNo</th>\n",
       "      <th>StockCode</th>\n",
       "      <th>Description</th>\n",
       "      <th>Quantity</th>\n",
       "      <th>UnitPrice</th>\n",
       "      <th>CustomerID</th>\n",
       "      <th>Country</th>\n",
       "      <th>Year</th>\n",
       "      <th>Month</th>\n",
       "      <th>Day</th>\n",
       "      <th>Timelight</th>\n",
       "      <th>Weekday</th>\n",
       "      <th>ModePrice</th>\n",
       "      <th>PriceDiff</th>\n",
       "    </tr>\n",
       "  </thead>\n",
       "  <tbody>\n",
       "    <tr>\n",
       "      <th>258</th>\n",
       "      <td>2087</td>\n",
       "      <td>3683</td>\n",
       "      <td>2624</td>\n",
       "      <td>2</td>\n",
       "      <td>18.0</td>\n",
       "      <td>12693.0</td>\n",
       "      <td>14</td>\n",
       "      <td>2011</td>\n",
       "      <td>A</td>\n",
       "      <td>week3</td>\n",
       "      <td>Noon</td>\n",
       "      <td>Monday</td>\n",
       "      <td>18.0</td>\n",
       "      <td>0.0</td>\n",
       "    </tr>\n",
       "    <tr>\n",
       "      <th>474</th>\n",
       "      <td>9788</td>\n",
       "      <td>3683</td>\n",
       "      <td>2624</td>\n",
       "      <td>1</td>\n",
       "      <td>2.9</td>\n",
       "      <td>17935.0</td>\n",
       "      <td>35</td>\n",
       "      <td>2011</td>\n",
       "      <td>B</td>\n",
       "      <td>week3</td>\n",
       "      <td>Noon</td>\n",
       "      <td>Sunday</td>\n",
       "      <td>18.0</td>\n",
       "      <td>15.1</td>\n",
       "    </tr>\n",
       "    <tr>\n",
       "      <th>543</th>\n",
       "      <td>1658</td>\n",
       "      <td>3683</td>\n",
       "      <td>2624</td>\n",
       "      <td>5</td>\n",
       "      <td>18.0</td>\n",
       "      <td>12736.0</td>\n",
       "      <td>13</td>\n",
       "      <td>2011</td>\n",
       "      <td>A</td>\n",
       "      <td>week2</td>\n",
       "      <td>Morning</td>\n",
       "      <td>Tuesday</td>\n",
       "      <td>18.0</td>\n",
       "      <td>0.0</td>\n",
       "    </tr>\n",
       "    <tr>\n",
       "      <th>910</th>\n",
       "      <td>15581</td>\n",
       "      <td>3683</td>\n",
       "      <td>2624</td>\n",
       "      <td>5</td>\n",
       "      <td>15.0</td>\n",
       "      <td>12408.0</td>\n",
       "      <td>3</td>\n",
       "      <td>2011</td>\n",
       "      <td>C</td>\n",
       "      <td>week1</td>\n",
       "      <td>Noon</td>\n",
       "      <td>Monday</td>\n",
       "      <td>18.0</td>\n",
       "      <td>3.0</td>\n",
       "    </tr>\n",
       "    <tr>\n",
       "      <th>1380</th>\n",
       "      <td>6811</td>\n",
       "      <td>3683</td>\n",
       "      <td>2624</td>\n",
       "      <td>4</td>\n",
       "      <td>18.0</td>\n",
       "      <td>12481.0</td>\n",
       "      <td>14</td>\n",
       "      <td>2011</td>\n",
       "      <td>B</td>\n",
       "      <td>week2</td>\n",
       "      <td>Morning</td>\n",
       "      <td>Thursday</td>\n",
       "      <td>18.0</td>\n",
       "      <td>0.0</td>\n",
       "    </tr>\n",
       "  </tbody>\n",
       "</table>\n",
       "</div>"
      ],
      "text/plain": [
       "      InvoiceNo  StockCode  Description  ...   Weekday  ModePrice  PriceDiff\n",
       "258        2087       3683         2624  ...    Monday       18.0        0.0\n",
       "474        9788       3683         2624  ...    Sunday       18.0       15.1\n",
       "543        1658       3683         2624  ...   Tuesday       18.0        0.0\n",
       "910       15581       3683         2624  ...    Monday       18.0        3.0\n",
       "1380       6811       3683         2624  ...  Thursday       18.0        0.0\n",
       "\n",
       "[5 rows x 14 columns]"
      ]
     },
     "execution_count": 511,
     "metadata": {
      "tags": []
     },
     "output_type": "execute_result"
    }
   ],
   "source": [
    "df_exc.head()"
   ]
  },
  {
   "cell_type": "code",
   "execution_count": 512,
   "metadata": {
    "colab": {
     "base_uri": "https://localhost:8080/",
     "height": 297
    },
    "executionInfo": {
     "elapsed": 1038,
     "status": "ok",
     "timestamp": 1606067543585,
     "user": {
      "displayName": "adrish bir",
      "photoUrl": "https://lh3.googleusercontent.com/a-/AOh14GjvnDCPOpuviVvO_227LaSth7sl8OIBxCSMqQmFO4c=s64",
      "userId": "15664726640138518444"
     },
     "user_tz": -330
    },
    "id": "IXN4Ie97tIOZ",
    "outputId": "df277e43-572b-4dd7-f062-440525708a50"
   },
   "outputs": [
    {
     "data": {
      "text/plain": [
       "<matplotlib.axes._subplots.AxesSubplot at 0x7feea8f493c8>"
      ]
     },
     "execution_count": 512,
     "metadata": {
      "tags": []
     },
     "output_type": "execute_result"
    },
    {
     "data": {
      "image/png": "[encoded data removed]",
      "text/plain": [
       "<Figure size 432x288 with 1 Axes>"
      ]
     },
     "metadata": {
      "needs_background": "light",
      "tags": []
     },
     "output_type": "display_data"
    }
   ],
   "source": [
    "sns.boxplot(x='PriceDiff',data=df_exc)"
   ]
  },
  {
   "cell_type": "code",
   "execution_count": 513,
   "metadata": {
    "colab": {
     "base_uri": "https://localhost:8080/"
    },
    "executionInfo": {
     "elapsed": 1035,
     "status": "ok",
     "timestamp": 1606067547260,
     "user": {
      "displayName": "adrish bir",
      "photoUrl": "https://lh3.googleusercontent.com/a-/AOh14GjvnDCPOpuviVvO_227LaSth7sl8OIBxCSMqQmFO4c=s64",
      "userId": "15664726640138518444"
     },
     "user_tz": -330
    },
    "id": "Ne325hAztU_P",
    "outputId": "298f490d-207e-4a6a-d8dd-82ab8893e3d2"
   },
   "outputs": [
    {
     "data": {
      "text/plain": [
       "count     1491.000000\n",
       "mean       -97.252464\n",
       "std       1078.100296\n",
       "min     -38969.150000\n",
       "25%        -10.000000\n",
       "50%          0.000000\n",
       "75%          0.000000\n",
       "max         75.000000\n",
       "Name: PriceDiff, dtype: float64"
      ]
     },
     "execution_count": 513,
     "metadata": {
      "tags": []
     },
     "output_type": "execute_result"
    }
   ],
   "source": [
    "df_exc.PriceDiff.describe()"
   ]
  },
  {
   "cell_type": "code",
   "execution_count": 203,
   "metadata": {
    "colab": {
     "base_uri": "https://localhost:8080/",
     "height": 161
    },
    "executionInfo": {
     "elapsed": 991,
     "status": "ok",
     "timestamp": 1606046780582,
     "user": {
      "displayName": "adrish bir",
      "photoUrl": "https://lh3.googleusercontent.com/a-/AOh14GjvnDCPOpuviVvO_227LaSth7sl8OIBxCSMqQmFO4c=s64",
      "userId": "15664726640138518444"
     },
     "user_tz": -330
    },
    "id": "kPMeThhewrj6",
    "outputId": "9b9a51fc-ce38-4759-fb26-969e86535be5"
   },
   "outputs": [
    {
     "data": {
      "text/html": [
       "<div>\n",
       "<style scoped>\n",
       "    .dataframe tbody tr th:only-of-type {\n",
       "        vertical-align: middle;\n",
       "    }\n",
       "\n",
       "    .dataframe tbody tr th {\n",
       "        vertical-align: top;\n",
       "    }\n",
       "\n",
       "    .dataframe thead th {\n",
       "        text-align: right;\n",
       "    }\n",
       "</style>\n",
       "<table border=\"1\" class=\"dataframe\">\n",
       "  <thead>\n",
       "    <tr style=\"text-align: right;\">\n",
       "      <th></th>\n",
       "      <th>InvoiceNo</th>\n",
       "      <th>StockCode</th>\n",
       "      <th>Description</th>\n",
       "      <th>Quantity</th>\n",
       "      <th>UnitPrice</th>\n",
       "      <th>CustomerID</th>\n",
       "      <th>Country</th>\n",
       "      <th>Year</th>\n",
       "      <th>Month</th>\n",
       "      <th>Day</th>\n",
       "      <th>Timelight</th>\n",
       "      <th>Weekday</th>\n",
       "      <th>ModePrice</th>\n",
       "      <th>PriceDiff</th>\n",
       "      <th>PriceDiff_sign</th>\n",
       "    </tr>\n",
       "  </thead>\n",
       "  <tbody>\n",
       "    <tr>\n",
       "      <th>284308</th>\n",
       "      <td>10287</td>\n",
       "      <td>3683</td>\n",
       "      <td>2624</td>\n",
       "      <td>1</td>\n",
       "      <td>28.00</td>\n",
       "      <td>12455.0</td>\n",
       "      <td>30</td>\n",
       "      <td>2011</td>\n",
       "      <td>B</td>\n",
       "      <td>week1</td>\n",
       "      <td>Morning</td>\n",
       "      <td>Thursday</td>\n",
       "      <td>18.00</td>\n",
       "      <td>-10.00</td>\n",
       "      <td>-1</td>\n",
       "    </tr>\n",
       "    <tr>\n",
       "      <th>284315</th>\n",
       "      <td>21487</td>\n",
       "      <td>3681</td>\n",
       "      <td>2140</td>\n",
       "      <td>2</td>\n",
       "      <td>0.42</td>\n",
       "      <td>14056.0</td>\n",
       "      <td>35</td>\n",
       "      <td>2011</td>\n",
       "      <td>C</td>\n",
       "      <td>week2</td>\n",
       "      <td>Noon</td>\n",
       "      <td>Tuesday</td>\n",
       "      <td>0.85</td>\n",
       "      <td>0.43</td>\n",
       "      <td>1</td>\n",
       "    </tr>\n",
       "    <tr>\n",
       "      <th>284442</th>\n",
       "      <td>9934</td>\n",
       "      <td>3683</td>\n",
       "      <td>2624</td>\n",
       "      <td>1</td>\n",
       "      <td>18.00</td>\n",
       "      <td>12523.0</td>\n",
       "      <td>13</td>\n",
       "      <td>2011</td>\n",
       "      <td>B</td>\n",
       "      <td>week3</td>\n",
       "      <td>Noon</td>\n",
       "      <td>Wednesday</td>\n",
       "      <td>18.00</td>\n",
       "      <td>0.00</td>\n",
       "      <td>1</td>\n",
       "    </tr>\n",
       "  </tbody>\n",
       "</table>\n",
       "</div>"
      ],
      "text/plain": [
       "        InvoiceNo  StockCode  Description  ...  ModePrice  PriceDiff  PriceDiff_sign\n",
       "284308      10287       3683         2624  ...      18.00     -10.00              -1\n",
       "284315      21487       3681         2140  ...       0.85       0.43               1\n",
       "284442       9934       3683         2624  ...      18.00       0.00               1\n",
       "\n",
       "[3 rows x 15 columns]"
      ]
     },
     "execution_count": 203,
     "metadata": {
      "tags": []
     },
     "output_type": "execute_result"
    }
   ],
   "source": [
    "df_exc['PriceDiff_sign'] = df_exc['PriceDiff'].apply(lambda x: -1 if x<0 else 1)\n",
    "df_exc.tail(3)"
   ]
  },
  {
   "cell_type": "code",
   "execution_count": 204,
   "metadata": {
    "colab": {
     "base_uri": "https://localhost:8080/"
    },
    "executionInfo": {
     "elapsed": 1203,
     "status": "ok",
     "timestamp": 1606046788198,
     "user": {
      "displayName": "adrish bir",
      "photoUrl": "https://lh3.googleusercontent.com/a-/AOh14GjvnDCPOpuviVvO_227LaSth7sl8OIBxCSMqQmFO4c=s64",
      "userId": "15664726640138518444"
     },
     "user_tz": -330
    },
    "id": "w3vyXVHty0Sq",
    "outputId": "38d1c58d-3b42-4165-a38f-a33d88602cea"
   },
   "outputs": [
    {
     "data": {
      "text/plain": [
       "(737, 15)"
      ]
     },
     "execution_count": 204,
     "metadata": {
      "tags": []
     },
     "output_type": "execute_result"
    }
   ],
   "source": [
    "df_exc[df_exc.PriceDiff==0].shape"
   ]
  },
  {
   "cell_type": "code",
   "execution_count": 205,
   "metadata": {
    "colab": {
     "base_uri": "https://localhost:8080/"
    },
    "executionInfo": {
     "elapsed": 1067,
     "status": "ok",
     "timestamp": 1606046789717,
     "user": {
      "displayName": "adrish bir",
      "photoUrl": "https://lh3.googleusercontent.com/a-/AOh14GjvnDCPOpuviVvO_227LaSth7sl8OIBxCSMqQmFO4c=s64",
      "userId": "15664726640138518444"
     },
     "user_tz": -330
    },
    "id": "u87CzyvaxqpY",
    "outputId": "06aea545-adce-41b6-adc6-22e56772e932"
   },
   "outputs": [
    {
     "data": {
      "text/plain": [
       "(754, 13)"
      ]
     },
     "execution_count": 205,
     "metadata": {
      "tags": []
     },
     "output_type": "execute_result"
    }
   ],
   "source": [
    "df_exc1 = df_exc.drop(['UnitPrice','Country'],axis=1)\n",
    "df_exc1.drop(df_exc1[df_exc1.PriceDiff==0].index,inplace=True)\n",
    "df_exc1.shape"
   ]
  },
  {
   "cell_type": "code",
   "execution_count": 206,
   "metadata": {
    "colab": {
     "base_uri": "https://localhost:8080/"
    },
    "executionInfo": {
     "elapsed": 964,
     "status": "ok",
     "timestamp": 1606046793035,
     "user": {
      "displayName": "adrish bir",
      "photoUrl": "https://lh3.googleusercontent.com/a-/AOh14GjvnDCPOpuviVvO_227LaSth7sl8OIBxCSMqQmFO4c=s64",
      "userId": "15664726640138518444"
     },
     "user_tz": -330
    },
    "id": "IAqAsw0AzM05",
    "outputId": "047346b6-ddaa-46b8-8a8b-5e06149ff02f"
   },
   "outputs": [
    {
     "data": {
      "text/plain": [
       "0.333571300520199"
      ]
     },
     "execution_count": 206,
     "metadata": {
      "tags": []
     },
     "output_type": "execute_result"
    }
   ],
   "source": [
    "df_exc1['PriceDiff'] = df_exc1['PriceDiff'].abs()\n",
    "df_exc1['PriceDiff'] = np.log(df_exc1['PriceDiff'])\n",
    "df_exc1['PriceDiff'].skew()"
   ]
  },
  {
   "cell_type": "code",
   "execution_count": 207,
   "metadata": {
    "colab": {
     "base_uri": "https://localhost:8080/",
     "height": 202
    },
    "executionInfo": {
     "elapsed": 985,
     "status": "ok",
     "timestamp": 1606046796396,
     "user": {
      "displayName": "adrish bir",
      "photoUrl": "https://lh3.googleusercontent.com/a-/AOh14GjvnDCPOpuviVvO_227LaSth7sl8OIBxCSMqQmFO4c=s64",
      "userId": "15664726640138518444"
     },
     "user_tz": -330
    },
    "id": "GJ0WvD5jz61C",
    "outputId": "cd1b2479-a8fa-4fdf-8115-1b005c3942b7"
   },
   "outputs": [
    {
     "data": {
      "text/html": [
       "<div>\n",
       "<style scoped>\n",
       "    .dataframe tbody tr th:only-of-type {\n",
       "        vertical-align: middle;\n",
       "    }\n",
       "\n",
       "    .dataframe tbody tr th {\n",
       "        vertical-align: top;\n",
       "    }\n",
       "\n",
       "    .dataframe thead th {\n",
       "        text-align: right;\n",
       "    }\n",
       "</style>\n",
       "<table border=\"1\" class=\"dataframe\">\n",
       "  <thead>\n",
       "    <tr style=\"text-align: right;\">\n",
       "      <th></th>\n",
       "      <th>InvoiceNo</th>\n",
       "      <th>StockCode</th>\n",
       "      <th>Description</th>\n",
       "      <th>Quantity</th>\n",
       "      <th>CustomerID</th>\n",
       "      <th>Year</th>\n",
       "      <th>Month</th>\n",
       "      <th>Day</th>\n",
       "      <th>Timelight</th>\n",
       "      <th>Weekday</th>\n",
       "      <th>ModePrice</th>\n",
       "      <th>PriceDiff</th>\n",
       "      <th>PriceDiff_sign</th>\n",
       "    </tr>\n",
       "  </thead>\n",
       "  <tbody>\n",
       "    <tr>\n",
       "      <th>474</th>\n",
       "      <td>9788</td>\n",
       "      <td>3683</td>\n",
       "      <td>2624</td>\n",
       "      <td>1</td>\n",
       "      <td>17935.0</td>\n",
       "      <td>2011</td>\n",
       "      <td>B</td>\n",
       "      <td>week3</td>\n",
       "      <td>Noon</td>\n",
       "      <td>Sunday</td>\n",
       "      <td>18.0</td>\n",
       "      <td>2.714695</td>\n",
       "      <td>1</td>\n",
       "    </tr>\n",
       "    <tr>\n",
       "      <th>910</th>\n",
       "      <td>15581</td>\n",
       "      <td>3683</td>\n",
       "      <td>2624</td>\n",
       "      <td>5</td>\n",
       "      <td>12408.0</td>\n",
       "      <td>2011</td>\n",
       "      <td>C</td>\n",
       "      <td>week1</td>\n",
       "      <td>Noon</td>\n",
       "      <td>Monday</td>\n",
       "      <td>18.0</td>\n",
       "      <td>1.098612</td>\n",
       "      <td>1</td>\n",
       "    </tr>\n",
       "    <tr>\n",
       "      <th>1751</th>\n",
       "      <td>18827</td>\n",
       "      <td>3683</td>\n",
       "      <td>2624</td>\n",
       "      <td>1</td>\n",
       "      <td>15602.0</td>\n",
       "      <td>2010</td>\n",
       "      <td>C</td>\n",
       "      <td>week3</td>\n",
       "      <td>Noon</td>\n",
       "      <td>Tuesday</td>\n",
       "      <td>18.0</td>\n",
       "      <td>2.505526</td>\n",
       "      <td>1</td>\n",
       "    </tr>\n",
       "    <tr>\n",
       "      <th>1846</th>\n",
       "      <td>1223</td>\n",
       "      <td>3683</td>\n",
       "      <td>2624</td>\n",
       "      <td>3</td>\n",
       "      <td>12370.0</td>\n",
       "      <td>2010</td>\n",
       "      <td>C</td>\n",
       "      <td>week2</td>\n",
       "      <td>Morning</td>\n",
       "      <td>Friday</td>\n",
       "      <td>18.0</td>\n",
       "      <td>3.091042</td>\n",
       "      <td>-1</td>\n",
       "    </tr>\n",
       "    <tr>\n",
       "      <th>1965</th>\n",
       "      <td>11379</td>\n",
       "      <td>3683</td>\n",
       "      <td>2624</td>\n",
       "      <td>1</td>\n",
       "      <td>17315.0</td>\n",
       "      <td>2011</td>\n",
       "      <td>B</td>\n",
       "      <td>week3</td>\n",
       "      <td>Morning</td>\n",
       "      <td>Wednesday</td>\n",
       "      <td>18.0</td>\n",
       "      <td>1.098612</td>\n",
       "      <td>1</td>\n",
       "    </tr>\n",
       "  </tbody>\n",
       "</table>\n",
       "</div>"
      ],
      "text/plain": [
       "      InvoiceNo  StockCode  Description  ...  ModePrice  PriceDiff  PriceDiff_sign\n",
       "474        9788       3683         2624  ...       18.0   2.714695               1\n",
       "910       15581       3683         2624  ...       18.0   1.098612               1\n",
       "1751      18827       3683         2624  ...       18.0   2.505526               1\n",
       "1846       1223       3683         2624  ...       18.0   3.091042              -1\n",
       "1965      11379       3683         2624  ...       18.0   1.098612               1\n",
       "\n",
       "[5 rows x 13 columns]"
      ]
     },
     "execution_count": 207,
     "metadata": {
      "tags": []
     },
     "output_type": "execute_result"
    }
   ],
   "source": [
    "df_exc1.head()"
   ]
  },
  {
   "cell_type": "code",
   "execution_count": 208,
   "metadata": {
    "executionInfo": {
     "elapsed": 920,
     "status": "ok",
     "timestamp": 1606046802986,
     "user": {
      "displayName": "adrish bir",
      "photoUrl": "https://lh3.googleusercontent.com/a-/AOh14GjvnDCPOpuviVvO_227LaSth7sl8OIBxCSMqQmFO4c=s64",
      "userId": "15664726640138518444"
     },
     "user_tz": -330
    },
    "id": "JRQTufQZrNyZ"
   },
   "outputs": [],
   "source": [
    "from sklearn.pipeline import Pipeline\n",
    "from sklearn.preprocessing import StandardScaler\n",
    "from sklearn.compose import ColumnTransformer\n",
    "from sklearn.preprocessing import OneHotEncoder\n",
    "\n",
    "\n",
    "num_attribs = ['StockCode','Quantity','Description','CustomerID','InvoiceNo','ModePrice']\n",
    "cat_attribs = [ 'Weekday','Timelight','Year','Month','Day']\n",
    "\n",
    "full_pipeline = ColumnTransformer([\n",
    "        (\"num\", StandardScaler(), num_attribs),\n",
    "        (\"cat\", OneHotEncoder(), cat_attribs),\n",
    "    ])"
   ]
  },
  {
   "cell_type": "code",
   "execution_count": 209,
   "metadata": {
    "colab": {
     "base_uri": "https://localhost:8080/"
    },
    "executionInfo": {
     "elapsed": 994,
     "status": "ok",
     "timestamp": 1606046815403,
     "user": {
      "displayName": "adrish bir",
      "photoUrl": "https://lh3.googleusercontent.com/a-/AOh14GjvnDCPOpuviVvO_227LaSth7sl8OIBxCSMqQmFO4c=s64",
      "userId": "15664726640138518444"
     },
     "user_tz": -330
    },
    "id": "dbaxBsE5sCt4",
    "outputId": "41feacfe-8c8a-43cf-8581-5945bff4546c"
   },
   "outputs": [
    {
     "name": "stdout",
     "output_type": "stream",
     "text": [
      "(754, 23)\n",
      "(644, 23)\n"
     ]
    }
   ],
   "source": [
    "df_exc2 = df_exc1.drop(['PriceDiff'],axis=1)\n",
    "X= df_exc2[['InvoiceNo','StockCode', 'Quantity','Year','Month','Day','Weekday','Description','CustomerID','Timelight','ModePrice']]\n",
    "y = df_exc2['PriceDiff_sign']\n",
    "\n",
    "X = full_pipeline.fit_transform(X)\n",
    "test_exc_num = full_pipeline.fit_transform(test_exc)\n",
    "print(X.shape)\n",
    "print(test_exc_num.shape)"
   ]
  },
  {
   "cell_type": "code",
   "execution_count": 212,
   "metadata": {
    "colab": {
     "base_uri": "https://localhost:8080/"
    },
    "executionInfo": {
     "elapsed": 1052,
     "status": "ok",
     "timestamp": 1606047291386,
     "user": {
      "displayName": "adrish bir",
      "photoUrl": "https://lh3.googleusercontent.com/a-/AOh14GjvnDCPOpuviVvO_227LaSth7sl8OIBxCSMqQmFO4c=s64",
      "userId": "15664726640138518444"
     },
     "user_tz": -330
    },
    "id": "tDjIjGJT0kJU",
    "outputId": "1f46d280-61d2-4a3b-dc9e-857019109420"
   },
   "outputs": [
    {
     "name": "stdout",
     "output_type": "stream",
     "text": [
      "0.75\n",
      "0.06666666666666667\n"
     ]
    },
    {
     "data": {
      "text/plain": [
       "array([[105,   1],\n",
       "       [ 42,   3]])"
      ]
     },
     "execution_count": 212,
     "metadata": {
      "tags": []
     },
     "output_type": "execute_result"
    }
   ],
   "source": [
    "from sklearn.ensemble import RandomForestClassifier\n",
    "from sklearn.metrics import mean_squared_error\n",
    "\n",
    "from sklearn.model_selection import train_test_split\n",
    "X_train, X_test, y_train, y_test = train_test_split(X,y, test_size=0.2, random_state=67,shuffle=True)\n",
    "\n",
    "clf = RandomForestClassifier(max_depth=2, random_state=0)\n",
    "\n",
    "clf.fit(X_train,y_train)\n",
    "pred = clf.predict(X_test)\n",
    "\n",
    "from sklearn.metrics import precision_score, recall_score\n",
    "\n",
    "print(precision_score(y_test, pred))\n",
    "print(recall_score(y_test, pred))\n",
    "\n",
    "from sklearn.metrics import confusion_matrix\n",
    "\n",
    "confusion_matrix(y_test, pred)\n"
   ]
  },
  {
   "cell_type": "code",
   "execution_count": 262,
   "metadata": {
    "executionInfo": {
     "elapsed": 997,
     "status": "ok",
     "timestamp": 1606048831169,
     "user": {
      "displayName": "adrish bir",
      "photoUrl": "https://lh3.googleusercontent.com/a-/AOh14GjvnDCPOpuviVvO_227LaSth7sl8OIBxCSMqQmFO4c=s64",
      "userId": "15664726640138518444"
     },
     "user_tz": -330
    },
    "id": "ndEEm2l04fvs"
   },
   "outputs": [],
   "source": [
    "clf.fit(X,y)\n",
    "PriceDiff_sign = clf.predict(test_exc_num)"
   ]
  },
  {
   "cell_type": "code",
   "execution_count": 263,
   "metadata": {
    "colab": {
     "base_uri": "https://localhost:8080/"
    },
    "executionInfo": {
     "elapsed": 999,
     "status": "ok",
     "timestamp": 1606048834295,
     "user": {
      "displayName": "adrish bir",
      "photoUrl": "https://lh3.googleusercontent.com/a-/AOh14GjvnDCPOpuviVvO_227LaSth7sl8OIBxCSMqQmFO4c=s64",
      "userId": "15664726640138518444"
     },
     "user_tz": -330
    },
    "id": "nvUQeHTD51ow",
    "outputId": "ba187861-0d62-4f82-f317-5cfd1ca77f0a"
   },
   "outputs": [
    {
     "data": {
      "text/plain": [
       "numpy.ndarray"
      ]
     },
     "execution_count": 263,
     "metadata": {
      "tags": []
     },
     "output_type": "execute_result"
    }
   ],
   "source": [
    "type(PriceDiff_sign)"
   ]
  },
  {
   "cell_type": "code",
   "execution_count": 259,
   "metadata": {
    "colab": {
     "base_uri": "https://localhost:8080/"
    },
    "executionInfo": {
     "elapsed": 1036,
     "status": "ok",
     "timestamp": 1606048588608,
     "user": {
      "displayName": "adrish bir",
      "photoUrl": "https://lh3.googleusercontent.com/a-/AOh14GjvnDCPOpuviVvO_227LaSth7sl8OIBxCSMqQmFO4c=s64",
      "userId": "15664726640138518444"
     },
     "user_tz": -330
    },
    "id": "zn7lpoBe7sTJ",
    "outputId": "9ad773e9-3cc4-4bf1-ff65-77e93a0cf999"
   },
   "outputs": [
    {
     "data": {
      "text/plain": [
       "[362, 378, 640]"
      ]
     },
     "execution_count": 259,
     "metadata": {
      "tags": []
     },
     "output_type": "execute_result"
    }
   ],
   "source": [
    "list(test_exc.index)[0:3]"
   ]
  },
  {
   "cell_type": "code",
   "execution_count": 270,
   "metadata": {
    "colab": {
     "base_uri": "https://localhost:8080/",
     "height": 202
    },
    "executionInfo": {
     "elapsed": 1020,
     "status": "ok",
     "timestamp": 1606049547721,
     "user": {
      "displayName": "adrish bir",
      "photoUrl": "https://lh3.googleusercontent.com/a-/AOh14GjvnDCPOpuviVvO_227LaSth7sl8OIBxCSMqQmFO4c=s64",
      "userId": "15664726640138518444"
     },
     "user_tz": -330
    },
    "id": "IlKZQyLA41XA",
    "outputId": "6dcb26f2-7f90-44f5-fa70-7f7203bfa783"
   },
   "outputs": [
    {
     "data": {
      "text/html": [
       "<div>\n",
       "<style scoped>\n",
       "    .dataframe tbody tr th:only-of-type {\n",
       "        vertical-align: middle;\n",
       "    }\n",
       "\n",
       "    .dataframe tbody tr th {\n",
       "        vertical-align: top;\n",
       "    }\n",
       "\n",
       "    .dataframe thead th {\n",
       "        text-align: right;\n",
       "    }\n",
       "</style>\n",
       "<table border=\"1\" class=\"dataframe\">\n",
       "  <thead>\n",
       "    <tr style=\"text-align: right;\">\n",
       "      <th></th>\n",
       "      <th>InvoiceNo</th>\n",
       "      <th>StockCode</th>\n",
       "      <th>Description</th>\n",
       "      <th>Quantity</th>\n",
       "      <th>CustomerID</th>\n",
       "      <th>Country</th>\n",
       "      <th>Year</th>\n",
       "      <th>Month</th>\n",
       "      <th>Day</th>\n",
       "      <th>Timelight</th>\n",
       "      <th>Weekday</th>\n",
       "      <th>ModePrice</th>\n",
       "      <th>PriceDiff_sign</th>\n",
       "    </tr>\n",
       "  </thead>\n",
       "  <tbody>\n",
       "    <tr>\n",
       "      <th>362</th>\n",
       "      <td>3711</td>\n",
       "      <td>3681</td>\n",
       "      <td>2140</td>\n",
       "      <td>1</td>\n",
       "      <td>12924.0</td>\n",
       "      <td>35</td>\n",
       "      <td>2011</td>\n",
       "      <td>A</td>\n",
       "      <td>week1</td>\n",
       "      <td>Morning</td>\n",
       "      <td>Wednesday</td>\n",
       "      <td>0.85</td>\n",
       "      <td>-1.0</td>\n",
       "    </tr>\n",
       "    <tr>\n",
       "      <th>378</th>\n",
       "      <td>5436</td>\n",
       "      <td>1366</td>\n",
       "      <td>2407</td>\n",
       "      <td>4</td>\n",
       "      <td>16947.0</td>\n",
       "      <td>35</td>\n",
       "      <td>2011</td>\n",
       "      <td>A</td>\n",
       "      <td>week2</td>\n",
       "      <td>Morning</td>\n",
       "      <td>Monday</td>\n",
       "      <td>5.95</td>\n",
       "      <td>-1.0</td>\n",
       "    </tr>\n",
       "    <tr>\n",
       "      <th>640</th>\n",
       "      <td>2524</td>\n",
       "      <td>3683</td>\n",
       "      <td>2624</td>\n",
       "      <td>3</td>\n",
       "      <td>12464.0</td>\n",
       "      <td>3</td>\n",
       "      <td>2011</td>\n",
       "      <td>A</td>\n",
       "      <td>week1</td>\n",
       "      <td>Noon</td>\n",
       "      <td>Thursday</td>\n",
       "      <td>18.00</td>\n",
       "      <td>-1.0</td>\n",
       "    </tr>\n",
       "    <tr>\n",
       "      <th>679</th>\n",
       "      <td>7846</td>\n",
       "      <td>3683</td>\n",
       "      <td>2624</td>\n",
       "      <td>1</td>\n",
       "      <td>12399.0</td>\n",
       "      <td>3</td>\n",
       "      <td>2011</td>\n",
       "      <td>B</td>\n",
       "      <td>week1</td>\n",
       "      <td>Noon</td>\n",
       "      <td>Thursday</td>\n",
       "      <td>18.00</td>\n",
       "      <td>-1.0</td>\n",
       "    </tr>\n",
       "    <tr>\n",
       "      <th>1345</th>\n",
       "      <td>12623</td>\n",
       "      <td>3683</td>\n",
       "      <td>2624</td>\n",
       "      <td>1</td>\n",
       "      <td>12437.0</td>\n",
       "      <td>13</td>\n",
       "      <td>2011</td>\n",
       "      <td>C</td>\n",
       "      <td>week3</td>\n",
       "      <td>Noon</td>\n",
       "      <td>Thursday</td>\n",
       "      <td>18.00</td>\n",
       "      <td>-1.0</td>\n",
       "    </tr>\n",
       "  </tbody>\n",
       "</table>\n",
       "</div>"
      ],
      "text/plain": [
       "      InvoiceNo  StockCode  Description  ...    Weekday  ModePrice  PriceDiff_sign\n",
       "362        3711       3681         2140  ...  Wednesday       0.85            -1.0\n",
       "378        5436       1366         2407  ...     Monday       5.95            -1.0\n",
       "640        2524       3683         2624  ...   Thursday      18.00            -1.0\n",
       "679        7846       3683         2624  ...   Thursday      18.00            -1.0\n",
       "1345      12623       3683         2624  ...   Thursday      18.00            -1.0\n",
       "\n",
       "[5 rows x 13 columns]"
      ]
     },
     "execution_count": 270,
     "metadata": {
      "tags": []
     },
     "output_type": "execute_result"
    }
   ],
   "source": [
    "test_exc1 = test_exc.copy()\n",
    "for i in range(0,len(test_exc1)):\n",
    "  index = list(test_exc1.index)[i]\n",
    "  test_exc1.loc[index,'PriceDiff_sign'] = PriceDiff_sign[i]\n",
    "\n",
    "test_exc1.head()"
   ]
  },
  {
   "cell_type": "code",
   "execution_count": 271,
   "metadata": {
    "colab": {
     "base_uri": "https://localhost:8080/"
    },
    "executionInfo": {
     "elapsed": 1237,
     "status": "ok",
     "timestamp": 1606049552737,
     "user": {
      "displayName": "adrish bir",
      "photoUrl": "https://lh3.googleusercontent.com/a-/AOh14GjvnDCPOpuviVvO_227LaSth7sl8OIBxCSMqQmFO4c=s64",
      "userId": "15664726640138518444"
     },
     "user_tz": -330
    },
    "id": "pJpkSJgA_HCW",
    "outputId": "afdccf8d-3dba-4725-fd22-e4f24cfec20a"
   },
   "outputs": [
    {
     "data": {
      "text/plain": [
       "0"
      ]
     },
     "execution_count": 271,
     "metadata": {
      "tags": []
     },
     "output_type": "execute_result"
    }
   ],
   "source": [
    "test_exc1.PriceDiff_sign.isnull().sum()"
   ]
  },
  {
   "cell_type": "code",
   "execution_count": 514,
   "metadata": {
    "colab": {
     "base_uri": "https://localhost:8080/",
     "height": 202
    },
    "executionInfo": {
     "elapsed": 1177,
     "status": "ok",
     "timestamp": 1606067616282,
     "user": {
      "displayName": "adrish bir",
      "photoUrl": "https://lh3.googleusercontent.com/a-/AOh14GjvnDCPOpuviVvO_227LaSth7sl8OIBxCSMqQmFO4c=s64",
      "userId": "15664726640138518444"
     },
     "user_tz": -330
    },
    "id": "bPH_4JiI__c2",
    "outputId": "d413cd7c-906d-45f2-a599-7bf05e44b661"
   },
   "outputs": [
    {
     "data": {
      "text/html": [
       "<div>\n",
       "<style scoped>\n",
       "    .dataframe tbody tr th:only-of-type {\n",
       "        vertical-align: middle;\n",
       "    }\n",
       "\n",
       "    .dataframe tbody tr th {\n",
       "        vertical-align: top;\n",
       "    }\n",
       "\n",
       "    .dataframe thead th {\n",
       "        text-align: right;\n",
       "    }\n",
       "</style>\n",
       "<table border=\"1\" class=\"dataframe\">\n",
       "  <thead>\n",
       "    <tr style=\"text-align: right;\">\n",
       "      <th></th>\n",
       "      <th>InvoiceNo</th>\n",
       "      <th>StockCode</th>\n",
       "      <th>Description</th>\n",
       "      <th>Quantity</th>\n",
       "      <th>UnitPrice</th>\n",
       "      <th>CustomerID</th>\n",
       "      <th>Country</th>\n",
       "      <th>Year</th>\n",
       "      <th>Month</th>\n",
       "      <th>Day</th>\n",
       "      <th>Timelight</th>\n",
       "      <th>Weekday</th>\n",
       "      <th>ModePrice</th>\n",
       "      <th>PriceDiff</th>\n",
       "    </tr>\n",
       "  </thead>\n",
       "  <tbody>\n",
       "    <tr>\n",
       "      <th>258</th>\n",
       "      <td>2087</td>\n",
       "      <td>3683</td>\n",
       "      <td>2624</td>\n",
       "      <td>2</td>\n",
       "      <td>18.0</td>\n",
       "      <td>12693.0</td>\n",
       "      <td>14</td>\n",
       "      <td>2011</td>\n",
       "      <td>A</td>\n",
       "      <td>week3</td>\n",
       "      <td>Noon</td>\n",
       "      <td>Monday</td>\n",
       "      <td>18.0</td>\n",
       "      <td>0.0</td>\n",
       "    </tr>\n",
       "    <tr>\n",
       "      <th>474</th>\n",
       "      <td>9788</td>\n",
       "      <td>3683</td>\n",
       "      <td>2624</td>\n",
       "      <td>1</td>\n",
       "      <td>2.9</td>\n",
       "      <td>17935.0</td>\n",
       "      <td>35</td>\n",
       "      <td>2011</td>\n",
       "      <td>B</td>\n",
       "      <td>week3</td>\n",
       "      <td>Noon</td>\n",
       "      <td>Sunday</td>\n",
       "      <td>18.0</td>\n",
       "      <td>15.1</td>\n",
       "    </tr>\n",
       "    <tr>\n",
       "      <th>543</th>\n",
       "      <td>1658</td>\n",
       "      <td>3683</td>\n",
       "      <td>2624</td>\n",
       "      <td>5</td>\n",
       "      <td>18.0</td>\n",
       "      <td>12736.0</td>\n",
       "      <td>13</td>\n",
       "      <td>2011</td>\n",
       "      <td>A</td>\n",
       "      <td>week2</td>\n",
       "      <td>Morning</td>\n",
       "      <td>Tuesday</td>\n",
       "      <td>18.0</td>\n",
       "      <td>0.0</td>\n",
       "    </tr>\n",
       "    <tr>\n",
       "      <th>910</th>\n",
       "      <td>15581</td>\n",
       "      <td>3683</td>\n",
       "      <td>2624</td>\n",
       "      <td>5</td>\n",
       "      <td>15.0</td>\n",
       "      <td>12408.0</td>\n",
       "      <td>3</td>\n",
       "      <td>2011</td>\n",
       "      <td>C</td>\n",
       "      <td>week1</td>\n",
       "      <td>Noon</td>\n",
       "      <td>Monday</td>\n",
       "      <td>18.0</td>\n",
       "      <td>3.0</td>\n",
       "    </tr>\n",
       "    <tr>\n",
       "      <th>1380</th>\n",
       "      <td>6811</td>\n",
       "      <td>3683</td>\n",
       "      <td>2624</td>\n",
       "      <td>4</td>\n",
       "      <td>18.0</td>\n",
       "      <td>12481.0</td>\n",
       "      <td>14</td>\n",
       "      <td>2011</td>\n",
       "      <td>B</td>\n",
       "      <td>week2</td>\n",
       "      <td>Morning</td>\n",
       "      <td>Thursday</td>\n",
       "      <td>18.0</td>\n",
       "      <td>0.0</td>\n",
       "    </tr>\n",
       "  </tbody>\n",
       "</table>\n",
       "</div>"
      ],
      "text/plain": [
       "      InvoiceNo  StockCode  Description  ...   Weekday  ModePrice  PriceDiff\n",
       "258        2087       3683         2624  ...    Monday       18.0        0.0\n",
       "474        9788       3683         2624  ...    Sunday       18.0       15.1\n",
       "543        1658       3683         2624  ...   Tuesday       18.0        0.0\n",
       "910       15581       3683         2624  ...    Monday       18.0        3.0\n",
       "1380       6811       3683         2624  ...  Thursday       18.0        0.0\n",
       "\n",
       "[5 rows x 14 columns]"
      ]
     },
     "execution_count": 514,
     "metadata": {
      "tags": []
     },
     "output_type": "execute_result"
    }
   ],
   "source": [
    "df_exc.head()"
   ]
  },
  {
   "cell_type": "code",
   "execution_count": 515,
   "metadata": {
    "colab": {
     "base_uri": "https://localhost:8080/",
     "height": 202
    },
    "executionInfo": {
     "elapsed": 1064,
     "status": "ok",
     "timestamp": 1606067690324,
     "user": {
      "displayName": "adrish bir",
      "photoUrl": "https://lh3.googleusercontent.com/a-/AOh14GjvnDCPOpuviVvO_227LaSth7sl8OIBxCSMqQmFO4c=s64",
      "userId": "15664726640138518444"
     },
     "user_tz": -330
    },
    "id": "OEJ39ofGFrnj",
    "outputId": "7c5f31e1-143d-4147-ab74-6be2ddd49995"
   },
   "outputs": [
    {
     "data": {
      "text/html": [
       "<div>\n",
       "<style scoped>\n",
       "    .dataframe tbody tr th:only-of-type {\n",
       "        vertical-align: middle;\n",
       "    }\n",
       "\n",
       "    .dataframe tbody tr th {\n",
       "        vertical-align: top;\n",
       "    }\n",
       "\n",
       "    .dataframe thead th {\n",
       "        text-align: right;\n",
       "    }\n",
       "</style>\n",
       "<table border=\"1\" class=\"dataframe\">\n",
       "  <thead>\n",
       "    <tr style=\"text-align: right;\">\n",
       "      <th></th>\n",
       "      <th>InvoiceNo</th>\n",
       "      <th>StockCode</th>\n",
       "      <th>Description</th>\n",
       "      <th>Quantity</th>\n",
       "      <th>CustomerID</th>\n",
       "      <th>Country</th>\n",
       "      <th>Year</th>\n",
       "      <th>Month</th>\n",
       "      <th>Day</th>\n",
       "      <th>Timelight</th>\n",
       "      <th>Weekday</th>\n",
       "      <th>ModePrice</th>\n",
       "    </tr>\n",
       "  </thead>\n",
       "  <tbody>\n",
       "    <tr>\n",
       "      <th>362</th>\n",
       "      <td>3711</td>\n",
       "      <td>3681</td>\n",
       "      <td>2140</td>\n",
       "      <td>1</td>\n",
       "      <td>12924.0</td>\n",
       "      <td>35</td>\n",
       "      <td>2011</td>\n",
       "      <td>A</td>\n",
       "      <td>week1</td>\n",
       "      <td>Morning</td>\n",
       "      <td>Wednesday</td>\n",
       "      <td>0.85</td>\n",
       "    </tr>\n",
       "    <tr>\n",
       "      <th>378</th>\n",
       "      <td>5436</td>\n",
       "      <td>1366</td>\n",
       "      <td>2407</td>\n",
       "      <td>4</td>\n",
       "      <td>16947.0</td>\n",
       "      <td>35</td>\n",
       "      <td>2011</td>\n",
       "      <td>A</td>\n",
       "      <td>week2</td>\n",
       "      <td>Morning</td>\n",
       "      <td>Monday</td>\n",
       "      <td>5.95</td>\n",
       "    </tr>\n",
       "    <tr>\n",
       "      <th>640</th>\n",
       "      <td>2524</td>\n",
       "      <td>3683</td>\n",
       "      <td>2624</td>\n",
       "      <td>3</td>\n",
       "      <td>12464.0</td>\n",
       "      <td>3</td>\n",
       "      <td>2011</td>\n",
       "      <td>A</td>\n",
       "      <td>week1</td>\n",
       "      <td>Noon</td>\n",
       "      <td>Thursday</td>\n",
       "      <td>18.00</td>\n",
       "    </tr>\n",
       "    <tr>\n",
       "      <th>679</th>\n",
       "      <td>7846</td>\n",
       "      <td>3683</td>\n",
       "      <td>2624</td>\n",
       "      <td>1</td>\n",
       "      <td>12399.0</td>\n",
       "      <td>3</td>\n",
       "      <td>2011</td>\n",
       "      <td>B</td>\n",
       "      <td>week1</td>\n",
       "      <td>Noon</td>\n",
       "      <td>Thursday</td>\n",
       "      <td>18.00</td>\n",
       "    </tr>\n",
       "    <tr>\n",
       "      <th>1345</th>\n",
       "      <td>12623</td>\n",
       "      <td>3683</td>\n",
       "      <td>2624</td>\n",
       "      <td>1</td>\n",
       "      <td>12437.0</td>\n",
       "      <td>13</td>\n",
       "      <td>2011</td>\n",
       "      <td>C</td>\n",
       "      <td>week3</td>\n",
       "      <td>Noon</td>\n",
       "      <td>Thursday</td>\n",
       "      <td>18.00</td>\n",
       "    </tr>\n",
       "  </tbody>\n",
       "</table>\n",
       "</div>"
      ],
      "text/plain": [
       "      InvoiceNo  StockCode  Description  ...  Timelight    Weekday  ModePrice\n",
       "362        3711       3681         2140  ...    Morning  Wednesday       0.85\n",
       "378        5436       1366         2407  ...    Morning     Monday       5.95\n",
       "640        2524       3683         2624  ...       Noon   Thursday      18.00\n",
       "679        7846       3683         2624  ...       Noon   Thursday      18.00\n",
       "1345      12623       3683         2624  ...       Noon   Thursday      18.00\n",
       "\n",
       "[5 rows x 12 columns]"
      ]
     },
     "execution_count": 515,
     "metadata": {
      "tags": []
     },
     "output_type": "execute_result"
    }
   ],
   "source": [
    "test_exc.head()"
   ]
  },
  {
   "cell_type": "code",
   "execution_count": 518,
   "metadata": {
    "executionInfo": {
     "elapsed": 1023,
     "status": "ok",
     "timestamp": 1606067818804,
     "user": {
      "displayName": "adrish bir",
      "photoUrl": "https://lh3.googleusercontent.com/a-/AOh14GjvnDCPOpuviVvO_227LaSth7sl8OIBxCSMqQmFO4c=s64",
      "userId": "15664726640138518444"
     },
     "user_tz": -330
    },
    "id": "vBMm4i2CAfIe"
   },
   "outputs": [],
   "source": [
    "from sklearn.pipeline import Pipeline\n",
    "from sklearn.preprocessing import StandardScaler\n",
    "from sklearn.compose import ColumnTransformer\n",
    "from sklearn.preprocessing import OneHotEncoder\n",
    "\n",
    "\n",
    "num_attribs = ['StockCode','Quantity','Description','CustomerID','InvoiceNo','ModePrice']\n",
    "cat_attribs = [ 'Weekday','Timelight','Year','Month','Day']\n",
    "\n",
    "full_pipeline = ColumnTransformer([\n",
    "        (\"num\", StandardScaler(), num_attribs),\n",
    "        (\"cat\", OneHotEncoder(), cat_attribs),\n",
    "    ])"
   ]
  },
  {
   "cell_type": "code",
   "execution_count": 521,
   "metadata": {
    "colab": {
     "base_uri": "https://localhost:8080/"
    },
    "executionInfo": {
     "elapsed": 1163,
     "status": "ok",
     "timestamp": 1606067899213,
     "user": {
      "displayName": "adrish bir",
      "photoUrl": "https://lh3.googleusercontent.com/a-/AOh14GjvnDCPOpuviVvO_227LaSth7sl8OIBxCSMqQmFO4c=s64",
      "userId": "15664726640138518444"
     },
     "user_tz": -330
    },
    "id": "v8vdJMXyGmVE",
    "outputId": "c0771ec0-7194-4989-d281-a398da85bdee"
   },
   "outputs": [
    {
     "data": {
      "text/plain": [
       "Index(['InvoiceNo', 'StockCode', 'Description', 'Quantity', 'CustomerID',\n",
       "       'Year', 'Month', 'Day', 'Timelight', 'Weekday', 'ModePrice'],\n",
       "      dtype='object')"
      ]
     },
     "execution_count": 521,
     "metadata": {
      "tags": []
     },
     "output_type": "execute_result"
    }
   ],
   "source": [
    "test_exc.columns"
   ]
  },
  {
   "cell_type": "code",
   "execution_count": 522,
   "metadata": {
    "colab": {
     "base_uri": "https://localhost:8080/"
    },
    "executionInfo": {
     "elapsed": 1054,
     "status": "ok",
     "timestamp": 1606067912933,
     "user": {
      "displayName": "adrish bir",
      "photoUrl": "https://lh3.googleusercontent.com/a-/AOh14GjvnDCPOpuviVvO_227LaSth7sl8OIBxCSMqQmFO4c=s64",
      "userId": "15664726640138518444"
     },
     "user_tz": -330
    },
    "id": "Z4PIKub3ATpk",
    "outputId": "fd352a82-4eb0-4fc7-de2b-45ec979463b1"
   },
   "outputs": [
    {
     "name": "stdout",
     "output_type": "stream",
     "text": [
      "(1491, 23)\n",
      "(644, 23)\n"
     ]
    }
   ],
   "source": [
    "#df_exc.drop(['Country'],axis=1,inplace=True)\n",
    "#test_exc.drop(['Country'],axis=1,inplace=True)\n",
    "X= df_exc[['InvoiceNo', 'StockCode', 'Description', 'Quantity', 'UnitPrice',\n",
    "       'CustomerID', 'Year', 'Month', 'Day', 'Timelight', 'Weekday',\n",
    "       'ModePrice']]\n",
    "y = df_exc['PriceDiff']\n",
    "\n",
    "X = full_pipeline.fit_transform(X)\n",
    "test_exc_num = full_pipeline.fit_transform(test_exc)\n",
    "print(X.shape)\n",
    "print(test_exc_num.shape)"
   ]
  },
  {
   "cell_type": "code",
   "execution_count": 523,
   "metadata": {
    "colab": {
     "base_uri": "https://localhost:8080/"
    },
    "executionInfo": {
     "elapsed": 986,
     "status": "ok",
     "timestamp": 1606067920002,
     "user": {
      "displayName": "adrish bir",
      "photoUrl": "https://lh3.googleusercontent.com/a-/AOh14GjvnDCPOpuviVvO_227LaSth7sl8OIBxCSMqQmFO4c=s64",
      "userId": "15664726640138518444"
     },
     "user_tz": -330
    },
    "id": "fai-K2H-sUhw",
    "outputId": "77b39dd7-1618-4451-e1c4-cbe932b504cf"
   },
   "outputs": [
    {
     "name": "stdout",
     "output_type": "stream",
     "text": [
      "Scores: [1170.90620296  399.09002526 2275.96368843 1601.54143803  540.90551959]\n",
      "Mean: 1197.6813748529307\n",
      "Standard deviation: 692.1871532939957\n"
     ]
    }
   ],
   "source": [
    "from sklearn.tree import DecisionTreeRegressor\n",
    "from sklearn.metrics import mean_squared_error\n",
    "from sklearn.model_selection import cross_val_score\n",
    "\n",
    "tree_reg = DecisionTreeRegressor( max_depth=27,\n",
    "  max_features='auto', max_leaf_nodes=None,\n",
    "  min_impurity_split=1e-08, min_samples_leaf=2,\n",
    "  min_samples_split=2, min_weight_fraction_leaf=0.0,\n",
    "  presort=False, random_state=None)\n",
    "\n",
    "\n",
    "\n",
    "def display_scores(scores):\n",
    "    print(\"Scores:\", scores)\n",
    "    print(\"Mean:\", scores.mean())\n",
    "    print(\"Standard deviation:\", scores.std())\n",
    "\n",
    "tree_scores = cross_val_score(tree_reg,X,y,\n",
    "                                scoring=\"neg_mean_squared_error\", cv=5)\n",
    "tree_rmse_scores = np.sqrt(-tree_scores)\n",
    "display_scores(tree_rmse_scores)"
   ]
  },
  {
   "cell_type": "code",
   "execution_count": 528,
   "metadata": {
    "executionInfo": {
     "elapsed": 1215,
     "status": "ok",
     "timestamp": 1606068000796,
     "user": {
      "displayName": "adrish bir",
      "photoUrl": "https://lh3.googleusercontent.com/a-/AOh14GjvnDCPOpuviVvO_227LaSth7sl8OIBxCSMqQmFO4c=s64",
      "userId": "15664726640138518444"
     },
     "user_tz": -330
    },
    "id": "4UDHwkPivx4h"
   },
   "outputs": [],
   "source": [
    "tree_reg.fit(X,y)\n",
    "PriceDiff = tree_reg.predict(test_exc_num)"
   ]
  },
  {
   "cell_type": "code",
   "execution_count": 529,
   "metadata": {
    "colab": {
     "base_uri": "https://localhost:8080/",
     "height": 202
    },
    "executionInfo": {
     "elapsed": 1666,
     "status": "ok",
     "timestamp": 1606068001827,
     "user": {
      "displayName": "adrish bir",
      "photoUrl": "https://lh3.googleusercontent.com/a-/AOh14GjvnDCPOpuviVvO_227LaSth7sl8OIBxCSMqQmFO4c=s64",
      "userId": "15664726640138518444"
     },
     "user_tz": -330
    },
    "id": "Ua8TtqgYBLzC",
    "outputId": "f1bea15e-a1eb-491b-f478-65f420f1d244"
   },
   "outputs": [
    {
     "data": {
      "text/html": [
       "<div>\n",
       "<style scoped>\n",
       "    .dataframe tbody tr th:only-of-type {\n",
       "        vertical-align: middle;\n",
       "    }\n",
       "\n",
       "    .dataframe tbody tr th {\n",
       "        vertical-align: top;\n",
       "    }\n",
       "\n",
       "    .dataframe thead th {\n",
       "        text-align: right;\n",
       "    }\n",
       "</style>\n",
       "<table border=\"1\" class=\"dataframe\">\n",
       "  <thead>\n",
       "    <tr style=\"text-align: right;\">\n",
       "      <th></th>\n",
       "      <th>InvoiceNo</th>\n",
       "      <th>StockCode</th>\n",
       "      <th>Description</th>\n",
       "      <th>Quantity</th>\n",
       "      <th>CustomerID</th>\n",
       "      <th>Year</th>\n",
       "      <th>Month</th>\n",
       "      <th>Day</th>\n",
       "      <th>Timelight</th>\n",
       "      <th>Weekday</th>\n",
       "      <th>ModePrice</th>\n",
       "      <th>PriceDiff</th>\n",
       "    </tr>\n",
       "  </thead>\n",
       "  <tbody>\n",
       "    <tr>\n",
       "      <th>362</th>\n",
       "      <td>3711</td>\n",
       "      <td>3681</td>\n",
       "      <td>2140</td>\n",
       "      <td>1</td>\n",
       "      <td>12924.0</td>\n",
       "      <td>2011</td>\n",
       "      <td>A</td>\n",
       "      <td>week1</td>\n",
       "      <td>Morning</td>\n",
       "      <td>Wednesday</td>\n",
       "      <td>0.85</td>\n",
       "      <td>-310.17</td>\n",
       "    </tr>\n",
       "    <tr>\n",
       "      <th>378</th>\n",
       "      <td>5436</td>\n",
       "      <td>1366</td>\n",
       "      <td>2407</td>\n",
       "      <td>4</td>\n",
       "      <td>16947.0</td>\n",
       "      <td>2011</td>\n",
       "      <td>A</td>\n",
       "      <td>week2</td>\n",
       "      <td>Morning</td>\n",
       "      <td>Monday</td>\n",
       "      <td>5.95</td>\n",
       "      <td>0.00</td>\n",
       "    </tr>\n",
       "    <tr>\n",
       "      <th>640</th>\n",
       "      <td>2524</td>\n",
       "      <td>3683</td>\n",
       "      <td>2624</td>\n",
       "      <td>3</td>\n",
       "      <td>12464.0</td>\n",
       "      <td>2011</td>\n",
       "      <td>A</td>\n",
       "      <td>week1</td>\n",
       "      <td>Noon</td>\n",
       "      <td>Thursday</td>\n",
       "      <td>18.00</td>\n",
       "      <td>3.00</td>\n",
       "    </tr>\n",
       "    <tr>\n",
       "      <th>679</th>\n",
       "      <td>7846</td>\n",
       "      <td>3683</td>\n",
       "      <td>2624</td>\n",
       "      <td>1</td>\n",
       "      <td>12399.0</td>\n",
       "      <td>2011</td>\n",
       "      <td>B</td>\n",
       "      <td>week1</td>\n",
       "      <td>Noon</td>\n",
       "      <td>Thursday</td>\n",
       "      <td>18.00</td>\n",
       "      <td>-22.00</td>\n",
       "    </tr>\n",
       "    <tr>\n",
       "      <th>1345</th>\n",
       "      <td>12623</td>\n",
       "      <td>3683</td>\n",
       "      <td>2624</td>\n",
       "      <td>1</td>\n",
       "      <td>12437.0</td>\n",
       "      <td>2011</td>\n",
       "      <td>C</td>\n",
       "      <td>week3</td>\n",
       "      <td>Noon</td>\n",
       "      <td>Thursday</td>\n",
       "      <td>18.00</td>\n",
       "      <td>-22.00</td>\n",
       "    </tr>\n",
       "  </tbody>\n",
       "</table>\n",
       "</div>"
      ],
      "text/plain": [
       "      InvoiceNo  StockCode  Description  ...    Weekday  ModePrice  PriceDiff\n",
       "362        3711       3681         2140  ...  Wednesday       0.85    -310.17\n",
       "378        5436       1366         2407  ...     Monday       5.95       0.00\n",
       "640        2524       3683         2624  ...   Thursday      18.00       3.00\n",
       "679        7846       3683         2624  ...   Thursday      18.00     -22.00\n",
       "1345      12623       3683         2624  ...   Thursday      18.00     -22.00\n",
       "\n",
       "[5 rows x 12 columns]"
      ]
     },
     "execution_count": 529,
     "metadata": {
      "tags": []
     },
     "output_type": "execute_result"
    }
   ],
   "source": [
    "for i in range(0,len(test_exc)):\n",
    "  index = list(test_exc.index)[i]\n",
    "  test_exc.loc[index,'PriceDiff'] = PriceDiff[i]\n",
    "\n",
    "test_exc.head()"
   ]
  },
  {
   "cell_type": "code",
   "execution_count": 527,
   "metadata": {
    "colab": {
     "base_uri": "https://localhost:8080/",
     "height": 571
    },
    "executionInfo": {
     "elapsed": 917,
     "status": "error",
     "timestamp": 1606067977863,
     "user": {
      "displayName": "adrish bir",
      "photoUrl": "https://lh3.googleusercontent.com/a-/AOh14GjvnDCPOpuviVvO_227LaSth7sl8OIBxCSMqQmFO4c=s64",
      "userId": "15664726640138518444"
     },
     "user_tz": -330
    },
    "id": "Eg3n9HKsBmT5",
    "outputId": "53771e8c-11ea-40c8-cbec-f32387e57a8d"
   },
   "outputs": [
    {
     "ename": "KeyError",
     "evalue": "ignored",
     "output_type": "error",
     "traceback": [
      "\u001b[0;31m---------------------------------------------------------------------------\u001b[0m",
      "\u001b[0;31mKeyError\u001b[0m                                  Traceback (most recent call last)",
      "\u001b[0;32m/usr/local/lib/python3.6/dist-packages/pandas/core/indexes/base.py\u001b[0m in \u001b[0;36mget_loc\u001b[0;34m(self, key, method, tolerance)\u001b[0m\n\u001b[1;32m   2894\u001b[0m             \u001b[0;32mtry\u001b[0m\u001b[0;34m:\u001b[0m\u001b[0;34m\u001b[0m\u001b[0;34m\u001b[0m\u001b[0m\n\u001b[0;32m-> 2895\u001b[0;31m                 \u001b[0;32mreturn\u001b[0m \u001b[0mself\u001b[0m\u001b[0;34m.\u001b[0m\u001b[0m_engine\u001b[0m\u001b[0;34m.\u001b[0m\u001b[0mget_loc\u001b[0m\u001b[0;34m(\u001b[0m\u001b[0mcasted_key\u001b[0m\u001b[0;34m)\u001b[0m\u001b[0;34m\u001b[0m\u001b[0;34m\u001b[0m\u001b[0m\n\u001b[0m\u001b[1;32m   2896\u001b[0m             \u001b[0;32mexcept\u001b[0m \u001b[0mKeyError\u001b[0m \u001b[0;32mas\u001b[0m \u001b[0merr\u001b[0m\u001b[0;34m:\u001b[0m\u001b[0;34m\u001b[0m\u001b[0;34m\u001b[0m\u001b[0m\n",
      "\u001b[0;32mpandas/_libs/index.pyx\u001b[0m in \u001b[0;36mpandas._libs.index.IndexEngine.get_loc\u001b[0;34m()\u001b[0m\n",
      "\u001b[0;32mpandas/_libs/index.pyx\u001b[0m in \u001b[0;36mpandas._libs.index.IndexEngine.get_loc\u001b[0;34m()\u001b[0m\n",
      "\u001b[0;32mpandas/_libs/hashtable_class_helper.pxi\u001b[0m in \u001b[0;36mpandas._libs.hashtable.PyObjectHashTable.get_item\u001b[0;34m()\u001b[0m\n",
      "\u001b[0;32mpandas/_libs/hashtable_class_helper.pxi\u001b[0m in \u001b[0;36mpandas._libs.hashtable.PyObjectHashTable.get_item\u001b[0;34m()\u001b[0m\n",
      "\u001b[0;31mKeyError\u001b[0m: 'PriceDiff_sign'",
      "\nThe above exception was the direct cause of the following exception:\n",
      "\u001b[0;31mKeyError\u001b[0m                                  Traceback (most recent call last)",
      "\u001b[0;32m<ipython-input-527-4d2cd2f65727>\u001b[0m in \u001b[0;36m<module>\u001b[0;34m()\u001b[0m\n\u001b[1;32m      1\u001b[0m \u001b[0mtest_exc\u001b[0m\u001b[0;34m[\u001b[0m\u001b[0;34m'PriceDiff'\u001b[0m\u001b[0;34m]\u001b[0m \u001b[0;34m=\u001b[0m \u001b[0mnp\u001b[0m\u001b[0;34m.\u001b[0m\u001b[0mexp\u001b[0m\u001b[0;34m(\u001b[0m\u001b[0mtest_exc\u001b[0m\u001b[0;34m[\u001b[0m\u001b[0;34m'PriceDiff'\u001b[0m\u001b[0;34m]\u001b[0m\u001b[0;34m)\u001b[0m\u001b[0;34m\u001b[0m\u001b[0;34m\u001b[0m\u001b[0m\n\u001b[0;32m----> 2\u001b[0;31m \u001b[0mtest_exc\u001b[0m\u001b[0;34m[\u001b[0m\u001b[0;34m'PriceDiff'\u001b[0m\u001b[0;34m]\u001b[0m \u001b[0;34m=\u001b[0m \u001b[0mtest_exc\u001b[0m\u001b[0;34m[\u001b[0m\u001b[0;34m'PriceDiff'\u001b[0m\u001b[0;34m]\u001b[0m\u001b[0;34m*\u001b[0m\u001b[0mtest_exc\u001b[0m\u001b[0;34m[\u001b[0m\u001b[0;34m'PriceDiff_sign'\u001b[0m\u001b[0;34m]\u001b[0m\u001b[0;34m\u001b[0m\u001b[0;34m\u001b[0m\u001b[0m\n\u001b[0m\u001b[1;32m      3\u001b[0m \u001b[0mtest_exc\u001b[0m\u001b[0;34m.\u001b[0m\u001b[0mhead\u001b[0m\u001b[0;34m(\u001b[0m\u001b[0;34m)\u001b[0m\u001b[0;34m\u001b[0m\u001b[0;34m\u001b[0m\u001b[0m\n",
      "\u001b[0;32m/usr/local/lib/python3.6/dist-packages/pandas/core/frame.py\u001b[0m in \u001b[0;36m__getitem__\u001b[0;34m(self, key)\u001b[0m\n\u001b[1;32m   2904\u001b[0m             \u001b[0;32mif\u001b[0m \u001b[0mself\u001b[0m\u001b[0;34m.\u001b[0m\u001b[0mcolumns\u001b[0m\u001b[0;34m.\u001b[0m\u001b[0mnlevels\u001b[0m \u001b[0;34m>\u001b[0m \u001b[0;36m1\u001b[0m\u001b[0;34m:\u001b[0m\u001b[0;34m\u001b[0m\u001b[0;34m\u001b[0m\u001b[0m\n\u001b[1;32m   2905\u001b[0m                 \u001b[0;32mreturn\u001b[0m \u001b[0mself\u001b[0m\u001b[0;34m.\u001b[0m\u001b[0m_getitem_multilevel\u001b[0m\u001b[0;34m(\u001b[0m\u001b[0mkey\u001b[0m\u001b[0;34m)\u001b[0m\u001b[0;34m\u001b[0m\u001b[0;34m\u001b[0m\u001b[0m\n\u001b[0;32m-> 2906\u001b[0;31m             \u001b[0mindexer\u001b[0m \u001b[0;34m=\u001b[0m \u001b[0mself\u001b[0m\u001b[0;34m.\u001b[0m\u001b[0mcolumns\u001b[0m\u001b[0;34m.\u001b[0m\u001b[0mget_loc\u001b[0m\u001b[0;34m(\u001b[0m\u001b[0mkey\u001b[0m\u001b[0;34m)\u001b[0m\u001b[0;34m\u001b[0m\u001b[0;34m\u001b[0m\u001b[0m\n\u001b[0m\u001b[1;32m   2907\u001b[0m             \u001b[0;32mif\u001b[0m \u001b[0mis_integer\u001b[0m\u001b[0;34m(\u001b[0m\u001b[0mindexer\u001b[0m\u001b[0;34m)\u001b[0m\u001b[0;34m:\u001b[0m\u001b[0;34m\u001b[0m\u001b[0;34m\u001b[0m\u001b[0m\n\u001b[1;32m   2908\u001b[0m                 \u001b[0mindexer\u001b[0m \u001b[0;34m=\u001b[0m \u001b[0;34m[\u001b[0m\u001b[0mindexer\u001b[0m\u001b[0;34m]\u001b[0m\u001b[0;34m\u001b[0m\u001b[0;34m\u001b[0m\u001b[0m\n",
      "\u001b[0;32m/usr/local/lib/python3.6/dist-packages/pandas/core/indexes/base.py\u001b[0m in \u001b[0;36mget_loc\u001b[0;34m(self, key, method, tolerance)\u001b[0m\n\u001b[1;32m   2895\u001b[0m                 \u001b[0;32mreturn\u001b[0m \u001b[0mself\u001b[0m\u001b[0;34m.\u001b[0m\u001b[0m_engine\u001b[0m\u001b[0;34m.\u001b[0m\u001b[0mget_loc\u001b[0m\u001b[0;34m(\u001b[0m\u001b[0mcasted_key\u001b[0m\u001b[0;34m)\u001b[0m\u001b[0;34m\u001b[0m\u001b[0;34m\u001b[0m\u001b[0m\n\u001b[1;32m   2896\u001b[0m             \u001b[0;32mexcept\u001b[0m \u001b[0mKeyError\u001b[0m \u001b[0;32mas\u001b[0m \u001b[0merr\u001b[0m\u001b[0;34m:\u001b[0m\u001b[0;34m\u001b[0m\u001b[0;34m\u001b[0m\u001b[0m\n\u001b[0;32m-> 2897\u001b[0;31m                 \u001b[0;32mraise\u001b[0m \u001b[0mKeyError\u001b[0m\u001b[0;34m(\u001b[0m\u001b[0mkey\u001b[0m\u001b[0;34m)\u001b[0m \u001b[0;32mfrom\u001b[0m \u001b[0merr\u001b[0m\u001b[0;34m\u001b[0m\u001b[0;34m\u001b[0m\u001b[0m\n\u001b[0m\u001b[1;32m   2898\u001b[0m \u001b[0;34m\u001b[0m\u001b[0m\n\u001b[1;32m   2899\u001b[0m         \u001b[0;32mif\u001b[0m \u001b[0mtolerance\u001b[0m \u001b[0;32mis\u001b[0m \u001b[0;32mnot\u001b[0m \u001b[0;32mNone\u001b[0m\u001b[0;34m:\u001b[0m\u001b[0;34m\u001b[0m\u001b[0;34m\u001b[0m\u001b[0m\n",
      "\u001b[0;31mKeyError\u001b[0m: 'PriceDiff_sign'"
     ]
    }
   ],
   "source": [
    "test_exc['PriceDiff'] = np.exp(test_exc['PriceDiff'])\n",
    "test_exc['PriceDiff'] = test_exc['PriceDiff']*test_exc['PriceDiff_sign']\n",
    "test_exc.head()"
   ]
  },
  {
   "cell_type": "code",
   "execution_count": 278,
   "metadata": {
    "colab": {
     "base_uri": "https://localhost:8080/",
     "height": 297
    },
    "executionInfo": {
     "elapsed": 1013,
     "status": "ok",
     "timestamp": 1606049955368,
     "user": {
      "displayName": "adrish bir",
      "photoUrl": "https://lh3.googleusercontent.com/a-/AOh14GjvnDCPOpuviVvO_227LaSth7sl8OIBxCSMqQmFO4c=s64",
      "userId": "15664726640138518444"
     },
     "user_tz": -330
    },
    "id": "zm6KOwTcCLM4",
    "outputId": "1976493f-5045-46c5-c6e1-244a95d73973"
   },
   "outputs": [
    {
     "data": {
      "text/plain": [
       "<matplotlib.axes._subplots.AxesSubplot at 0x7feeaf163550>"
      ]
     },
     "execution_count": 278,
     "metadata": {
      "tags": []
     },
     "output_type": "execute_result"
    },
    {
     "data": {
      "image/png": "[encoded data removed]",
      "text/plain": [
       "<Figure size 432x288 with 1 Axes>"
      ]
     },
     "metadata": {
      "needs_background": "light",
      "tags": []
     },
     "output_type": "display_data"
    }
   ],
   "source": [
    "sns.boxplot(x='PriceDiff',data=test_exc1)"
   ]
  },
  {
   "cell_type": "code",
   "execution_count": 530,
   "metadata": {
    "colab": {
     "base_uri": "https://localhost:8080/",
     "height": 202
    },
    "executionInfo": {
     "elapsed": 1008,
     "status": "ok",
     "timestamp": 1606068031521,
     "user": {
      "displayName": "adrish bir",
      "photoUrl": "https://lh3.googleusercontent.com/a-/AOh14GjvnDCPOpuviVvO_227LaSth7sl8OIBxCSMqQmFO4c=s64",
      "userId": "15664726640138518444"
     },
     "user_tz": -330
    },
    "id": "5eRH212CCXmx",
    "outputId": "2e3f317c-24f5-4ebb-dfce-595f0e6beb50"
   },
   "outputs": [
    {
     "data": {
      "text/html": [
       "<div>\n",
       "<style scoped>\n",
       "    .dataframe tbody tr th:only-of-type {\n",
       "        vertical-align: middle;\n",
       "    }\n",
       "\n",
       "    .dataframe tbody tr th {\n",
       "        vertical-align: top;\n",
       "    }\n",
       "\n",
       "    .dataframe thead th {\n",
       "        text-align: right;\n",
       "    }\n",
       "</style>\n",
       "<table border=\"1\" class=\"dataframe\">\n",
       "  <thead>\n",
       "    <tr style=\"text-align: right;\">\n",
       "      <th></th>\n",
       "      <th>InvoiceNo</th>\n",
       "      <th>StockCode</th>\n",
       "      <th>Description</th>\n",
       "      <th>Quantity</th>\n",
       "      <th>CustomerID</th>\n",
       "      <th>Year</th>\n",
       "      <th>Month</th>\n",
       "      <th>Day</th>\n",
       "      <th>Timelight</th>\n",
       "      <th>Weekday</th>\n",
       "      <th>ModePrice</th>\n",
       "      <th>PriceDiff</th>\n",
       "      <th>UnitPrice</th>\n",
       "    </tr>\n",
       "  </thead>\n",
       "  <tbody>\n",
       "    <tr>\n",
       "      <th>362</th>\n",
       "      <td>3711</td>\n",
       "      <td>3681</td>\n",
       "      <td>2140</td>\n",
       "      <td>1</td>\n",
       "      <td>12924.0</td>\n",
       "      <td>2011</td>\n",
       "      <td>A</td>\n",
       "      <td>week1</td>\n",
       "      <td>Morning</td>\n",
       "      <td>Wednesday</td>\n",
       "      <td>0.85</td>\n",
       "      <td>-310.17</td>\n",
       "      <td>311.02</td>\n",
       "    </tr>\n",
       "    <tr>\n",
       "      <th>378</th>\n",
       "      <td>5436</td>\n",
       "      <td>1366</td>\n",
       "      <td>2407</td>\n",
       "      <td>4</td>\n",
       "      <td>16947.0</td>\n",
       "      <td>2011</td>\n",
       "      <td>A</td>\n",
       "      <td>week2</td>\n",
       "      <td>Morning</td>\n",
       "      <td>Monday</td>\n",
       "      <td>5.95</td>\n",
       "      <td>0.00</td>\n",
       "      <td>5.95</td>\n",
       "    </tr>\n",
       "    <tr>\n",
       "      <th>640</th>\n",
       "      <td>2524</td>\n",
       "      <td>3683</td>\n",
       "      <td>2624</td>\n",
       "      <td>3</td>\n",
       "      <td>12464.0</td>\n",
       "      <td>2011</td>\n",
       "      <td>A</td>\n",
       "      <td>week1</td>\n",
       "      <td>Noon</td>\n",
       "      <td>Thursday</td>\n",
       "      <td>18.00</td>\n",
       "      <td>3.00</td>\n",
       "      <td>15.00</td>\n",
       "    </tr>\n",
       "    <tr>\n",
       "      <th>679</th>\n",
       "      <td>7846</td>\n",
       "      <td>3683</td>\n",
       "      <td>2624</td>\n",
       "      <td>1</td>\n",
       "      <td>12399.0</td>\n",
       "      <td>2011</td>\n",
       "      <td>B</td>\n",
       "      <td>week1</td>\n",
       "      <td>Noon</td>\n",
       "      <td>Thursday</td>\n",
       "      <td>18.00</td>\n",
       "      <td>-22.00</td>\n",
       "      <td>40.00</td>\n",
       "    </tr>\n",
       "    <tr>\n",
       "      <th>1345</th>\n",
       "      <td>12623</td>\n",
       "      <td>3683</td>\n",
       "      <td>2624</td>\n",
       "      <td>1</td>\n",
       "      <td>12437.0</td>\n",
       "      <td>2011</td>\n",
       "      <td>C</td>\n",
       "      <td>week3</td>\n",
       "      <td>Noon</td>\n",
       "      <td>Thursday</td>\n",
       "      <td>18.00</td>\n",
       "      <td>-22.00</td>\n",
       "      <td>40.00</td>\n",
       "    </tr>\n",
       "  </tbody>\n",
       "</table>\n",
       "</div>"
      ],
      "text/plain": [
       "      InvoiceNo  StockCode  Description  ...  ModePrice  PriceDiff  UnitPrice\n",
       "362        3711       3681         2140  ...       0.85    -310.17     311.02\n",
       "378        5436       1366         2407  ...       5.95       0.00       5.95\n",
       "640        2524       3683         2624  ...      18.00       3.00      15.00\n",
       "679        7846       3683         2624  ...      18.00     -22.00      40.00\n",
       "1345      12623       3683         2624  ...      18.00     -22.00      40.00\n",
       "\n",
       "[5 rows x 13 columns]"
      ]
     },
     "execution_count": 530,
     "metadata": {
      "tags": []
     },
     "output_type": "execute_result"
    }
   ],
   "source": [
    "test_exc['UnitPrice'] = test_exc['ModePrice']-test_exc['PriceDiff']\n",
    "test_exc.head()"
   ]
  },
  {
   "cell_type": "markdown",
   "metadata": {
    "id": "T_LgKkFlC5Th"
   },
   "source": [
    "### Test_Uni"
   ]
  },
  {
   "cell_type": "code",
   "execution_count": 531,
   "metadata": {
    "colab": {
     "base_uri": "https://localhost:8080/",
     "height": 202
    },
    "executionInfo": {
     "elapsed": 1118,
     "status": "ok",
     "timestamp": 1606068040850,
     "user": {
      "displayName": "adrish bir",
      "photoUrl": "https://lh3.googleusercontent.com/a-/AOh14GjvnDCPOpuviVvO_227LaSth7sl8OIBxCSMqQmFO4c=s64",
      "userId": "15664726640138518444"
     },
     "user_tz": -330
    },
    "id": "T4KhpCl3CyqY",
    "outputId": "8d9a1a50-6393-4f0c-80fd-6e5d5984500e"
   },
   "outputs": [
    {
     "data": {
      "text/html": [
       "<div>\n",
       "<style scoped>\n",
       "    .dataframe tbody tr th:only-of-type {\n",
       "        vertical-align: middle;\n",
       "    }\n",
       "\n",
       "    .dataframe tbody tr th {\n",
       "        vertical-align: top;\n",
       "    }\n",
       "\n",
       "    .dataframe thead th {\n",
       "        text-align: right;\n",
       "    }\n",
       "</style>\n",
       "<table border=\"1\" class=\"dataframe\">\n",
       "  <thead>\n",
       "    <tr style=\"text-align: right;\">\n",
       "      <th></th>\n",
       "      <th>InvoiceNo</th>\n",
       "      <th>StockCode</th>\n",
       "      <th>Description</th>\n",
       "      <th>Quantity</th>\n",
       "      <th>CustomerID</th>\n",
       "      <th>Country</th>\n",
       "      <th>Year</th>\n",
       "      <th>Month</th>\n",
       "      <th>Day</th>\n",
       "      <th>Timelight</th>\n",
       "      <th>Weekday</th>\n",
       "    </tr>\n",
       "  </thead>\n",
       "  <tbody>\n",
       "    <tr>\n",
       "      <th>1565</th>\n",
       "      <td>17251</td>\n",
       "      <td>3516</td>\n",
       "      <td>3738</td>\n",
       "      <td>1</td>\n",
       "      <td>17364.0</td>\n",
       "      <td>35</td>\n",
       "      <td>2011</td>\n",
       "      <td>C</td>\n",
       "      <td>week3</td>\n",
       "      <td>Noon</td>\n",
       "      <td>Thursday</td>\n",
       "    </tr>\n",
       "    <tr>\n",
       "      <th>3056</th>\n",
       "      <td>1998</td>\n",
       "      <td>825</td>\n",
       "      <td>1403</td>\n",
       "      <td>2</td>\n",
       "      <td>15498.0</td>\n",
       "      <td>35</td>\n",
       "      <td>2011</td>\n",
       "      <td>A</td>\n",
       "      <td>week2</td>\n",
       "      <td>Noon</td>\n",
       "      <td>Thursday</td>\n",
       "    </tr>\n",
       "    <tr>\n",
       "      <th>5492</th>\n",
       "      <td>926</td>\n",
       "      <td>3463</td>\n",
       "      <td>2574</td>\n",
       "      <td>2</td>\n",
       "      <td>17231.0</td>\n",
       "      <td>35</td>\n",
       "      <td>2010</td>\n",
       "      <td>C</td>\n",
       "      <td>week2</td>\n",
       "      <td>Noon</td>\n",
       "      <td>Monday</td>\n",
       "    </tr>\n",
       "    <tr>\n",
       "      <th>7567</th>\n",
       "      <td>307</td>\n",
       "      <td>2932</td>\n",
       "      <td>2434</td>\n",
       "      <td>2</td>\n",
       "      <td>12725.0</td>\n",
       "      <td>18</td>\n",
       "      <td>2010</td>\n",
       "      <td>C</td>\n",
       "      <td>week1</td>\n",
       "      <td>Noon</td>\n",
       "      <td>Friday</td>\n",
       "    </tr>\n",
       "    <tr>\n",
       "      <th>8592</th>\n",
       "      <td>19709</td>\n",
       "      <td>3049</td>\n",
       "      <td>3296</td>\n",
       "      <td>1</td>\n",
       "      <td>15299.0</td>\n",
       "      <td>35</td>\n",
       "      <td>2011</td>\n",
       "      <td>A</td>\n",
       "      <td>week2</td>\n",
       "      <td>Morning</td>\n",
       "      <td>Thursday</td>\n",
       "    </tr>\n",
       "  </tbody>\n",
       "</table>\n",
       "</div>"
      ],
      "text/plain": [
       "      InvoiceNo  StockCode  Description  ...    Day  Timelight   Weekday\n",
       "1565      17251       3516         3738  ...  week3       Noon  Thursday\n",
       "3056       1998        825         1403  ...  week2       Noon  Thursday\n",
       "5492        926       3463         2574  ...  week2       Noon    Monday\n",
       "7567        307       2932         2434  ...  week1       Noon    Friday\n",
       "8592      19709       3049         3296  ...  week2    Morning  Thursday\n",
       "\n",
       "[5 rows x 11 columns]"
      ]
     },
     "execution_count": 531,
     "metadata": {
      "tags": []
     },
     "output_type": "execute_result"
    }
   ],
   "source": [
    "test_uni.head()"
   ]
  },
  {
   "cell_type": "code",
   "execution_count": 532,
   "metadata": {
    "colab": {
     "base_uri": "https://localhost:8080/"
    },
    "executionInfo": {
     "elapsed": 677,
     "status": "ok",
     "timestamp": 1606068041255,
     "user": {
      "displayName": "adrish bir",
      "photoUrl": "https://lh3.googleusercontent.com/a-/AOh14GjvnDCPOpuviVvO_227LaSth7sl8OIBxCSMqQmFO4c=s64",
      "userId": "15664726640138518444"
     },
     "user_tz": -330
    },
    "id": "oh2CjkgNDA7K",
    "outputId": "63d5e08b-0df1-4ac7-ca42-15617c361cf0"
   },
   "outputs": [
    {
     "data": {
      "text/plain": [
       "(91, 11)"
      ]
     },
     "execution_count": 532,
     "metadata": {
      "tags": []
     },
     "output_type": "execute_result"
    }
   ],
   "source": [
    "test_uni.shape"
   ]
  },
  {
   "cell_type": "code",
   "execution_count": 534,
   "metadata": {
    "colab": {
     "base_uri": "https://localhost:8080/"
    },
    "executionInfo": {
     "elapsed": 1093,
     "status": "ok",
     "timestamp": 1606068046317,
     "user": {
      "displayName": "adrish bir",
      "photoUrl": "https://lh3.googleusercontent.com/a-/AOh14GjvnDCPOpuviVvO_227LaSth7sl8OIBxCSMqQmFO4c=s64",
      "userId": "15664726640138518444"
     },
     "user_tz": -330
    },
    "id": "K_hBNSv4DDbZ",
    "outputId": "4fc5ba9d-8006-43b3-e216-fef1e02c2b6c"
   },
   "outputs": [
    {
     "data": {
      "text/plain": [
       "(644, 13)"
      ]
     },
     "execution_count": 534,
     "metadata": {
      "tags": []
     },
     "output_type": "execute_result"
    }
   ],
   "source": [
    "test_exc.shape"
   ]
  },
  {
   "cell_type": "code",
   "execution_count": 535,
   "metadata": {
    "colab": {
     "base_uri": "https://localhost:8080/"
    },
    "executionInfo": {
     "elapsed": 666,
     "status": "ok",
     "timestamp": 1606068046865,
     "user": {
      "displayName": "adrish bir",
      "photoUrl": "https://lh3.googleusercontent.com/a-/AOh14GjvnDCPOpuviVvO_227LaSth7sl8OIBxCSMqQmFO4c=s64",
      "userId": "15664726640138518444"
     },
     "user_tz": -330
    },
    "id": "nUXypK83DMrJ",
    "outputId": "83c28c12-c1b2-453a-8141-efdeaf24c351"
   },
   "outputs": [
    {
     "data": {
      "text/plain": [
       "(121314, 12)"
      ]
     },
     "execution_count": 535,
     "metadata": {
      "tags": []
     },
     "output_type": "execute_result"
    }
   ],
   "source": [
    "test_norm.shape"
   ]
  },
  {
   "cell_type": "code",
   "execution_count": 536,
   "metadata": {
    "colab": {
     "base_uri": "https://localhost:8080/"
    },
    "executionInfo": {
     "elapsed": 1050,
     "status": "ok",
     "timestamp": 1606068049646,
     "user": {
      "displayName": "adrish bir",
      "photoUrl": "https://lh3.googleusercontent.com/a-/AOh14GjvnDCPOpuviVvO_227LaSth7sl8OIBxCSMqQmFO4c=s64",
      "userId": "15664726640138518444"
     },
     "user_tz": -330
    },
    "id": "uGMgpJPxDTmY",
    "outputId": "9c4915e1-6db1-4295-d44f-81501f43b1ca"
   },
   "outputs": [
    {
     "data": {
      "text/plain": [
       "(122049, 11)"
      ]
     },
     "execution_count": 536,
     "metadata": {
      "tags": []
     },
     "output_type": "execute_result"
    }
   ],
   "source": [
    "test_data.shape"
   ]
  },
  {
   "cell_type": "code",
   "execution_count": 537,
   "metadata": {
    "colab": {
     "base_uri": "https://localhost:8080/",
     "height": 202
    },
    "executionInfo": {
     "elapsed": 1097,
     "status": "ok",
     "timestamp": 1606068052720,
     "user": {
      "displayName": "adrish bir",
      "photoUrl": "https://lh3.googleusercontent.com/a-/AOh14GjvnDCPOpuviVvO_227LaSth7sl8OIBxCSMqQmFO4c=s64",
      "userId": "15664726640138518444"
     },
     "user_tz": -330
    },
    "id": "RpxGr9wKDWhj",
    "outputId": "2dc64657-dbb5-47c9-f1fb-c3a4475d0b55"
   },
   "outputs": [
    {
     "data": {
      "text/html": [
       "<div>\n",
       "<style scoped>\n",
       "    .dataframe tbody tr th:only-of-type {\n",
       "        vertical-align: middle;\n",
       "    }\n",
       "\n",
       "    .dataframe tbody tr th {\n",
       "        vertical-align: top;\n",
       "    }\n",
       "\n",
       "    .dataframe thead th {\n",
       "        text-align: right;\n",
       "    }\n",
       "</style>\n",
       "<table border=\"1\" class=\"dataframe\">\n",
       "  <thead>\n",
       "    <tr style=\"text-align: right;\">\n",
       "      <th></th>\n",
       "      <th>Unnamed: 0</th>\n",
       "      <th>InvoiceNo</th>\n",
       "      <th>StockCode</th>\n",
       "      <th>Description</th>\n",
       "      <th>Quantity</th>\n",
       "      <th>UnitPrice</th>\n",
       "      <th>CustomerID</th>\n",
       "      <th>Country</th>\n",
       "      <th>Year</th>\n",
       "      <th>Month</th>\n",
       "      <th>Day</th>\n",
       "      <th>Timelight</th>\n",
       "      <th>Weekday</th>\n",
       "    </tr>\n",
       "  </thead>\n",
       "  <tbody>\n",
       "    <tr>\n",
       "      <th>0</th>\n",
       "      <td>0</td>\n",
       "      <td>6141</td>\n",
       "      <td>1583</td>\n",
       "      <td>144</td>\n",
       "      <td>3</td>\n",
       "      <td>3.75</td>\n",
       "      <td>14056.0</td>\n",
       "      <td>35</td>\n",
       "      <td>2011</td>\n",
       "      <td>B</td>\n",
       "      <td>week1</td>\n",
       "      <td>Noon</td>\n",
       "      <td>Friday</td>\n",
       "    </tr>\n",
       "    <tr>\n",
       "      <th>1</th>\n",
       "      <td>1</td>\n",
       "      <td>6349</td>\n",
       "      <td>1300</td>\n",
       "      <td>3682</td>\n",
       "      <td>6</td>\n",
       "      <td>1.95</td>\n",
       "      <td>13098.0</td>\n",
       "      <td>35</td>\n",
       "      <td>2011</td>\n",
       "      <td>B</td>\n",
       "      <td>week2</td>\n",
       "      <td>Morning</td>\n",
       "      <td>Wednesday</td>\n",
       "    </tr>\n",
       "    <tr>\n",
       "      <th>2</th>\n",
       "      <td>2</td>\n",
       "      <td>16783</td>\n",
       "      <td>2178</td>\n",
       "      <td>1939</td>\n",
       "      <td>4</td>\n",
       "      <td>5.95</td>\n",
       "      <td>15044.0</td>\n",
       "      <td>35</td>\n",
       "      <td>2011</td>\n",
       "      <td>C</td>\n",
       "      <td>week2</td>\n",
       "      <td>Noon</td>\n",
       "      <td>Sunday</td>\n",
       "    </tr>\n",
       "    <tr>\n",
       "      <th>3</th>\n",
       "      <td>3</td>\n",
       "      <td>16971</td>\n",
       "      <td>2115</td>\n",
       "      <td>2983</td>\n",
       "      <td>1</td>\n",
       "      <td>0.83</td>\n",
       "      <td>15525.0</td>\n",
       "      <td>35</td>\n",
       "      <td>2011</td>\n",
       "      <td>C</td>\n",
       "      <td>week3</td>\n",
       "      <td>Noon</td>\n",
       "      <td>Tuesday</td>\n",
       "    </tr>\n",
       "    <tr>\n",
       "      <th>4</th>\n",
       "      <td>4</td>\n",
       "      <td>6080</td>\n",
       "      <td>1210</td>\n",
       "      <td>2886</td>\n",
       "      <td>12</td>\n",
       "      <td>1.65</td>\n",
       "      <td>13952.0</td>\n",
       "      <td>35</td>\n",
       "      <td>2011</td>\n",
       "      <td>B</td>\n",
       "      <td>week1</td>\n",
       "      <td>Morning</td>\n",
       "      <td>Friday</td>\n",
       "    </tr>\n",
       "  </tbody>\n",
       "</table>\n",
       "</div>"
      ],
      "text/plain": [
       "   Unnamed: 0  InvoiceNo  StockCode  ...    Day  Timelight    Weekday\n",
       "0           0       6141       1583  ...  week1       Noon     Friday\n",
       "1           1       6349       1300  ...  week2    Morning  Wednesday\n",
       "2           2      16783       2178  ...  week2       Noon     Sunday\n",
       "3           3      16971       2115  ...  week3       Noon    Tuesday\n",
       "4           4       6080       1210  ...  week1    Morning     Friday\n",
       "\n",
       "[5 rows x 13 columns]"
      ]
     },
     "execution_count": 537,
     "metadata": {
      "tags": []
     },
     "output_type": "execute_result"
    }
   ],
   "source": [
    "Data_dir = '/content/gdrive/My Drive/Colab Notebooks/Datasets/MahineHack - Retail Price Prediction/'\n",
    "fin_df = pd.read_csv(Data_dir+ 'final_data.csv')\n",
    "#test_data = pd.read_csv(Data_dir + 'final_test_data.csv')\n",
    "fin_df.head()"
   ]
  },
  {
   "cell_type": "code",
   "execution_count": 538,
   "metadata": {
    "colab": {
     "base_uri": "https://localhost:8080/",
     "height": 202
    },
    "executionInfo": {
     "elapsed": 990,
     "status": "ok",
     "timestamp": 1606068056393,
     "user": {
      "displayName": "adrish bir",
      "photoUrl": "https://lh3.googleusercontent.com/a-/AOh14GjvnDCPOpuviVvO_227LaSth7sl8OIBxCSMqQmFO4c=s64",
      "userId": "15664726640138518444"
     },
     "user_tz": -330
    },
    "id": "a35L7cpHD3XE",
    "outputId": "6ce7d29e-0953-48b7-8ed1-ae8e95988f5c"
   },
   "outputs": [
    {
     "data": {
      "text/html": [
       "<div>\n",
       "<style scoped>\n",
       "    .dataframe tbody tr th:only-of-type {\n",
       "        vertical-align: middle;\n",
       "    }\n",
       "\n",
       "    .dataframe tbody tr th {\n",
       "        vertical-align: top;\n",
       "    }\n",
       "\n",
       "    .dataframe thead th {\n",
       "        text-align: right;\n",
       "    }\n",
       "</style>\n",
       "<table border=\"1\" class=\"dataframe\">\n",
       "  <thead>\n",
       "    <tr style=\"text-align: right;\">\n",
       "      <th></th>\n",
       "      <th>InvoiceNo</th>\n",
       "      <th>StockCode</th>\n",
       "      <th>Description</th>\n",
       "      <th>Quantity</th>\n",
       "      <th>UnitPrice</th>\n",
       "      <th>CustomerID</th>\n",
       "      <th>Country</th>\n",
       "      <th>Year</th>\n",
       "      <th>Month</th>\n",
       "      <th>Day</th>\n",
       "      <th>Timelight</th>\n",
       "      <th>Weekday</th>\n",
       "    </tr>\n",
       "  </thead>\n",
       "  <tbody>\n",
       "    <tr>\n",
       "      <th>0</th>\n",
       "      <td>6141</td>\n",
       "      <td>1583</td>\n",
       "      <td>144</td>\n",
       "      <td>3</td>\n",
       "      <td>3.75</td>\n",
       "      <td>14056.0</td>\n",
       "      <td>35</td>\n",
       "      <td>2011</td>\n",
       "      <td>B</td>\n",
       "      <td>week1</td>\n",
       "      <td>Noon</td>\n",
       "      <td>Friday</td>\n",
       "    </tr>\n",
       "    <tr>\n",
       "      <th>1</th>\n",
       "      <td>6349</td>\n",
       "      <td>1300</td>\n",
       "      <td>3682</td>\n",
       "      <td>6</td>\n",
       "      <td>1.95</td>\n",
       "      <td>13098.0</td>\n",
       "      <td>35</td>\n",
       "      <td>2011</td>\n",
       "      <td>B</td>\n",
       "      <td>week2</td>\n",
       "      <td>Morning</td>\n",
       "      <td>Wednesday</td>\n",
       "    </tr>\n",
       "    <tr>\n",
       "      <th>2</th>\n",
       "      <td>16783</td>\n",
       "      <td>2178</td>\n",
       "      <td>1939</td>\n",
       "      <td>4</td>\n",
       "      <td>5.95</td>\n",
       "      <td>15044.0</td>\n",
       "      <td>35</td>\n",
       "      <td>2011</td>\n",
       "      <td>C</td>\n",
       "      <td>week2</td>\n",
       "      <td>Noon</td>\n",
       "      <td>Sunday</td>\n",
       "    </tr>\n",
       "    <tr>\n",
       "      <th>3</th>\n",
       "      <td>16971</td>\n",
       "      <td>2115</td>\n",
       "      <td>2983</td>\n",
       "      <td>1</td>\n",
       "      <td>0.83</td>\n",
       "      <td>15525.0</td>\n",
       "      <td>35</td>\n",
       "      <td>2011</td>\n",
       "      <td>C</td>\n",
       "      <td>week3</td>\n",
       "      <td>Noon</td>\n",
       "      <td>Tuesday</td>\n",
       "    </tr>\n",
       "    <tr>\n",
       "      <th>4</th>\n",
       "      <td>6080</td>\n",
       "      <td>1210</td>\n",
       "      <td>2886</td>\n",
       "      <td>12</td>\n",
       "      <td>1.65</td>\n",
       "      <td>13952.0</td>\n",
       "      <td>35</td>\n",
       "      <td>2011</td>\n",
       "      <td>B</td>\n",
       "      <td>week1</td>\n",
       "      <td>Morning</td>\n",
       "      <td>Friday</td>\n",
       "    </tr>\n",
       "  </tbody>\n",
       "</table>\n",
       "</div>"
      ],
      "text/plain": [
       "   InvoiceNo  StockCode  Description  ...    Day  Timelight    Weekday\n",
       "0       6141       1583          144  ...  week1       Noon     Friday\n",
       "1       6349       1300         3682  ...  week2    Morning  Wednesday\n",
       "2      16783       2178         1939  ...  week2       Noon     Sunday\n",
       "3      16971       2115         2983  ...  week3       Noon    Tuesday\n",
       "4       6080       1210         2886  ...  week1    Morning     Friday\n",
       "\n",
       "[5 rows x 12 columns]"
      ]
     },
     "execution_count": 538,
     "metadata": {
      "tags": []
     },
     "output_type": "execute_result"
    }
   ],
   "source": [
    "fin_df.drop(['Unnamed: 0'],axis=1,inplace=True)\n",
    "fin_df.head()"
   ]
  },
  {
   "cell_type": "code",
   "execution_count": 539,
   "metadata": {
    "colab": {
     "base_uri": "https://localhost:8080/"
    },
    "executionInfo": {
     "elapsed": 894,
     "status": "ok",
     "timestamp": 1606068057165,
     "user": {
      "displayName": "adrish bir",
      "photoUrl": "https://lh3.googleusercontent.com/a-/AOh14GjvnDCPOpuviVvO_227LaSth7sl8OIBxCSMqQmFO4c=s64",
      "userId": "15664726640138518444"
     },
     "user_tz": -330
    },
    "id": "DJ4as4a_D6pH",
    "outputId": "0b3b858a-5fb8-48a4-a0f0-5ded6c08dce6"
   },
   "outputs": [
    {
     "data": {
      "text/plain": [
       "(284767, 12)"
      ]
     },
     "execution_count": 539,
     "metadata": {
      "tags": []
     },
     "output_type": "execute_result"
    }
   ],
   "source": [
    "fin_df.shape"
   ]
  },
  {
   "cell_type": "code",
   "execution_count": 540,
   "metadata": {
    "colab": {
     "base_uri": "https://localhost:8080/"
    },
    "executionInfo": {
     "elapsed": 753,
     "status": "ok",
     "timestamp": 1606068057760,
     "user": {
      "displayName": "adrish bir",
      "photoUrl": "https://lh3.googleusercontent.com/a-/AOh14GjvnDCPOpuviVvO_227LaSth7sl8OIBxCSMqQmFO4c=s64",
      "userId": "15664726640138518444"
     },
     "user_tz": -330
    },
    "id": "FXKKBvvWExWD",
    "outputId": "fc51a1a3-518f-4b8b-cd7b-3a243b334baa"
   },
   "outputs": [
    {
     "data": {
      "text/plain": [
       "5"
      ]
     },
     "execution_count": 540,
     "metadata": {
      "tags": []
     },
     "output_type": "execute_result"
    }
   ],
   "source": [
    "test_uni.Country.nunique()"
   ]
  },
  {
   "cell_type": "code",
   "execution_count": 541,
   "metadata": {
    "executionInfo": {
     "elapsed": 875,
     "status": "ok",
     "timestamp": 1606068059037,
     "user": {
      "displayName": "adrish bir",
      "photoUrl": "https://lh3.googleusercontent.com/a-/AOh14GjvnDCPOpuviVvO_227LaSth7sl8OIBxCSMqQmFO4c=s64",
      "userId": "15664726640138518444"
     },
     "user_tz": -330
    },
    "id": "QHYH_c_PD8rM"
   },
   "outputs": [],
   "source": [
    "from sklearn.pipeline import Pipeline\n",
    "from sklearn.preprocessing import StandardScaler\n",
    "from sklearn.compose import ColumnTransformer\n",
    "from sklearn.preprocessing import OneHotEncoder\n",
    "\n",
    "\n",
    "num_attribs = ['StockCode','Quantity','Description','CustomerID','InvoiceNo']\n",
    "cat_attribs = [ 'Weekday','Timelight','Year','Month','Day']\n",
    "\n",
    "full_pipeline = ColumnTransformer([\n",
    "        (\"num\", StandardScaler(), num_attribs),\n",
    "        (\"cat\", OneHotEncoder(), cat_attribs),\n",
    "    ])"
   ]
  },
  {
   "cell_type": "code",
   "execution_count": 542,
   "metadata": {
    "colab": {
     "base_uri": "https://localhost:8080/"
    },
    "executionInfo": {
     "elapsed": 1205,
     "status": "ok",
     "timestamp": 1606068060085,
     "user": {
      "displayName": "adrish bir",
      "photoUrl": "https://lh3.googleusercontent.com/a-/AOh14GjvnDCPOpuviVvO_227LaSth7sl8OIBxCSMqQmFO4c=s64",
      "userId": "15664726640138518444"
     },
     "user_tz": -330
    },
    "id": "MWZ3t0DJEUVp",
    "outputId": "bf09672a-c685-4e2d-d6e8-d989ecd54918"
   },
   "outputs": [
    {
     "name": "stdout",
     "output_type": "stream",
     "text": [
      "(284767, 22)\n",
      "(91, 22)\n"
     ]
    }
   ],
   "source": [
    "fin_df1 = fin_df.drop(['Country'],axis=1)\n",
    "X= fin_df1[['StockCode', 'Quantity','Year','Month','Day','Weekday','Timelight','Description','CustomerID','InvoiceNo']]\n",
    "y = fin_df1['UnitPrice']\n",
    "test_uni1 = test_uni.drop(['Country'],axis=1)\n",
    "\n",
    "X = full_pipeline.fit_transform(X)\n",
    "test_uni_num = full_pipeline.fit_transform(test_uni1)\n",
    "print(X.shape)\n",
    "print(test_uni_num.shape)"
   ]
  },
  {
   "cell_type": "code",
   "execution_count": 543,
   "metadata": {
    "colab": {
     "base_uri": "https://localhost:8080/"
    },
    "executionInfo": {
     "elapsed": 4382,
     "status": "ok",
     "timestamp": 1606068064206,
     "user": {
      "displayName": "adrish bir",
      "photoUrl": "https://lh3.googleusercontent.com/a-/AOh14GjvnDCPOpuviVvO_227LaSth7sl8OIBxCSMqQmFO4c=s64",
      "userId": "15664726640138518444"
     },
     "user_tz": -330
    },
    "id": "xM4acszgFDJQ",
    "outputId": "71e5b48b-55a9-48dc-bf08-5d28251dfcbb"
   },
   "outputs": [
    {
     "data": {
      "text/plain": [
       "(91,)"
      ]
     },
     "execution_count": 543,
     "metadata": {
      "tags": []
     },
     "output_type": "execute_result"
    }
   ],
   "source": [
    "from sklearn.tree import DecisionTreeRegressor\n",
    "from sklearn.metrics import mean_squared_error\n",
    "from sklearn.model_selection import cross_val_score\n",
    "\n",
    "tree_reg = DecisionTreeRegressor( max_depth=44,\n",
    "  max_features='auto', max_leaf_nodes=None,\n",
    "  min_impurity_split=1e-08, min_samples_leaf=2,\n",
    "  min_samples_split=12, min_weight_fraction_leaf=0.0,\n",
    "  presort=i, random_state=None)\n",
    "\n",
    "tree_reg.fit(X,y)\n",
    "UnitPrice = tree_reg.predict(test_uni_num)\n",
    "UnitPrice.shape"
   ]
  },
  {
   "cell_type": "code",
   "execution_count": 544,
   "metadata": {
    "colab": {
     "base_uri": "https://localhost:8080/",
     "height": 202
    },
    "executionInfo": {
     "elapsed": 3104,
     "status": "ok",
     "timestamp": 1606068064209,
     "user": {
      "displayName": "adrish bir",
      "photoUrl": "https://lh3.googleusercontent.com/a-/AOh14GjvnDCPOpuviVvO_227LaSth7sl8OIBxCSMqQmFO4c=s64",
      "userId": "15664726640138518444"
     },
     "user_tz": -330
    },
    "id": "vQRgBeneGWka",
    "outputId": "47965a74-0b58-4a65-9abc-67a9f8ce13d7"
   },
   "outputs": [
    {
     "data": {
      "text/html": [
       "<div>\n",
       "<style scoped>\n",
       "    .dataframe tbody tr th:only-of-type {\n",
       "        vertical-align: middle;\n",
       "    }\n",
       "\n",
       "    .dataframe tbody tr th {\n",
       "        vertical-align: top;\n",
       "    }\n",
       "\n",
       "    .dataframe thead th {\n",
       "        text-align: right;\n",
       "    }\n",
       "</style>\n",
       "<table border=\"1\" class=\"dataframe\">\n",
       "  <thead>\n",
       "    <tr style=\"text-align: right;\">\n",
       "      <th></th>\n",
       "      <th>InvoiceNo</th>\n",
       "      <th>StockCode</th>\n",
       "      <th>Description</th>\n",
       "      <th>Quantity</th>\n",
       "      <th>CustomerID</th>\n",
       "      <th>Country</th>\n",
       "      <th>Year</th>\n",
       "      <th>Month</th>\n",
       "      <th>Day</th>\n",
       "      <th>Timelight</th>\n",
       "      <th>Weekday</th>\n",
       "      <th>UnitPrice</th>\n",
       "    </tr>\n",
       "  </thead>\n",
       "  <tbody>\n",
       "    <tr>\n",
       "      <th>1565</th>\n",
       "      <td>17251</td>\n",
       "      <td>3516</td>\n",
       "      <td>3738</td>\n",
       "      <td>1</td>\n",
       "      <td>17364.0</td>\n",
       "      <td>35</td>\n",
       "      <td>2011</td>\n",
       "      <td>C</td>\n",
       "      <td>week3</td>\n",
       "      <td>Noon</td>\n",
       "      <td>Thursday</td>\n",
       "      <td>1.25</td>\n",
       "    </tr>\n",
       "    <tr>\n",
       "      <th>3056</th>\n",
       "      <td>1998</td>\n",
       "      <td>825</td>\n",
       "      <td>1403</td>\n",
       "      <td>2</td>\n",
       "      <td>15498.0</td>\n",
       "      <td>35</td>\n",
       "      <td>2011</td>\n",
       "      <td>A</td>\n",
       "      <td>week2</td>\n",
       "      <td>Noon</td>\n",
       "      <td>Thursday</td>\n",
       "      <td>2.95</td>\n",
       "    </tr>\n",
       "    <tr>\n",
       "      <th>5492</th>\n",
       "      <td>926</td>\n",
       "      <td>3463</td>\n",
       "      <td>2574</td>\n",
       "      <td>2</td>\n",
       "      <td>17231.0</td>\n",
       "      <td>35</td>\n",
       "      <td>2010</td>\n",
       "      <td>C</td>\n",
       "      <td>week2</td>\n",
       "      <td>Noon</td>\n",
       "      <td>Monday</td>\n",
       "      <td>8.15</td>\n",
       "    </tr>\n",
       "    <tr>\n",
       "      <th>7567</th>\n",
       "      <td>307</td>\n",
       "      <td>2932</td>\n",
       "      <td>2434</td>\n",
       "      <td>2</td>\n",
       "      <td>12725.0</td>\n",
       "      <td>18</td>\n",
       "      <td>2010</td>\n",
       "      <td>C</td>\n",
       "      <td>week1</td>\n",
       "      <td>Noon</td>\n",
       "      <td>Friday</td>\n",
       "      <td>3.75</td>\n",
       "    </tr>\n",
       "    <tr>\n",
       "      <th>8592</th>\n",
       "      <td>19709</td>\n",
       "      <td>3049</td>\n",
       "      <td>3296</td>\n",
       "      <td>1</td>\n",
       "      <td>15299.0</td>\n",
       "      <td>35</td>\n",
       "      <td>2011</td>\n",
       "      <td>A</td>\n",
       "      <td>week2</td>\n",
       "      <td>Morning</td>\n",
       "      <td>Thursday</td>\n",
       "      <td>3.29</td>\n",
       "    </tr>\n",
       "  </tbody>\n",
       "</table>\n",
       "</div>"
      ],
      "text/plain": [
       "      InvoiceNo  StockCode  Description  ...  Timelight   Weekday  UnitPrice\n",
       "1565      17251       3516         3738  ...       Noon  Thursday       1.25\n",
       "3056       1998        825         1403  ...       Noon  Thursday       2.95\n",
       "5492        926       3463         2574  ...       Noon    Monday       8.15\n",
       "7567        307       2932         2434  ...       Noon    Friday       3.75\n",
       "8592      19709       3049         3296  ...    Morning  Thursday       3.29\n",
       "\n",
       "[5 rows x 12 columns]"
      ]
     },
     "execution_count": 544,
     "metadata": {
      "tags": []
     },
     "output_type": "execute_result"
    }
   ],
   "source": [
    "for i in range(0,len(test_uni)):\n",
    "  index = list(test_uni.index)[i]\n",
    "  test_uni.loc[index,'UnitPrice'] = UnitPrice[i]\n",
    "\n",
    "test_uni.head()"
   ]
  },
  {
   "cell_type": "code",
   "execution_count": 546,
   "metadata": {
    "colab": {
     "base_uri": "https://localhost:8080/"
    },
    "executionInfo": {
     "elapsed": 1014,
     "status": "ok",
     "timestamp": 1606068071454,
     "user": {
      "displayName": "adrish bir",
      "photoUrl": "https://lh3.googleusercontent.com/a-/AOh14GjvnDCPOpuviVvO_227LaSth7sl8OIBxCSMqQmFO4c=s64",
      "userId": "15664726640138518444"
     },
     "user_tz": -330
    },
    "id": "KxOfKifwGrhr",
    "outputId": "f2c44efe-6fed-4b79-ca0d-7143a9ff1e3c"
   },
   "outputs": [
    {
     "data": {
      "text/plain": [
       "0"
      ]
     },
     "execution_count": 546,
     "metadata": {
      "tags": []
     },
     "output_type": "execute_result"
    }
   ],
   "source": [
    "test_uni.UnitPrice.isnull().sum()"
   ]
  },
  {
   "cell_type": "markdown",
   "metadata": {
    "id": "AuwN-SXTGzV6"
   },
   "source": [
    "### Final Submission"
   ]
  },
  {
   "cell_type": "code",
   "execution_count": 547,
   "metadata": {
    "colab": {
     "base_uri": "https://localhost:8080/"
    },
    "executionInfo": {
     "elapsed": 1052,
     "status": "ok",
     "timestamp": 1606068079959,
     "user": {
      "displayName": "adrish bir",
      "photoUrl": "https://lh3.googleusercontent.com/a-/AOh14GjvnDCPOpuviVvO_227LaSth7sl8OIBxCSMqQmFO4c=s64",
      "userId": "15664726640138518444"
     },
     "user_tz": -330
    },
    "id": "gP1VT3oVGxV3",
    "outputId": "9774fa89-96fb-429b-9a7a-2412846383a7"
   },
   "outputs": [
    {
     "data": {
      "text/plain": [
       "True"
      ]
     },
     "execution_count": 547,
     "metadata": {
      "tags": []
     },
     "output_type": "execute_result"
    }
   ],
   "source": [
    "len(test_data) == len(test_norm) + len(test_uni) + len(test_exc)"
   ]
  },
  {
   "cell_type": "code",
   "execution_count": 548,
   "metadata": {
    "colab": {
     "base_uri": "https://localhost:8080/",
     "height": 202
    },
    "executionInfo": {
     "elapsed": 1285,
     "status": "ok",
     "timestamp": 1606068083580,
     "user": {
      "displayName": "adrish bir",
      "photoUrl": "https://lh3.googleusercontent.com/a-/AOh14GjvnDCPOpuviVvO_227LaSth7sl8OIBxCSMqQmFO4c=s64",
      "userId": "15664726640138518444"
     },
     "user_tz": -330
    },
    "id": "PmJjQk3wHU9U",
    "outputId": "322ddb35-6d55-4935-d2b0-56bbe48fe02f"
   },
   "outputs": [
    {
     "data": {
      "text/html": [
       "<div>\n",
       "<style scoped>\n",
       "    .dataframe tbody tr th:only-of-type {\n",
       "        vertical-align: middle;\n",
       "    }\n",
       "\n",
       "    .dataframe tbody tr th {\n",
       "        vertical-align: top;\n",
       "    }\n",
       "\n",
       "    .dataframe thead th {\n",
       "        text-align: right;\n",
       "    }\n",
       "</style>\n",
       "<table border=\"1\" class=\"dataframe\">\n",
       "  <thead>\n",
       "    <tr style=\"text-align: right;\">\n",
       "      <th></th>\n",
       "      <th>InvoiceNo</th>\n",
       "      <th>StockCode</th>\n",
       "      <th>Description</th>\n",
       "      <th>Quantity</th>\n",
       "      <th>CustomerID</th>\n",
       "      <th>Country</th>\n",
       "      <th>Year</th>\n",
       "      <th>Month</th>\n",
       "      <th>Day</th>\n",
       "      <th>Timelight</th>\n",
       "      <th>Weekday</th>\n",
       "      <th>UnitPrice</th>\n",
       "    </tr>\n",
       "  </thead>\n",
       "  <tbody>\n",
       "    <tr>\n",
       "      <th>0</th>\n",
       "      <td>3139</td>\n",
       "      <td>1709</td>\n",
       "      <td>1079</td>\n",
       "      <td>3</td>\n",
       "      <td>16161.0</td>\n",
       "      <td>35</td>\n",
       "      <td>2011</td>\n",
       "      <td>A</td>\n",
       "      <td>week3</td>\n",
       "      <td>Noon</td>\n",
       "      <td>Tuesday</td>\n",
       "      <td>1.65</td>\n",
       "    </tr>\n",
       "    <tr>\n",
       "      <th>1</th>\n",
       "      <td>617</td>\n",
       "      <td>510</td>\n",
       "      <td>3457</td>\n",
       "      <td>1</td>\n",
       "      <td>17341.0</td>\n",
       "      <td>35</td>\n",
       "      <td>2010</td>\n",
       "      <td>C</td>\n",
       "      <td>week1</td>\n",
       "      <td>Noon</td>\n",
       "      <td>Wednesday</td>\n",
       "      <td>1.25</td>\n",
       "    </tr>\n",
       "    <tr>\n",
       "      <th>2</th>\n",
       "      <td>14653</td>\n",
       "      <td>604</td>\n",
       "      <td>694</td>\n",
       "      <td>36</td>\n",
       "      <td>15158.0</td>\n",
       "      <td>35</td>\n",
       "      <td>2011</td>\n",
       "      <td>C</td>\n",
       "      <td>week3</td>\n",
       "      <td>Noon</td>\n",
       "      <td>Tuesday</td>\n",
       "      <td>4.25</td>\n",
       "    </tr>\n",
       "    <tr>\n",
       "      <th>3</th>\n",
       "      <td>8634</td>\n",
       "      <td>1478</td>\n",
       "      <td>3473</td>\n",
       "      <td>2</td>\n",
       "      <td>16033.0</td>\n",
       "      <td>35</td>\n",
       "      <td>2011</td>\n",
       "      <td>B</td>\n",
       "      <td>week3</td>\n",
       "      <td>Noon</td>\n",
       "      <td>Monday</td>\n",
       "      <td>1.65</td>\n",
       "    </tr>\n",
       "    <tr>\n",
       "      <th>4</th>\n",
       "      <td>15546</td>\n",
       "      <td>3216</td>\n",
       "      <td>871</td>\n",
       "      <td>1</td>\n",
       "      <td>15351.0</td>\n",
       "      <td>35</td>\n",
       "      <td>2011</td>\n",
       "      <td>C</td>\n",
       "      <td>week1</td>\n",
       "      <td>Noon</td>\n",
       "      <td>Sunday</td>\n",
       "      <td>12.75</td>\n",
       "    </tr>\n",
       "  </tbody>\n",
       "</table>\n",
       "</div>"
      ],
      "text/plain": [
       "   InvoiceNo  StockCode  Description  ...  Timelight    Weekday  UnitPrice\n",
       "0       3139       1709         1079  ...       Noon    Tuesday       1.65\n",
       "1        617        510         3457  ...       Noon  Wednesday       1.25\n",
       "2      14653        604          694  ...       Noon    Tuesday       4.25\n",
       "3       8634       1478         3473  ...       Noon     Monday       1.65\n",
       "4      15546       3216          871  ...       Noon     Sunday      12.75\n",
       "\n",
       "[5 rows x 12 columns]"
      ]
     },
     "execution_count": 548,
     "metadata": {
      "tags": []
     },
     "output_type": "execute_result"
    }
   ],
   "source": [
    "test_norm.head()"
   ]
  },
  {
   "cell_type": "code",
   "execution_count": 549,
   "metadata": {
    "colab": {
     "base_uri": "https://localhost:8080/",
     "height": 202
    },
    "executionInfo": {
     "elapsed": 620,
     "status": "ok",
     "timestamp": 1606068084082,
     "user": {
      "displayName": "adrish bir",
      "photoUrl": "https://lh3.googleusercontent.com/a-/AOh14GjvnDCPOpuviVvO_227LaSth7sl8OIBxCSMqQmFO4c=s64",
      "userId": "15664726640138518444"
     },
     "user_tz": -330
    },
    "id": "Kr0pLTnCHZjU",
    "outputId": "b9a1b629-82db-4b36-ec9e-2aa245a302fd"
   },
   "outputs": [
    {
     "data": {
      "text/html": [
       "<div>\n",
       "<style scoped>\n",
       "    .dataframe tbody tr th:only-of-type {\n",
       "        vertical-align: middle;\n",
       "    }\n",
       "\n",
       "    .dataframe tbody tr th {\n",
       "        vertical-align: top;\n",
       "    }\n",
       "\n",
       "    .dataframe thead th {\n",
       "        text-align: right;\n",
       "    }\n",
       "</style>\n",
       "<table border=\"1\" class=\"dataframe\">\n",
       "  <thead>\n",
       "    <tr style=\"text-align: right;\">\n",
       "      <th></th>\n",
       "      <th>InvoiceNo</th>\n",
       "      <th>StockCode</th>\n",
       "      <th>Description</th>\n",
       "      <th>Quantity</th>\n",
       "      <th>CustomerID</th>\n",
       "      <th>Country</th>\n",
       "      <th>Year</th>\n",
       "      <th>Month</th>\n",
       "      <th>Day</th>\n",
       "      <th>Timelight</th>\n",
       "      <th>Weekday</th>\n",
       "      <th>UnitPrice</th>\n",
       "    </tr>\n",
       "  </thead>\n",
       "  <tbody>\n",
       "    <tr>\n",
       "      <th>1565</th>\n",
       "      <td>17251</td>\n",
       "      <td>3516</td>\n",
       "      <td>3738</td>\n",
       "      <td>1</td>\n",
       "      <td>17364.0</td>\n",
       "      <td>35</td>\n",
       "      <td>2011</td>\n",
       "      <td>C</td>\n",
       "      <td>week3</td>\n",
       "      <td>Noon</td>\n",
       "      <td>Thursday</td>\n",
       "      <td>1.25</td>\n",
       "    </tr>\n",
       "    <tr>\n",
       "      <th>3056</th>\n",
       "      <td>1998</td>\n",
       "      <td>825</td>\n",
       "      <td>1403</td>\n",
       "      <td>2</td>\n",
       "      <td>15498.0</td>\n",
       "      <td>35</td>\n",
       "      <td>2011</td>\n",
       "      <td>A</td>\n",
       "      <td>week2</td>\n",
       "      <td>Noon</td>\n",
       "      <td>Thursday</td>\n",
       "      <td>2.95</td>\n",
       "    </tr>\n",
       "    <tr>\n",
       "      <th>5492</th>\n",
       "      <td>926</td>\n",
       "      <td>3463</td>\n",
       "      <td>2574</td>\n",
       "      <td>2</td>\n",
       "      <td>17231.0</td>\n",
       "      <td>35</td>\n",
       "      <td>2010</td>\n",
       "      <td>C</td>\n",
       "      <td>week2</td>\n",
       "      <td>Noon</td>\n",
       "      <td>Monday</td>\n",
       "      <td>8.15</td>\n",
       "    </tr>\n",
       "    <tr>\n",
       "      <th>7567</th>\n",
       "      <td>307</td>\n",
       "      <td>2932</td>\n",
       "      <td>2434</td>\n",
       "      <td>2</td>\n",
       "      <td>12725.0</td>\n",
       "      <td>18</td>\n",
       "      <td>2010</td>\n",
       "      <td>C</td>\n",
       "      <td>week1</td>\n",
       "      <td>Noon</td>\n",
       "      <td>Friday</td>\n",
       "      <td>3.75</td>\n",
       "    </tr>\n",
       "    <tr>\n",
       "      <th>8592</th>\n",
       "      <td>19709</td>\n",
       "      <td>3049</td>\n",
       "      <td>3296</td>\n",
       "      <td>1</td>\n",
       "      <td>15299.0</td>\n",
       "      <td>35</td>\n",
       "      <td>2011</td>\n",
       "      <td>A</td>\n",
       "      <td>week2</td>\n",
       "      <td>Morning</td>\n",
       "      <td>Thursday</td>\n",
       "      <td>3.29</td>\n",
       "    </tr>\n",
       "  </tbody>\n",
       "</table>\n",
       "</div>"
      ],
      "text/plain": [
       "      InvoiceNo  StockCode  Description  ...  Timelight   Weekday  UnitPrice\n",
       "1565      17251       3516         3738  ...       Noon  Thursday       1.25\n",
       "3056       1998        825         1403  ...       Noon  Thursday       2.95\n",
       "5492        926       3463         2574  ...       Noon    Monday       8.15\n",
       "7567        307       2932         2434  ...       Noon    Friday       3.75\n",
       "8592      19709       3049         3296  ...    Morning  Thursday       3.29\n",
       "\n",
       "[5 rows x 12 columns]"
      ]
     },
     "execution_count": 549,
     "metadata": {
      "tags": []
     },
     "output_type": "execute_result"
    }
   ],
   "source": [
    "test_uni.head()"
   ]
  },
  {
   "cell_type": "code",
   "execution_count": 316,
   "metadata": {
    "colab": {
     "base_uri": "https://localhost:8080/",
     "height": 222
    },
    "executionInfo": {
     "elapsed": 2158,
     "status": "ok",
     "timestamp": 1606051305625,
     "user": {
      "displayName": "adrish bir",
      "photoUrl": "https://lh3.googleusercontent.com/a-/AOh14GjvnDCPOpuviVvO_227LaSth7sl8OIBxCSMqQmFO4c=s64",
      "userId": "15664726640138518444"
     },
     "user_tz": -330
    },
    "id": "Plsfas1ZHb3P",
    "outputId": "155d1b80-a661-4cbe-ee8e-317f4d7b83a1"
   },
   "outputs": [
    {
     "data": {
      "text/html": [
       "<div>\n",
       "<style scoped>\n",
       "    .dataframe tbody tr th:only-of-type {\n",
       "        vertical-align: middle;\n",
       "    }\n",
       "\n",
       "    .dataframe tbody tr th {\n",
       "        vertical-align: top;\n",
       "    }\n",
       "\n",
       "    .dataframe thead th {\n",
       "        text-align: right;\n",
       "    }\n",
       "</style>\n",
       "<table border=\"1\" class=\"dataframe\">\n",
       "  <thead>\n",
       "    <tr style=\"text-align: right;\">\n",
       "      <th></th>\n",
       "      <th>InvoiceNo</th>\n",
       "      <th>StockCode</th>\n",
       "      <th>Description</th>\n",
       "      <th>Quantity</th>\n",
       "      <th>CustomerID</th>\n",
       "      <th>Country</th>\n",
       "      <th>Year</th>\n",
       "      <th>Month</th>\n",
       "      <th>Day</th>\n",
       "      <th>Timelight</th>\n",
       "      <th>Weekday</th>\n",
       "      <th>ModePrice</th>\n",
       "      <th>PriceDiff_sign</th>\n",
       "      <th>PriceDiff</th>\n",
       "      <th>UnitPrice</th>\n",
       "    </tr>\n",
       "  </thead>\n",
       "  <tbody>\n",
       "    <tr>\n",
       "      <th>362</th>\n",
       "      <td>3711</td>\n",
       "      <td>3681</td>\n",
       "      <td>2140</td>\n",
       "      <td>1</td>\n",
       "      <td>12924.0</td>\n",
       "      <td>35</td>\n",
       "      <td>2011</td>\n",
       "      <td>A</td>\n",
       "      <td>week1</td>\n",
       "      <td>Morning</td>\n",
       "      <td>Wednesday</td>\n",
       "      <td>0.85</td>\n",
       "      <td>-1.0</td>\n",
       "      <td>-0.824621</td>\n",
       "      <td>1.674621</td>\n",
       "    </tr>\n",
       "    <tr>\n",
       "      <th>378</th>\n",
       "      <td>5436</td>\n",
       "      <td>1366</td>\n",
       "      <td>2407</td>\n",
       "      <td>4</td>\n",
       "      <td>16947.0</td>\n",
       "      <td>35</td>\n",
       "      <td>2011</td>\n",
       "      <td>A</td>\n",
       "      <td>week2</td>\n",
       "      <td>Morning</td>\n",
       "      <td>Monday</td>\n",
       "      <td>5.95</td>\n",
       "      <td>-1.0</td>\n",
       "      <td>-1.918333</td>\n",
       "      <td>7.868333</td>\n",
       "    </tr>\n",
       "    <tr>\n",
       "      <th>640</th>\n",
       "      <td>2524</td>\n",
       "      <td>3683</td>\n",
       "      <td>2624</td>\n",
       "      <td>3</td>\n",
       "      <td>12464.0</td>\n",
       "      <td>3</td>\n",
       "      <td>2011</td>\n",
       "      <td>A</td>\n",
       "      <td>week1</td>\n",
       "      <td>Noon</td>\n",
       "      <td>Thursday</td>\n",
       "      <td>18.00</td>\n",
       "      <td>-1.0</td>\n",
       "      <td>-26.532998</td>\n",
       "      <td>44.532998</td>\n",
       "    </tr>\n",
       "    <tr>\n",
       "      <th>679</th>\n",
       "      <td>7846</td>\n",
       "      <td>3683</td>\n",
       "      <td>2624</td>\n",
       "      <td>1</td>\n",
       "      <td>12399.0</td>\n",
       "      <td>3</td>\n",
       "      <td>2011</td>\n",
       "      <td>B</td>\n",
       "      <td>week1</td>\n",
       "      <td>Noon</td>\n",
       "      <td>Thursday</td>\n",
       "      <td>18.00</td>\n",
       "      <td>-1.0</td>\n",
       "      <td>-22.000000</td>\n",
       "      <td>40.000000</td>\n",
       "    </tr>\n",
       "    <tr>\n",
       "      <th>1345</th>\n",
       "      <td>12623</td>\n",
       "      <td>3683</td>\n",
       "      <td>2624</td>\n",
       "      <td>1</td>\n",
       "      <td>12437.0</td>\n",
       "      <td>13</td>\n",
       "      <td>2011</td>\n",
       "      <td>C</td>\n",
       "      <td>week3</td>\n",
       "      <td>Noon</td>\n",
       "      <td>Thursday</td>\n",
       "      <td>18.00</td>\n",
       "      <td>-1.0</td>\n",
       "      <td>-22.000000</td>\n",
       "      <td>40.000000</td>\n",
       "    </tr>\n",
       "  </tbody>\n",
       "</table>\n",
       "</div>"
      ],
      "text/plain": [
       "      InvoiceNo  StockCode  Description  ...  PriceDiff_sign  PriceDiff  UnitPrice\n",
       "362        3711       3681         2140  ...            -1.0  -0.824621   1.674621\n",
       "378        5436       1366         2407  ...            -1.0  -1.918333   7.868333\n",
       "640        2524       3683         2624  ...            -1.0 -26.532998  44.532998\n",
       "679        7846       3683         2624  ...            -1.0 -22.000000  40.000000\n",
       "1345      12623       3683         2624  ...            -1.0 -22.000000  40.000000\n",
       "\n",
       "[5 rows x 15 columns]"
      ]
     },
     "execution_count": 316,
     "metadata": {
      "tags": []
     },
     "output_type": "execute_result"
    }
   ],
   "source": [
    "test_exc1.head()"
   ]
  },
  {
   "cell_type": "code",
   "execution_count": 550,
   "metadata": {
    "colab": {
     "base_uri": "https://localhost:8080/",
     "height": 202
    },
    "executionInfo": {
     "elapsed": 656,
     "status": "ok",
     "timestamp": 1606068106649,
     "user": {
      "displayName": "adrish bir",
      "photoUrl": "https://lh3.googleusercontent.com/a-/AOh14GjvnDCPOpuviVvO_227LaSth7sl8OIBxCSMqQmFO4c=s64",
      "userId": "15664726640138518444"
     },
     "user_tz": -330
    },
    "id": "TpPktpYOHgl9",
    "outputId": "42ca1888-4810-46e2-dc6e-41181b7e1259"
   },
   "outputs": [
    {
     "data": {
      "text/html": [
       "<div>\n",
       "<style scoped>\n",
       "    .dataframe tbody tr th:only-of-type {\n",
       "        vertical-align: middle;\n",
       "    }\n",
       "\n",
       "    .dataframe tbody tr th {\n",
       "        vertical-align: top;\n",
       "    }\n",
       "\n",
       "    .dataframe thead th {\n",
       "        text-align: right;\n",
       "    }\n",
       "</style>\n",
       "<table border=\"1\" class=\"dataframe\">\n",
       "  <thead>\n",
       "    <tr style=\"text-align: right;\">\n",
       "      <th></th>\n",
       "      <th>InvoiceNo</th>\n",
       "      <th>StockCode</th>\n",
       "      <th>Description</th>\n",
       "      <th>Quantity</th>\n",
       "      <th>CustomerID</th>\n",
       "      <th>Year</th>\n",
       "      <th>Month</th>\n",
       "      <th>Day</th>\n",
       "      <th>Timelight</th>\n",
       "      <th>Weekday</th>\n",
       "      <th>UnitPrice</th>\n",
       "    </tr>\n",
       "  </thead>\n",
       "  <tbody>\n",
       "    <tr>\n",
       "      <th>362</th>\n",
       "      <td>3711</td>\n",
       "      <td>3681</td>\n",
       "      <td>2140</td>\n",
       "      <td>1</td>\n",
       "      <td>12924.0</td>\n",
       "      <td>2011</td>\n",
       "      <td>A</td>\n",
       "      <td>week1</td>\n",
       "      <td>Morning</td>\n",
       "      <td>Wednesday</td>\n",
       "      <td>311.02</td>\n",
       "    </tr>\n",
       "    <tr>\n",
       "      <th>378</th>\n",
       "      <td>5436</td>\n",
       "      <td>1366</td>\n",
       "      <td>2407</td>\n",
       "      <td>4</td>\n",
       "      <td>16947.0</td>\n",
       "      <td>2011</td>\n",
       "      <td>A</td>\n",
       "      <td>week2</td>\n",
       "      <td>Morning</td>\n",
       "      <td>Monday</td>\n",
       "      <td>5.95</td>\n",
       "    </tr>\n",
       "    <tr>\n",
       "      <th>640</th>\n",
       "      <td>2524</td>\n",
       "      <td>3683</td>\n",
       "      <td>2624</td>\n",
       "      <td>3</td>\n",
       "      <td>12464.0</td>\n",
       "      <td>2011</td>\n",
       "      <td>A</td>\n",
       "      <td>week1</td>\n",
       "      <td>Noon</td>\n",
       "      <td>Thursday</td>\n",
       "      <td>15.00</td>\n",
       "    </tr>\n",
       "    <tr>\n",
       "      <th>679</th>\n",
       "      <td>7846</td>\n",
       "      <td>3683</td>\n",
       "      <td>2624</td>\n",
       "      <td>1</td>\n",
       "      <td>12399.0</td>\n",
       "      <td>2011</td>\n",
       "      <td>B</td>\n",
       "      <td>week1</td>\n",
       "      <td>Noon</td>\n",
       "      <td>Thursday</td>\n",
       "      <td>40.00</td>\n",
       "    </tr>\n",
       "    <tr>\n",
       "      <th>1345</th>\n",
       "      <td>12623</td>\n",
       "      <td>3683</td>\n",
       "      <td>2624</td>\n",
       "      <td>1</td>\n",
       "      <td>12437.0</td>\n",
       "      <td>2011</td>\n",
       "      <td>C</td>\n",
       "      <td>week3</td>\n",
       "      <td>Noon</td>\n",
       "      <td>Thursday</td>\n",
       "      <td>40.00</td>\n",
       "    </tr>\n",
       "  </tbody>\n",
       "</table>\n",
       "</div>"
      ],
      "text/plain": [
       "      InvoiceNo  StockCode  Description  ...  Timelight    Weekday  UnitPrice\n",
       "362        3711       3681         2140  ...    Morning  Wednesday     311.02\n",
       "378        5436       1366         2407  ...    Morning     Monday       5.95\n",
       "640        2524       3683         2624  ...       Noon   Thursday      15.00\n",
       "679        7846       3683         2624  ...       Noon   Thursday      40.00\n",
       "1345      12623       3683         2624  ...       Noon   Thursday      40.00\n",
       "\n",
       "[5 rows x 11 columns]"
      ]
     },
     "execution_count": 550,
     "metadata": {
      "tags": []
     },
     "output_type": "execute_result"
    }
   ],
   "source": [
    "test_exc_fin = test_exc.drop(['ModePrice','PriceDiff'],axis=1)\n",
    "test_exc_fin.head()"
   ]
  },
  {
   "cell_type": "code",
   "execution_count": 551,
   "metadata": {
    "colab": {
     "base_uri": "https://localhost:8080/",
     "height": 415
    },
    "executionInfo": {
     "elapsed": 1374,
     "status": "ok",
     "timestamp": 1606068112412,
     "user": {
      "displayName": "adrish bir",
      "photoUrl": "https://lh3.googleusercontent.com/a-/AOh14GjvnDCPOpuviVvO_227LaSth7sl8OIBxCSMqQmFO4c=s64",
      "userId": "15664726640138518444"
     },
     "user_tz": -330
    },
    "id": "FxNPrb0ZH2Wg",
    "outputId": "c18839ac-4cba-4342-fdbe-876575929a3a"
   },
   "outputs": [
    {
     "data": {
      "text/html": [
       "<div>\n",
       "<style scoped>\n",
       "    .dataframe tbody tr th:only-of-type {\n",
       "        vertical-align: middle;\n",
       "    }\n",
       "\n",
       "    .dataframe tbody tr th {\n",
       "        vertical-align: top;\n",
       "    }\n",
       "\n",
       "    .dataframe thead th {\n",
       "        text-align: right;\n",
       "    }\n",
       "</style>\n",
       "<table border=\"1\" class=\"dataframe\">\n",
       "  <thead>\n",
       "    <tr style=\"text-align: right;\">\n",
       "      <th></th>\n",
       "      <th>InvoiceNo</th>\n",
       "      <th>StockCode</th>\n",
       "      <th>Description</th>\n",
       "      <th>Quantity</th>\n",
       "      <th>CustomerID</th>\n",
       "      <th>Year</th>\n",
       "      <th>Month</th>\n",
       "      <th>Day</th>\n",
       "      <th>Timelight</th>\n",
       "      <th>Weekday</th>\n",
       "      <th>UnitPrice</th>\n",
       "      <th>Country</th>\n",
       "    </tr>\n",
       "  </thead>\n",
       "  <tbody>\n",
       "    <tr>\n",
       "      <th>362</th>\n",
       "      <td>3711</td>\n",
       "      <td>3681</td>\n",
       "      <td>2140</td>\n",
       "      <td>1</td>\n",
       "      <td>12924.0</td>\n",
       "      <td>2011</td>\n",
       "      <td>A</td>\n",
       "      <td>week1</td>\n",
       "      <td>Morning</td>\n",
       "      <td>Wednesday</td>\n",
       "      <td>311.02</td>\n",
       "      <td>NaN</td>\n",
       "    </tr>\n",
       "    <tr>\n",
       "      <th>378</th>\n",
       "      <td>5436</td>\n",
       "      <td>1366</td>\n",
       "      <td>2407</td>\n",
       "      <td>4</td>\n",
       "      <td>16947.0</td>\n",
       "      <td>2011</td>\n",
       "      <td>A</td>\n",
       "      <td>week2</td>\n",
       "      <td>Morning</td>\n",
       "      <td>Monday</td>\n",
       "      <td>5.95</td>\n",
       "      <td>NaN</td>\n",
       "    </tr>\n",
       "    <tr>\n",
       "      <th>640</th>\n",
       "      <td>2524</td>\n",
       "      <td>3683</td>\n",
       "      <td>2624</td>\n",
       "      <td>3</td>\n",
       "      <td>12464.0</td>\n",
       "      <td>2011</td>\n",
       "      <td>A</td>\n",
       "      <td>week1</td>\n",
       "      <td>Noon</td>\n",
       "      <td>Thursday</td>\n",
       "      <td>15.00</td>\n",
       "      <td>NaN</td>\n",
       "    </tr>\n",
       "    <tr>\n",
       "      <th>679</th>\n",
       "      <td>7846</td>\n",
       "      <td>3683</td>\n",
       "      <td>2624</td>\n",
       "      <td>1</td>\n",
       "      <td>12399.0</td>\n",
       "      <td>2011</td>\n",
       "      <td>B</td>\n",
       "      <td>week1</td>\n",
       "      <td>Noon</td>\n",
       "      <td>Thursday</td>\n",
       "      <td>40.00</td>\n",
       "      <td>NaN</td>\n",
       "    </tr>\n",
       "    <tr>\n",
       "      <th>1345</th>\n",
       "      <td>12623</td>\n",
       "      <td>3683</td>\n",
       "      <td>2624</td>\n",
       "      <td>1</td>\n",
       "      <td>12437.0</td>\n",
       "      <td>2011</td>\n",
       "      <td>C</td>\n",
       "      <td>week3</td>\n",
       "      <td>Noon</td>\n",
       "      <td>Thursday</td>\n",
       "      <td>40.00</td>\n",
       "      <td>NaN</td>\n",
       "    </tr>\n",
       "    <tr>\n",
       "      <th>...</th>\n",
       "      <td>...</td>\n",
       "      <td>...</td>\n",
       "      <td>...</td>\n",
       "      <td>...</td>\n",
       "      <td>...</td>\n",
       "      <td>...</td>\n",
       "      <td>...</td>\n",
       "      <td>...</td>\n",
       "      <td>...</td>\n",
       "      <td>...</td>\n",
       "      <td>...</td>\n",
       "      <td>...</td>\n",
       "    </tr>\n",
       "    <tr>\n",
       "      <th>122044</th>\n",
       "      <td>7813</td>\n",
       "      <td>2487</td>\n",
       "      <td>1289</td>\n",
       "      <td>12</td>\n",
       "      <td>15214.0</td>\n",
       "      <td>2011</td>\n",
       "      <td>B</td>\n",
       "      <td>week1</td>\n",
       "      <td>Morning</td>\n",
       "      <td>Thursday</td>\n",
       "      <td>0.38</td>\n",
       "      <td>35.0</td>\n",
       "    </tr>\n",
       "    <tr>\n",
       "      <th>122045</th>\n",
       "      <td>8694</td>\n",
       "      <td>3069</td>\n",
       "      <td>217</td>\n",
       "      <td>16</td>\n",
       "      <td>16200.0</td>\n",
       "      <td>2011</td>\n",
       "      <td>B</td>\n",
       "      <td>week3</td>\n",
       "      <td>Noon</td>\n",
       "      <td>Tuesday</td>\n",
       "      <td>1.69</td>\n",
       "      <td>35.0</td>\n",
       "    </tr>\n",
       "    <tr>\n",
       "      <th>122046</th>\n",
       "      <td>915</td>\n",
       "      <td>1419</td>\n",
       "      <td>3474</td>\n",
       "      <td>6</td>\n",
       "      <td>15555.0</td>\n",
       "      <td>2010</td>\n",
       "      <td>C</td>\n",
       "      <td>week2</td>\n",
       "      <td>Noon</td>\n",
       "      <td>Monday</td>\n",
       "      <td>1.25</td>\n",
       "      <td>35.0</td>\n",
       "    </tr>\n",
       "    <tr>\n",
       "      <th>122047</th>\n",
       "      <td>8156</td>\n",
       "      <td>1631</td>\n",
       "      <td>1434</td>\n",
       "      <td>1</td>\n",
       "      <td>15907.0</td>\n",
       "      <td>2011</td>\n",
       "      <td>B</td>\n",
       "      <td>week2</td>\n",
       "      <td>Noon</td>\n",
       "      <td>Thursday</td>\n",
       "      <td>3.95</td>\n",
       "      <td>35.0</td>\n",
       "    </tr>\n",
       "    <tr>\n",
       "      <th>122048</th>\n",
       "      <td>12020</td>\n",
       "      <td>2088</td>\n",
       "      <td>706</td>\n",
       "      <td>3</td>\n",
       "      <td>16360.0</td>\n",
       "      <td>2011</td>\n",
       "      <td>C</td>\n",
       "      <td>week2</td>\n",
       "      <td>Noon</td>\n",
       "      <td>Monday</td>\n",
       "      <td>4.15</td>\n",
       "      <td>35.0</td>\n",
       "    </tr>\n",
       "  </tbody>\n",
       "</table>\n",
       "<p>122049 rows × 12 columns</p>\n",
       "</div>"
      ],
      "text/plain": [
       "        InvoiceNo  StockCode  Description  ...    Weekday  UnitPrice  Country\n",
       "362          3711       3681         2140  ...  Wednesday     311.02      NaN\n",
       "378          5436       1366         2407  ...     Monday       5.95      NaN\n",
       "640          2524       3683         2624  ...   Thursday      15.00      NaN\n",
       "679          7846       3683         2624  ...   Thursday      40.00      NaN\n",
       "1345        12623       3683         2624  ...   Thursday      40.00      NaN\n",
       "...           ...        ...          ...  ...        ...        ...      ...\n",
       "122044       7813       2487         1289  ...   Thursday       0.38     35.0\n",
       "122045       8694       3069          217  ...    Tuesday       1.69     35.0\n",
       "122046        915       1419         3474  ...     Monday       1.25     35.0\n",
       "122047       8156       1631         1434  ...   Thursday       3.95     35.0\n",
       "122048      12020       2088          706  ...     Monday       4.15     35.0\n",
       "\n",
       "[122049 rows x 12 columns]"
      ]
     },
     "execution_count": 551,
     "metadata": {
      "tags": []
     },
     "output_type": "execute_result"
    }
   ],
   "source": [
    "test_fin1 = test_exc_fin.append(test_uni)\n",
    "test_fin2 = test_fin1.append(test_norm)\n",
    "test_fin2"
   ]
  },
  {
   "cell_type": "code",
   "execution_count": 552,
   "metadata": {
    "colab": {
     "base_uri": "https://localhost:8080/"
    },
    "executionInfo": {
     "elapsed": 1019,
     "status": "ok",
     "timestamp": 1606068121011,
     "user": {
      "displayName": "adrish bir",
      "photoUrl": "https://lh3.googleusercontent.com/a-/AOh14GjvnDCPOpuviVvO_227LaSth7sl8OIBxCSMqQmFO4c=s64",
      "userId": "15664726640138518444"
     },
     "user_tz": -330
    },
    "id": "l4Mgci7mIVky",
    "outputId": "bcbbfadf-ce97-45b0-d879-3eeb0551d02b"
   },
   "outputs": [
    {
     "data": {
      "text/plain": [
       "InvoiceNo           3711\n",
       "StockCode           3681\n",
       "Description         2140\n",
       "Quantity               1\n",
       "CustomerID         12924\n",
       "Year                2011\n",
       "Month                  A\n",
       "Day                week1\n",
       "Timelight        Morning\n",
       "Weekday        Wednesday\n",
       "UnitPrice         311.02\n",
       "Country              NaN\n",
       "Name: 362, dtype: object"
      ]
     },
     "execution_count": 552,
     "metadata": {
      "tags": []
     },
     "output_type": "execute_result"
    }
   ],
   "source": [
    "test_fin2.loc[362]"
   ]
  },
  {
   "cell_type": "code",
   "execution_count": 553,
   "metadata": {
    "colab": {
     "base_uri": "https://localhost:8080/",
     "height": 415
    },
    "executionInfo": {
     "elapsed": 1214,
     "status": "ok",
     "timestamp": 1606068123227,
     "user": {
      "displayName": "adrish bir",
      "photoUrl": "https://lh3.googleusercontent.com/a-/AOh14GjvnDCPOpuviVvO_227LaSth7sl8OIBxCSMqQmFO4c=s64",
      "userId": "15664726640138518444"
     },
     "user_tz": -330
    },
    "id": "vjwyOWnwIgBx",
    "outputId": "3e0d7740-e400-485a-e186-ea74acce2854"
   },
   "outputs": [
    {
     "data": {
      "text/html": [
       "<div>\n",
       "<style scoped>\n",
       "    .dataframe tbody tr th:only-of-type {\n",
       "        vertical-align: middle;\n",
       "    }\n",
       "\n",
       "    .dataframe tbody tr th {\n",
       "        vertical-align: top;\n",
       "    }\n",
       "\n",
       "    .dataframe thead th {\n",
       "        text-align: right;\n",
       "    }\n",
       "</style>\n",
       "<table border=\"1\" class=\"dataframe\">\n",
       "  <thead>\n",
       "    <tr style=\"text-align: right;\">\n",
       "      <th></th>\n",
       "      <th>InvoiceNo</th>\n",
       "      <th>StockCode</th>\n",
       "      <th>Description</th>\n",
       "      <th>Quantity</th>\n",
       "      <th>CustomerID</th>\n",
       "      <th>Year</th>\n",
       "      <th>Month</th>\n",
       "      <th>Day</th>\n",
       "      <th>Timelight</th>\n",
       "      <th>Weekday</th>\n",
       "      <th>UnitPrice</th>\n",
       "      <th>Country</th>\n",
       "    </tr>\n",
       "  </thead>\n",
       "  <tbody>\n",
       "    <tr>\n",
       "      <th>0</th>\n",
       "      <td>3139</td>\n",
       "      <td>1709</td>\n",
       "      <td>1079</td>\n",
       "      <td>3</td>\n",
       "      <td>16161.0</td>\n",
       "      <td>2011</td>\n",
       "      <td>A</td>\n",
       "      <td>week3</td>\n",
       "      <td>Noon</td>\n",
       "      <td>Tuesday</td>\n",
       "      <td>1.65</td>\n",
       "      <td>35.0</td>\n",
       "    </tr>\n",
       "    <tr>\n",
       "      <th>1</th>\n",
       "      <td>617</td>\n",
       "      <td>510</td>\n",
       "      <td>3457</td>\n",
       "      <td>1</td>\n",
       "      <td>17341.0</td>\n",
       "      <td>2010</td>\n",
       "      <td>C</td>\n",
       "      <td>week1</td>\n",
       "      <td>Noon</td>\n",
       "      <td>Wednesday</td>\n",
       "      <td>1.25</td>\n",
       "      <td>35.0</td>\n",
       "    </tr>\n",
       "    <tr>\n",
       "      <th>2</th>\n",
       "      <td>14653</td>\n",
       "      <td>604</td>\n",
       "      <td>694</td>\n",
       "      <td>36</td>\n",
       "      <td>15158.0</td>\n",
       "      <td>2011</td>\n",
       "      <td>C</td>\n",
       "      <td>week3</td>\n",
       "      <td>Noon</td>\n",
       "      <td>Tuesday</td>\n",
       "      <td>4.25</td>\n",
       "      <td>35.0</td>\n",
       "    </tr>\n",
       "    <tr>\n",
       "      <th>3</th>\n",
       "      <td>8634</td>\n",
       "      <td>1478</td>\n",
       "      <td>3473</td>\n",
       "      <td>2</td>\n",
       "      <td>16033.0</td>\n",
       "      <td>2011</td>\n",
       "      <td>B</td>\n",
       "      <td>week3</td>\n",
       "      <td>Noon</td>\n",
       "      <td>Monday</td>\n",
       "      <td>1.65</td>\n",
       "      <td>35.0</td>\n",
       "    </tr>\n",
       "    <tr>\n",
       "      <th>4</th>\n",
       "      <td>15546</td>\n",
       "      <td>3216</td>\n",
       "      <td>871</td>\n",
       "      <td>1</td>\n",
       "      <td>15351.0</td>\n",
       "      <td>2011</td>\n",
       "      <td>C</td>\n",
       "      <td>week1</td>\n",
       "      <td>Noon</td>\n",
       "      <td>Sunday</td>\n",
       "      <td>12.75</td>\n",
       "      <td>35.0</td>\n",
       "    </tr>\n",
       "    <tr>\n",
       "      <th>...</th>\n",
       "      <td>...</td>\n",
       "      <td>...</td>\n",
       "      <td>...</td>\n",
       "      <td>...</td>\n",
       "      <td>...</td>\n",
       "      <td>...</td>\n",
       "      <td>...</td>\n",
       "      <td>...</td>\n",
       "      <td>...</td>\n",
       "      <td>...</td>\n",
       "      <td>...</td>\n",
       "      <td>...</td>\n",
       "    </tr>\n",
       "    <tr>\n",
       "      <th>122044</th>\n",
       "      <td>7813</td>\n",
       "      <td>2487</td>\n",
       "      <td>1289</td>\n",
       "      <td>12</td>\n",
       "      <td>15214.0</td>\n",
       "      <td>2011</td>\n",
       "      <td>B</td>\n",
       "      <td>week1</td>\n",
       "      <td>Morning</td>\n",
       "      <td>Thursday</td>\n",
       "      <td>0.38</td>\n",
       "      <td>35.0</td>\n",
       "    </tr>\n",
       "    <tr>\n",
       "      <th>122045</th>\n",
       "      <td>8694</td>\n",
       "      <td>3069</td>\n",
       "      <td>217</td>\n",
       "      <td>16</td>\n",
       "      <td>16200.0</td>\n",
       "      <td>2011</td>\n",
       "      <td>B</td>\n",
       "      <td>week3</td>\n",
       "      <td>Noon</td>\n",
       "      <td>Tuesday</td>\n",
       "      <td>1.69</td>\n",
       "      <td>35.0</td>\n",
       "    </tr>\n",
       "    <tr>\n",
       "      <th>122046</th>\n",
       "      <td>915</td>\n",
       "      <td>1419</td>\n",
       "      <td>3474</td>\n",
       "      <td>6</td>\n",
       "      <td>15555.0</td>\n",
       "      <td>2010</td>\n",
       "      <td>C</td>\n",
       "      <td>week2</td>\n",
       "      <td>Noon</td>\n",
       "      <td>Monday</td>\n",
       "      <td>1.25</td>\n",
       "      <td>35.0</td>\n",
       "    </tr>\n",
       "    <tr>\n",
       "      <th>122047</th>\n",
       "      <td>8156</td>\n",
       "      <td>1631</td>\n",
       "      <td>1434</td>\n",
       "      <td>1</td>\n",
       "      <td>15907.0</td>\n",
       "      <td>2011</td>\n",
       "      <td>B</td>\n",
       "      <td>week2</td>\n",
       "      <td>Noon</td>\n",
       "      <td>Thursday</td>\n",
       "      <td>3.95</td>\n",
       "      <td>35.0</td>\n",
       "    </tr>\n",
       "    <tr>\n",
       "      <th>122048</th>\n",
       "      <td>12020</td>\n",
       "      <td>2088</td>\n",
       "      <td>706</td>\n",
       "      <td>3</td>\n",
       "      <td>16360.0</td>\n",
       "      <td>2011</td>\n",
       "      <td>C</td>\n",
       "      <td>week2</td>\n",
       "      <td>Noon</td>\n",
       "      <td>Monday</td>\n",
       "      <td>4.15</td>\n",
       "      <td>35.0</td>\n",
       "    </tr>\n",
       "  </tbody>\n",
       "</table>\n",
       "<p>122049 rows × 12 columns</p>\n",
       "</div>"
      ],
      "text/plain": [
       "        InvoiceNo  StockCode  Description  ...    Weekday  UnitPrice  Country\n",
       "0            3139       1709         1079  ...    Tuesday       1.65     35.0\n",
       "1             617        510         3457  ...  Wednesday       1.25     35.0\n",
       "2           14653        604          694  ...    Tuesday       4.25     35.0\n",
       "3            8634       1478         3473  ...     Monday       1.65     35.0\n",
       "4           15546       3216          871  ...     Sunday      12.75     35.0\n",
       "...           ...        ...          ...  ...        ...        ...      ...\n",
       "122044       7813       2487         1289  ...   Thursday       0.38     35.0\n",
       "122045       8694       3069          217  ...    Tuesday       1.69     35.0\n",
       "122046        915       1419         3474  ...     Monday       1.25     35.0\n",
       "122047       8156       1631         1434  ...   Thursday       3.95     35.0\n",
       "122048      12020       2088          706  ...     Monday       4.15     35.0\n",
       "\n",
       "[122049 rows x 12 columns]"
      ]
     },
     "execution_count": 553,
     "metadata": {
      "tags": []
     },
     "output_type": "execute_result"
    }
   ],
   "source": [
    "test_fin3 = test_fin2.sort_index(ascending=True)\n",
    "test_fin3"
   ]
  },
  {
   "cell_type": "code",
   "execution_count": 554,
   "metadata": {
    "colab": {
     "base_uri": "https://localhost:8080/"
    },
    "executionInfo": {
     "elapsed": 972,
     "status": "ok",
     "timestamp": 1606068126032,
     "user": {
      "displayName": "adrish bir",
      "photoUrl": "https://lh3.googleusercontent.com/a-/AOh14GjvnDCPOpuviVvO_227LaSth7sl8OIBxCSMqQmFO4c=s64",
      "userId": "15664726640138518444"
     },
     "user_tz": -330
    },
    "id": "XgyygZ5rJgJV",
    "outputId": "fbcc0db8-4b89-41f2-caa5-9b1e8dcaf55a"
   },
   "outputs": [
    {
     "data": {
      "text/plain": [
       "(122049, 11)"
      ]
     },
     "execution_count": 554,
     "metadata": {
      "tags": []
     },
     "output_type": "execute_result"
    }
   ],
   "source": [
    "test_data.shape"
   ]
  },
  {
   "cell_type": "code",
   "execution_count": 555,
   "metadata": {
    "colab": {
     "base_uri": "https://localhost:8080/"
    },
    "executionInfo": {
     "elapsed": 1048,
     "status": "ok",
     "timestamp": 1606068130839,
     "user": {
      "displayName": "adrish bir",
      "photoUrl": "https://lh3.googleusercontent.com/a-/AOh14GjvnDCPOpuviVvO_227LaSth7sl8OIBxCSMqQmFO4c=s64",
      "userId": "15664726640138518444"
     },
     "user_tz": -330
    },
    "id": "nVcUX642Ji1C",
    "outputId": "8b2b1dcb-be5a-4789-db07-50c5f77fdc49"
   },
   "outputs": [
    {
     "data": {
      "text/plain": [
       "numpy.ndarray"
      ]
     },
     "execution_count": 555,
     "metadata": {
      "tags": []
     },
     "output_type": "execute_result"
    }
   ],
   "source": [
    "Final_UnitPrice = test_fin3['UnitPrice'].to_numpy()\n",
    "type(Final_UnitPrice)"
   ]
  },
  {
   "cell_type": "code",
   "execution_count": 556,
   "metadata": {
    "colab": {
     "base_uri": "https://localhost:8080/"
    },
    "executionInfo": {
     "elapsed": 929,
     "status": "ok",
     "timestamp": 1606068132628,
     "user": {
      "displayName": "adrish bir",
      "photoUrl": "https://lh3.googleusercontent.com/a-/AOh14GjvnDCPOpuviVvO_227LaSth7sl8OIBxCSMqQmFO4c=s64",
      "userId": "15664726640138518444"
     },
     "user_tz": -330
    },
    "id": "JuMToZ_4JxN_",
    "outputId": "1f74820f-f5d3-4007-beb9-293b2bbf3f36"
   },
   "outputs": [
    {
     "data": {
      "text/plain": [
       "array([0.38, 1.69, 1.25, 3.95, 4.15])"
      ]
     },
     "execution_count": 556,
     "metadata": {
      "tags": []
     },
     "output_type": "execute_result"
    }
   ],
   "source": [
    "Final_UnitPrice[-5:]"
   ]
  },
  {
   "cell_type": "code",
   "execution_count": 557,
   "metadata": {
    "executionInfo": {
     "elapsed": 1201,
     "status": "ok",
     "timestamp": 1606068157238,
     "user": {
      "displayName": "adrish bir",
      "photoUrl": "https://lh3.googleusercontent.com/a-/AOh14GjvnDCPOpuviVvO_227LaSth7sl8OIBxCSMqQmFO4c=s64",
      "userId": "15664726640138518444"
     },
     "user_tz": -330
    },
    "id": "YNvz1O_MJ7Gr"
   },
   "outputs": [],
   "source": [
    "text = 'SUB100-UltimateManipulation'\n",
    "np.savetxt(Data_dir+\"predictions\"+str(100)+text+\".csv\", Final_UnitPrice, delimiter=\",\")"
   ]
  },
  {
   "cell_type": "markdown",
   "metadata": {
    "id": "xqUVZgwtMEZ1"
   },
   "source": [
    "### Try2"
   ]
  },
  {
   "cell_type": "code",
   "execution_count": 352,
   "metadata": {
    "colab": {
     "base_uri": "https://localhost:8080/",
     "height": 49
    },
    "executionInfo": {
     "elapsed": 997,
     "status": "ok",
     "timestamp": 1606052555221,
     "user": {
      "displayName": "adrish bir",
      "photoUrl": "https://lh3.googleusercontent.com/a-/AOh14GjvnDCPOpuviVvO_227LaSth7sl8OIBxCSMqQmFO4c=s64",
      "userId": "15664726640138518444"
     },
     "user_tz": -330
    },
    "id": "BEURJuduKc2o",
    "outputId": "69e80118-028f-4129-e5f0-d9c7ce0e9a39"
   },
   "outputs": [
    {
     "data": {
      "text/html": [
       "<div>\n",
       "<style scoped>\n",
       "    .dataframe tbody tr th:only-of-type {\n",
       "        vertical-align: middle;\n",
       "    }\n",
       "\n",
       "    .dataframe tbody tr th {\n",
       "        vertical-align: top;\n",
       "    }\n",
       "\n",
       "    .dataframe thead th {\n",
       "        text-align: right;\n",
       "    }\n",
       "</style>\n",
       "<table border=\"1\" class=\"dataframe\">\n",
       "  <thead>\n",
       "    <tr style=\"text-align: right;\">\n",
       "      <th></th>\n",
       "      <th>InvoiceNo</th>\n",
       "      <th>StockCode</th>\n",
       "      <th>Description</th>\n",
       "      <th>Quantity</th>\n",
       "      <th>UnitPrice</th>\n",
       "      <th>CustomerID</th>\n",
       "      <th>Country</th>\n",
       "      <th>Year</th>\n",
       "      <th>Month</th>\n",
       "      <th>Day</th>\n",
       "      <th>Timelight</th>\n",
       "      <th>Weekday</th>\n",
       "    </tr>\n",
       "  </thead>\n",
       "  <tbody>\n",
       "  </tbody>\n",
       "</table>\n",
       "</div>"
      ],
      "text/plain": [
       "Empty DataFrame\n",
       "Columns: [InvoiceNo, StockCode, Description, Quantity, UnitPrice, CustomerID, Country, Year, Month, Day, Timelight, Weekday]\n",
       "Index: []"
      ]
     },
     "execution_count": 352,
     "metadata": {
      "tags": []
     },
     "output_type": "execute_result"
    }
   ],
   "source": [
    "df[df.UnitPrice<0]"
   ]
  },
  {
   "cell_type": "code",
   "execution_count": 353,
   "metadata": {
    "colab": {
     "base_uri": "https://localhost:8080/"
    },
    "executionInfo": {
     "elapsed": 1156,
     "status": "ok",
     "timestamp": 1606052615471,
     "user": {
      "displayName": "adrish bir",
      "photoUrl": "https://lh3.googleusercontent.com/a-/AOh14GjvnDCPOpuviVvO_227LaSth7sl8OIBxCSMqQmFO4c=s64",
      "userId": "15664726640138518444"
     },
     "user_tz": -330
    },
    "id": "tn-d1KNVMcbH",
    "outputId": "434e5871-d381-4a3e-8779-c919c3b93ec1"
   },
   "outputs": [
    {
     "data": {
      "text/plain": [
       "83.11335887287586"
      ]
     },
     "execution_count": 353,
     "metadata": {
      "tags": []
     },
     "output_type": "execute_result"
    }
   ],
   "source": [
    "df.UnitPrice.skew()"
   ]
  },
  {
   "cell_type": "code",
   "execution_count": 354,
   "metadata": {
    "colab": {
     "base_uri": "https://localhost:8080/"
    },
    "executionInfo": {
     "elapsed": 990,
     "status": "ok",
     "timestamp": 1606052619223,
     "user": {
      "displayName": "adrish bir",
      "photoUrl": "https://lh3.googleusercontent.com/a-/AOh14GjvnDCPOpuviVvO_227LaSth7sl8OIBxCSMqQmFO4c=s64",
      "userId": "15664726640138518444"
     },
     "user_tz": -330
    },
    "id": "-AnXdbVFMQr-",
    "outputId": "46184cd5-1b1b-47d6-ed30-48c4005998f2"
   },
   "outputs": [
    {
     "data": {
      "text/plain": [
       "0.07906909511440448"
      ]
     },
     "execution_count": 354,
     "metadata": {
      "tags": []
     },
     "output_type": "execute_result"
    }
   ],
   "source": [
    "df['UnitPrice'] = np.log(df['UnitPrice'])\n",
    "df.UnitPrice.skew()"
   ]
  },
  {
   "cell_type": "code",
   "execution_count": 355,
   "metadata": {
    "executionInfo": {
     "elapsed": 979,
     "status": "ok",
     "timestamp": 1606052686696,
     "user": {
      "displayName": "adrish bir",
      "photoUrl": "https://lh3.googleusercontent.com/a-/AOh14GjvnDCPOpuviVvO_227LaSth7sl8OIBxCSMqQmFO4c=s64",
      "userId": "15664726640138518444"
     },
     "user_tz": -330
    },
    "id": "jmeyfwCsMh9e"
   },
   "outputs": [],
   "source": [
    "from sklearn.pipeline import Pipeline\n",
    "from sklearn.preprocessing import StandardScaler\n",
    "from sklearn.compose import ColumnTransformer\n",
    "from sklearn.preprocessing import OneHotEncoder\n",
    "\n",
    "\n",
    "num_attribs = ['StockCode','Quantity','Description','CustomerID','InvoiceNo']\n",
    "cat_attribs = [ 'Country','Weekday','Timelight','Year','Month','Day']\n",
    "\n",
    "full_pipeline = ColumnTransformer([\n",
    "        (\"num\", StandardScaler(), num_attribs),\n",
    "        (\"cat\", OneHotEncoder(), cat_attribs),\n",
    "    ])"
   ]
  },
  {
   "cell_type": "code",
   "execution_count": 356,
   "metadata": {
    "colab": {
     "base_uri": "https://localhost:8080/"
    },
    "executionInfo": {
     "elapsed": 1666,
     "status": "ok",
     "timestamp": 1606052762516,
     "user": {
      "displayName": "adrish bir",
      "photoUrl": "https://lh3.googleusercontent.com/a-/AOh14GjvnDCPOpuviVvO_227LaSth7sl8OIBxCSMqQmFO4c=s64",
      "userId": "15664726640138518444"
     },
     "user_tz": -330
    },
    "id": "iTfTmAAfMybb",
    "outputId": "9a3cdef4-bcc0-421d-9c1f-4abb0875e2ed"
   },
   "outputs": [
    {
     "name": "stdout",
     "output_type": "stream",
     "text": [
      "(284767, 59)\n",
      "(122049, 59)\n"
     ]
    }
   ],
   "source": [
    "X= df[['InvoiceNo','StockCode', 'Quantity','Year','Month','Day','Weekday','Description','CustomerID','Timelight','Country']]\n",
    "y = df['UnitPrice']\n",
    "\n",
    "X = full_pipeline.fit_transform(X)\n",
    "test_data = full_pipeline.fit_transform(test_data)\n",
    "print(X.shape)\n",
    "print(test_data.shape)"
   ]
  },
  {
   "cell_type": "code",
   "execution_count": 1,
   "metadata": {
    "executionInfo": {
     "elapsed": 5927,
     "status": "ok",
     "timestamp": 1606070859262,
     "user": {
      "displayName": "adrish bir",
      "photoUrl": "https://lh3.googleusercontent.com/a-/AOh14GjvnDCPOpuviVvO_227LaSth7sl8OIBxCSMqQmFO4c=s64",
      "userId": "15664726640138518444"
     },
     "user_tz": -330
    },
    "id": "C4CvebsUNExo"
   },
   "outputs": [],
   "source": [
    "import pandas as pd\n",
    "import numpy as np\n",
    "Data_dir = '/content/gdrive/My Drive/Colab Notebooks/Datasets/MahineHack - Retail Price Prediction/'\n",
    "pred_5 = pd.read_csv(Data_dir+ 'predictions5.csv',header=None)\n",
    "pred_18 = pd.read_csv(Data_dir+ 'predictions18.csv',header=None)\n",
    "pred_sam = pd.read_csv(Data_dir+ 'submission_tree_f #Best.csv',header=None)\n",
    "pred_27 = pd.read_excel (Data_dir+ 'Predictions27-avg.xlsx',header=None)\n",
    "pred_28 = pd.read_excel (Data_dir+ 'Prediction28avg.xlsx',header=None)"
   ]
  },
  {
   "cell_type": "code",
   "execution_count": 2,
   "metadata": {
    "colab": {
     "base_uri": "https://localhost:8080/"
    },
    "executionInfo": {
     "elapsed": 5149,
     "status": "ok",
     "timestamp": 1606070859265,
     "user": {
      "displayName": "adrish bir",
      "photoUrl": "https://lh3.googleusercontent.com/a-/AOh14GjvnDCPOpuviVvO_227LaSth7sl8OIBxCSMqQmFO4c=s64",
      "userId": "15664726640138518444"
     },
     "user_tz": -330
    },
    "id": "SMO_emnqcWyd",
    "outputId": "3aba5fb3-275b-4106-9575-adb5a80d80a2"
   },
   "outputs": [
    {
     "name": "stdout",
     "output_type": "stream",
     "text": [
      "   pred_5\n",
      "0    1.65\n",
      "   pred_18\n",
      "0      4.6\n",
      "    pred_sam\n",
      "0  UnitPrice\n",
      "     pred_27\n",
      "0  UnitPrice\n",
      "     pred_28\n",
      "0  UnitPrice\n"
     ]
    }
   ],
   "source": [
    "pred_5.columns = ['pred_5']\n",
    "pred_18.columns = ['pred_18']\n",
    "pred_sam.columns = ['pred_sam']\n",
    "pred_27.columns = ['pred_27']\n",
    "pred_28.columns = ['pred_28']\n",
    "\n",
    "print(pred_5.head(1))\n",
    "print(pred_18.head(1))\n",
    "print(pred_sam.head(1))\n",
    "print(pred_27.head(1))\n",
    "print(pred_28.head(1))"
   ]
  },
  {
   "cell_type": "code",
   "execution_count": 3,
   "metadata": {
    "colab": {
     "base_uri": "https://localhost:8080/",
     "height": 202
    },
    "executionInfo": {
     "elapsed": 3298,
     "status": "ok",
     "timestamp": 1606070859269,
     "user": {
      "displayName": "adrish bir",
      "photoUrl": "https://lh3.googleusercontent.com/a-/AOh14GjvnDCPOpuviVvO_227LaSth7sl8OIBxCSMqQmFO4c=s64",
      "userId": "15664726640138518444"
     },
     "user_tz": -330
    },
    "id": "A5AdROVRfsC6",
    "outputId": "a5e3d42d-9da8-4625-b093-a5fc4afa45e1"
   },
   "outputs": [
    {
     "data": {
      "text/html": [
       "<div>\n",
       "<style scoped>\n",
       "    .dataframe tbody tr th:only-of-type {\n",
       "        vertical-align: middle;\n",
       "    }\n",
       "\n",
       "    .dataframe tbody tr th {\n",
       "        vertical-align: top;\n",
       "    }\n",
       "\n",
       "    .dataframe thead th {\n",
       "        text-align: right;\n",
       "    }\n",
       "</style>\n",
       "<table border=\"1\" class=\"dataframe\">\n",
       "  <thead>\n",
       "    <tr style=\"text-align: right;\">\n",
       "      <th></th>\n",
       "      <th>pred_18</th>\n",
       "    </tr>\n",
       "  </thead>\n",
       "  <tbody>\n",
       "    <tr>\n",
       "      <th>1</th>\n",
       "      <td>4.60</td>\n",
       "    </tr>\n",
       "    <tr>\n",
       "      <th>2</th>\n",
       "      <td>1.25</td>\n",
       "    </tr>\n",
       "    <tr>\n",
       "      <th>3</th>\n",
       "      <td>4.95</td>\n",
       "    </tr>\n",
       "    <tr>\n",
       "      <th>4</th>\n",
       "      <td>1.65</td>\n",
       "    </tr>\n",
       "    <tr>\n",
       "      <th>5</th>\n",
       "      <td>5.05</td>\n",
       "    </tr>\n",
       "  </tbody>\n",
       "</table>\n",
       "</div>"
      ],
      "text/plain": [
       "   pred_18\n",
       "1     4.60\n",
       "2     1.25\n",
       "3     4.95\n",
       "4     1.65\n",
       "5     5.05"
      ]
     },
     "execution_count": 3,
     "metadata": {
      "tags": []
     },
     "output_type": "execute_result"
    }
   ],
   "source": [
    "pred_18.index += 1 \n",
    "pred_5.index += 1 \n",
    "pred_18.head()"
   ]
  },
  {
   "cell_type": "code",
   "execution_count": 4,
   "metadata": {
    "colab": {
     "base_uri": "https://localhost:8080/",
     "height": 202
    },
    "executionInfo": {
     "elapsed": 2575,
     "status": "ok",
     "timestamp": 1606070859272,
     "user": {
      "displayName": "adrish bir",
      "photoUrl": "https://lh3.googleusercontent.com/a-/AOh14GjvnDCPOpuviVvO_227LaSth7sl8OIBxCSMqQmFO4c=s64",
      "userId": "15664726640138518444"
     },
     "user_tz": -330
    },
    "id": "WQ0W-X3FiPVE",
    "outputId": "f2c23bb3-9763-4b34-efed-be3c9cd9ba73"
   },
   "outputs": [
    {
     "data": {
      "text/html": [
       "<div>\n",
       "<style scoped>\n",
       "    .dataframe tbody tr th:only-of-type {\n",
       "        vertical-align: middle;\n",
       "    }\n",
       "\n",
       "    .dataframe tbody tr th {\n",
       "        vertical-align: top;\n",
       "    }\n",
       "\n",
       "    .dataframe thead th {\n",
       "        text-align: right;\n",
       "    }\n",
       "</style>\n",
       "<table border=\"1\" class=\"dataframe\">\n",
       "  <thead>\n",
       "    <tr style=\"text-align: right;\">\n",
       "      <th></th>\n",
       "      <th>pred_28</th>\n",
       "      <th>pred_27</th>\n",
       "      <th>pred_sam</th>\n",
       "      <th>pred_18</th>\n",
       "      <th>pred_5</th>\n",
       "    </tr>\n",
       "  </thead>\n",
       "  <tbody>\n",
       "    <tr>\n",
       "      <th>1</th>\n",
       "      <td>3.03</td>\n",
       "      <td>3.13</td>\n",
       "      <td>2.75</td>\n",
       "      <td>4.60</td>\n",
       "      <td>1.65</td>\n",
       "    </tr>\n",
       "    <tr>\n",
       "      <th>2</th>\n",
       "      <td>1.25</td>\n",
       "      <td>1.25</td>\n",
       "      <td>1.25</td>\n",
       "      <td>1.25</td>\n",
       "      <td>1.25</td>\n",
       "    </tr>\n",
       "    <tr>\n",
       "      <th>3</th>\n",
       "      <td>5.14</td>\n",
       "      <td>4.6</td>\n",
       "      <td>6.75</td>\n",
       "      <td>4.95</td>\n",
       "      <td>4.25</td>\n",
       "    </tr>\n",
       "    <tr>\n",
       "      <th>4</th>\n",
       "      <td>4.23</td>\n",
       "      <td>1.65</td>\n",
       "      <td>11.95</td>\n",
       "      <td>1.65</td>\n",
       "      <td>1.65</td>\n",
       "    </tr>\n",
       "    <tr>\n",
       "      <th>5</th>\n",
       "      <td>3.63</td>\n",
       "      <td>3.15</td>\n",
       "      <td>5.05</td>\n",
       "      <td>5.05</td>\n",
       "      <td>1.25</td>\n",
       "    </tr>\n",
       "  </tbody>\n",
       "</table>\n",
       "</div>"
      ],
      "text/plain": [
       "  pred_28 pred_27 pred_sam  pred_18  pred_5\n",
       "1    3.03    3.13     2.75     4.60    1.65\n",
       "2    1.25    1.25     1.25     1.25    1.25\n",
       "3    5.14     4.6     6.75     4.95    4.25\n",
       "4    4.23    1.65    11.95     1.65    1.65\n",
       "5    3.63    3.15     5.05     5.05    1.25"
      ]
     },
     "execution_count": 4,
     "metadata": {
      "tags": []
     },
     "output_type": "execute_result"
    }
   ],
   "source": [
    "df = pred_18.merge(pred_5, left_index=True, right_index=True, how='inner')\n",
    "df = pred_sam.merge(df, left_index=True, right_index=True, how='inner')\n",
    "df = pred_27.merge(df, left_index=True, right_index=True, how='inner')\n",
    "df = pred_28.merge(df, left_index=True, right_index=True, how='inner')\n",
    "df.head()"
   ]
  },
  {
   "cell_type": "code",
   "execution_count": 5,
   "metadata": {
    "colab": {
     "base_uri": "https://localhost:8080/",
     "height": 131
    },
    "executionInfo": {
     "elapsed": 1442,
     "status": "error",
     "timestamp": 1606070859274,
     "user": {
      "displayName": "adrish bir",
      "photoUrl": "https://lh3.googleusercontent.com/a-/AOh14GjvnDCPOpuviVvO_227LaSth7sl8OIBxCSMqQmFO4c=s64",
      "userId": "15664726640138518444"
     },
     "user_tz": -330
    },
    "id": "VOkVH-myid21",
    "outputId": "76f82879-608e-4f96-b2c2-4ca8f5c9a4a4"
   },
   "outputs": [
    {
     "ename": "SyntaxError",
     "evalue": "ignored",
     "output_type": "error",
     "traceback": [
      "\u001b[0;36m  File \u001b[0;32m\"<ipython-input-5-e7943a34f094>\"\u001b[0;36m, line \u001b[0;32m3\u001b[0m\n\u001b[0;31m    df[]\u001b[0m\n\u001b[0m       ^\u001b[0m\n\u001b[0;31mSyntaxError\u001b[0m\u001b[0;31m:\u001b[0m invalid syntax\n"
     ]
    }
   ],
   "source": [
    "for i in range(29,40):\n",
    "  \n",
    "  df[]"
   ]
  },
  {
   "cell_type": "code",
   "execution_count": 6,
   "metadata": {
    "executionInfo": {
     "elapsed": 999,
     "status": "ok",
     "timestamp": 1606070863726,
     "user": {
      "displayName": "adrish bir",
      "photoUrl": "https://lh3.googleusercontent.com/a-/AOh14GjvnDCPOpuviVvO_227LaSth7sl8OIBxCSMqQmFO4c=s64",
      "userId": "15664726640138518444"
     },
     "user_tz": -330
    },
    "id": "K4I8pf2qmfDf"
   },
   "outputs": [],
   "source": [
    "#a = (df['pred_28']+df['pred_27'])/2\n",
    "pred_29 = ((df['pred_28']+df['pred_27'])/2).to_numpy()\n",
    "pred_30 = (pred_29 + df['pred_28'].to_numpy())/2\n",
    "pred_31 = (pred_30 + pred_29)/2\n",
    "pred_32 = (pred_31 + pred_30)/2\n",
    "pred_33 = (pred_32 + pred_31)/2\n",
    "pred_34 = (pred_33 + pred_32)/2\n",
    "pred_35 = (pred_34 + pred_33)/2\n",
    "pred_36 = (pred_35 + pred_34)/2\n",
    "pred_37 = (pred_36 + pred_35)/2\n",
    "pred_38 = (pred_37 + pred_36)/2\n",
    "pred_39 = (pred_38 + pred_37)/2\n",
    "pred_40 = (pred_39 + pred_38)/2"
   ]
  },
  {
   "cell_type": "code",
   "execution_count": 467,
   "metadata": {
    "executionInfo": {
     "elapsed": 1157,
     "status": "ok",
     "timestamp": 1606066170651,
     "user": {
      "displayName": "adrish bir",
      "photoUrl": "https://lh3.googleusercontent.com/a-/AOh14GjvnDCPOpuviVvO_227LaSth7sl8OIBxCSMqQmFO4c=s64",
      "userId": "15664726640138518444"
     },
     "user_tz": -330
    },
    "id": "XN5lxz_GmreC"
   },
   "outputs": [],
   "source": [
    "text = 'SUB25-UltimateManipulation'\n",
    "np.savetxt(Data_dir+\"predictions\"+str(70)+\"new.csv\", pred_70, delimiter=\",\")"
   ]
  },
  {
   "cell_type": "code",
   "execution_count": 417,
   "metadata": {
    "colab": {
     "base_uri": "https://localhost:8080/"
    },
    "executionInfo": {
     "elapsed": 1133,
     "status": "ok",
     "timestamp": 1606060668400,
     "user": {
      "displayName": "adrish bir",
      "photoUrl": "https://lh3.googleusercontent.com/a-/AOh14GjvnDCPOpuviVvO_227LaSth7sl8OIBxCSMqQmFO4c=s64",
      "userId": "15664726640138518444"
     },
     "user_tz": -330
    },
    "id": "dfIXkUN_rLzo",
    "outputId": "b017ae5f-ffb3-47ef-a49d-ebbe5083ca67"
   },
   "outputs": [
    {
     "name": "stdout",
     "output_type": "stream",
     "text": [
      "ls: cannot access 'Data_dir': No such file or directory\n"
     ]
    }
   ],
   "source": [
    "!ls Data_dir"
   ]
  },
  {
   "cell_type": "code",
   "execution_count": 7,
   "metadata": {
    "colab": {
     "base_uri": "https://localhost:8080/",
     "height": 202
    },
    "executionInfo": {
     "elapsed": 1041,
     "status": "ok",
     "timestamp": 1606070867330,
     "user": {
      "displayName": "adrish bir",
      "photoUrl": "https://lh3.googleusercontent.com/a-/AOh14GjvnDCPOpuviVvO_227LaSth7sl8OIBxCSMqQmFO4c=s64",
      "userId": "15664726640138518444"
     },
     "user_tz": -330
    },
    "id": "BfUm8Q9yo8MU",
    "outputId": "f6e74804-ee3b-4e1b-f7cf-97b054c9d513"
   },
   "outputs": [
    {
     "data": {
      "text/html": [
       "<div>\n",
       "<style scoped>\n",
       "    .dataframe tbody tr th:only-of-type {\n",
       "        vertical-align: middle;\n",
       "    }\n",
       "\n",
       "    .dataframe tbody tr th {\n",
       "        vertical-align: top;\n",
       "    }\n",
       "\n",
       "    .dataframe thead th {\n",
       "        text-align: right;\n",
       "    }\n",
       "</style>\n",
       "<table border=\"1\" class=\"dataframe\">\n",
       "  <thead>\n",
       "    <tr style=\"text-align: right;\">\n",
       "      <th></th>\n",
       "      <th>pred_sam_best</th>\n",
       "    </tr>\n",
       "  </thead>\n",
       "  <tbody>\n",
       "    <tr>\n",
       "      <th>1</th>\n",
       "      <td>2.665</td>\n",
       "    </tr>\n",
       "    <tr>\n",
       "      <th>2</th>\n",
       "      <td>1.25</td>\n",
       "    </tr>\n",
       "    <tr>\n",
       "      <th>3</th>\n",
       "      <td>4.925</td>\n",
       "    </tr>\n",
       "    <tr>\n",
       "      <th>4</th>\n",
       "      <td>4.225</td>\n",
       "    </tr>\n",
       "    <tr>\n",
       "      <th>5</th>\n",
       "      <td>6.025</td>\n",
       "    </tr>\n",
       "  </tbody>\n",
       "</table>\n",
       "</div>"
      ],
      "text/plain": [
       "  pred_sam_best\n",
       "1         2.665\n",
       "2          1.25\n",
       "3         4.925\n",
       "4         4.225\n",
       "5         6.025"
      ]
     },
     "execution_count": 7,
     "metadata": {
      "tags": []
     },
     "output_type": "execute_result"
    }
   ],
   "source": [
    "pred_sam_best = pd.read_csv (Data_dir+ 'sambit_best.csv',header=None)\n",
    "pred_sam_best.columns = ['pred_sam_best']\n",
    "pred_sam_best.drop(0,axis=0,inplace=True)\n",
    "pred_sam_best.head()"
   ]
  },
  {
   "cell_type": "code",
   "execution_count": 8,
   "metadata": {
    "executionInfo": {
     "elapsed": 951,
     "status": "ok",
     "timestamp": 1606070870279,
     "user": {
      "displayName": "adrish bir",
      "photoUrl": "https://lh3.googleusercontent.com/a-/AOh14GjvnDCPOpuviVvO_227LaSth7sl8OIBxCSMqQmFO4c=s64",
      "userId": "15664726640138518444"
     },
     "user_tz": -330
    },
    "id": "wJPAEoXTsEbc"
   },
   "outputs": [],
   "source": [
    "pred_sam2 = pred_sam_best['pred_sam_best'].to_numpy()\n",
    "pred_28 = df['pred_28'].to_numpy()"
   ]
  },
  {
   "cell_type": "code",
   "execution_count": 12,
   "metadata": {
    "executionInfo": {
     "elapsed": 956,
     "status": "ok",
     "timestamp": 1606070903463,
     "user": {
      "displayName": "adrish bir",
      "photoUrl": "https://lh3.googleusercontent.com/a-/AOh14GjvnDCPOpuviVvO_227LaSth7sl8OIBxCSMqQmFO4c=s64",
      "userId": "15664726640138518444"
     },
     "user_tz": -330
    },
    "id": "iirg23hErBtO"
   },
   "outputs": [],
   "source": [
    "pred_41 = (pred_28 + pred_sam2)/2"
   ]
  },
  {
   "cell_type": "code",
   "execution_count": 9,
   "metadata": {
    "executionInfo": {
     "elapsed": 1260,
     "status": "ok",
     "timestamp": 1606070881747,
     "user": {
      "displayName": "adrish bir",
      "photoUrl": "https://lh3.googleusercontent.com/a-/AOh14GjvnDCPOpuviVvO_227LaSth7sl8OIBxCSMqQmFO4c=s64",
      "userId": "15664726640138518444"
     },
     "user_tz": -330
    },
    "id": "IkoVP4qEr_jE"
   },
   "outputs": [],
   "source": [
    "pred_sam2 = pred_sam2.astype(np.float)"
   ]
  },
  {
   "cell_type": "code",
   "execution_count": 10,
   "metadata": {
    "executionInfo": {
     "elapsed": 725,
     "status": "ok",
     "timestamp": 1606070881749,
     "user": {
      "displayName": "adrish bir",
      "photoUrl": "https://lh3.googleusercontent.com/a-/AOh14GjvnDCPOpuviVvO_227LaSth7sl8OIBxCSMqQmFO4c=s64",
      "userId": "15664726640138518444"
     },
     "user_tz": -330
    },
    "id": "c-Ejn5Qns0yT"
   },
   "outputs": [],
   "source": [
    "pred_28 = pred_28.astype(np.float)"
   ]
  },
  {
   "cell_type": "code",
   "execution_count": 18,
   "metadata": {
    "colab": {
     "base_uri": "https://localhost:8080/",
     "height": 235
    },
    "executionInfo": {
     "elapsed": 1065,
     "status": "error",
     "timestamp": 1606070738836,
     "user": {
      "displayName": "adrish bir",
      "photoUrl": "https://lh3.googleusercontent.com/a-/AOh14GjvnDCPOpuviVvO_227LaSth7sl8OIBxCSMqQmFO4c=s64",
      "userId": "15664726640138518444"
     },
     "user_tz": -330
    },
    "id": "5YQkwOhKtJoI",
    "outputId": "a76501ed-d4ea-4992-d9a8-8f2692ece623"
   },
   "outputs": [
    {
     "ename": "NameError",
     "evalue": "ignored",
     "output_type": "error",
     "traceback": [
      "\u001b[0;31m---------------------------------------------------------------------------\u001b[0m",
      "\u001b[0;31mNameError\u001b[0m                                 Traceback (most recent call last)",
      "\u001b[0;32m<ipython-input-18-779ad65182ce>\u001b[0m in \u001b[0;36m<module>\u001b[0;34m()\u001b[0m\n\u001b[0;32m----> 1\u001b[0;31m \u001b[0mpred_45\u001b[0m \u001b[0;34m=\u001b[0m \u001b[0;34m(\u001b[0m\u001b[0mpred_sam2\u001b[0m \u001b[0;34m+\u001b[0m \u001b[0mpred_44\u001b[0m\u001b[0;34m)\u001b[0m\u001b[0;34m/\u001b[0m\u001b[0;36m2\u001b[0m\u001b[0;34m\u001b[0m\u001b[0;34m\u001b[0m\u001b[0m\n\u001b[0m\u001b[1;32m      2\u001b[0m \u001b[0mpred_46\u001b[0m \u001b[0;34m=\u001b[0m \u001b[0;34m(\u001b[0m\u001b[0mpred_sam2\u001b[0m \u001b[0;34m+\u001b[0m \u001b[0mpred_45\u001b[0m\u001b[0;34m)\u001b[0m\u001b[0;34m/\u001b[0m\u001b[0;36m2\u001b[0m\u001b[0;34m\u001b[0m\u001b[0;34m\u001b[0m\u001b[0m\n\u001b[1;32m      3\u001b[0m \u001b[0;31m#pred_38 = (pred_37 + pred_36)/2\u001b[0m\u001b[0;34m\u001b[0m\u001b[0;34m\u001b[0m\u001b[0;34m\u001b[0m\u001b[0m\n\u001b[1;32m      4\u001b[0m \u001b[0;31m#pred_39 = (pred_38 + pred_37)/2\u001b[0m\u001b[0;34m\u001b[0m\u001b[0;34m\u001b[0m\u001b[0;34m\u001b[0m\u001b[0m\n\u001b[1;32m      5\u001b[0m \u001b[0mpred_47\u001b[0m \u001b[0;34m=\u001b[0m \u001b[0;34m(\u001b[0m\u001b[0mpred_sam2\u001b[0m \u001b[0;34m+\u001b[0m \u001b[0mpred_46\u001b[0m\u001b[0;34m)\u001b[0m\u001b[0;34m/\u001b[0m\u001b[0;36m2\u001b[0m\u001b[0;34m\u001b[0m\u001b[0;34m\u001b[0m\u001b[0m\n",
      "\u001b[0;31mNameError\u001b[0m: name 'pred_44' is not defined"
     ]
    }
   ],
   "source": [
    "pred_42 = (pred_sam2 + pred_41)/2\n",
    "pred_46 = (pred_sam2 + pred_45)/2\n",
    "pred_38 = (pred_37 + pred_36)/2\n",
    "pred_39 = (pred_38 + pred_37)/2\n",
    "pred_47 = (pred_sam2 + pred_46)/2"
   ]
  },
  {
   "cell_type": "code",
   "execution_count": 13,
   "metadata": {
    "executionInfo": {
     "elapsed": 1465,
     "status": "ok",
     "timestamp": 1606070909374,
     "user": {
      "displayName": "adrish bir",
      "photoUrl": "https://lh3.googleusercontent.com/a-/AOh14GjvnDCPOpuviVvO_227LaSth7sl8OIBxCSMqQmFO4c=s64",
      "userId": "15664726640138518444"
     },
     "user_tz": -330
    },
    "id": "GNmvrdMJw6fI"
   },
   "outputs": [],
   "source": [
    "for i in range(41,99):\n",
    "  exec(f'pred_{i+1} = (pred_{i} + pred_{i-1})/2 ') "
   ]
  },
  {
   "cell_type": "code",
   "execution_count": 16,
   "metadata": {
    "executionInfo": {
     "elapsed": 938,
     "status": "ok",
     "timestamp": 1606070934690,
     "user": {
      "displayName": "adrish bir",
      "photoUrl": "https://lh3.googleusercontent.com/a-/AOh14GjvnDCPOpuviVvO_227LaSth7sl8OIBxCSMqQmFO4c=s64",
      "userId": "15664726640138518444"
     },
     "user_tz": -330
    },
    "id": "M0QApQFUQl41"
   },
   "outputs": [],
   "source": [
    "pred_5 = pred_5.to_numpy()\n",
    "pred_18 = pred_18.to_numpy()"
   ]
  },
  {
   "cell_type": "code",
   "execution_count": 15,
   "metadata": {
    "colab": {
     "base_uri": "https://localhost:8080/"
    },
    "executionInfo": {
     "elapsed": 1114,
     "status": "ok",
     "timestamp": 1606070928652,
     "user": {
      "displayName": "adrish bir",
      "photoUrl": "https://lh3.googleusercontent.com/a-/AOh14GjvnDCPOpuviVvO_227LaSth7sl8OIBxCSMqQmFO4c=s64",
      "userId": "15664726640138518444"
     },
     "user_tz": -330
    },
    "id": "VEo4Sg5hSTv2",
    "outputId": "0d0de85e-c0f7-48f3-d2d1-f152e2fe9122"
   },
   "outputs": [
    {
     "data": {
      "text/plain": [
       "pandas.core.frame.DataFrame"
      ]
     },
     "execution_count": 15,
     "metadata": {
      "tags": []
     },
     "output_type": "execute_result"
    }
   ],
   "source": [
    "type(pred_18)"
   ]
  },
  {
   "cell_type": "code",
   "execution_count": null,
   "metadata": {
    "id": "g5LRJ8tDIran"
   },
   "outputs": [],
   "source": [
    "#pred_102 = (pred_sam2 + pred_83)/2\n",
    "#pred_103 = (pred_sam2 + pred_97)/2\n",
    "pred_104 = (pred_99 + pred_5+ pred_18 + pred_sam2)/4"
   ]
  },
  {
   "cell_type": "code",
   "execution_count": 564,
   "metadata": {
    "executionInfo": {
     "elapsed": 3379,
     "status": "ok",
     "timestamp": 1606068654750,
     "user": {
      "displayName": "adrish bir",
      "photoUrl": "https://lh3.googleusercontent.com/a-/AOh14GjvnDCPOpuviVvO_227LaSth7sl8OIBxCSMqQmFO4c=s64",
      "userId": "15664726640138518444"
     },
     "user_tz": -330
    },
    "id": "YrMeGtkF8ztR"
   },
   "outputs": [],
   "source": [
    "np.savetxt(Data_dir+\"predictions\"+str(75)+\"new.csv\", pred_75, delimiter=\",\")\n",
    "np.savetxt(Data_dir+\"predictions\"+str(80)+\"new.csv\", pred_80, delimiter=\",\")\n",
    "np.savetxt(Data_dir+\"predictions\"+str(90)+\"new.csv\", pred_90, delimiter=\",\")\n",
    "np.savetxt(Data_dir+\"predictions\"+str(95)+\"new.csv\", pred_90, delimiter=\",\")\n",
    "np.savetxt(Data_dir+\"predictions\"+str(99)+\"new.csv\", pred_99, delimiter=\",\")\n",
    "np.savetxt(Data_dir+\"predictions\"+str(102)+\"new.csv\", pred_102, delimiter=\",\")\n",
    "np.savetxt(Data_dir+\"predictions\"+str(103)+\"new.csv\", pred_103, delimiter=\",\")\n",
    "np.savetxt(Data_dir+\"predictions\"+str(104)+\"new.csv\", pred_104, delimiter=\",\")"
   ]
  },
  {
   "cell_type": "code",
   "execution_count": null,
   "metadata": {
    "id": "vz2eR8qS_OBw"
   },
   "outputs": [],
   "source": []
  }
 ],
 "metadata": {
  "colab": {
   "authorship_tag": "ABX9TyMMZfgkzs0ST7LaKrXaWtJR",
   "name": "RetailPricePredictionPt4.ipynb",
   "provenance": []
  },
  "kernelspec": {
   "display_name": "Python 3",
   "language": "python",
   "name": "python3"
  },
  "language_info": {
   "codemirror_mode": {
    "name": "ipython",
    "version": 3
   },
   "file_extension": ".py",
   "mimetype": "text/x-python",
   "name": "python",
   "nbconvert_exporter": "python",
   "pygments_lexer": "ipython3",
   "version": "3.8.3"
  }
 },
 "nbformat": 4,
 "nbformat_minor": 1
}
