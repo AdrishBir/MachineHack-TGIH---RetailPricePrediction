{
 "cells": [
  {
   "cell_type": "code",
   "execution_count": null,
   "metadata": {
    "id": "6xzwKfn8ix5E"
   },
   "outputs": [],
   "source": [
    "import numpy as np\n",
    "import pandas as pd\n",
    "import matplotlib.pyplot as plt\n",
    "from matplotlib import style\n",
    "import seaborn as sns\n",
    "%matplotlib inline\n",
    "import datetime\n",
    "import warnings\n",
    "warnings.filterwarnings(\"ignore\")"
   ]
  },
  {
   "cell_type": "code",
   "execution_count": null,
   "metadata": {
    "colab": {
     "base_uri": "https://localhost:8080/"
    },
    "executionInfo": {
     "elapsed": 26037,
     "status": "ok",
     "timestamp": 1605537382774,
     "user": {
      "displayName": "adrish bir",
      "photoUrl": "https://lh3.googleusercontent.com/a-/AOh14GjvnDCPOpuviVvO_227LaSth7sl8OIBxCSMqQmFO4c=s64",
      "userId": "15664726640138518444"
     },
     "user_tz": -330
    },
    "id": "ccPW_dbVh_-G",
    "outputId": "e604f699-dc17-411a-ce1b-ffd5d604fa5b"
   },
   "outputs": [
    {
     "name": "stdout",
     "output_type": "stream",
     "text": [
      "Mounted at /content/gdrive\n"
     ]
    }
   ],
   "source": [
    "from google.colab import drive\n",
    "drive.mount('/content/gdrive')"
   ]
  },
  {
   "cell_type": "code",
   "execution_count": null,
   "metadata": {
    "colab": {
     "base_uri": "https://localhost:8080/"
    },
    "executionInfo": {
     "elapsed": 1150,
     "status": "ok",
     "timestamp": 1604934482101,
     "user": {
      "displayName": "adrish bir",
      "photoUrl": "https://lh3.googleusercontent.com/a-/AOh14GjvnDCPOpuviVvO_227LaSth7sl8OIBxCSMqQmFO4c=s64",
      "userId": "15664726640138518444"
     },
     "user_tz": -330
    },
    "id": "R1l7fypujARV",
    "outputId": "09ab58d7-5fd0-4b6a-cfc8-5ff20b31089f"
   },
   "outputs": [
    {
     "name": "stdout",
     "output_type": "stream",
     "text": [
      " DataPrep1.csv\t   'Sample Submission.csv'   Train.csv\n",
      " predictions1.csv   Test.csv\n"
     ]
    }
   ],
   "source": [
    "!ls '/content/gdrive/My Drive/Colab Notebooks/Datasets/MahineHack - Retail Price Prediction'"
   ]
  },
  {
   "cell_type": "code",
   "execution_count": null,
   "metadata": {
    "colab": {
     "base_uri": "https://localhost:8080/",
     "height": 206
    },
    "executionInfo": {
     "elapsed": 2483,
     "status": "ok",
     "timestamp": 1605537389508,
     "user": {
      "displayName": "adrish bir",
      "photoUrl": "https://lh3.googleusercontent.com/a-/AOh14GjvnDCPOpuviVvO_227LaSth7sl8OIBxCSMqQmFO4c=s64",
      "userId": "15664726640138518444"
     },
     "user_tz": -330
    },
    "id": "YrWzBh98iSur",
    "outputId": "7b14053d-c07d-4379-a1c6-8de26ffef3fb"
   },
   "outputs": [
    {
     "data": {
      "text/html": [
       "<div>\n",
       "<style scoped>\n",
       "    .dataframe tbody tr th:only-of-type {\n",
       "        vertical-align: middle;\n",
       "    }\n",
       "\n",
       "    .dataframe tbody tr th {\n",
       "        vertical-align: top;\n",
       "    }\n",
       "\n",
       "    .dataframe thead th {\n",
       "        text-align: right;\n",
       "    }\n",
       "</style>\n",
       "<table border=\"1\" class=\"dataframe\">\n",
       "  <thead>\n",
       "    <tr style=\"text-align: right;\">\n",
       "      <th></th>\n",
       "      <th>InvoiceNo</th>\n",
       "      <th>StockCode</th>\n",
       "      <th>Description</th>\n",
       "      <th>Quantity</th>\n",
       "      <th>UnitPrice</th>\n",
       "      <th>CustomerID</th>\n",
       "      <th>Country</th>\n",
       "      <th>Year</th>\n",
       "      <th>Month</th>\n",
       "      <th>Day</th>\n",
       "      <th>Timelight</th>\n",
       "      <th>Weekday</th>\n",
       "    </tr>\n",
       "  </thead>\n",
       "  <tbody>\n",
       "    <tr>\n",
       "      <th>0</th>\n",
       "      <td>6141</td>\n",
       "      <td>1583</td>\n",
       "      <td>144</td>\n",
       "      <td>3</td>\n",
       "      <td>3.75</td>\n",
       "      <td>14056.0</td>\n",
       "      <td>35</td>\n",
       "      <td>2011</td>\n",
       "      <td>5</td>\n",
       "      <td>6</td>\n",
       "      <td>Noon</td>\n",
       "      <td>Friday</td>\n",
       "    </tr>\n",
       "    <tr>\n",
       "      <th>1</th>\n",
       "      <td>6349</td>\n",
       "      <td>1300</td>\n",
       "      <td>3682</td>\n",
       "      <td>6</td>\n",
       "      <td>1.95</td>\n",
       "      <td>13098.0</td>\n",
       "      <td>35</td>\n",
       "      <td>2011</td>\n",
       "      <td>5</td>\n",
       "      <td>11</td>\n",
       "      <td>Morning</td>\n",
       "      <td>Wednesday</td>\n",
       "    </tr>\n",
       "    <tr>\n",
       "      <th>2</th>\n",
       "      <td>16783</td>\n",
       "      <td>2178</td>\n",
       "      <td>1939</td>\n",
       "      <td>4</td>\n",
       "      <td>5.95</td>\n",
       "      <td>15044.0</td>\n",
       "      <td>35</td>\n",
       "      <td>2011</td>\n",
       "      <td>11</td>\n",
       "      <td>20</td>\n",
       "      <td>Noon</td>\n",
       "      <td>Sunday</td>\n",
       "    </tr>\n",
       "    <tr>\n",
       "      <th>3</th>\n",
       "      <td>16971</td>\n",
       "      <td>2115</td>\n",
       "      <td>2983</td>\n",
       "      <td>1</td>\n",
       "      <td>0.83</td>\n",
       "      <td>15525.0</td>\n",
       "      <td>35</td>\n",
       "      <td>2011</td>\n",
       "      <td>11</td>\n",
       "      <td>22</td>\n",
       "      <td>Noon</td>\n",
       "      <td>Tuesday</td>\n",
       "    </tr>\n",
       "    <tr>\n",
       "      <th>4</th>\n",
       "      <td>6080</td>\n",
       "      <td>1210</td>\n",
       "      <td>2886</td>\n",
       "      <td>12</td>\n",
       "      <td>1.65</td>\n",
       "      <td>13952.0</td>\n",
       "      <td>35</td>\n",
       "      <td>2011</td>\n",
       "      <td>5</td>\n",
       "      <td>6</td>\n",
       "      <td>Morning</td>\n",
       "      <td>Friday</td>\n",
       "    </tr>\n",
       "  </tbody>\n",
       "</table>\n",
       "</div>"
      ],
      "text/plain": [
       "   InvoiceNo  StockCode  Description  Quantity  ...  Month  Day  Timelight    Weekday\n",
       "0       6141       1583          144         3  ...      5    6       Noon     Friday\n",
       "1       6349       1300         3682         6  ...      5   11    Morning  Wednesday\n",
       "2      16783       2178         1939         4  ...     11   20       Noon     Sunday\n",
       "3      16971       2115         2983         1  ...     11   22       Noon    Tuesday\n",
       "4       6080       1210         2886        12  ...      5    6    Morning     Friday\n",
       "\n",
       "[5 rows x 12 columns]"
      ]
     },
     "execution_count": 3,
     "metadata": {
      "tags": []
     },
     "output_type": "execute_result"
    }
   ],
   "source": [
    "Data_dir = '/content/gdrive/My Drive/Colab Notebooks/Datasets/MahineHack - Retail Price Prediction/'\n",
    "df = pd.read_csv(Data_dir+ 'DataPrep1.csv')\n",
    "test_data = pd.read_csv(Data_dir + 'Test.csv')\n",
    "df.head()"
   ]
  },
  {
   "cell_type": "code",
   "execution_count": null,
   "metadata": {
    "colab": {
     "base_uri": "https://localhost:8080/",
     "height": 112
    },
    "executionInfo": {
     "elapsed": 1247,
     "status": "ok",
     "timestamp": 1605103010024,
     "user": {
      "displayName": "adrish bir",
      "photoUrl": "https://lh3.googleusercontent.com/a-/AOh14GjvnDCPOpuviVvO_227LaSth7sl8OIBxCSMqQmFO4c=s64",
      "userId": "15664726640138518444"
     },
     "user_tz": -330
    },
    "id": "7mM8AmxMl96L",
    "outputId": "b3456c27-d1a1-46af-e79d-68d313d8e6eb"
   },
   "outputs": [
    {
     "data": {
      "text/html": [
       "<div>\n",
       "<style scoped>\n",
       "    .dataframe tbody tr th:only-of-type {\n",
       "        vertical-align: middle;\n",
       "    }\n",
       "\n",
       "    .dataframe tbody tr th {\n",
       "        vertical-align: top;\n",
       "    }\n",
       "\n",
       "    .dataframe thead th {\n",
       "        text-align: right;\n",
       "    }\n",
       "</style>\n",
       "<table border=\"1\" class=\"dataframe\">\n",
       "  <thead>\n",
       "    <tr style=\"text-align: right;\">\n",
       "      <th></th>\n",
       "      <th>InvoiceNo</th>\n",
       "      <th>StockCode</th>\n",
       "      <th>Description</th>\n",
       "      <th>Quantity</th>\n",
       "      <th>UnitPrice</th>\n",
       "      <th>CustomerID</th>\n",
       "      <th>Country</th>\n",
       "      <th>Year</th>\n",
       "      <th>Month</th>\n",
       "      <th>Day</th>\n",
       "      <th>Timelight</th>\n",
       "      <th>Weekday</th>\n",
       "    </tr>\n",
       "  </thead>\n",
       "  <tbody>\n",
       "    <tr>\n",
       "      <th>15291</th>\n",
       "      <td>15305</td>\n",
       "      <td>3681</td>\n",
       "      <td>2140</td>\n",
       "      <td>1</td>\n",
       "      <td>0.0</td>\n",
       "      <td>12437.0</td>\n",
       "      <td>13</td>\n",
       "      <td>2011</td>\n",
       "      <td>C</td>\n",
       "      <td>week1</td>\n",
       "      <td>Noon</td>\n",
       "      <td>Thursday</td>\n",
       "    </tr>\n",
       "    <tr>\n",
       "      <th>26477</th>\n",
       "      <td>17360</td>\n",
       "      <td>3034</td>\n",
       "      <td>248</td>\n",
       "      <td>12540</td>\n",
       "      <td>0.0</td>\n",
       "      <td>13256.0</td>\n",
       "      <td>35</td>\n",
       "      <td>2011</td>\n",
       "      <td>C</td>\n",
       "      <td>week3</td>\n",
       "      <td>Noon</td>\n",
       "      <td>Friday</td>\n",
       "    </tr>\n",
       "  </tbody>\n",
       "</table>\n",
       "</div>"
      ],
      "text/plain": [
       "       InvoiceNo  StockCode  Description  ...    Day  Timelight   Weekday\n",
       "15291      15305       3681         2140  ...  week1       Noon  Thursday\n",
       "26477      17360       3034          248  ...  week3       Noon    Friday\n",
       "\n",
       "[2 rows x 12 columns]"
      ]
     },
     "execution_count": 48,
     "metadata": {
      "tags": []
     },
     "output_type": "execute_result"
    }
   ],
   "source": [
    "df[df.UnitPrice==0].head(2)"
   ]
  },
  {
   "cell_type": "markdown",
   "metadata": {
    "id": "wpeJesI6IbjZ"
   },
   "source": [
    "## Transformation"
   ]
  },
  {
   "cell_type": "code",
   "execution_count": null,
   "metadata": {
    "id": "ZxiG2OuignsQ"
   },
   "outputs": [],
   "source": [
    "def transformation(data):\n",
    "  data['Quantity'] = data['Quantity'].abs()\n",
    "  data['Month'] = data['Month'].apply(lambda x: 'A' if x in range(1,5) else ( 'B' if x in range(5,9) else  'C'))\n",
    "  data['Day'] = data['Day'].apply(lambda x: 'week1' if x in range(1,11) else ( 'week2' if x in range(11,21) else 'week3') )\n",
    "  data1 = data.drop(['InvoiceNo'],axis=1)\n",
    "  return data1"
   ]
  },
  {
   "cell_type": "code",
   "execution_count": null,
   "metadata": {
    "colab": {
     "base_uri": "https://localhost:8080/"
    },
    "executionInfo": {
     "elapsed": 2177,
     "status": "ok",
     "timestamp": 1605451343065,
     "user": {
      "displayName": "adrish bir",
      "photoUrl": "https://lh3.googleusercontent.com/a-/AOh14GjvnDCPOpuviVvO_227LaSth7sl8OIBxCSMqQmFO4c=s64",
      "userId": "15664726640138518444"
     },
     "user_tz": -330
    },
    "id": "TFVqP74Diuib",
    "outputId": "5d887625-cc44-4142-ed8e-5fa9aadd5e92"
   },
   "outputs": [
    {
     "name": "stdout",
     "output_type": "stream",
     "text": [
      "<class 'pandas.core.frame.DataFrame'>\n",
      "RangeIndex: 284780 entries, 0 to 284779\n",
      "Data columns (total 11 columns):\n",
      " #   Column       Non-Null Count   Dtype  \n",
      "---  ------       --------------   -----  \n",
      " 0   StockCode    284780 non-null  int64  \n",
      " 1   Description  284780 non-null  int64  \n",
      " 2   Quantity     284780 non-null  int64  \n",
      " 3   UnitPrice    284780 non-null  float64\n",
      " 4   CustomerID   284780 non-null  float64\n",
      " 5   Country      284780 non-null  int64  \n",
      " 6   Year         284780 non-null  int64  \n",
      " 7   Month        284780 non-null  object \n",
      " 8   Day          284780 non-null  object \n",
      " 9   Timelight    284780 non-null  object \n",
      " 10  Weekday      284780 non-null  object \n",
      "dtypes: float64(2), int64(5), object(4)\n",
      "memory usage: 23.9+ MB\n"
     ]
    }
   ],
   "source": [
    "df1 = transformation(df)\n",
    "df1.info()"
   ]
  },
  {
   "cell_type": "code",
   "execution_count": null,
   "metadata": {
    "id": "DQEQ-pfvga7B"
   },
   "outputs": [],
   "source": [
    "for i in range(0,len(df1)):\n",
    "  if df1.loc[i,'UnitPrice'] == 0 :\n",
    "    a = df1.loc[i,'StockCode']\n",
    "    df1.loc[i,'UnitPrice'] = df1[df1.StockCode == a].UnitPrice.mean()"
   ]
  },
  {
   "cell_type": "code",
   "execution_count": null,
   "metadata": {
    "colab": {
     "base_uri": "https://localhost:8080/"
    },
    "executionInfo": {
     "elapsed": 2031,
     "status": "ok",
     "timestamp": 1605451354411,
     "user": {
      "displayName": "adrish bir",
      "photoUrl": "https://lh3.googleusercontent.com/a-/AOh14GjvnDCPOpuviVvO_227LaSth7sl8OIBxCSMqQmFO4c=s64",
      "userId": "15664726640138518444"
     },
     "user_tz": -330
    },
    "id": "OJiSG8ApkvtJ",
    "outputId": "7343c06b-4754-49c3-e5d7-1046e1347a77"
   },
   "outputs": [
    {
     "data": {
      "text/plain": [
       "339.938574117959"
      ]
     },
     "execution_count": 7,
     "metadata": {
      "tags": []
     },
     "output_type": "execute_result"
    }
   ],
   "source": [
    "df1[df1.StockCode==3681].UnitPrice.mean()"
   ]
  },
  {
   "cell_type": "code",
   "execution_count": null,
   "metadata": {
    "colab": {
     "base_uri": "https://localhost:8080/",
     "height": 206
    },
    "executionInfo": {
     "elapsed": 1346,
     "status": "ok",
     "timestamp": 1605102411484,
     "user": {
      "displayName": "adrish bir",
      "photoUrl": "https://lh3.googleusercontent.com/a-/AOh14GjvnDCPOpuviVvO_227LaSth7sl8OIBxCSMqQmFO4c=s64",
      "userId": "15664726640138518444"
     },
     "user_tz": -330
    },
    "id": "eceYoyNunh36",
    "outputId": "af5acbe6-1912-4fc0-c1aa-14c68bd806f8"
   },
   "outputs": [
    {
     "data": {
      "text/html": [
       "<div>\n",
       "<style scoped>\n",
       "    .dataframe tbody tr th:only-of-type {\n",
       "        vertical-align: middle;\n",
       "    }\n",
       "\n",
       "    .dataframe tbody tr th {\n",
       "        vertical-align: top;\n",
       "    }\n",
       "\n",
       "    .dataframe thead th {\n",
       "        text-align: right;\n",
       "    }\n",
       "</style>\n",
       "<table border=\"1\" class=\"dataframe\">\n",
       "  <thead>\n",
       "    <tr style=\"text-align: right;\">\n",
       "      <th></th>\n",
       "      <th>StockCode</th>\n",
       "      <th>Description</th>\n",
       "      <th>Quantity</th>\n",
       "      <th>UnitPrice</th>\n",
       "      <th>CustomerID</th>\n",
       "      <th>Country</th>\n",
       "      <th>Year</th>\n",
       "      <th>Month</th>\n",
       "      <th>Day</th>\n",
       "      <th>Timelight</th>\n",
       "      <th>Weekday</th>\n",
       "    </tr>\n",
       "  </thead>\n",
       "  <tbody>\n",
       "    <tr>\n",
       "      <th>0</th>\n",
       "      <td>1583</td>\n",
       "      <td>144</td>\n",
       "      <td>3</td>\n",
       "      <td>3.75</td>\n",
       "      <td>14056.0</td>\n",
       "      <td>35</td>\n",
       "      <td>2011</td>\n",
       "      <td>B</td>\n",
       "      <td>week1</td>\n",
       "      <td>Noon</td>\n",
       "      <td>Friday</td>\n",
       "    </tr>\n",
       "    <tr>\n",
       "      <th>1</th>\n",
       "      <td>1300</td>\n",
       "      <td>3682</td>\n",
       "      <td>6</td>\n",
       "      <td>1.95</td>\n",
       "      <td>13098.0</td>\n",
       "      <td>35</td>\n",
       "      <td>2011</td>\n",
       "      <td>B</td>\n",
       "      <td>week2</td>\n",
       "      <td>Morning</td>\n",
       "      <td>Wednesday</td>\n",
       "    </tr>\n",
       "    <tr>\n",
       "      <th>2</th>\n",
       "      <td>2178</td>\n",
       "      <td>1939</td>\n",
       "      <td>4</td>\n",
       "      <td>5.95</td>\n",
       "      <td>15044.0</td>\n",
       "      <td>35</td>\n",
       "      <td>2011</td>\n",
       "      <td>C</td>\n",
       "      <td>week2</td>\n",
       "      <td>Noon</td>\n",
       "      <td>Sunday</td>\n",
       "    </tr>\n",
       "    <tr>\n",
       "      <th>3</th>\n",
       "      <td>2115</td>\n",
       "      <td>2983</td>\n",
       "      <td>1</td>\n",
       "      <td>0.83</td>\n",
       "      <td>15525.0</td>\n",
       "      <td>35</td>\n",
       "      <td>2011</td>\n",
       "      <td>C</td>\n",
       "      <td>week3</td>\n",
       "      <td>Noon</td>\n",
       "      <td>Tuesday</td>\n",
       "    </tr>\n",
       "    <tr>\n",
       "      <th>4</th>\n",
       "      <td>1210</td>\n",
       "      <td>2886</td>\n",
       "      <td>12</td>\n",
       "      <td>1.65</td>\n",
       "      <td>13952.0</td>\n",
       "      <td>35</td>\n",
       "      <td>2011</td>\n",
       "      <td>B</td>\n",
       "      <td>week1</td>\n",
       "      <td>Morning</td>\n",
       "      <td>Friday</td>\n",
       "    </tr>\n",
       "  </tbody>\n",
       "</table>\n",
       "</div>"
      ],
      "text/plain": [
       "   StockCode  Description  Quantity  ...    Day  Timelight    Weekday\n",
       "0       1583          144         3  ...  week1       Noon     Friday\n",
       "1       1300         3682         6  ...  week2    Morning  Wednesday\n",
       "2       2178         1939         4  ...  week2       Noon     Sunday\n",
       "3       2115         2983         1  ...  week3       Noon    Tuesday\n",
       "4       1210         2886        12  ...  week1    Morning     Friday\n",
       "\n",
       "[5 rows x 11 columns]"
      ]
     },
     "execution_count": 35,
     "metadata": {
      "tags": []
     },
     "output_type": "execute_result"
    }
   ],
   "source": [
    "#df[df.StockCode==df['StockCode'][0]].Description.value_counts().index.tolist()[0]\n",
    "#df['StockCode'][0]\n",
    "\n",
    "\"\"\"for i in range(0,len(df)):\n",
    "   a = df.loc[i,'StockCode']\n",
    "   b = df[df.StockCode==a].Description.value_counts().index.tolist()[0]\n",
    "   if df.loc[i,'Description']==b:\n",
    "     df.loc[i,'Dcode'] = 'Common'\n",
    "   else :\n",
    "     df.loc[i,'Dcode'] = 'Uncommon'\n",
    "df.head()\"\"\"\n",
    "\n",
    "df1.head()"
   ]
  },
  {
   "cell_type": "code",
   "execution_count": null,
   "metadata": {
    "colab": {
     "base_uri": "https://localhost:8080/"
    },
    "executionInfo": {
     "elapsed": 2265,
     "status": "ok",
     "timestamp": 1604941295658,
     "user": {
      "displayName": "adrish bir",
      "photoUrl": "https://lh3.googleusercontent.com/a-/AOh14GjvnDCPOpuviVvO_227LaSth7sl8OIBxCSMqQmFO4c=s64",
      "userId": "15664726640138518444"
     },
     "user_tz": -330
    },
    "id": "15BSQgo0x2A8",
    "outputId": "6dd3f5c7-a3d7-4b1a-8629-2b5d408bfccc"
   },
   "outputs": [
    {
     "data": {
      "text/plain": [
       "Common      280736\n",
       "Uncommon      4044\n",
       "Name: Dcode, dtype: int64"
      ]
     },
     "execution_count": 60,
     "metadata": {
      "tags": []
     },
     "output_type": "execute_result"
    }
   ],
   "source": [
    "df.Dcode.value_counts()"
   ]
  },
  {
   "cell_type": "code",
   "execution_count": null,
   "metadata": {
    "id": "0hYUUhN8B477"
   },
   "outputs": [],
   "source": [
    "X = df[['StockCode', 'Quantity', 'Country','Year','Month','Day','Weekday','Timelight','Description','CustomerID']]\n",
    "y = df['UnitPrice']"
   ]
  },
  {
   "cell_type": "code",
   "execution_count": null,
   "metadata": {
    "id": "OnqHEaU-CgVB"
   },
   "outputs": [],
   "source": [
    "from sklearn.model_selection import train_test_split\n",
    "X_train, X_test, y_train, y_test = train_test_split(X,y, test_size=0.2, random_state=None)"
   ]
  },
  {
   "cell_type": "code",
   "execution_count": null,
   "metadata": {
    "id": "TKOLjWI7_pPz"
   },
   "outputs": [],
   "source": [
    "from sklearn.preprocessing import StandardScaler\n",
    "from sklearn.compose import ColumnTransformer\n",
    "from sklearn.preprocessing import OneHotEncoder\n",
    "\n",
    "\n",
    "num_attribs = ['StockCode','Quantity','Description','CustomerID']\n",
    "cat_attribs = [ 'Country','Weekday','Timelight','Year','Month','Day']\n",
    "\n",
    "full_pipeline = ColumnTransformer([\n",
    "        (\"num\", StandardScaler(), num_attribs),\n",
    "        (\"cat\", OneHotEncoder(), cat_attribs),\n",
    "    ])\n",
    "\n"
   ]
  },
  {
   "cell_type": "code",
   "execution_count": null,
   "metadata": {
    "colab": {
     "base_uri": "https://localhost:8080/"
    },
    "executionInfo": {
     "elapsed": 2268,
     "status": "ok",
     "timestamp": 1605452893662,
     "user": {
      "displayName": "adrish bir",
      "photoUrl": "https://lh3.googleusercontent.com/a-/AOh14GjvnDCPOpuviVvO_227LaSth7sl8OIBxCSMqQmFO4c=s64",
      "userId": "15664726640138518444"
     },
     "user_tz": -330
    },
    "id": "ao-52v2gDoSS",
    "outputId": "92a69206-f3eb-452d-94d8-83204860c630"
   },
   "outputs": [
    {
     "data": {
      "text/plain": [
       "(227824, 58)"
      ]
     },
     "execution_count": 18,
     "metadata": {
      "tags": []
     },
     "output_type": "execute_result"
    }
   ],
   "source": [
    "X_train  = full_pipeline.fit_transform(X_train)\n",
    "X_test = full_pipeline.fit_transform(X_test)\n",
    "X_train.shape"
   ]
  },
  {
   "cell_type": "code",
   "execution_count": null,
   "metadata": {
    "colab": {
     "base_uri": "https://localhost:8080/"
    },
    "executionInfo": {
     "elapsed": 2084,
     "status": "ok",
     "timestamp": 1605452895431,
     "user": {
      "displayName": "adrish bir",
      "photoUrl": "https://lh3.googleusercontent.com/a-/AOh14GjvnDCPOpuviVvO_227LaSth7sl8OIBxCSMqQmFO4c=s64",
      "userId": "15664726640138518444"
     },
     "user_tz": -330
    },
    "id": "qBMEyGsnMVXX",
    "outputId": "8e971d49-4419-4647-e626-e48b91321ce2"
   },
   "outputs": [
    {
     "data": {
      "text/plain": [
       "(56956, 58)"
      ]
     },
     "execution_count": 19,
     "metadata": {
      "tags": []
     },
     "output_type": "execute_result"
    }
   ],
   "source": [
    "X_test.shape"
   ]
  },
  {
   "cell_type": "code",
   "execution_count": null,
   "metadata": {
    "colab": {
     "base_uri": "https://localhost:8080/"
    },
    "executionInfo": {
     "elapsed": 1341172,
     "status": "ok",
     "timestamp": 1605104678727,
     "user": {
      "displayName": "adrish bir",
      "photoUrl": "https://lh3.googleusercontent.com/a-/AOh14GjvnDCPOpuviVvO_227LaSth7sl8OIBxCSMqQmFO4c=s64",
      "userId": "15664726640138518444"
     },
     "user_tz": -330
    },
    "id": "t0AaLTSyDrwg",
    "outputId": "c3f4b067-261a-4b8e-ced9-2bf989fea5ac"
   },
   "outputs": [
    {
     "name": "stdout",
     "output_type": "stream",
     "text": [
      "The error in Random forest Regression is: 26.562647844003806\n"
     ]
    }
   ],
   "source": [
    "import numpy as np\n",
    "from sklearn.metrics import mean_squared_error\n",
    "from sklearn.ensemble import RandomForestRegressor\n",
    "#from sklearn.svm import SVR\n",
    "#from sklearn.linear_model import LinearRegression\n",
    "\n",
    "rfr = RandomForestRegressor(max_depth=20, random_state=23)\n",
    "#svr = SVR(C=1.0, epsilon=0.2)\n",
    "#lr = LinearRegression()\n",
    "\n",
    "rfr.fit(X_train,y_train)\n",
    "#svr.fit(X_train,y_train)\n",
    "#lr.fit(X_train,y_train)\n",
    "\n",
    "pred_rfr = rfr.predict(X_test)\n",
    "#pred_svr = svr.predict(X_test)\n",
    "#pred_lr = lr.predict(X_test)\n",
    "\n",
    "print('The error in Random forest Regression is: '+ str(np.sqrt(mean_squared_error(y_test, pred_rfr))))\n",
    "#print('The error in Support Vector Regression is: '+ str(np.sqrt(mean_squared_error(y_test, pred_svr))))\n",
    "#print('The error in Linear regression is: '+ str(np.sqrt(mean_squared_error(y_test, pred_lr))))\n"
   ]
  },
  {
   "cell_type": "code",
   "execution_count": null,
   "metadata": {
    "colab": {
     "base_uri": "https://localhost:8080/"
    },
    "executionInfo": {
     "elapsed": 26149,
     "status": "ok",
     "timestamp": 1605104704940,
     "user": {
      "displayName": "adrish bir",
      "photoUrl": "https://lh3.googleusercontent.com/a-/AOh14GjvnDCPOpuviVvO_227LaSth7sl8OIBxCSMqQmFO4c=s64",
      "userId": "15664726640138518444"
     },
     "user_tz": -330
    },
    "id": "WLXM-EsDKkQg",
    "outputId": "20bd0b65-1331-425d-ad0b-e8bbdde8eb43"
   },
   "outputs": [
    {
     "data": {
      "text/plain": [
       "19.8941521387818"
      ]
     },
     "execution_count": 60,
     "metadata": {
      "tags": []
     },
     "output_type": "execute_result"
    }
   ],
   "source": [
    "from sklearn.tree import DecisionTreeRegressor\n",
    "\n",
    "tree_reg = DecisionTreeRegressor(random_state=55)\n",
    "tree_reg.fit(X_train, y_train)\n",
    "\n",
    "predictions = tree_reg.predict(X_test)\n",
    "tree_mse = mean_squared_error(y_test, predictions)\n",
    "tree_rmse = np.sqrt(tree_mse)\n",
    "tree_rmse"
   ]
  },
  {
   "cell_type": "code",
   "execution_count": null,
   "metadata": {
    "id": "YsS4KoZkK-Fg"
   },
   "outputs": [],
   "source": [
    "def test_data_transformation(train):\n",
    "  train['Date'] = train['InvoiceDate'].apply(lambda x: x.split(' ')[0])\n",
    "  train['InvoiceDate'] = pd.to_datetime(train['InvoiceDate'])\n",
    "  train['Year'] = train['InvoiceDate'].dt.year\n",
    "  train['Month'] = train['InvoiceDate'].dt.month\n",
    "  train['Day'] = train['InvoiceDate'].dt.day\n",
    "  train['Time'] = train['InvoiceDate'].dt.time \n",
    "  train['Timelight'] = train['Time'].apply(lambda x : 'Morning' if 6<=x.hour<12 else ('Noon' if 12<=x.hour<18 else 'Night' ))\n",
    "  day_name= ['Monday', 'Tuesday', 'Wednesday', 'Thursday', 'Friday', 'Saturday','Sunday']\n",
    "  train['Weekday'] = train['Date'].apply(lambda x: day_name[datetime.datetime.strptime(x, '%Y-%m-%d').weekday()])\n",
    "  #train1 = train.copy()\n",
    "  train.drop(['InvoiceDate','Time','InvoiceNo'],axis = 1,inplace=True)\n",
    "  train['Quantity'] = train['Quantity'].abs()\n",
    "  train['Month'] = train['Month'].apply(lambda x: 'A' if x in range(1,5) else ( 'B' if x in range(5,9) else  'C'))\n",
    "  train['Day'] = train['Day'].apply(lambda x: 'week1' if x in range(1,11) else ( 'week2' if x in range(11,21) else 'week3') )\n",
    "  return train\n",
    "\n"
   ]
  },
  {
   "cell_type": "code",
   "execution_count": null,
   "metadata": {
    "colab": {
     "base_uri": "https://localhost:8080/",
     "height": 206
    },
    "executionInfo": {
     "elapsed": 2919,
     "status": "ok",
     "timestamp": 1605453715270,
     "user": {
      "displayName": "adrish bir",
      "photoUrl": "https://lh3.googleusercontent.com/a-/AOh14GjvnDCPOpuviVvO_227LaSth7sl8OIBxCSMqQmFO4c=s64",
      "userId": "15664726640138518444"
     },
     "user_tz": -330
    },
    "id": "xUe-AftqtuG7",
    "outputId": "4c8494fd-5d53-487c-dd56-01e85659c002"
   },
   "outputs": [
    {
     "data": {
      "text/html": [
       "<div>\n",
       "<style scoped>\n",
       "    .dataframe tbody tr th:only-of-type {\n",
       "        vertical-align: middle;\n",
       "    }\n",
       "\n",
       "    .dataframe tbody tr th {\n",
       "        vertical-align: top;\n",
       "    }\n",
       "\n",
       "    .dataframe thead th {\n",
       "        text-align: right;\n",
       "    }\n",
       "</style>\n",
       "<table border=\"1\" class=\"dataframe\">\n",
       "  <thead>\n",
       "    <tr style=\"text-align: right;\">\n",
       "      <th></th>\n",
       "      <th>StockCode</th>\n",
       "      <th>Description</th>\n",
       "      <th>Quantity</th>\n",
       "      <th>CustomerID</th>\n",
       "      <th>Country</th>\n",
       "      <th>Date</th>\n",
       "      <th>Year</th>\n",
       "      <th>Month</th>\n",
       "      <th>Day</th>\n",
       "      <th>Timelight</th>\n",
       "      <th>Weekday</th>\n",
       "    </tr>\n",
       "  </thead>\n",
       "  <tbody>\n",
       "    <tr>\n",
       "      <th>0</th>\n",
       "      <td>1709</td>\n",
       "      <td>1079</td>\n",
       "      <td>3</td>\n",
       "      <td>16161.0</td>\n",
       "      <td>35</td>\n",
       "      <td>2011-02-22</td>\n",
       "      <td>2011</td>\n",
       "      <td>A</td>\n",
       "      <td>week3</td>\n",
       "      <td>Noon</td>\n",
       "      <td>Tuesday</td>\n",
       "    </tr>\n",
       "    <tr>\n",
       "      <th>1</th>\n",
       "      <td>510</td>\n",
       "      <td>3457</td>\n",
       "      <td>1</td>\n",
       "      <td>17341.0</td>\n",
       "      <td>35</td>\n",
       "      <td>2010-12-08</td>\n",
       "      <td>2010</td>\n",
       "      <td>C</td>\n",
       "      <td>week1</td>\n",
       "      <td>Noon</td>\n",
       "      <td>Wednesday</td>\n",
       "    </tr>\n",
       "    <tr>\n",
       "      <th>2</th>\n",
       "      <td>604</td>\n",
       "      <td>694</td>\n",
       "      <td>36</td>\n",
       "      <td>15158.0</td>\n",
       "      <td>35</td>\n",
       "      <td>2011-10-25</td>\n",
       "      <td>2011</td>\n",
       "      <td>C</td>\n",
       "      <td>week3</td>\n",
       "      <td>Noon</td>\n",
       "      <td>Tuesday</td>\n",
       "    </tr>\n",
       "    <tr>\n",
       "      <th>3</th>\n",
       "      <td>1478</td>\n",
       "      <td>3473</td>\n",
       "      <td>2</td>\n",
       "      <td>16033.0</td>\n",
       "      <td>35</td>\n",
       "      <td>2011-06-27</td>\n",
       "      <td>2011</td>\n",
       "      <td>B</td>\n",
       "      <td>week3</td>\n",
       "      <td>Noon</td>\n",
       "      <td>Monday</td>\n",
       "    </tr>\n",
       "    <tr>\n",
       "      <th>4</th>\n",
       "      <td>3216</td>\n",
       "      <td>871</td>\n",
       "      <td>1</td>\n",
       "      <td>15351.0</td>\n",
       "      <td>35</td>\n",
       "      <td>2011-11-06</td>\n",
       "      <td>2011</td>\n",
       "      <td>C</td>\n",
       "      <td>week1</td>\n",
       "      <td>Noon</td>\n",
       "      <td>Sunday</td>\n",
       "    </tr>\n",
       "  </tbody>\n",
       "</table>\n",
       "</div>"
      ],
      "text/plain": [
       "   StockCode  Description  Quantity  ...    Day  Timelight    Weekday\n",
       "0       1709         1079         3  ...  week3       Noon    Tuesday\n",
       "1        510         3457         1  ...  week1       Noon  Wednesday\n",
       "2        604          694        36  ...  week3       Noon    Tuesday\n",
       "3       1478         3473         2  ...  week3       Noon     Monday\n",
       "4       3216          871         1  ...  week1       Noon     Sunday\n",
       "\n",
       "[5 rows x 11 columns]"
      ]
     },
     "execution_count": 24,
     "metadata": {
      "tags": []
     },
     "output_type": "execute_result"
    }
   ],
   "source": [
    "test_data_transformation(test_data)\n",
    "test_data.head()"
   ]
  },
  {
   "cell_type": "code",
   "execution_count": null,
   "metadata": {
    "id": "5i4qBwouuFL7"
   },
   "outputs": [],
   "source": [
    "test_data.drop(['Date'],axis=1,inplace=True)"
   ]
  },
  {
   "cell_type": "code",
   "execution_count": null,
   "metadata": {
    "colab": {
     "base_uri": "https://localhost:8080/"
    },
    "executionInfo": {
     "elapsed": 1082,
     "status": "ok",
     "timestamp": 1605453725583,
     "user": {
      "displayName": "adrish bir",
      "photoUrl": "https://lh3.googleusercontent.com/a-/AOh14GjvnDCPOpuviVvO_227LaSth7sl8OIBxCSMqQmFO4c=s64",
      "userId": "15664726640138518444"
     },
     "user_tz": -330
    },
    "id": "9yqSBS5OLRIs",
    "outputId": "87f27b39-cada-4c03-ec15-db6ceb338c5a"
   },
   "outputs": [
    {
     "name": "stdout",
     "output_type": "stream",
     "text": [
      "(122049, 10)\n",
      "(122049, 58)\n"
     ]
    }
   ],
   "source": [
    "print(test_data.shape)\n",
    "test_data = full_pipeline.fit_transform(test_data)\n",
    "print(test_data.shape)"
   ]
  },
  {
   "cell_type": "code",
   "execution_count": null,
   "metadata": {
    "id": "sT8HUpFC43lj"
   },
   "outputs": [],
   "source": [
    "def test_submission(submission_number,model,test_data):\n",
    "    predictions = model.predict(test_data)\n",
    "    np.savetxt(Data_dir+\"predictions\"+str(submission_number)+\".csv\", predictions, delimiter=\",\")\n",
    "    \n",
    "test_submission(7,rfr,test_data)"
   ]
  },
  {
   "cell_type": "markdown",
   "metadata": {
    "id": "37k_pTe71uw_"
   },
   "source": [
    "### Implementing Keras"
   ]
  },
  {
   "cell_type": "code",
   "execution_count": null,
   "metadata": {
    "id": "I2WcYZ7k676_"
   },
   "outputs": [],
   "source": [
    "from keras.models import Sequential\n",
    "from keras.layers import Dense\n",
    "from keras.wrappers.scikit_learn import KerasRegressor\n",
    "from sklearn.model_selection import cross_val_score\n",
    "from sklearn.model_selection import KFold"
   ]
  },
  {
   "cell_type": "code",
   "execution_count": null,
   "metadata": {
    "colab": {
     "base_uri": "https://localhost:8080/"
    },
    "executionInfo": {
     "elapsed": 1894,
     "status": "ok",
     "timestamp": 1605148398734,
     "user": {
      "displayName": "adrish bir",
      "photoUrl": "https://lh3.googleusercontent.com/a-/AOh14GjvnDCPOpuviVvO_227LaSth7sl8OIBxCSMqQmFO4c=s64",
      "userId": "15664726640138518444"
     },
     "user_tz": -330
    },
    "id": "qe600sjG3_KR",
    "outputId": "e88ea9ba-6887-4e51-d697-48d2e848b968"
   },
   "outputs": [
    {
     "name": "stdout",
     "output_type": "stream",
     "text": [
      "(284780, 10)\n",
      "(284780,)\n",
      "(284780, 58)\n"
     ]
    }
   ],
   "source": [
    "print(X.shape)\n",
    "print(y.shape)\n",
    "X  = full_pipeline.fit_transform(X)\n",
    "print(X.shape)"
   ]
  },
  {
   "cell_type": "code",
   "execution_count": null,
   "metadata": {
    "colab": {
     "base_uri": "https://localhost:8080/"
    },
    "executionInfo": {
     "elapsed": 1435,
     "status": "ok",
     "timestamp": 1605148404980,
     "user": {
      "displayName": "adrish bir",
      "photoUrl": "https://lh3.googleusercontent.com/a-/AOh14GjvnDCPOpuviVvO_227LaSth7sl8OIBxCSMqQmFO4c=s64",
      "userId": "15664726640138518444"
     },
     "user_tz": -330
    },
    "id": "lRxdqh2pAslJ",
    "outputId": "14b5b2bf-7be8-4b41-8e0f-729fb12f4c60"
   },
   "outputs": [
    {
     "data": {
      "text/plain": [
       "numpy.ndarray"
      ]
     },
     "execution_count": 14,
     "metadata": {
      "tags": []
     },
     "output_type": "execute_result"
    }
   ],
   "source": [
    "X_train = X_train.toarray()\n",
    "X_test = X_test.toarray()\n",
    "\n",
    "#X_train = torch.from_numpy(X_train).to_sparse()\n",
    "#X_test = torch.from_numpy(X_test).to_sparse()\n",
    "type(X_train)"
   ]
  },
  {
   "cell_type": "code",
   "execution_count": null,
   "metadata": {
    "colab": {
     "base_uri": "https://localhost:8080/"
    },
    "executionInfo": {
     "elapsed": 1340399,
     "status": "ok",
     "timestamp": 1605111658419,
     "user": {
      "displayName": "adrish bir",
      "photoUrl": "https://lh3.googleusercontent.com/a-/AOh14GjvnDCPOpuviVvO_227LaSth7sl8OIBxCSMqQmFO4c=s64",
      "userId": "15664726640138518444"
     },
     "user_tz": -330
    },
    "id": "ivw1iKLh4O1I",
    "outputId": "603b9dd4-9797-4c9e-d0c6-c4c7aaa30dac"
   },
   "outputs": [
    {
     "name": "stdout",
     "output_type": "stream",
     "text": [
      "Epoch 1/150\n",
      "7120/7120 [==============================] - 8s 1ms/step - loss: 7275.5283 - accuracy: 2.5458e-04\n",
      "Epoch 2/150\n",
      "7120/7120 [==============================] - 9s 1ms/step - loss: 7261.2515 - accuracy: 2.4580e-04\n",
      "Epoch 3/150\n",
      "7120/7120 [==============================] - 9s 1ms/step - loss: 7241.0156 - accuracy: 2.4580e-04\n",
      "Epoch 4/150\n",
      "7120/7120 [==============================] - 9s 1ms/step - loss: 7206.7256 - accuracy: 2.5019e-04\n",
      "Epoch 5/150\n",
      "7120/7120 [==============================] - 9s 1ms/step - loss: 7173.5767 - accuracy: 2.3703e-04\n",
      "Epoch 6/150\n",
      "7120/7120 [==============================] - 9s 1ms/step - loss: 7159.2007 - accuracy: 2.4580e-04\n",
      "Epoch 7/150\n",
      "7120/7120 [==============================] - 9s 1ms/step - loss: 7143.2812 - accuracy: 2.4580e-04\n",
      "Epoch 8/150\n",
      "7120/7120 [==============================] - 9s 1ms/step - loss: 7117.0205 - accuracy: 2.5019e-04\n",
      "Epoch 9/150\n",
      "7120/7120 [==============================] - 9s 1ms/step - loss: 7093.9771 - accuracy: 2.5458e-04\n",
      "Epoch 10/150\n",
      "7120/7120 [==============================] - 8s 1ms/step - loss: 7071.6016 - accuracy: 2.5019e-04\n",
      "Epoch 11/150\n",
      "7120/7120 [==============================] - 9s 1ms/step - loss: 7092.3120 - accuracy: 2.4580e-04\n",
      "Epoch 12/150\n",
      "7120/7120 [==============================] - 9s 1ms/step - loss: 7071.0986 - accuracy: 2.4141e-04\n",
      "Epoch 13/150\n",
      "7120/7120 [==============================] - 9s 1ms/step - loss: 7064.7173 - accuracy: 2.5019e-04\n",
      "Epoch 14/150\n",
      "7120/7120 [==============================] - 9s 1ms/step - loss: 7028.6738 - accuracy: 2.5019e-04\n",
      "Epoch 15/150\n",
      "7120/7120 [==============================] - 9s 1ms/step - loss: 6994.7163 - accuracy: 2.4580e-04\n",
      "Epoch 16/150\n",
      "7120/7120 [==============================] - 9s 1ms/step - loss: 7012.6309 - accuracy: 2.4580e-04\n",
      "Epoch 17/150\n",
      "7120/7120 [==============================] - 9s 1ms/step - loss: 6971.7358 - accuracy: 2.4141e-04\n",
      "Epoch 18/150\n",
      "7120/7120 [==============================] - 9s 1ms/step - loss: 6972.9629 - accuracy: 2.3703e-04\n",
      "Epoch 19/150\n",
      "7120/7120 [==============================] - 9s 1ms/step - loss: 7006.8691 - accuracy: 2.5019e-04\n",
      "Epoch 20/150\n",
      "7120/7120 [==============================] - 9s 1ms/step - loss: 6994.6353 - accuracy: 2.4141e-04\n",
      "Epoch 21/150\n",
      "7120/7120 [==============================] - 9s 1ms/step - loss: 6917.9092 - accuracy: 2.5019e-04\n",
      "Epoch 22/150\n",
      "7120/7120 [==============================] - 9s 1ms/step - loss: 6988.1895 - accuracy: 2.4580e-04\n",
      "Epoch 23/150\n",
      "7120/7120 [==============================] - 9s 1ms/step - loss: 6940.9277 - accuracy: 2.1947e-04\n",
      "Epoch 24/150\n",
      "7120/7120 [==============================] - 9s 1ms/step - loss: 6881.7534 - accuracy: 2.3703e-04\n",
      "Epoch 25/150\n",
      "7120/7120 [==============================] - 9s 1ms/step - loss: 6892.3911 - accuracy: 2.3264e-04\n",
      "Epoch 26/150\n",
      "7120/7120 [==============================] - 9s 1ms/step - loss: 6928.8330 - accuracy: 2.5019e-04\n",
      "Epoch 27/150\n",
      "7120/7120 [==============================] - 9s 1ms/step - loss: 6896.8247 - accuracy: 2.4580e-04\n",
      "Epoch 28/150\n",
      "7120/7120 [==============================] - 9s 1ms/step - loss: 6855.8076 - accuracy: 2.4580e-04\n",
      "Epoch 29/150\n",
      "7120/7120 [==============================] - 9s 1ms/step - loss: 6968.9365 - accuracy: 2.4141e-04\n",
      "Epoch 30/150\n",
      "7120/7120 [==============================] - 9s 1ms/step - loss: 6945.8867 - accuracy: 2.4141e-04\n",
      "Epoch 31/150\n",
      "7120/7120 [==============================] - 9s 1ms/step - loss: 6906.9688 - accuracy: 2.5458e-04\n",
      "Epoch 32/150\n",
      "7120/7120 [==============================] - 9s 1ms/step - loss: 6911.5684 - accuracy: 2.3703e-04\n",
      "Epoch 33/150\n",
      "7120/7120 [==============================] - 9s 1ms/step - loss: 6918.5723 - accuracy: 2.5019e-04\n",
      "Epoch 34/150\n",
      "7120/7120 [==============================] - 10s 1ms/step - loss: 6838.6826 - accuracy: 2.4580e-04\n",
      "Epoch 35/150\n",
      "7120/7120 [==============================] - 9s 1ms/step - loss: 6863.6777 - accuracy: 2.4141e-04\n",
      "Epoch 36/150\n",
      "7120/7120 [==============================] - 9s 1ms/step - loss: 6862.0273 - accuracy: 2.3264e-04\n",
      "Epoch 37/150\n",
      "7120/7120 [==============================] - 9s 1ms/step - loss: 6842.9688 - accuracy: 2.5019e-04\n",
      "Epoch 38/150\n",
      "7120/7120 [==============================] - 9s 1ms/step - loss: 6906.5942 - accuracy: 2.4141e-04\n",
      "Epoch 39/150\n",
      "7120/7120 [==============================] - 9s 1ms/step - loss: 6875.7632 - accuracy: 2.2386e-04\n",
      "Epoch 40/150\n",
      "7120/7120 [==============================] - 9s 1ms/step - loss: 6818.9941 - accuracy: 2.3703e-04\n",
      "Epoch 41/150\n",
      "7120/7120 [==============================] - 9s 1ms/step - loss: 6847.4263 - accuracy: 2.4141e-04\n",
      "Epoch 42/150\n",
      "7120/7120 [==============================] - 9s 1ms/step - loss: 6880.3271 - accuracy: 2.4141e-04\n",
      "Epoch 43/150\n",
      "7120/7120 [==============================] - 9s 1ms/step - loss: 6865.9185 - accuracy: 2.4580e-04\n",
      "Epoch 44/150\n",
      "7120/7120 [==============================] - 9s 1ms/step - loss: 6853.9429 - accuracy: 2.3703e-04\n",
      "Epoch 45/150\n",
      "7120/7120 [==============================] - 9s 1ms/step - loss: 6792.0815 - accuracy: 2.4141e-04\n",
      "Epoch 46/150\n",
      "7120/7120 [==============================] - 9s 1ms/step - loss: 6867.4639 - accuracy: 2.4580e-04\n",
      "Epoch 47/150\n",
      "7120/7120 [==============================] - 9s 1ms/step - loss: 6776.2495 - accuracy: 2.4580e-04\n",
      "Epoch 48/150\n",
      "7120/7120 [==============================] - 9s 1ms/step - loss: 6846.7163 - accuracy: 2.3264e-04\n",
      "Epoch 49/150\n",
      "7120/7120 [==============================] - 9s 1ms/step - loss: 6922.7036 - accuracy: 2.4580e-04\n",
      "Epoch 50/150\n",
      "7120/7120 [==============================] - 9s 1ms/step - loss: 6822.4600 - accuracy: 2.4141e-04\n",
      "Epoch 51/150\n",
      "7120/7120 [==============================] - 9s 1ms/step - loss: 6809.1421 - accuracy: 2.3264e-04\n",
      "Epoch 52/150\n",
      "7120/7120 [==============================] - 9s 1ms/step - loss: 6771.0928 - accuracy: 2.4141e-04\n",
      "Epoch 53/150\n",
      "7120/7120 [==============================] - 9s 1ms/step - loss: 6918.3662 - accuracy: 2.4141e-04\n",
      "Epoch 54/150\n",
      "7120/7120 [==============================] - 9s 1ms/step - loss: 6775.6943 - accuracy: 2.4141e-04\n",
      "Epoch 55/150\n",
      "7120/7120 [==============================] - 9s 1ms/step - loss: 6869.9429 - accuracy: 2.3703e-04\n",
      "Epoch 56/150\n",
      "7120/7120 [==============================] - 9s 1ms/step - loss: 6883.7485 - accuracy: 2.1947e-04\n",
      "Epoch 57/150\n",
      "7120/7120 [==============================] - 9s 1ms/step - loss: 6859.6074 - accuracy: 2.3264e-04\n",
      "Epoch 58/150\n",
      "7120/7120 [==============================] - 9s 1ms/step - loss: 6761.9854 - accuracy: 2.4580e-04\n",
      "Epoch 59/150\n",
      "7120/7120 [==============================] - 9s 1ms/step - loss: 6752.4624 - accuracy: 2.4580e-04\n",
      "Epoch 60/150\n",
      "7120/7120 [==============================] - 9s 1ms/step - loss: 6837.8936 - accuracy: 2.3264e-04\n",
      "Epoch 61/150\n",
      "7120/7120 [==============================] - 9s 1ms/step - loss: 6725.6831 - accuracy: 2.3703e-04\n",
      "Epoch 62/150\n",
      "7120/7120 [==============================] - 9s 1ms/step - loss: 6775.9673 - accuracy: 2.4141e-04\n",
      "Epoch 63/150\n",
      "7120/7120 [==============================] - 9s 1ms/step - loss: 6873.9438 - accuracy: 2.2386e-04\n",
      "Epoch 64/150\n",
      "7120/7120 [==============================] - 9s 1ms/step - loss: 6810.6904 - accuracy: 2.2825e-04\n",
      "Epoch 65/150\n",
      "7120/7120 [==============================] - 9s 1ms/step - loss: 6755.1489 - accuracy: 2.3703e-04\n",
      "Epoch 66/150\n",
      "7120/7120 [==============================] - 9s 1ms/step - loss: 6774.3071 - accuracy: 2.3264e-04\n",
      "Epoch 67/150\n",
      "7120/7120 [==============================] - 9s 1ms/step - loss: 6708.2495 - accuracy: 2.1508e-04\n",
      "Epoch 68/150\n",
      "7120/7120 [==============================] - 9s 1ms/step - loss: 6890.1025 - accuracy: 2.1947e-04\n",
      "Epoch 69/150\n",
      "7120/7120 [==============================] - 9s 1ms/step - loss: 6780.8086 - accuracy: 2.2386e-04\n",
      "Epoch 70/150\n",
      "7120/7120 [==============================] - 10s 1ms/step - loss: 6756.7866 - accuracy: 2.3703e-04\n",
      "Epoch 71/150\n",
      "7120/7120 [==============================] - 9s 1ms/step - loss: 6751.4111 - accuracy: 2.2825e-04\n",
      "Epoch 72/150\n",
      "7120/7120 [==============================] - 9s 1ms/step - loss: 6900.3413 - accuracy: 2.3703e-04\n",
      "Epoch 73/150\n",
      "7120/7120 [==============================] - 9s 1ms/step - loss: 6787.8853 - accuracy: 2.1947e-04\n",
      "Epoch 74/150\n",
      "7120/7120 [==============================] - 9s 1ms/step - loss: 6767.1089 - accuracy: 2.2386e-04\n",
      "Epoch 75/150\n",
      "7120/7120 [==============================] - 9s 1ms/step - loss: 6726.4341 - accuracy: 2.3264e-04\n",
      "Epoch 76/150\n",
      "7120/7120 [==============================] - 9s 1ms/step - loss: 6809.8540 - accuracy: 2.2825e-04\n",
      "Epoch 77/150\n",
      "7120/7120 [==============================] - 9s 1ms/step - loss: 6801.1147 - accuracy: 2.4141e-04\n",
      "Epoch 78/150\n",
      "7120/7120 [==============================] - 9s 1ms/step - loss: 6719.4844 - accuracy: 2.3264e-04\n",
      "Epoch 79/150\n",
      "7120/7120 [==============================] - 9s 1ms/step - loss: 6719.9438 - accuracy: 2.3703e-04\n",
      "Epoch 80/150\n",
      "7120/7120 [==============================] - 9s 1ms/step - loss: 6819.2290 - accuracy: 2.4580e-04\n",
      "Epoch 81/150\n",
      "7120/7120 [==============================] - 9s 1ms/step - loss: 6797.8804 - accuracy: 2.3264e-04\n",
      "Epoch 82/150\n",
      "7120/7120 [==============================] - 10s 1ms/step - loss: 6707.6821 - accuracy: 2.4580e-04\n",
      "Epoch 83/150\n",
      "7120/7120 [==============================] - 9s 1ms/step - loss: 6794.3086 - accuracy: 2.3264e-04\n",
      "Epoch 84/150\n",
      "7120/7120 [==============================] - 9s 1ms/step - loss: 6788.7642 - accuracy: 2.2825e-04\n",
      "Epoch 85/150\n",
      "7120/7120 [==============================] - 9s 1ms/step - loss: 6795.2900 - accuracy: 2.2825e-04\n",
      "Epoch 86/150\n",
      "7120/7120 [==============================] - 9s 1ms/step - loss: 6753.6299 - accuracy: 2.2825e-04\n",
      "Epoch 87/150\n",
      "7120/7120 [==============================] - 9s 1ms/step - loss: 6722.3208 - accuracy: 2.3703e-04\n",
      "Epoch 88/150\n",
      "7120/7120 [==============================] - 9s 1ms/step - loss: 6707.0215 - accuracy: 2.4580e-04\n",
      "Epoch 89/150\n",
      "7120/7120 [==============================] - 9s 1ms/step - loss: 6687.3936 - accuracy: 2.4141e-04\n",
      "Epoch 90/150\n",
      "7120/7120 [==============================] - 9s 1ms/step - loss: 6683.3364 - accuracy: 2.3264e-04\n",
      "Epoch 91/150\n",
      "7120/7120 [==============================] - 9s 1ms/step - loss: 6622.6118 - accuracy: 2.4580e-04\n",
      "Epoch 92/150\n",
      "7120/7120 [==============================] - 9s 1ms/step - loss: 6764.7275 - accuracy: 2.3264e-04\n",
      "Epoch 93/150\n",
      "7120/7120 [==============================] - 9s 1ms/step - loss: 6625.3081 - accuracy: 2.4580e-04\n",
      "Epoch 94/150\n",
      "7120/7120 [==============================] - 9s 1ms/step - loss: 6760.7710 - accuracy: 2.3264e-04\n",
      "Epoch 95/150\n",
      "7120/7120 [==============================] - 9s 1ms/step - loss: 6704.4326 - accuracy: 2.3264e-04\n",
      "Epoch 96/150\n",
      "7120/7120 [==============================] - 9s 1ms/step - loss: 6596.4756 - accuracy: 2.3264e-04\n",
      "Epoch 97/150\n",
      "7120/7120 [==============================] - 9s 1ms/step - loss: 6736.5630 - accuracy: 2.3264e-04\n",
      "Epoch 98/150\n",
      "7120/7120 [==============================] - 9s 1ms/step - loss: 6661.2324 - accuracy: 2.3264e-04\n",
      "Epoch 99/150\n",
      "7120/7120 [==============================] - 9s 1ms/step - loss: 6690.4253 - accuracy: 2.3264e-04\n",
      "Epoch 100/150\n",
      "7120/7120 [==============================] - 9s 1ms/step - loss: 6716.5908 - accuracy: 2.4580e-04\n",
      "Epoch 101/150\n",
      "7120/7120 [==============================] - 9s 1ms/step - loss: 6668.5649 - accuracy: 2.4141e-04\n",
      "Epoch 102/150\n",
      "7120/7120 [==============================] - 9s 1ms/step - loss: 6641.3872 - accuracy: 2.4580e-04\n",
      "Epoch 103/150\n",
      "7120/7120 [==============================] - 9s 1ms/step - loss: 6503.2090 - accuracy: 2.5019e-04\n",
      "Epoch 104/150\n",
      "7120/7120 [==============================] - 9s 1ms/step - loss: 6736.8916 - accuracy: 2.4141e-04\n",
      "Epoch 105/150\n",
      "7120/7120 [==============================] - 10s 1ms/step - loss: 6698.1748 - accuracy: 2.4580e-04\n",
      "Epoch 106/150\n",
      "7120/7120 [==============================] - 10s 1ms/step - loss: 6574.9321 - accuracy: 2.3703e-04\n",
      "Epoch 107/150\n",
      "7120/7120 [==============================] - 9s 1ms/step - loss: 6747.8911 - accuracy: 2.4580e-04\n",
      "Epoch 108/150\n",
      "7120/7120 [==============================] - 9s 1ms/step - loss: 6589.8169 - accuracy: 2.4141e-04\n",
      "Epoch 109/150\n",
      "7120/7120 [==============================] - 9s 1ms/step - loss: 6519.7925 - accuracy: 2.3703e-04\n",
      "Epoch 110/150\n",
      "7120/7120 [==============================] - 9s 1ms/step - loss: 6639.3691 - accuracy: 2.5019e-04\n",
      "Epoch 111/150\n",
      "7120/7120 [==============================] - 9s 1ms/step - loss: 6530.5503 - accuracy: 2.4141e-04\n",
      "Epoch 112/150\n",
      "7120/7120 [==============================] - 9s 1ms/step - loss: 6714.0063 - accuracy: 2.5019e-04\n",
      "Epoch 113/150\n",
      "7120/7120 [==============================] - 9s 1ms/step - loss: 6576.1465 - accuracy: 2.4141e-04\n",
      "Epoch 114/150\n",
      "7120/7120 [==============================] - 9s 1ms/step - loss: 6637.6377 - accuracy: 2.5458e-04\n",
      "Epoch 115/150\n",
      "7120/7120 [==============================] - 9s 1ms/step - loss: 6615.0986 - accuracy: 2.5019e-04\n",
      "Epoch 116/150\n",
      "7120/7120 [==============================] - 10s 1ms/step - loss: 6560.3677 - accuracy: 2.4141e-04\n",
      "Epoch 117/150\n",
      "7120/7120 [==============================] - 9s 1ms/step - loss: 6489.8491 - accuracy: 2.4141e-04\n",
      "Epoch 118/150\n",
      "7120/7120 [==============================] - 9s 1ms/step - loss: 6547.5015 - accuracy: 2.5458e-04\n",
      "Epoch 119/150\n",
      "7120/7120 [==============================] - 9s 1ms/step - loss: 6452.0737 - accuracy: 2.4580e-04\n",
      "Epoch 120/150\n",
      "7120/7120 [==============================] - 9s 1ms/step - loss: 6601.6743 - accuracy: 2.4141e-04\n",
      "Epoch 121/150\n",
      "7120/7120 [==============================] - 9s 1ms/step - loss: 6590.9067 - accuracy: 2.3703e-04\n",
      "Epoch 122/150\n",
      "7120/7120 [==============================] - 9s 1ms/step - loss: 6535.5605 - accuracy: 2.4141e-04\n",
      "Epoch 123/150\n",
      "7120/7120 [==============================] - 9s 1ms/step - loss: 6516.6816 - accuracy: 2.4580e-04\n",
      "Epoch 124/150\n",
      "7120/7120 [==============================] - 9s 1ms/step - loss: 6439.4297 - accuracy: 2.5019e-04\n",
      "Epoch 125/150\n",
      "7120/7120 [==============================] - 9s 1ms/step - loss: 6725.6504 - accuracy: 2.3703e-04\n",
      "Epoch 126/150\n",
      "7120/7120 [==============================] - 9s 1ms/step - loss: 6503.6313 - accuracy: 2.4141e-04\n",
      "Epoch 127/150\n",
      "7120/7120 [==============================] - 9s 1ms/step - loss: 6509.2183 - accuracy: 2.4580e-04\n",
      "Epoch 128/150\n",
      "7120/7120 [==============================] - 9s 1ms/step - loss: 6489.4561 - accuracy: 2.4580e-04\n",
      "Epoch 129/150\n",
      "7120/7120 [==============================] - 9s 1ms/step - loss: 6545.5938 - accuracy: 2.4141e-04\n",
      "Epoch 130/150\n",
      "7120/7120 [==============================] - 9s 1ms/step - loss: 6647.4287 - accuracy: 2.4580e-04\n",
      "Epoch 131/150\n",
      "7120/7120 [==============================] - 9s 1ms/step - loss: 6500.1279 - accuracy: 2.4141e-04\n",
      "Epoch 132/150\n",
      "7120/7120 [==============================] - 9s 1ms/step - loss: 6515.9756 - accuracy: 2.4141e-04\n",
      "Epoch 133/150\n",
      "7120/7120 [==============================] - 9s 1ms/step - loss: 6395.7437 - accuracy: 2.3703e-04\n",
      "Epoch 134/150\n",
      "7120/7120 [==============================] - 9s 1ms/step - loss: 6521.3994 - accuracy: 2.4141e-04\n",
      "Epoch 135/150\n",
      "7120/7120 [==============================] - 9s 1ms/step - loss: 6606.1738 - accuracy: 2.5019e-04\n",
      "Epoch 136/150\n",
      "7120/7120 [==============================] - 9s 1ms/step - loss: 6565.0977 - accuracy: 2.4580e-04\n",
      "Epoch 137/150\n",
      "7120/7120 [==============================] - 9s 1ms/step - loss: 6479.3667 - accuracy: 2.4580e-04\n",
      "Epoch 138/150\n",
      "7120/7120 [==============================] - 9s 1ms/step - loss: 6446.4023 - accuracy: 2.4141e-04\n",
      "Epoch 139/150\n",
      "7120/7120 [==============================] - 10s 1ms/step - loss: 6501.1162 - accuracy: 2.4580e-04\n",
      "Epoch 140/150\n",
      "7120/7120 [==============================] - 10s 1ms/step - loss: 6352.1909 - accuracy: 2.4141e-04\n",
      "Epoch 141/150\n",
      "7120/7120 [==============================] - 9s 1ms/step - loss: 6596.2344 - accuracy: 2.4141e-04\n",
      "Epoch 142/150\n",
      "7120/7120 [==============================] - 9s 1ms/step - loss: 6445.3965 - accuracy: 2.4580e-04\n",
      "Epoch 143/150\n",
      "7120/7120 [==============================] - 9s 1ms/step - loss: 6418.7710 - accuracy: 2.4580e-04\n",
      "Epoch 144/150\n",
      "7120/7120 [==============================] - 9s 1ms/step - loss: 6453.4463 - accuracy: 2.4141e-04\n",
      "Epoch 145/150\n",
      "7120/7120 [==============================] - 9s 1ms/step - loss: 6364.3862 - accuracy: 2.4580e-04\n",
      "Epoch 146/150\n",
      "7120/7120 [==============================] - 9s 1ms/step - loss: 6419.5244 - accuracy: 2.4580e-04\n",
      "Epoch 147/150\n",
      "7120/7120 [==============================] - 9s 1ms/step - loss: 6387.6221 - accuracy: 2.5019e-04\n",
      "Epoch 148/150\n",
      "7120/7120 [==============================] - 9s 1ms/step - loss: 6274.2129 - accuracy: 2.5897e-04\n",
      "Epoch 149/150\n",
      "7120/7120 [==============================] - 9s 1ms/step - loss: 6564.3291 - accuracy: 2.4141e-04\n",
      "Epoch 150/150\n",
      "7120/7120 [==============================] - 10s 1ms/step - loss: 6415.6313 - accuracy: 2.4141e-04\n"
     ]
    },
    {
     "data": {
      "text/plain": [
       "41.16987892027163"
      ]
     },
     "execution_count": 91,
     "metadata": {
      "tags": []
     },
     "output_type": "execute_result"
    }
   ],
   "source": [
    "import tensorflow as tf\n",
    "import torch\n",
    "\n",
    "#X_train = tf.sparse.to_dense(X_train, default_value=None, validate_indices=True, name=None)\n",
    "#X_test = tf.sparse.to_dense(X_test, default_value=None, validate_indices=True, name=None)\n",
    "model = Sequential()\n",
    "model.add(Dense(58, input_dim=58, kernel_initializer='normal', activation='relu'))\n",
    "model.add(Dense(29, kernel_initializer='normal', activation='relu'))\n",
    "model.add(Dense(1, kernel_initializer='normal'))\n",
    "\n",
    "# Compile model\n",
    "\n",
    "model.compile(loss='mean_squared_error', optimizer='adam',metrics=['accuracy'])\n",
    "\n",
    "model.fit(X_train,y_train,epochs=150,batch_size=32)\n",
    "\n",
    "predictions = model.predict(X_test)\n",
    "np.sqrt(mean_squared_error(y_test, predictions))"
   ]
  },
  {
   "cell_type": "code",
   "execution_count": null,
   "metadata": {
    "colab": {
     "base_uri": "https://localhost:8080/"
    },
    "executionInfo": {
     "elapsed": 1201,
     "status": "ok",
     "timestamp": 1605454517907,
     "user": {
      "displayName": "adrish bir",
      "photoUrl": "https://lh3.googleusercontent.com/a-/AOh14GjvnDCPOpuviVvO_227LaSth7sl8OIBxCSMqQmFO4c=s64",
      "userId": "15664726640138518444"
     },
     "user_tz": -330
    },
    "id": "qfkQygeWL0iL",
    "outputId": "f50d9b6a-81d4-4dab-d9cf-03d412a340f2"
   },
   "outputs": [
    {
     "data": {
      "text/plain": [
       "numpy.ndarray"
      ]
     },
     "execution_count": 31,
     "metadata": {
      "tags": []
     },
     "output_type": "execute_result"
    }
   ],
   "source": [
    "sample_X = sample_X.toarray()\n",
    "type(sample_X)"
   ]
  },
  {
   "cell_type": "code",
   "execution_count": null,
   "metadata": {
    "colab": {
     "base_uri": "https://localhost:8080/"
    },
    "executionInfo": {
     "elapsed": 2067352,
     "status": "ok",
     "timestamp": 1605456674566,
     "user": {
      "displayName": "adrish bir",
      "photoUrl": "https://lh3.googleusercontent.com/a-/AOh14GjvnDCPOpuviVvO_227LaSth7sl8OIBxCSMqQmFO4c=s64",
      "userId": "15664726640138518444"
     },
     "user_tz": -330
    },
    "id": "ujvbbivdZglI",
    "outputId": "cb7c924a-bf11-491b-b542-0c2f52484aee"
   },
   "outputs": [
    {
     "name": "stdout",
     "output_type": "stream",
     "text": [
      "Baseline: -50974.74 (101917.86) MSE\n"
     ]
    }
   ],
   "source": [
    "def larger_model():\n",
    " # create model\n",
    " km = Sequential()\n",
    " km.add(Dense(58, input_dim=58, kernel_initializer='normal', activation='relu'))\n",
    " km.add(Dense(35, kernel_initializer='normal', activation='relu'))\n",
    " km.add(Dense(25, kernel_initializer='normal', activation='relu'))\n",
    " km.add(Dense(1, kernel_initializer='normal'))\n",
    " # Compile model\n",
    " km.compile(loss='mean_squared_error', optimizer='adam')\n",
    " return km\n",
    "\n",
    "# evaluate model with standardized dataset\n",
    "estimator = KerasRegressor(build_fn=larger_model, epochs=100, batch_size=5, verbose=0)\n",
    "kfold = KFold(n_splits=5)\n",
    "results = cross_val_score(estimator, sample_X, sample_y, cv=kfold)\n",
    "print(\"Baseline: %.2f (%.2f) MSE\" % (results.mean(), results.std()))\n"
   ]
  },
  {
   "cell_type": "code",
   "execution_count": null,
   "metadata": {
    "colab": {
     "base_uri": "https://localhost:8080/"
    },
    "executionInfo": {
     "elapsed": 534053,
     "status": "ok",
     "timestamp": 1605457842652,
     "user": {
      "displayName": "adrish bir",
      "photoUrl": "https://lh3.googleusercontent.com/a-/AOh14GjvnDCPOpuviVvO_227LaSth7sl8OIBxCSMqQmFO4c=s64",
      "userId": "15664726640138518444"
     },
     "user_tz": -330
    },
    "id": "5M0lMTG2slDE",
    "outputId": "7a2c6db3-52a4-492f-dcec-6b52fde65fe8"
   },
   "outputs": [
    {
     "name": "stdout",
     "output_type": "stream",
     "text": [
      "24.932249750546838\n"
     ]
    }
   ],
   "source": [
    "estimator.fit(sample_X, sample_y)\n",
    "predictions = estimator.predict(X_test)\n",
    "print(np.sqrt(mean_squared_error(y_test, predictions)))"
   ]
  },
  {
   "cell_type": "markdown",
   "metadata": {
    "id": "5kodnJcnXBAE"
   },
   "source": [
    "Sampling Techniques"
   ]
  },
  {
   "cell_type": "code",
   "execution_count": null,
   "metadata": {
    "id": "rODwO9GobPpM"
   },
   "outputs": [],
   "source": [
    "#https://www.kaggle.com/flaviobossolan/stratified-sampling-python\n",
    "# the functions:\n",
    "def stratified_sample(df, strata, size=None, seed=None, keep_index= True):\n",
    "    '''\n",
    "    It samples data from a pandas dataframe using strata. These functions use\n",
    "    proportionate stratification:\n",
    "    n1 = (N1/N) * n\n",
    "    where:\n",
    "        - n1 is the sample size of stratum 1\n",
    "        - N1 is the population size of stratum 1\n",
    "        - N is the total population size\n",
    "        - n is the sampling size\n",
    "    Parameters\n",
    "    ----------\n",
    "    :df: pandas dataframe from which data will be sampled.\n",
    "    :strata: list containing columns that will be used in the stratified sampling.\n",
    "    :size: sampling size. If not informed, a sampling size will be calculated\n",
    "        using Cochran adjusted sampling formula:\n",
    "        cochran_n = (Z**2 * p * q) /e**2\n",
    "        where:\n",
    "            - Z is the z-value. In this case we use 1.96 representing 95%\n",
    "            - p is the estimated proportion of the population which has an\n",
    "                attribute. In this case we use 0.5\n",
    "            - q is 1-p\n",
    "            - e is the margin of error\n",
    "        This formula is adjusted as follows:\n",
    "        adjusted_cochran = cochran_n / 1+((cochran_n -1)/N)\n",
    "        where:\n",
    "            - cochran_n = result of the previous formula\n",
    "            - N is the population size\n",
    "    :seed: sampling seed\n",
    "    :keep_index: if True, it keeps a column with the original population index indicator\n",
    "    \n",
    "    Returns\n",
    "    -------\n",
    "    A sampled pandas dataframe based in a set of strata.\n",
    "    Examples\n",
    "    --------\n",
    "    >> df.head()\n",
    "    \tid  sex age city \n",
    "    0\t123 M   20  XYZ\n",
    "    1\t456 M   25  XYZ\n",
    "    2\t789 M   21  YZX\n",
    "    3\t987 F   40  ZXY\n",
    "    4\t654 M   45  ZXY\n",
    "    ...\n",
    "    # This returns a sample stratified by sex and city containing 30% of the size of\n",
    "    # the original data\n",
    "    >> stratified = stratified_sample(df=df, strata=['sex', 'city'], size=0.3)\n",
    "    Requirements\n",
    "    ------------\n",
    "    - pandas\n",
    "    - numpy\n",
    "    '''\n",
    "    population = len(df)\n",
    "    size = __smpl_size(population, size)\n",
    "    tmp = df[strata]\n",
    "    tmp['size'] = 1\n",
    "    tmp_grpd = tmp.groupby(strata).count().reset_index()\n",
    "    tmp_grpd['samp_size'] = round(size/population * tmp_grpd['size']).astype(int)\n",
    "\n",
    "    # controlling variable to create the dataframe or append to it\n",
    "    first = True \n",
    "    for i in range(len(tmp_grpd)):\n",
    "        # query generator for each iteration\n",
    "        qry=''\n",
    "        for s in range(len(strata)):\n",
    "            stratum = strata[s]\n",
    "            value = tmp_grpd.iloc[i][stratum]\n",
    "            n = tmp_grpd.iloc[i]['samp_size']\n",
    "\n",
    "            if type(value) == str:\n",
    "                value = \"'\" + str(value) + \"'\"\n",
    "            \n",
    "            if s != len(strata)-1:\n",
    "                qry = qry + stratum + ' == ' + str(value) +' & '\n",
    "            else:\n",
    "                qry = qry + stratum + ' == ' + str(value)\n",
    "        \n",
    "        # final dataframe\n",
    "        if first:\n",
    "            stratified_df = df.query(qry).sample(n=n, random_state=seed).reset_index(drop=(not keep_index))\n",
    "            first = False\n",
    "        else:\n",
    "            tmp_df = df.query(qry).sample(n=n, random_state=seed).reset_index(drop=(not keep_index))\n",
    "            stratified_df = stratified_df.append(tmp_df, ignore_index=True)\n",
    "    \n",
    "    return stratified_df\n",
    "\n",
    "\n",
    "\n",
    "def stratified_sample_report(df, strata, size=None):\n",
    "    '''\n",
    "    Generates a dataframe reporting the counts in each stratum and the counts\n",
    "    for the final sampled dataframe.\n",
    "    Parameters\n",
    "    ----------\n",
    "    :df: pandas dataframe from which data will be sampled.\n",
    "    :strata: list containing columns that will be used in the stratified sampling.\n",
    "    :size: sampling size. If not informed, a sampling size will be calculated\n",
    "        using Cochran adjusted sampling formula:\n",
    "        cochran_n = (Z**2 * p * q) /e**2\n",
    "        where:\n",
    "            - Z is the z-value. In this case we use 1.96 representing 95%\n",
    "            - p is the estimated proportion of the population which has an\n",
    "                attribute. In this case we use 0.5\n",
    "            - q is 1-p\n",
    "            - e is the margin of error\n",
    "        This formula is adjusted as follows:\n",
    "        adjusted_cochran = cochran_n / 1+((cochran_n -1)/N)\n",
    "        where:\n",
    "            - cochran_n = result of the previous formula\n",
    "            - N is the population size\n",
    "    Returns\n",
    "    -------\n",
    "    A dataframe reporting the counts in each stratum and the counts\n",
    "    for the final sampled dataframe.\n",
    "    '''\n",
    "    population = len(df)\n",
    "    size = __smpl_size(population, size)\n",
    "    tmp = df[strata]\n",
    "    tmp['size'] = 1\n",
    "    tmp_grpd = tmp.groupby(strata).count().reset_index()\n",
    "    tmp_grpd['samp_size'] = round(size/population * tmp_grpd['size']).astype(int)\n",
    "    return tmp_grpd\n",
    "\n",
    "\n",
    "def __smpl_size(population, size):\n",
    "    '''\n",
    "    A function to compute the sample size. If not informed, a sampling \n",
    "    size will be calculated using Cochran adjusted sampling formula:\n",
    "        cochran_n = (Z**2 * p * q) /e**2\n",
    "        where:\n",
    "            - Z is the z-value. In this case we use 1.96 representing 95%\n",
    "            - p is the estimated proportion of the population which has an\n",
    "                attribute. In this case we use 0.5\n",
    "            - q is 1-p\n",
    "            - e is the margin of error\n",
    "        This formula is adjusted as follows:\n",
    "        adjusted_cochran = cochran_n / 1+((cochran_n -1)/N)\n",
    "        where:\n",
    "            - cochran_n = result of the previous formula\n",
    "            - N is the population size\n",
    "    Parameters\n",
    "    ----------\n",
    "        :population: population size\n",
    "        :size: sample size (default = None)\n",
    "    Returns\n",
    "    -------\n",
    "    Calculated sample size to be used in the functions:\n",
    "        - stratified_sample\n",
    "        - stratified_sample_report\n",
    "    '''\n",
    "    if size is None:\n",
    "        cochran_n = round(((1.96)**2 * 0.5 * 0.5)/ 0.02**2)\n",
    "        n = round(cochran_n/(1+((cochran_n -1) /population)))\n",
    "    elif size >= 0 and size < 1:\n",
    "        n = round(population * size)\n",
    "    elif size < 0:\n",
    "        raise ValueError('Parameter \"size\" must be an integer or a proportion between 0 and 0.99.')\n",
    "    elif size >= 1:\n",
    "        n = size\n",
    "    return n"
   ]
  },
  {
   "cell_type": "code",
   "execution_count": null,
   "metadata": {
    "colab": {
     "base_uri": "https://localhost:8080/"
    },
    "executionInfo": {
     "elapsed": 1133,
     "status": "ok",
     "timestamp": 1605452535696,
     "user": {
      "displayName": "adrish bir",
      "photoUrl": "https://lh3.googleusercontent.com/a-/AOh14GjvnDCPOpuviVvO_227LaSth7sl8OIBxCSMqQmFO4c=s64",
      "userId": "15664726640138518444"
     },
     "user_tz": -330
    },
    "id": "3cLTlH0SbVzE",
    "outputId": "d66f6f43-7299-4ca3-8a50-78704c9a5459"
   },
   "outputs": [
    {
     "name": "stdout",
     "output_type": "stream",
     "text": [
      "Help on function stratified_sample_report in module __main__:\n",
      "\n",
      "stratified_sample_report(df, strata, size=None)\n",
      "    Generates a dataframe reporting the counts in each stratum and the counts\n",
      "    for the final sampled dataframe.\n",
      "    Parameters\n",
      "    ----------\n",
      "    :df: pandas dataframe from which data will be sampled.\n",
      "    :strata: list containing columns that will be used in the stratified sampling.\n",
      "    :size: sampling size. If not informed, a sampling size will be calculated\n",
      "        using Cochran adjusted sampling formula:\n",
      "        cochran_n = (Z**2 * p * q) /e**2\n",
      "        where:\n",
      "            - Z is the z-value. In this case we use 1.96 representing 95%\n",
      "            - p is the estimated proportion of the population which has an\n",
      "                attribute. In this case we use 0.5\n",
      "            - q is 1-p\n",
      "            - e is the margin of error\n",
      "        This formula is adjusted as follows:\n",
      "        adjusted_cochran = cochran_n / 1+((cochran_n -1)/N)\n",
      "        where:\n",
      "            - cochran_n = result of the previous formula\n",
      "            - N is the population size\n",
      "    Returns\n",
      "    -------\n",
      "    A dataframe reporting the counts in each stratum and the counts\n",
      "    for the final sampled dataframe.\n",
      "\n"
     ]
    }
   ],
   "source": [
    "help(stratified_sample_report)"
   ]
  },
  {
   "cell_type": "code",
   "execution_count": null,
   "metadata": {
    "colab": {
     "base_uri": "https://localhost:8080/",
     "height": 225
    },
    "executionInfo": {
     "elapsed": 42335,
     "status": "ok",
     "timestamp": 1605463157799,
     "user": {
      "displayName": "adrish bir",
      "photoUrl": "https://lh3.googleusercontent.com/a-/AOh14GjvnDCPOpuviVvO_227LaSth7sl8OIBxCSMqQmFO4c=s64",
      "userId": "15664726640138518444"
     },
     "user_tz": -330
    },
    "id": "GU4et7FZXDm5",
    "outputId": "2eb18a9a-2977-41ce-f972-00a7dc9dff64"
   },
   "outputs": [
    {
     "name": "stdout",
     "output_type": "stream",
     "text": [
      "39968\n"
     ]
    },
    {
     "data": {
      "text/html": [
       "<div>\n",
       "<style scoped>\n",
       "    .dataframe tbody tr th:only-of-type {\n",
       "        vertical-align: middle;\n",
       "    }\n",
       "\n",
       "    .dataframe tbody tr th {\n",
       "        vertical-align: top;\n",
       "    }\n",
       "\n",
       "    .dataframe thead th {\n",
       "        text-align: right;\n",
       "    }\n",
       "</style>\n",
       "<table border=\"1\" class=\"dataframe\">\n",
       "  <thead>\n",
       "    <tr style=\"text-align: right;\">\n",
       "      <th></th>\n",
       "      <th>index</th>\n",
       "      <th>StockCode</th>\n",
       "      <th>Description</th>\n",
       "      <th>Quantity</th>\n",
       "      <th>UnitPrice</th>\n",
       "      <th>CustomerID</th>\n",
       "      <th>Country</th>\n",
       "      <th>Year</th>\n",
       "      <th>Month</th>\n",
       "      <th>Day</th>\n",
       "      <th>Timelight</th>\n",
       "      <th>Weekday</th>\n",
       "    </tr>\n",
       "  </thead>\n",
       "  <tbody>\n",
       "    <tr>\n",
       "      <th>39963</th>\n",
       "      <td>255581</td>\n",
       "      <td>3683</td>\n",
       "      <td>2624</td>\n",
       "      <td>1</td>\n",
       "      <td>18.0</td>\n",
       "      <td>12708.0</td>\n",
       "      <td>14</td>\n",
       "      <td>2011</td>\n",
       "      <td>C</td>\n",
       "      <td>week1</td>\n",
       "      <td>Morning</td>\n",
       "      <td>Thursday</td>\n",
       "    </tr>\n",
       "    <tr>\n",
       "      <th>39964</th>\n",
       "      <td>248957</td>\n",
       "      <td>3683</td>\n",
       "      <td>2624</td>\n",
       "      <td>3</td>\n",
       "      <td>18.0</td>\n",
       "      <td>12678.0</td>\n",
       "      <td>13</td>\n",
       "      <td>2011</td>\n",
       "      <td>C</td>\n",
       "      <td>week3</td>\n",
       "      <td>Morning</td>\n",
       "      <td>Thursday</td>\n",
       "    </tr>\n",
       "    <tr>\n",
       "      <th>39965</th>\n",
       "      <td>140275</td>\n",
       "      <td>3683</td>\n",
       "      <td>2624</td>\n",
       "      <td>3</td>\n",
       "      <td>28.0</td>\n",
       "      <td>12545.0</td>\n",
       "      <td>30</td>\n",
       "      <td>2011</td>\n",
       "      <td>A</td>\n",
       "      <td>week3</td>\n",
       "      <td>Noon</td>\n",
       "      <td>Friday</td>\n",
       "    </tr>\n",
       "    <tr>\n",
       "      <th>39966</th>\n",
       "      <td>126428</td>\n",
       "      <td>3683</td>\n",
       "      <td>2624</td>\n",
       "      <td>3</td>\n",
       "      <td>15.0</td>\n",
       "      <td>13023.0</td>\n",
       "      <td>35</td>\n",
       "      <td>2011</td>\n",
       "      <td>B</td>\n",
       "      <td>week1</td>\n",
       "      <td>Morning</td>\n",
       "      <td>Tuesday</td>\n",
       "    </tr>\n",
       "    <tr>\n",
       "      <th>39967</th>\n",
       "      <td>129447</td>\n",
       "      <td>3683</td>\n",
       "      <td>2624</td>\n",
       "      <td>3</td>\n",
       "      <td>40.0</td>\n",
       "      <td>13520.0</td>\n",
       "      <td>32</td>\n",
       "      <td>2011</td>\n",
       "      <td>B</td>\n",
       "      <td>week1</td>\n",
       "      <td>Morning</td>\n",
       "      <td>Wednesday</td>\n",
       "    </tr>\n",
       "  </tbody>\n",
       "</table>\n",
       "</div>"
      ],
      "text/plain": [
       "        index  StockCode  Description  ...    Day  Timelight    Weekday\n",
       "39963  255581       3683         2624  ...  week1    Morning   Thursday\n",
       "39964  248957       3683         2624  ...  week3    Morning   Thursday\n",
       "39965  140275       3683         2624  ...  week3       Noon     Friday\n",
       "39966  126428       3683         2624  ...  week1    Morning    Tuesday\n",
       "39967  129447       3683         2624  ...  week1    Morning  Wednesday\n",
       "\n",
       "[5 rows x 12 columns]"
      ]
     },
     "execution_count": 55,
     "metadata": {
      "tags": []
     },
     "output_type": "execute_result"
    }
   ],
   "source": [
    "sample_df = stratified_sample(df1, ['StockCode'],size=40000,seed=163, keep_index= True)\n",
    "print(len(sample_df))\n",
    "sample_df.tail()"
   ]
  },
  {
   "cell_type": "code",
   "execution_count": null,
   "metadata": {
    "id": "SLaDC7OubCG0"
   },
   "outputs": [],
   "source": [
    "sample_X = sample_df[['StockCode', 'Quantity', 'Country','Year','Month','Day','Weekday','Timelight','Description','CustomerID']]\n",
    "sample_y = sample_df['UnitPrice']\n",
    "sample_X = full_pipeline.fit_transform(sample_X)"
   ]
  },
  {
   "cell_type": "code",
   "execution_count": null,
   "metadata": {
    "id": "83-fzkOEAwBk"
   },
   "outputs": [],
   "source": [
    "from sklearn.model_selection import train_test_split\n",
    "Xs_train, Xs_test, ys_train, ys_test = train_test_split(sample_X,sample_y, test_size=0.25, random_state=None)"
   ]
  },
  {
   "cell_type": "code",
   "execution_count": null,
   "metadata": {
    "colab": {
     "base_uri": "https://localhost:8080/"
    },
    "executionInfo": {
     "elapsed": 111454,
     "status": "ok",
     "timestamp": 1605463269333,
     "user": {
      "displayName": "adrish bir",
      "photoUrl": "https://lh3.googleusercontent.com/a-/AOh14GjvnDCPOpuviVvO_227LaSth7sl8OIBxCSMqQmFO4c=s64",
      "userId": "15664726640138518444"
     },
     "user_tz": -330
    },
    "id": "rDM6nG6wdFY6",
    "outputId": "931a6be3-b6a2-457a-9418-3b04685470dd"
   },
   "outputs": [
    {
     "name": "stdout",
     "output_type": "stream",
     "text": [
      "The error in Random forest Regression is: 16.92891579533915\n"
     ]
    }
   ],
   "source": [
    "import numpy as np\n",
    "from sklearn.metrics import mean_squared_error\n",
    "from sklearn.ensemble import RandomForestRegressor\n",
    "from sklearn.svm import SVR\n",
    "from sklearn.linear_model import LinearRegression\n",
    "\n",
    "rfr = RandomForestRegressor(max_depth=20, random_state=23)\n",
    "#svr = SVR(C=1.0, epsilon=0.2)\n",
    "#lr = LinearRegression()\n",
    "\n",
    "rfr.fit(Xs_train,ys_train)\n",
    "#svr.fit(sample_X,sample_y)\n",
    "##lr.fit(sample_X,sample_y)\n",
    "\n",
    "pred_rfr = rfr.predict(Xs_test)\n",
    "#pred_svr = svr.predict(X_test)\n",
    "#pred_lr = lr.predict(X_test)\n",
    "\n",
    "print('The error in Random forest Regression is: '+ str(np.sqrt(mean_squared_error(ys_test, pred_rfr))))\n",
    "#print('The error in Support Vector Regression is: '+ str(np.sqrt(mean_squared_error(y_test, pred_svr))))\n",
    "#print('The error in Linear regression is: '+ str(np.sqrt(mean_squared_error(y_test, pred_lr))))"
   ]
  },
  {
   "cell_type": "code",
   "execution_count": null,
   "metadata": {
    "colab": {
     "base_uri": "https://localhost:8080/"
    },
    "executionInfo": {
     "elapsed": 3617,
     "status": "ok",
     "timestamp": 1605453772482,
     "user": {
      "displayName": "adrish bir",
      "photoUrl": "https://lh3.googleusercontent.com/a-/AOh14GjvnDCPOpuviVvO_227LaSth7sl8OIBxCSMqQmFO4c=s64",
      "userId": "15664726640138518444"
     },
     "user_tz": -330
    },
    "id": "PodQda6sdXFO",
    "outputId": "8e5a2483-1ee2-4d26-9a4a-bed5d5b420e4"
   },
   "outputs": [
    {
     "data": {
      "text/plain": [
       "17.393460031836163"
      ]
     },
     "execution_count": 27,
     "metadata": {
      "tags": []
     },
     "output_type": "execute_result"
    }
   ],
   "source": [
    "from sklearn.tree import DecisionTreeRegressor\n",
    "\n",
    "tree_reg = DecisionTreeRegressor(random_state=55)\n",
    "tree_reg.fit(sample_X,sample_y)\n",
    "\n",
    "predictions = tree_reg.predict(X_test)\n",
    "tree_mse = mean_squared_error(y_test, predictions)\n",
    "tree_rmse = np.sqrt(tree_mse)\n",
    "tree_rmse"
   ]
  },
  {
   "cell_type": "code",
   "execution_count": null,
   "metadata": {
    "id": "EiGtcXUrgGfA"
   },
   "outputs": [],
   "source": [
    "def test_submission(submission_number,model,test_data):\n",
    "    predictions = model.predict(test_data)\n",
    "    np.savetxt(Data_dir+\"predictions\"+str(submission_number)+\".csv\", predictions, delimiter=\",\")\n",
    "    \n",
    "#test_submission(7,rfr,test_data)\n",
    "test_submission(8,svr,test_data)"
   ]
  },
  {
   "cell_type": "code",
   "execution_count": null,
   "metadata": {
    "id": "CEgefr0UgX6L"
   },
   "outputs": [],
   "source": [
    "test_submission(9,estimator,test_data)"
   ]
  },
  {
   "cell_type": "code",
   "execution_count": null,
   "metadata": {
    "id": "dOdZkuutv5PJ"
   },
   "outputs": [],
   "source": [
    "sample_df.to_csv(Data_dir+'sample_Data.csv',index=False)"
   ]
  },
  {
   "cell_type": "code",
   "execution_count": null,
   "metadata": {
    "colab": {
     "base_uri": "https://localhost:8080/",
     "height": 36
    },
    "executionInfo": {
     "elapsed": 1403,
     "status": "ok",
     "timestamp": 1605458446814,
     "user": {
      "displayName": "adrish bir",
      "photoUrl": "https://lh3.googleusercontent.com/a-/AOh14GjvnDCPOpuviVvO_227LaSth7sl8OIBxCSMqQmFO4c=s64",
      "userId": "15664726640138518444"
     },
     "user_tz": -330
    },
    "id": "GplyL0LTxZcL",
    "outputId": "fe997ad1-7ba3-4da2-f576-52997e543134"
   },
   "outputs": [
    {
     "data": {
      "application/vnd.google.colaboratory.intrinsic+json": {
       "type": "string"
      },
      "text/plain": [
       "'Link for next Notebook - https://colab.research.google.com/drive/1DmWP2UvfxRn3LUzOQoj3XDfPvXy-emPa?usp=sharing'"
      ]
     },
     "execution_count": 42,
     "metadata": {
      "tags": []
     },
     "output_type": "execute_result"
    }
   ],
   "source": [
    "\"Link for next Notebook - https://colab.research.google.com/drive/1DmWP2UvfxRn3LUzOQoj3XDfPvXy-emPa?usp=sharing\""
   ]
  },
  {
   "cell_type": "code",
   "execution_count": null,
   "metadata": {
    "colab": {
     "base_uri": "https://localhost:8080/",
     "height": 423
    },
    "executionInfo": {
     "elapsed": 1136,
     "status": "ok",
     "timestamp": 1605462214072,
     "user": {
      "displayName": "adrish bir",
      "photoUrl": "https://lh3.googleusercontent.com/a-/AOh14GjvnDCPOpuviVvO_227LaSth7sl8OIBxCSMqQmFO4c=s64",
      "userId": "15664726640138518444"
     },
     "user_tz": -330
    },
    "id": "G_OS0joL_uv0",
    "outputId": "2affac6b-099f-48fb-e4e0-80dba130785c"
   },
   "outputs": [
    {
     "data": {
      "text/html": [
       "<div>\n",
       "<style scoped>\n",
       "    .dataframe tbody tr th:only-of-type {\n",
       "        vertical-align: middle;\n",
       "    }\n",
       "\n",
       "    .dataframe tbody tr th {\n",
       "        vertical-align: top;\n",
       "    }\n",
       "\n",
       "    .dataframe thead th {\n",
       "        text-align: right;\n",
       "    }\n",
       "</style>\n",
       "<table border=\"1\" class=\"dataframe\">\n",
       "  <thead>\n",
       "    <tr style=\"text-align: right;\">\n",
       "      <th></th>\n",
       "      <th>StockCode</th>\n",
       "      <th>size</th>\n",
       "      <th>samp_size</th>\n",
       "    </tr>\n",
       "  </thead>\n",
       "  <tbody>\n",
       "    <tr>\n",
       "      <th>3</th>\n",
       "      <td>3</td>\n",
       "      <td>3</td>\n",
       "      <td>0</td>\n",
       "    </tr>\n",
       "    <tr>\n",
       "      <th>5</th>\n",
       "      <td>5</td>\n",
       "      <td>3</td>\n",
       "      <td>0</td>\n",
       "    </tr>\n",
       "    <tr>\n",
       "      <th>26</th>\n",
       "      <td>26</td>\n",
       "      <td>2</td>\n",
       "      <td>0</td>\n",
       "    </tr>\n",
       "    <tr>\n",
       "      <th>32</th>\n",
       "      <td>32</td>\n",
       "      <td>2</td>\n",
       "      <td>0</td>\n",
       "    </tr>\n",
       "    <tr>\n",
       "      <th>33</th>\n",
       "      <td>33</td>\n",
       "      <td>2</td>\n",
       "      <td>0</td>\n",
       "    </tr>\n",
       "    <tr>\n",
       "      <th>...</th>\n",
       "      <td>...</td>\n",
       "      <td>...</td>\n",
       "      <td>...</td>\n",
       "    </tr>\n",
       "    <tr>\n",
       "      <th>3606</th>\n",
       "      <td>3670</td>\n",
       "      <td>1</td>\n",
       "      <td>0</td>\n",
       "    </tr>\n",
       "    <tr>\n",
       "      <th>3607</th>\n",
       "      <td>3672</td>\n",
       "      <td>2</td>\n",
       "      <td>0</td>\n",
       "    </tr>\n",
       "    <tr>\n",
       "      <th>3608</th>\n",
       "      <td>3673</td>\n",
       "      <td>1</td>\n",
       "      <td>0</td>\n",
       "    </tr>\n",
       "    <tr>\n",
       "      <th>3609</th>\n",
       "      <td>3674</td>\n",
       "      <td>2</td>\n",
       "      <td>0</td>\n",
       "    </tr>\n",
       "    <tr>\n",
       "      <th>3610</th>\n",
       "      <td>3675</td>\n",
       "      <td>1</td>\n",
       "      <td>0</td>\n",
       "    </tr>\n",
       "  </tbody>\n",
       "</table>\n",
       "<p>456 rows × 3 columns</p>\n",
       "</div>"
      ],
      "text/plain": [
       "      StockCode  size  samp_size\n",
       "3             3     3          0\n",
       "5             5     3          0\n",
       "26           26     2          0\n",
       "32           32     2          0\n",
       "33           33     2          0\n",
       "...         ...   ...        ...\n",
       "3606       3670     1          0\n",
       "3607       3672     2          0\n",
       "3608       3673     1          0\n",
       "3609       3674     2          0\n",
       "3610       3675     1          0\n",
       "\n",
       "[456 rows x 3 columns]"
      ]
     },
     "execution_count": 47,
     "metadata": {
      "tags": []
     },
     "output_type": "execute_result"
    }
   ],
   "source": [
    "stratified_sample_report(df1, ['StockCode'],size=40000)[stratified_sample_report(df1, ['StockCode'],size=40000)['samp_size']==0]"
   ]
  },
  {
   "cell_type": "code",
   "execution_count": null,
   "metadata": {
    "id": "5OCix0N8_0yL"
   },
   "outputs": [],
   "source": []
  }
 ],
 "metadata": {
  "colab": {
   "authorship_tag": "ABX9TyMp5Sh9DlvVqEp5MPoV+d8v",
   "name": "RetailPricePredictionPt2.ipynb",
   "provenance": []
  },
  "kernelspec": {
   "display_name": "Python 3",
   "language": "python",
   "name": "python3"
  },
  "language_info": {
   "codemirror_mode": {
    "name": "ipython",
    "version": 3
   },
   "file_extension": ".py",
   "mimetype": "text/x-python",
   "name": "python",
   "nbconvert_exporter": "python",
   "pygments_lexer": "ipython3",
   "version": "3.8.3"
  }
 },
 "nbformat": 4,
 "nbformat_minor": 1
}
