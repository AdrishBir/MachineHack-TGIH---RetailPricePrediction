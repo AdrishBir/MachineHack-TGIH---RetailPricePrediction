{
 "cells": [
  {
   "cell_type": "code",
   "execution_count": null,
   "metadata": {
    "id": "7DfqU6L8vUfi"
   },
   "outputs": [],
   "source": [
    "import numpy as np\n",
    "import pandas as pd\n",
    "import matplotlib.pyplot as plt\n",
    "from matplotlib import style\n",
    "import seaborn as sns\n",
    "%matplotlib inline\n",
    "import datetime\n",
    "import warnings\n",
    "warnings.filterwarnings(\"ignore\")"
   ]
  },
  {
   "cell_type": "code",
   "execution_count": null,
   "metadata": {
    "colab": {
     "base_uri": "https://localhost:8080/"
    },
    "executionInfo": {
     "elapsed": 24717,
     "status": "ok",
     "timestamp": 1605797247136,
     "user": {
      "displayName": "adrish bir",
      "photoUrl": "https://lh3.googleusercontent.com/a-/AOh14GjvnDCPOpuviVvO_227LaSth7sl8OIBxCSMqQmFO4c=s64",
      "userId": "15664726640138518444"
     },
     "user_tz": -330
    },
    "id": "EQSAZ2navZlu",
    "outputId": "0b4c6e0f-7e4c-45c2-dede-4414f242622c"
   },
   "outputs": [
    {
     "name": "stdout",
     "output_type": "stream",
     "text": [
      "Mounted at /content/gdrive\n"
     ]
    }
   ],
   "source": [
    "from google.colab import drive\n",
    "drive.mount('/content/gdrive')"
   ]
  },
  {
   "cell_type": "code",
   "execution_count": null,
   "metadata": {
    "colab": {
     "base_uri": "https://localhost:8080/",
     "height": 202
    },
    "executionInfo": {
     "elapsed": 3225,
     "status": "ok",
     "timestamp": 1605797248192,
     "user": {
      "displayName": "adrish bir",
      "photoUrl": "https://lh3.googleusercontent.com/a-/AOh14GjvnDCPOpuviVvO_227LaSth7sl8OIBxCSMqQmFO4c=s64",
      "userId": "15664726640138518444"
     },
     "user_tz": -330
    },
    "id": "OmhnAn6bvf1y",
    "outputId": "8c29bbb4-7f6b-47ba-87f2-0f38fe857d59"
   },
   "outputs": [
    {
     "data": {
      "text/html": [
       "<div>\n",
       "<style scoped>\n",
       "    .dataframe tbody tr th:only-of-type {\n",
       "        vertical-align: middle;\n",
       "    }\n",
       "\n",
       "    .dataframe tbody tr th {\n",
       "        vertical-align: top;\n",
       "    }\n",
       "\n",
       "    .dataframe thead th {\n",
       "        text-align: right;\n",
       "    }\n",
       "</style>\n",
       "<table border=\"1\" class=\"dataframe\">\n",
       "  <thead>\n",
       "    <tr style=\"text-align: right;\">\n",
       "      <th></th>\n",
       "      <th>index</th>\n",
       "      <th>StockCode</th>\n",
       "      <th>Description</th>\n",
       "      <th>Quantity</th>\n",
       "      <th>UnitPrice</th>\n",
       "      <th>CustomerID</th>\n",
       "      <th>Country</th>\n",
       "      <th>Year</th>\n",
       "      <th>Month</th>\n",
       "      <th>Day</th>\n",
       "      <th>Timelight</th>\n",
       "      <th>Weekday</th>\n",
       "    </tr>\n",
       "  </thead>\n",
       "  <tbody>\n",
       "    <tr>\n",
       "      <th>0</th>\n",
       "      <td>63388</td>\n",
       "      <td>0</td>\n",
       "      <td>1698</td>\n",
       "      <td>11</td>\n",
       "      <td>0.85</td>\n",
       "      <td>13246.0</td>\n",
       "      <td>35</td>\n",
       "      <td>2011</td>\n",
       "      <td>A</td>\n",
       "      <td>week2</td>\n",
       "      <td>Noon</td>\n",
       "      <td>Thursday</td>\n",
       "    </tr>\n",
       "    <tr>\n",
       "      <th>1</th>\n",
       "      <td>257072</td>\n",
       "      <td>0</td>\n",
       "      <td>1698</td>\n",
       "      <td>2</td>\n",
       "      <td>0.85</td>\n",
       "      <td>17337.0</td>\n",
       "      <td>35</td>\n",
       "      <td>2011</td>\n",
       "      <td>A</td>\n",
       "      <td>week1</td>\n",
       "      <td>Noon</td>\n",
       "      <td>Sunday</td>\n",
       "    </tr>\n",
       "    <tr>\n",
       "      <th>2</th>\n",
       "      <td>97281</td>\n",
       "      <td>0</td>\n",
       "      <td>1698</td>\n",
       "      <td>12</td>\n",
       "      <td>0.85</td>\n",
       "      <td>12451.0</td>\n",
       "      <td>32</td>\n",
       "      <td>2011</td>\n",
       "      <td>A</td>\n",
       "      <td>week2</td>\n",
       "      <td>Morning</td>\n",
       "      <td>Wednesday</td>\n",
       "    </tr>\n",
       "    <tr>\n",
       "      <th>3</th>\n",
       "      <td>153534</td>\n",
       "      <td>0</td>\n",
       "      <td>1698</td>\n",
       "      <td>60</td>\n",
       "      <td>0.85</td>\n",
       "      <td>14258.0</td>\n",
       "      <td>35</td>\n",
       "      <td>2011</td>\n",
       "      <td>A</td>\n",
       "      <td>week1</td>\n",
       "      <td>Noon</td>\n",
       "      <td>Thursday</td>\n",
       "    </tr>\n",
       "    <tr>\n",
       "      <th>4</th>\n",
       "      <td>255084</td>\n",
       "      <td>1</td>\n",
       "      <td>1536</td>\n",
       "      <td>2</td>\n",
       "      <td>0.39</td>\n",
       "      <td>17870.0</td>\n",
       "      <td>35</td>\n",
       "      <td>2011</td>\n",
       "      <td>C</td>\n",
       "      <td>week3</td>\n",
       "      <td>Morning</td>\n",
       "      <td>Tuesday</td>\n",
       "    </tr>\n",
       "  </tbody>\n",
       "</table>\n",
       "</div>"
      ],
      "text/plain": [
       "    index  StockCode  Description  Quantity  ...  Month    Day  Timelight    Weekday\n",
       "0   63388          0         1698        11  ...      A  week2       Noon   Thursday\n",
       "1  257072          0         1698         2  ...      A  week1       Noon     Sunday\n",
       "2   97281          0         1698        12  ...      A  week2    Morning  Wednesday\n",
       "3  153534          0         1698        60  ...      A  week1       Noon   Thursday\n",
       "4  255084          1         1536         2  ...      C  week3    Morning    Tuesday\n",
       "\n",
       "[5 rows x 12 columns]"
      ]
     },
     "execution_count": 10,
     "metadata": {
      "tags": []
     },
     "output_type": "execute_result"
    }
   ],
   "source": [
    "Data_dir = '/content/gdrive/My Drive/Colab Notebooks/Datasets/MahineHack - Retail Price Prediction/'\n",
    "df = pd.read_csv(Data_dir+ 'sample_Data.csv')\n",
    "df.head()"
   ]
  },
  {
   "cell_type": "code",
   "execution_count": null,
   "metadata": {
    "id": "-yLXBfeze5NY"
   },
   "outputs": [],
   "source": [
    "df1 = df.copy()\n",
    "df1.drop(['index'],axis=1,inplace=True)"
   ]
  },
  {
   "cell_type": "code",
   "execution_count": null,
   "metadata": {
    "colab": {
     "base_uri": "https://localhost:8080/"
    },
    "executionInfo": {
     "elapsed": 1199,
     "status": "ok",
     "timestamp": 1605623822519,
     "user": {
      "displayName": "adrish bir",
      "photoUrl": "https://lh3.googleusercontent.com/a-/AOh14GjvnDCPOpuviVvO_227LaSth7sl8OIBxCSMqQmFO4c=s64",
      "userId": "15664726640138518444"
     },
     "user_tz": -330
    },
    "id": "r-54IVRDPLEs",
    "outputId": "e9b4d5c6-ce59-4628-dd8b-b5ec477d695b"
   },
   "outputs": [
    {
     "data": {
      "text/plain": [
       "UnitPrice      1.000000\n",
       "StockCode      0.046119\n",
       "Year          -0.000809\n",
       "Quantity      -0.002372\n",
       "Description   -0.002503\n",
       "CustomerID    -0.018407\n",
       "Country       -0.028692\n",
       "Name: UnitPrice, dtype: float64"
      ]
     },
     "execution_count": 6,
     "metadata": {
      "tags": []
     },
     "output_type": "execute_result"
    }
   ],
   "source": [
    "df1.corr()['UnitPrice'].sort_values(ascending=False)"
   ]
  },
  {
   "cell_type": "code",
   "execution_count": null,
   "metadata": {
    "id": "LD83NiYS_Vj0"
   },
   "outputs": [],
   "source": [
    "from sklearn.pipeline import Pipeline\n",
    "from sklearn.preprocessing import StandardScaler\n",
    "from sklearn.compose import ColumnTransformer\n",
    "from sklearn.preprocessing import OneHotEncoder\n",
    "\n",
    "\n",
    "num_attribs = ['StockCode','Quantity','Description','CustomerID']\n",
    "cat_attribs = [ 'Country','Weekday','Timelight','Year','Month','Day']\n",
    "\n",
    "full_pipeline = ColumnTransformer([\n",
    "        (\"num\", StandardScaler(), num_attribs),\n",
    "        (\"cat\", OneHotEncoder(), cat_attribs),\n",
    "    ])"
   ]
  },
  {
   "cell_type": "code",
   "execution_count": null,
   "metadata": {
    "id": "Ruxx8fODWt8c"
   },
   "outputs": [],
   "source": [
    "X= df1[['StockCode', 'Quantity', 'Country','Year','Month','Day','Weekday','Timelight','Description','CustomerID']]\n",
    "y = df1['UnitPrice']\n",
    "\n",
    "#X2 = df2[['StockCode', 'Quantity', 'Country','Year','Month','Day','Weekday','Timelight','Description','CustomerID']]\n",
    "#y2 = df2['UnitPrice']"
   ]
  },
  {
   "cell_type": "code",
   "execution_count": null,
   "metadata": {
    "colab": {
     "base_uri": "https://localhost:8080/"
    },
    "executionInfo": {
     "elapsed": 1035,
     "status": "ok",
     "timestamp": 1605797271065,
     "user": {
      "displayName": "adrish bir",
      "photoUrl": "https://lh3.googleusercontent.com/a-/AOh14GjvnDCPOpuviVvO_227LaSth7sl8OIBxCSMqQmFO4c=s64",
      "userId": "15664726640138518444"
     },
     "user_tz": -330
    },
    "id": "ExSeH33xW-xY",
    "outputId": "bc18afb3-3e42-4550-e0c7-a7a41695445f"
   },
   "outputs": [
    {
     "name": "stdout",
     "output_type": "stream",
     "text": [
      "(39968, 58)\n"
     ]
    }
   ],
   "source": [
    "X = full_pipeline.fit_transform(X)\n",
    "#X2 = full_pipeline.fit_transform(X2)\n",
    "print(X.shape)\n",
    "#print(X2.shape)"
   ]
  },
  {
   "cell_type": "code",
   "execution_count": null,
   "metadata": {
    "id": "38euJ9zZc-4H"
   },
   "outputs": [],
   "source": [
    "from sklearn.model_selection import train_test_split\n",
    "X_train, X_test, y_train, y_test = train_test_split(X,y, test_size=0.2, random_state=None,shuffle=True)\n",
    "\n",
    "#from sklearn.model_selection import train_test_split\n",
    "#X_train2, X_test2, y_train2, y_test2 = train_test_split(X2,y2, test_size=0.25, random_state=None)"
   ]
  },
  {
   "cell_type": "code",
   "execution_count": null,
   "metadata": {
    "colab": {
     "base_uri": "https://localhost:8080/"
    },
    "executionInfo": {
     "elapsed": 128292,
     "status": "ok",
     "timestamp": 1605588794068,
     "user": {
      "displayName": "adrish bir",
      "photoUrl": "https://lh3.googleusercontent.com/a-/AOh14GjvnDCPOpuviVvO_227LaSth7sl8OIBxCSMqQmFO4c=s64",
      "userId": "15664726640138518444"
     },
     "user_tz": -330
    },
    "id": "-MHbmwFZXH_t",
    "outputId": "6931da19-d260-4bc6-8eb7-e2640b8c5046"
   },
   "outputs": [
    {
     "name": "stdout",
     "output_type": "stream",
     "text": [
      "The error in Random forest Regression df1 is: 18.669969637031727\n",
      "The error in Random forest Regression df2 is: 43.93437693608586\n"
     ]
    }
   ],
   "source": [
    "from sklearn.metrics import mean_squared_error\n",
    "from sklearn.ensemble import RandomForestRegressor\n",
    "\n",
    "rfr1 = RandomForestRegressor(max_depth=20, random_state=23)\n",
    "rfr2 = RandomForestRegressor(max_depth=20, random_state=23)\n",
    "\n",
    "rfr1.fit(X_train1,y_train1)\n",
    "rfr2.fit(X_train2,y_train2)\n",
    "\n",
    "pred_rfr1 = rfr1.predict(X_test1)\n",
    "pred_rfr2 = rfr2.predict(X_test2)\n",
    "\n",
    "print('The error in Random forest Regression df1 is: '+ str(np.sqrt(mean_squared_error(y_test1, pred_rfr1))))\n",
    "print('The error in Random forest Regression df2 is: '+ str(np.sqrt(mean_squared_error(y_test2, pred_rfr2))))"
   ]
  },
  {
   "cell_type": "markdown",
   "metadata": {
    "id": "OQJZczlxmazA"
   },
   "source": [
    "#####Country grouping is not effective.\n",
    "####Let`s try other models and hypertuning on df1 "
   ]
  },
  {
   "cell_type": "markdown",
   "metadata": {
    "id": "7xq6MhZpusN8"
   },
   "source": [
    "Random Forest Regressor"
   ]
  },
  {
   "cell_type": "code",
   "execution_count": null,
   "metadata": {
    "colab": {
     "base_uri": "https://localhost:8080/"
    },
    "executionInfo": {
     "elapsed": 1239,
     "status": "ok",
     "timestamp": 1605797315586,
     "user": {
      "displayName": "adrish bir",
      "photoUrl": "https://lh3.googleusercontent.com/a-/AOh14GjvnDCPOpuviVvO_227LaSth7sl8OIBxCSMqQmFO4c=s64",
      "userId": "15664726640138518444"
     },
     "user_tz": -330
    },
    "id": "xL--JGVO-j_j",
    "outputId": "4971d263-3d30-4d54-9b63-6be3c73f806b"
   },
   "outputs": [
    {
     "name": "stdout",
     "output_type": "stream",
     "text": [
      "Parameters currently in use:\n",
      "\n",
      "{'bootstrap': True,\n",
      " 'ccp_alpha': 0.0,\n",
      " 'criterion': 'mse',\n",
      " 'max_depth': None,\n",
      " 'max_features': 'auto',\n",
      " 'max_leaf_nodes': None,\n",
      " 'max_samples': None,\n",
      " 'min_impurity_decrease': 0.0,\n",
      " 'min_impurity_split': None,\n",
      " 'min_samples_leaf': 1,\n",
      " 'min_samples_split': 2,\n",
      " 'min_weight_fraction_leaf': 0.0,\n",
      " 'n_estimators': 100,\n",
      " 'n_jobs': None,\n",
      " 'oob_score': False,\n",
      " 'random_state': None,\n",
      " 'verbose': 0,\n",
      " 'warm_start': False}\n",
      "{'bootstrap': [True, False],\n",
      " 'max_depth': [0, 3, 6, 10, 13, 16, 20, 23, 26, 30],\n",
      " 'max_features': ['auto', 'sqrt'],\n",
      " 'min_samples_leaf': [1, 2, 5, 10],\n",
      " 'min_samples_split': [2, 5, 10, 15, 100],\n",
      " 'n_estimators': <scipy.stats._distn_infrastructure.rv_frozen object at 0x7f465ba343c8>}\n"
     ]
    }
   ],
   "source": [
    "from sklearn.metrics import mean_squared_error\n",
    "from sklearn.ensemble import RandomForestRegressor\n",
    "from sklearn.model_selection import RandomizedSearchCV\n",
    "from scipy.stats import randint\n",
    "from pprint import pprint\n",
    "\n",
    "rf = RandomForestRegressor()\n",
    "\n",
    "# Look at parameters used by our current forest\n",
    "print('Parameters currently in use:\\n')\n",
    "pprint(rf.get_params())\n",
    "\n",
    "# Randomized Search CV\n",
    "\n",
    "# Number of trees in random forest\n",
    "n_estimators = randint(low=1, high=250)\n",
    "# Number of features to consider at every split\n",
    "max_features = ['auto', 'sqrt']\n",
    "# Maximum number of levels in tree\n",
    "max_depth = [int(x) for x in np.linspace(0, 30, num = 10)]\n",
    "# max_depth.append(None)\n",
    "# Minimum number of samples required to split a node\n",
    "min_samples_split = [2, 5, 10, 15, 100]\n",
    "# Minimum number of samples required at each leaf node\n",
    "min_samples_leaf = [1, 2, 5, 10]\n",
    "# Method of selecting samples for training each tree\n",
    "bootstrap = [True, False]\n",
    "\n",
    "random_grid = {'n_estimators': n_estimators,\n",
    "               'max_features': max_features,\n",
    "               'max_depth': max_depth,\n",
    "               'min_samples_split': min_samples_split,\n",
    "               'min_samples_leaf': min_samples_leaf,\n",
    "               'bootstrap' : bootstrap}\n",
    "          \n",
    "\n",
    "pprint(random_grid)\n",
    "\n",
    "rf = RandomForestRegressor()"
   ]
  },
  {
   "cell_type": "code",
   "execution_count": null,
   "metadata": {
    "colab": {
     "base_uri": "https://localhost:8080/"
    },
    "executionInfo": {
     "elapsed": 5287768,
     "status": "ok",
     "timestamp": 1605802679220,
     "user": {
      "displayName": "adrish bir",
      "photoUrl": "https://lh3.googleusercontent.com/a-/AOh14GjvnDCPOpuviVvO_227LaSth7sl8OIBxCSMqQmFO4c=s64",
      "userId": "15664726640138518444"
     },
     "user_tz": -330
    },
    "id": "WHUOvhxC-phR",
    "outputId": "dd9204d2-9a34-4d46-989b-061f6f97a5ae"
   },
   "outputs": [
    {
     "name": "stdout",
     "output_type": "stream",
     "text": [
      "Fitting 3 folds for each of 100 candidates, totalling 300 fits\n"
     ]
    },
    {
     "name": "stderr",
     "output_type": "stream",
     "text": [
      "[Parallel(n_jobs=-1)]: Using backend LokyBackend with 2 concurrent workers.\n",
      "[Parallel(n_jobs=-1)]: Done  37 tasks      | elapsed: 13.5min\n",
      "[Parallel(n_jobs=-1)]: Done 158 tasks      | elapsed: 45.2min\n",
      "[Parallel(n_jobs=-1)]: Done 300 out of 300 | elapsed: 86.2min finished\n"
     ]
    },
    {
     "data": {
      "text/plain": [
       "RandomizedSearchCV(cv=3, error_score=nan,\n",
       "                   estimator=RandomForestRegressor(bootstrap=True,\n",
       "                                                   ccp_alpha=0.0,\n",
       "                                                   criterion='mse',\n",
       "                                                   max_depth=None,\n",
       "                                                   max_features='auto',\n",
       "                                                   max_leaf_nodes=None,\n",
       "                                                   max_samples=None,\n",
       "                                                   min_impurity_decrease=0.0,\n",
       "                                                   min_impurity_split=None,\n",
       "                                                   min_samples_leaf=1,\n",
       "                                                   min_samples_split=2,\n",
       "                                                   min_weight_fraction_leaf=0.0,\n",
       "                                                   n_estimators=100,\n",
       "                                                   n_jobs=None, oob_score=Fals...\n",
       "                   param_distributions={'bootstrap': [True, False],\n",
       "                                        'max_depth': [0, 3, 6, 10, 13, 16, 20,\n",
       "                                                      23, 26, 30],\n",
       "                                        'max_features': ['auto', 'sqrt'],\n",
       "                                        'min_samples_leaf': [1, 2, 5, 10],\n",
       "                                        'min_samples_split': [2, 5, 10, 15,\n",
       "                                                              100],\n",
       "                                        'n_estimators': <scipy.stats._distn_infrastructure.rv_frozen object at 0x7f465ba343c8>},\n",
       "                   pre_dispatch='2*n_jobs', random_state=42, refit=True,\n",
       "                   return_train_score=False, scoring='neg_mean_squared_error',\n",
       "                   verbose=2)"
      ]
     },
     "execution_count": 17,
     "metadata": {
      "tags": []
     },
     "output_type": "execute_result"
    }
   ],
   "source": [
    "from sklearn.model_selection import train_test_split\n",
    "\n",
    "# Random search of parameters, using 3 fold cross validation, \n",
    "# search across 100 different combinations\n",
    "\n",
    "rf_random = RandomizedSearchCV(estimator = rf, param_distributions = random_grid, n_iter = 100, cv = 3, verbose=2, n_jobs = -1,scoring='neg_mean_squared_error', random_state=42)\n",
    "\n",
    "# Fit the random search model\n",
    "# In order to test these models I will need to do a train test split with the training data-set. \n",
    "#X_train, X_test, y_train, y_test = train_test_split(X, y, test_size=0.2)\n",
    "\n",
    "rf_random.fit(X_train, y_train)"
   ]
  },
  {
   "cell_type": "code",
   "execution_count": null,
   "metadata": {
    "colab": {
     "base_uri": "https://localhost:8080/"
    },
    "executionInfo": {
     "elapsed": 1021,
     "status": "ok",
     "timestamp": 1605803071387,
     "user": {
      "displayName": "adrish bir",
      "photoUrl": "https://lh3.googleusercontent.com/a-/AOh14GjvnDCPOpuviVvO_227LaSth7sl8OIBxCSMqQmFO4c=s64",
      "userId": "15664726640138518444"
     },
     "user_tz": -330
    },
    "id": "ZW5DRjDPTtRR",
    "outputId": "b1222c99-bdc7-45a6-a5df-d5a6ab86133d"
   },
   "outputs": [
    {
     "data": {
      "text/plain": [
       "RandomForestRegressor(bootstrap=False, ccp_alpha=0.0, criterion='mse',\n",
       "                      max_depth=23, max_features='auto', max_leaf_nodes=None,\n",
       "                      max_samples=None, min_impurity_decrease=0.0,\n",
       "                      min_impurity_split=None, min_samples_leaf=5,\n",
       "                      min_samples_split=10, min_weight_fraction_leaf=0.0,\n",
       "                      n_estimators=81, n_jobs=None, oob_score=False,\n",
       "                      random_state=None, verbose=0, warm_start=False)"
      ]
     },
     "execution_count": 20,
     "metadata": {
      "tags": []
     },
     "output_type": "execute_result"
    }
   ],
   "source": [
    "rf_random.best_estimator_"
   ]
  },
  {
   "cell_type": "code",
   "execution_count": null,
   "metadata": {
    "id": "-4wBdxw2mXcS"
   },
   "outputs": [],
   "source": [
    "feature_importances = rf_random.best_estimator_.feature_importances_"
   ]
  },
  {
   "cell_type": "code",
   "execution_count": null,
   "metadata": {
    "colab": {
     "base_uri": "https://localhost:8080/"
    },
    "executionInfo": {
     "elapsed": 1311,
     "status": "ok",
     "timestamp": 1605808676520,
     "user": {
      "displayName": "adrish bir",
      "photoUrl": "https://lh3.googleusercontent.com/a-/AOh14GjvnDCPOpuviVvO_227LaSth7sl8OIBxCSMqQmFO4c=s64",
      "userId": "15664726640138518444"
     },
     "user_tz": -330
    },
    "id": "iy9Pb2LsnS2e",
    "outputId": "0d3ecabb-ac37-476a-e39f-c7faa84e113e"
   },
   "outputs": [
    {
     "data": {
      "text/plain": [
       "[(0.6910699148149979, '35'),\n",
       " (0.28374686218493267, 'StockCode'),\n",
       " (0.011485879999222338, 'Description'),\n",
       " (0.003662549089237662, 'week1'),\n",
       " (0.0033253184625172466, 'Quantity'),\n",
       " (0.0018679069027254744, 'Friday'),\n",
       " (0.001557768384968039, 'week2'),\n",
       " (0.0007174881703392653, 'CustomerID'),\n",
       " (0.0006656599561963414, 'Thursday'),\n",
       " (0.0005580063464429727, 'Monday'),\n",
       " (0.0005085522812178416, 'A'),\n",
       " (0.0003915678039382759, '7'),\n",
       " (0.00010646998789522072, 'week3'),\n",
       " (0.00010144356266465782, 'C'),\n",
       " (8.291297782640816e-05, 'Morning'),\n",
       " (4.408637947187353e-05, '10'),\n",
       " (3.5805253154672064e-05, '14'),\n",
       " (1.4767208743299514e-05, '23'),\n",
       " (9.752663632259977e-06, 'Wednesday'),\n",
       " (9.337239436382329e-06, 'B'),\n",
       " (7.021919112946822e-06, 'Sunday'),\n",
       " (6.8565760405103035e-06, '0'),\n",
       " (6.049106753985864e-06, '2011'),\n",
       " (5.8387594344583015e-06, 'Tuesday'),\n",
       " (4.817039941555607e-06, 'Noon'),\n",
       " (3.768570073309043e-06, '19'),\n",
       " (1.1890560868356314e-06, '13'),\n",
       " (1.173757134211218e-06, '3'),\n",
       " (9.094579310944897e-07, '2010'),\n",
       " (1.799915143521495e-07, '26'),\n",
       " (1.46096416033351e-07, '30'),\n",
       " (0.0, 'Night'),\n",
       " (0.0, '9'),\n",
       " (0.0, '8'),\n",
       " (0.0, '6'),\n",
       " (0.0, '5'),\n",
       " (0.0, '4'),\n",
       " (0.0, '36'),\n",
       " (0.0, '34'),\n",
       " (0.0, '33'),\n",
       " (0.0, '32'),\n",
       " (0.0, '31'),\n",
       " (0.0, '29'),\n",
       " (0.0, '28'),\n",
       " (0.0, '27'),\n",
       " (0.0, '25'),\n",
       " (0.0, '24'),\n",
       " (0.0, '22'),\n",
       " (0.0, '21'),\n",
       " (0.0, '20'),\n",
       " (0.0, '2'),\n",
       " (0.0, '18'),\n",
       " (0.0, '17'),\n",
       " (0.0, '16'),\n",
       " (0.0, '15'),\n",
       " (0.0, '12'),\n",
       " (0.0, '11'),\n",
       " (0.0, '1')]"
      ]
     },
     "execution_count": 36,
     "metadata": {
      "tags": []
     },
     "output_type": "execute_result"
    }
   ],
   "source": [
    "import collections\n",
    "cat_encoder = full_pipeline.named_transformers_[\"cat\"]\n",
    "cat_one_hot_attribs = []\n",
    "for i in range(0,6):\n",
    "  cat_one_hot_attribs.append(list(cat_encoder.categories_[i]))\n",
    "\n",
    "def flatten(l):\n",
    "   for el in l:\n",
    "        if isinstance(el, collections.Iterable) and not isinstance(el, (str, bytes)):\n",
    "            for sub in flatten(el):\n",
    "                yield sub\n",
    "        else:\n",
    "            yield el\n",
    "\n",
    "\n",
    "cat_one_hot_attribs = list(flatten(cat_one_hot_attribs))\n",
    "\n",
    "attributes = num_attribs + cat_one_hot_attribs\n",
    "attributes = [str(i) for i in attributes]\n",
    "sorted(zip(feature_importances, attributes), reverse=True)"
   ]
  },
  {
   "cell_type": "code",
   "execution_count": null,
   "metadata": {
    "colab": {
     "base_uri": "https://localhost:8080/"
    },
    "executionInfo": {
     "elapsed": 975375,
     "status": "ok",
     "timestamp": 1605625204632,
     "user": {
      "displayName": "adrish bir",
      "photoUrl": "https://lh3.googleusercontent.com/a-/AOh14GjvnDCPOpuviVvO_227LaSth7sl8OIBxCSMqQmFO4c=s64",
      "userId": "15664726640138518444"
     },
     "user_tz": -330
    },
    "id": "jcJASlCkhg7I",
    "outputId": "7f40034a-43f1-4dbb-a8ca-372848a079ce"
   },
   "outputs": [
    {
     "name": "stdout",
     "output_type": "stream",
     "text": [
      "Scores: [ 2.44308182  3.31446037 10.3959228   2.85348327 60.676986  ]\n",
      "Mean: 15.936786853677194\n",
      "Standard deviation: 22.560862694296908\n"
     ]
    }
   ],
   "source": [
    "from sklearn.metrics import mean_squared_error\n",
    "from sklearn.ensemble import RandomForestRegressor\n",
    "from sklearn.model_selection import cross_val_score\n",
    "\n",
    "\n",
    "def display_scores(scores):\n",
    "    print(\"Scores:\", scores)\n",
    "    print(\"Mean:\", scores.mean())\n",
    "    print(\"Standard deviation:\", scores.std())\n",
    "\n",
    "rfr = rf_random.best_estimator_\n",
    "\n",
    "forest_scores = cross_val_score(rfr,X,y,\n",
    "                                scoring=\"neg_mean_squared_error\", cv=5)\n",
    "forest_rmse_scores = np.sqrt(-forest_scores)\n",
    "display_scores(forest_rmse_scores)"
   ]
  },
  {
   "cell_type": "markdown",
   "metadata": {
    "id": "4wvTQOc-uvb9"
   },
   "source": [
    "Ridge Regressor"
   ]
  },
  {
   "cell_type": "code",
   "execution_count": null,
   "metadata": {
    "colab": {
     "base_uri": "https://localhost:8080/"
    },
    "executionInfo": {
     "elapsed": 8378,
     "status": "ok",
     "timestamp": 1605626043946,
     "user": {
      "displayName": "adrish bir",
      "photoUrl": "https://lh3.googleusercontent.com/a-/AOh14GjvnDCPOpuviVvO_227LaSth7sl8OIBxCSMqQmFO4c=s64",
      "userId": "15664726640138518444"
     },
     "user_tz": -330
    },
    "id": "m9KtGZ1Wjln4",
    "outputId": "f77d6766-02c0-4fa3-c235-7931c431169b"
   },
   "outputs": [
    {
     "data": {
      "text/plain": [
       "18.121858045521286"
      ]
     },
     "execution_count": 24,
     "metadata": {
      "tags": []
     },
     "output_type": "execute_result"
    }
   ],
   "source": [
    "from sklearn.linear_model import Ridge\n",
    "\n",
    "ridge_reg = Ridge(alpha=1, solver=\"sag\", random_state=42)\n",
    "\n",
    "\n",
    "ridge_reg.fit(X_train,y_train)\n",
    "\n",
    "predictions = ridge_reg.predict(X_test)\n",
    "\n",
    "ridge_mse = mean_squared_error(y_test, predictions)\n",
    "ridge_rmse = np.sqrt(ridge_mse)\n",
    "ridge_rmse"
   ]
  },
  {
   "cell_type": "markdown",
   "metadata": {
    "id": "00FEcmXWxh4p"
   },
   "source": [
    "SGD Regressor"
   ]
  },
  {
   "cell_type": "code",
   "execution_count": null,
   "metadata": {
    "colab": {
     "base_uri": "https://localhost:8080/"
    },
    "executionInfo": {
     "elapsed": 1475,
     "status": "ok",
     "timestamp": 1605626312304,
     "user": {
      "displayName": "adrish bir",
      "photoUrl": "https://lh3.googleusercontent.com/a-/AOh14GjvnDCPOpuviVvO_227LaSth7sl8OIBxCSMqQmFO4c=s64",
      "userId": "15664726640138518444"
     },
     "user_tz": -330
    },
    "id": "Am9sGGdPuWiP",
    "outputId": "d6d43449-6943-48ca-9f50-b7887e7c1d38"
   },
   "outputs": [
    {
     "data": {
      "text/plain": [
       "3340375.9961765218"
      ]
     },
     "execution_count": 25,
     "metadata": {
      "tags": []
     },
     "output_type": "execute_result"
    }
   ],
   "source": [
    "from sklearn.linear_model import SGDRegressor\n",
    "\n",
    "sgd_reg = SGDRegressor(penalty=\"l2\", max_iter=1000, tol=1e-3, random_state=42)\n",
    "\n",
    "sgd_reg.fit(X_train,y_train)\n",
    "\n",
    "predictions = sgd_reg.predict(X_test)\n",
    "\n",
    "sgd_mse = mean_squared_error(y_test, predictions)\n",
    "sgd_rmse = np.sqrt(sgd_mse)\n",
    "sgd_rmse"
   ]
  },
  {
   "cell_type": "markdown",
   "metadata": {
    "id": "AEc2Ce2LyWj7"
   },
   "source": [
    "Lasso Regression"
   ]
  },
  {
   "cell_type": "code",
   "execution_count": null,
   "metadata": {
    "colab": {
     "base_uri": "https://localhost:8080/"
    },
    "executionInfo": {
     "elapsed": 963,
     "status": "ok",
     "timestamp": 1605626448396,
     "user": {
      "displayName": "adrish bir",
      "photoUrl": "https://lh3.googleusercontent.com/a-/AOh14GjvnDCPOpuviVvO_227LaSth7sl8OIBxCSMqQmFO4c=s64",
      "userId": "15664726640138518444"
     },
     "user_tz": -330
    },
    "id": "AISD2_91yTAc",
    "outputId": "b575376e-2943-4836-ba90-9cd1c73cb99b"
   },
   "outputs": [
    {
     "data": {
      "text/plain": [
       "18.064142245272322"
      ]
     },
     "execution_count": 26,
     "metadata": {
      "tags": []
     },
     "output_type": "execute_result"
    }
   ],
   "source": [
    "from sklearn.linear_model import Lasso\n",
    "\n",
    "lasso_reg = Lasso(alpha=0.1)\n",
    "\n",
    "lasso_reg.fit(X_train,y_train)\n",
    "\n",
    "predictions = lasso_reg.predict(X_test)\n",
    "\n",
    "lasso_mse = mean_squared_error(y_test, predictions)\n",
    "lasso_rmse = np.sqrt(lasso_mse)\n",
    "lasso_rmse"
   ]
  },
  {
   "cell_type": "markdown",
   "metadata": {
    "id": "QA2wA-nty4cW"
   },
   "source": [
    "Elastic Net"
   ]
  },
  {
   "cell_type": "code",
   "execution_count": null,
   "metadata": {
    "colab": {
     "base_uri": "https://localhost:8080/"
    },
    "executionInfo": {
     "elapsed": 1122,
     "status": "ok",
     "timestamp": 1605626562362,
     "user": {
      "displayName": "adrish bir",
      "photoUrl": "https://lh3.googleusercontent.com/a-/AOh14GjvnDCPOpuviVvO_227LaSth7sl8OIBxCSMqQmFO4c=s64",
      "userId": "15664726640138518444"
     },
     "user_tz": -330
    },
    "id": "UwbGaUngy0XH",
    "outputId": "5e9a96a3-48b6-4484-bb5b-ac991a1e7634"
   },
   "outputs": [
    {
     "data": {
      "text/plain": [
       "18.069763023572886"
      ]
     },
     "execution_count": 29,
     "metadata": {
      "tags": []
     },
     "output_type": "execute_result"
    }
   ],
   "source": [
    "from sklearn.linear_model import ElasticNet\n",
    "elastic_reg = ElasticNet(alpha=0.1, l1_ratio=0.5, random_state=42)\n",
    "\n",
    "elastic_reg.fit(X_train,y_train)\n",
    "\n",
    "predictions = elastic_reg.predict(X_test)\n",
    "\n",
    "Elastic_mse = mean_squared_error(y_test, predictions)\n",
    "Elastic_rmse = np.sqrt(Elastic_mse)\n",
    "Elastic_rmse"
   ]
  },
  {
   "cell_type": "markdown",
   "metadata": {
    "id": "pfvMj8z00k0C"
   },
   "source": [
    "Decision tree"
   ]
  },
  {
   "cell_type": "code",
   "execution_count": null,
   "metadata": {
    "colab": {
     "base_uri": "https://localhost:8080/"
    },
    "executionInfo": {
     "elapsed": 3170,
     "status": "ok",
     "timestamp": 1605809721108,
     "user": {
      "displayName": "adrish bir",
      "photoUrl": "https://lh3.googleusercontent.com/a-/AOh14GjvnDCPOpuviVvO_227LaSth7sl8OIBxCSMqQmFO4c=s64",
      "userId": "15664726640138518444"
     },
     "user_tz": -330
    },
    "id": "goIXqGV0zIQA",
    "outputId": "e4b39f07-2d83-4eb3-dcfd-43860e36c29f"
   },
   "outputs": [
    {
     "data": {
      "text/plain": [
       "17.408599425771413"
      ]
     },
     "execution_count": 43,
     "metadata": {
      "tags": []
     },
     "output_type": "execute_result"
    }
   ],
   "source": [
    "from sklearn.metrics import mean_squared_error\n",
    "from sklearn.tree import DecisionTreeRegressor\n",
    "\n",
    "tree_reg = DecisionTreeRegressor( max_depth=4,\n",
    " max_features=None, max_leaf_nodes=None,\n",
    " min_impurity_split=1e-07, min_samples_leaf=1,\n",
    " min_samples_split=2, min_weight_fraction_leaf=0.0,\n",
    " presort=False, random_state=None)\n",
    "\n",
    "tree_reg.fit(X_train,y_train)\n",
    "\n",
    "predictions = tree_reg.predict(X_test)\n",
    "tree_mse = mean_squared_error(y_test, predictions)\n",
    "tree_rmse = np.sqrt(tree_mse)\n",
    "tree_rmse"
   ]
  },
  {
   "cell_type": "code",
   "execution_count": null,
   "metadata": {
    "colab": {
     "base_uri": "https://localhost:8080/"
    },
    "executionInfo": {
     "elapsed": 1115,
     "status": "ok",
     "timestamp": 1605810983721,
     "user": {
      "displayName": "adrish bir",
      "photoUrl": "https://lh3.googleusercontent.com/a-/AOh14GjvnDCPOpuviVvO_227LaSth7sl8OIBxCSMqQmFO4c=s64",
      "userId": "15664726640138518444"
     },
     "user_tz": -330
    },
    "id": "9ynpyr7qwvZ4",
    "outputId": "70e7907c-18c1-4706-d623-c65175dc5242"
   },
   "outputs": [
    {
     "name": "stdout",
     "output_type": "stream",
     "text": [
      "8.068861192879995\n"
     ]
    }
   ],
   "source": [
    "tree_reg = DecisionTreeRegressor( max_depth=4,\n",
    "max_features='auto', max_leaf_nodes=None,\n",
    "min_impurity_split=1e-07, min_samples_leaf=1,\n",
    "min_samples_split=2, min_weight_fraction_leaf=0.0,\n",
    "presort=False, random_state=None)\n",
    "tree_reg.fit(X_train,y_train)\n",
    "predictions = tree_reg.predict(X_test)\n",
    "tree_mse = mean_squared_error(y_test, predictions)\n",
    "tree_rmse = np.sqrt(tree_mse)\n",
    "print(tree_rmse)"
   ]
  },
  {
   "cell_type": "code",
   "execution_count": null,
   "metadata": {
    "colab": {
     "base_uri": "https://localhost:8080/"
    },
    "executionInfo": {
     "elapsed": 1050,
     "status": "ok",
     "timestamp": 1605811355188,
     "user": {
      "displayName": "adrish bir",
      "photoUrl": "https://lh3.googleusercontent.com/a-/AOh14GjvnDCPOpuviVvO_227LaSth7sl8OIBxCSMqQmFO4c=s64",
      "userId": "15664726640138518444"
     },
     "user_tz": -330
    },
    "id": "_j7cOxBFuJ3L",
    "outputId": "324bc91c-6239-4d59-ffb2-3766ea70f499"
   },
   "outputs": [
    {
     "name": "stdout",
     "output_type": "stream",
     "text": [
      "0.1 8.068861192879995\n",
      "0.325 8.068861192879995\n",
      "0.55 8.068861192879995\n",
      "0.775 8.068861192879995\n",
      "1.0 8.068861192879995\n"
     ]
    }
   ],
   "source": [
    "min_samples_leafs = np.linspace(0.1, 1, 5, endpoint=True)\n",
    "\n",
    "for min_samples_leaf in min_samples_leafs:\n",
    "   tree_reg = DecisionTreeRegressor( max_depth=4,\n",
    "   max_features='auto', max_leaf_nodes=None,\n",
    "   min_impurity_split=1e-07, min_samples_leaf=1,\n",
    "   min_samples_split=2, min_weight_fraction_leaf=0.0,\n",
    "   presort=False, random_state=None)\n",
    "   tree_reg.fit(X_train,y_train)\n",
    "   predictions = tree_reg.predict(X_test)\n",
    "   tree_mse = mean_squared_error(y_test, predictions)\n",
    "   tree_rmse = np.sqrt(tree_mse)\n",
    "   print(min_samples_leaf,tree_rmse)"
   ]
  },
  {
   "cell_type": "markdown",
   "metadata": {
    "id": "c-ki6aOS0m_f"
   },
   "source": [
    "Random Forest"
   ]
  },
  {
   "cell_type": "code",
   "execution_count": null,
   "metadata": {
    "colab": {
     "base_uri": "https://localhost:8080/"
    },
    "executionInfo": {
     "elapsed": 113104,
     "status": "ok",
     "timestamp": 1605803226075,
     "user": {
      "displayName": "adrish bir",
      "photoUrl": "https://lh3.googleusercontent.com/a-/AOh14GjvnDCPOpuviVvO_227LaSth7sl8OIBxCSMqQmFO4c=s64",
      "userId": "15664726640138518444"
     },
     "user_tz": -330
    },
    "id": "MSL3_vAOzkTZ",
    "outputId": "6ab4bd35-c2b4-41b7-f87c-3a91cdeabb8b"
   },
   "outputs": [
    {
     "data": {
      "text/plain": [
       "21.390881663977012"
      ]
     },
     "execution_count": 21,
     "metadata": {
      "tags": []
     },
     "output_type": "execute_result"
    }
   ],
   "source": [
    "from sklearn.ensemble import RandomForestRegressor\n",
    "\n",
    "rfr = rf_random.best_estimator_\n",
    "\n",
    "rfr.fit(X_train,y_train)\n",
    "\n",
    "predictions = rfr.predict(X_test)\n",
    "rfr_mse = mean_squared_error(y_test, predictions)\n",
    "rfr_rmse = np.sqrt(rfr_mse)\n",
    "rfr_rmse"
   ]
  },
  {
   "cell_type": "markdown",
   "metadata": {
    "id": "VYLRy-hL1gWf"
   },
   "source": [
    "Support vector regression"
   ]
  },
  {
   "cell_type": "code",
   "execution_count": null,
   "metadata": {
    "colab": {
     "base_uri": "https://localhost:8080/"
    },
    "executionInfo": {
     "elapsed": 118720,
     "status": "ok",
     "timestamp": 1605627264953,
     "user": {
      "displayName": "adrish bir",
      "photoUrl": "https://lh3.googleusercontent.com/a-/AOh14GjvnDCPOpuviVvO_227LaSth7sl8OIBxCSMqQmFO4c=s64",
      "userId": "15664726640138518444"
     },
     "user_tz": -330
    },
    "id": "hgt1O3JAz86x",
    "outputId": "396371bf-c897-4904-e0e6-259f5b5a458a"
   },
   "outputs": [
    {
     "data": {
      "text/plain": [
       "18.134741108758785"
      ]
     },
     "execution_count": 33,
     "metadata": {
      "tags": []
     },
     "output_type": "execute_result"
    }
   ],
   "source": [
    "from sklearn.svm import SVR\n",
    "\n",
    "svr = SVR(kernel=\"linear\",C=1.0, epsilon=0.2)\n",
    "\n",
    "svr.fit(X_train,y_train)\n",
    "\n",
    "predictions = svr.predict(X_test)\n",
    "svr_mse = mean_squared_error(y_test, predictions)\n",
    "svr_rmse = np.sqrt(svr_mse)\n",
    "svr_rmse"
   ]
  },
  {
   "cell_type": "markdown",
   "metadata": {
    "id": "056Wom-c15ZS"
   },
   "source": [
    "KNN Regressor"
   ]
  },
  {
   "cell_type": "code",
   "execution_count": null,
   "metadata": {
    "colab": {
     "base_uri": "https://localhost:8080/"
    },
    "executionInfo": {
     "elapsed": 2733464,
     "status": "ok",
     "timestamp": 1605630261997,
     "user": {
      "displayName": "adrish bir",
      "photoUrl": "https://lh3.googleusercontent.com/a-/AOh14GjvnDCPOpuviVvO_227LaSth7sl8OIBxCSMqQmFO4c=s64",
      "userId": "15664726640138518444"
     },
     "user_tz": -330
    },
    "id": "hj8CQ7QZ1e-S",
    "outputId": "c741b4f5-6853-4f41-8879-8121f75b0a3f"
   },
   "outputs": [
    {
     "name": "stdout",
     "output_type": "stream",
     "text": [
      "At K = 1  Score is 0.9449301118872662 & RMSE is 20.538312635539928\n",
      "At K = 2  Score is 0.9724650559436331 & RMSE is 19.90775299047464\n",
      "At K = 3  Score is 0.9724650559436331 & RMSE is 19.121223818920033\n",
      "At K = 4  Score is 0.9724650559436331 & RMSE is 18.920654217124167\n",
      "At K = 5  Score is 0.9724650559436331 & RMSE is 18.70781777568593\n",
      "At K = 6  Score is 0.9724650559436331 & RMSE is 18.54538495422302\n",
      "At K = 7  Score is 0.9724650559436331 & RMSE is 19.06764617516058\n",
      "At K = 8  Score is 0.9724650559436331 & RMSE is 18.980159064535105\n",
      "At K = 9  Score is 0.9724650559436331 & RMSE is 18.844640149612484\n",
      "At K = 10  Score is 0.9724650559436331 & RMSE is 18.76930481695501\n",
      "At K = 11  Score is 0.9724650559436331 & RMSE is 18.6769650242605\n",
      "At K = 12  Score is 0.9724650559436331 & RMSE is 18.59954010034351\n",
      "At K = 13  Score is 0.9724650559436331 & RMSE is 18.540757653286118\n",
      "At K = 14  Score is 0.9724650559436331 & RMSE is 18.494335500390896\n",
      "At K = 15  Score is 0.9724650559436331 & RMSE is 18.459665431315535\n",
      "At K = 16  Score is 0.9724650559436331 & RMSE is 18.42344941732646\n",
      "At K = 17  Score is 0.9724650559436331 & RMSE is 18.392725647090995\n",
      "At K = 18  Score is 0.9724650559436331 & RMSE is 18.365382076240664\n",
      "At K = 19  Score is 0.9724650559436331 & RMSE is 18.34037107209813\n",
      "At K = 2, Max Accuracy = 97.24650559436331\n"
     ]
    }
   ],
   "source": [
    "# Using K_Nearest neighbour regressor\n",
    "# running for different K values to know which yields the max accuracy.\n",
    "from sklearn.neighbors import KNeighborsRegressor\n",
    "score = []\n",
    "for k in range(1,20):    \n",
    "    clf = KNeighborsRegressor(n_neighbors = k,  weights = 'distance', p=1)\n",
    "    clf.fit(X_train, y_train)\n",
    "    y_pred = clf.predict(X_test)\n",
    "    print(\"At K = {}  Score is {} & RMSE is {}\".format(k,clf.score(X_train,y_train),np.sqrt(mean_squared_error(y_test,y_pred))))\n",
    "    score.append(clf.score(X_train,y_train))\n",
    "k_max = score.index(max(score))+1\n",
    "print( \"At K = {}, Max Accuracy = {}\".format(k_max, max(score)*100))"
   ]
  },
  {
   "cell_type": "markdown",
   "metadata": {
    "id": "QTWjSDuSBOSh"
   },
   "source": [
    "HistGradientBoostingRegressor"
   ]
  },
  {
   "cell_type": "code",
   "execution_count": null,
   "metadata": {
    "colab": {
     "base_uri": "https://localhost:8080/"
    },
    "executionInfo": {
     "elapsed": 3166,
     "status": "ok",
     "timestamp": 1605630360616,
     "user": {
      "displayName": "adrish bir",
      "photoUrl": "https://lh3.googleusercontent.com/a-/AOh14GjvnDCPOpuviVvO_227LaSth7sl8OIBxCSMqQmFO4c=s64",
      "userId": "15664726640138518444"
     },
     "user_tz": -330
    },
    "id": "4qYVbG8o28TM",
    "outputId": "71d02643-75c5-485d-f785-b1040cd06c3d"
   },
   "outputs": [
    {
     "data": {
      "text/plain": [
       "18.590288133438765"
      ]
     },
     "execution_count": 37,
     "metadata": {
      "tags": []
     },
     "output_type": "execute_result"
    }
   ],
   "source": [
    "# To use this experimental feature, we need to explicitly ask for it:\n",
    ">>> from sklearn.experimental import enable_hist_gradient_boosting  # noqa\n",
    ">>> from sklearn.ensemble import HistGradientBoostingRegressor\n",
    "\n",
    "est = HistGradientBoostingRegressor()\n",
    "\n",
    "X_train = X_train.toarray()\n",
    "X_test = X_test.toarray()\n",
    "\n",
    "est.fit(X_train,y_train)\n",
    "\n",
    "predictions = est.predict(X_test)\n",
    "est_mse = mean_squared_error(y_test, predictions)\n",
    "est_rmse = np.sqrt(est_mse)\n",
    "est_rmse\n"
   ]
  },
  {
   "cell_type": "code",
   "execution_count": null,
   "metadata": {
    "colab": {
     "base_uri": "https://localhost:8080/"
    },
    "executionInfo": {
     "elapsed": 18256,
     "status": "ok",
     "timestamp": 1605633277287,
     "user": {
      "displayName": "adrish bir",
      "photoUrl": "https://lh3.googleusercontent.com/a-/AOh14GjvnDCPOpuviVvO_227LaSth7sl8OIBxCSMqQmFO4c=s64",
      "userId": "15664726640138518444"
     },
     "user_tz": -330
    },
    "id": "--_xBdlEBdfr",
    "outputId": "1a852f87-962b-4446-a243-807a3ce57bbd"
   },
   "outputs": [
    {
     "name": "stdout",
     "output_type": "stream",
     "text": [
      "(39968, 22)\n",
      "29.301466410962615\n"
     ]
    }
   ],
   "source": [
    "df2 = df.copy()\n",
    "\n",
    "from sklearn.pipeline import Pipeline\n",
    "from sklearn.preprocessing import StandardScaler\n",
    "from sklearn.compose import ColumnTransformer\n",
    "from sklearn.preprocessing import OneHotEncoder\n",
    "\n",
    "\n",
    "num_attribs = ['StockCode','Quantity','Description','CustomerID','Country']\n",
    "cat_attribs = [ 'Weekday','Timelight','Year','Month','Day']\n",
    "\n",
    "full_pipeline2 = ColumnTransformer([\n",
    "        (\"num\", StandardScaler(), num_attribs),\n",
    "        (\"cat\", OneHotEncoder(), cat_attribs),\n",
    "    ])\n",
    "\n",
    "\n",
    "X2= df2[['StockCode', 'Quantity', 'Country','Year','Month','Day','Weekday','Timelight','Description','CustomerID']]\n",
    "y2 = df2['UnitPrice']\n",
    "\n",
    "\n",
    "X2 = full_pipeline2.fit_transform(X2)\n",
    "print(X2.shape)\n",
    "\n",
    "from sklearn.model_selection import train_test_split\n",
    "X_train2, X_test2, y_train2, y_test2 = train_test_split(X2,y2, test_size=0.25, random_state=None)\n",
    "\n",
    "rfr2 = RandomForestRegressor(n_estimators=100, random_state=56)\n",
    "\n",
    "rfr2.fit(X_train2,y_train2)\n",
    "\n",
    "predictions = rfr2.predict(X_test2)\n",
    "rfr_mse = mean_squared_error(y_test2, predictions)\n",
    "rfr_rmse = np.sqrt(rfr_mse)\n",
    "print(rfr_rmse)"
   ]
  },
  {
   "cell_type": "markdown",
   "metadata": {
    "id": "7jJiFnv7yJG6"
   },
   "source": [
    "XG Boosting"
   ]
  },
  {
   "cell_type": "code",
   "execution_count": null,
   "metadata": {
    "colab": {
     "base_uri": "https://localhost:8080/"
    },
    "executionInfo": {
     "elapsed": 1446,
     "status": "ok",
     "timestamp": 1605812480314,
     "user": {
      "displayName": "adrish bir",
      "photoUrl": "https://lh3.googleusercontent.com/a-/AOh14GjvnDCPOpuviVvO_227LaSth7sl8OIBxCSMqQmFO4c=s64",
      "userId": "15664726640138518444"
     },
     "user_tz": -330
    },
    "id": "X_ZMO8w7MnJI",
    "outputId": "a8c62397-30e2-4449-b5dc-339f43bccf94"
   },
   "outputs": [
    {
     "name": "stdout",
     "output_type": "stream",
     "text": [
      "[19:01:18] WARNING: /workspace/src/objective/regression_obj.cu:152: reg:linear is now deprecated in favor of reg:squarederror.\n",
      "RMSE: 12.733228\n"
     ]
    }
   ],
   "source": [
    "import xgboost as xgb\n",
    "\n",
    "#data_dmatrix = xgb.DMatrix(data=X,label=y)\n",
    "\n",
    "#from sklearn.model_selection import train_test_split\n",
    "#X_train, X_test, y_train, y_test = train_test_split(X, y, test_size=0.2, random_state=100)\n",
    "\n",
    "xg_reg = xgb.XGBRegressor(objective ='reg:linear', colsample_bytree = 0.3, learning_rate = 0.1, max_depth = 25, \n",
    "                          alpha = 10, n_estimators = 4)\n",
    "\n",
    "xg_reg.fit(X_train,y_train)\n",
    "preds = xg_reg.predict(X_test)\n",
    "\n",
    "rmse = np.sqrt(mean_squared_error(y_test, preds))\n",
    "print(\"RMSE: %f\" % (rmse))"
   ]
  },
  {
   "cell_type": "code",
   "execution_count": null,
   "metadata": {
    "colab": {
     "base_uri": "https://localhost:8080/"
    },
    "executionInfo": {
     "elapsed": 1744,
     "status": "ok",
     "timestamp": 1605793741775,
     "user": {
      "displayName": "adrish bir",
      "photoUrl": "https://lh3.googleusercontent.com/a-/AOh14GjvnDCPOpuviVvO_227LaSth7sl8OIBxCSMqQmFO4c=s64",
      "userId": "15664726640138518444"
     },
     "user_tz": -330
    },
    "id": "eplQ6gQhynOM",
    "outputId": "fba0d143-92de-4e17-81c0-aecce1529efa"
   },
   "outputs": [
    {
     "data": {
      "text/plain": [
       "[5, 10, 15, 20, 25, 30]"
      ]
     },
     "execution_count": 4,
     "metadata": {
      "tags": []
     },
     "output_type": "execute_result"
    }
   ],
   "source": [
    "import xgboost as xgb\n",
    "dtrain = xgb.DMatrix(X_train, label=y_train)\n",
    "dtest = xgb.DMatrix(X_test, label=y_test)\n",
    "\n",
    "params = {\n",
    "    # Parameters that we are going to tune.\n",
    "    'max_depth':6,\n",
    "    'min_child_weight': 1,\n",
    "    'eta':.3,\n",
    "    'subsample': 1,\n",
    "    'colsample_bytree': 1,\n",
    "    # Other parameters\n",
    "    'objective':'reg:linear',\n",
    "}\n",
    "\n",
    "params['eval_metric'] = \"rmse\"\n",
    "num_boost_round = 999\n",
    "\n",
    "model = xgb.train(\n",
    "    params,\n",
    "    dtrain,\n",
    "    num_boost_round=num_boost_round,\n",
    "    evals=[(dtest, \"Test\")],\n",
    "    early_stopping_rounds=10\n",
    ")"
   ]
  },
  {
   "cell_type": "code",
   "execution_count": null,
   "metadata": {
    "colab": {
     "base_uri": "https://localhost:8080/"
    },
    "executionInfo": {
     "elapsed": 727,
     "status": "ok",
     "timestamp": 1605793783514,
     "user": {
      "displayName": "adrish bir",
      "photoUrl": "https://lh3.googleusercontent.com/a-/AOh14GjvnDCPOpuviVvO_227LaSth7sl8OIBxCSMqQmFO4c=s64",
      "userId": "15664726640138518444"
     },
     "user_tz": -330
    },
    "id": "1Wj7Tcl3dhOv",
    "outputId": "efd4beca-e1a1-440b-a997-a31068d648f9"
   },
   "outputs": [
    {
     "data": {
      "text/plain": [
       "<scipy.stats._distn_infrastructure.rv_frozen at 0x7f465e902d68>"
      ]
     },
     "execution_count": 7,
     "metadata": {
      "tags": []
     },
     "output_type": "execute_result"
    }
   ],
   "source": [
    "from scipy.stats import randint\n",
    "x = randint(low=1, high=200)\n",
    "x"
   ]
  },
  {
   "cell_type": "code",
   "execution_count": 4,
   "metadata": {
    "colab": {
     "base_uri": "https://localhost:8080/"
    },
    "executionInfo": {
     "elapsed": 1176,
     "status": "ok",
     "timestamp": 1606052973120,
     "user": {
      "displayName": "adrish bir",
      "photoUrl": "https://lh3.googleusercontent.com/a-/AOh14GjvnDCPOpuviVvO_227LaSth7sl8OIBxCSMqQmFO4c=s64",
      "userId": "15664726640138518444"
     },
     "user_tz": -330
    },
    "id": "AVmob4vHw9kp",
    "outputId": "d8ddea37-0d41-4148-e342-f48755f593cb"
   },
   "outputs": [
    {
     "data": {
      "text/plain": [
       "numpy.ndarray"
      ]
     },
     "execution_count": 4,
     "metadata": {
      "tags": []
     },
     "output_type": "execute_result"
    }
   ],
   "source": [
    "import numpy as np\n",
    "a=np.array([1,2,3,4,5])\n",
    "type(a)"
   ]
  },
  {
   "cell_type": "code",
   "execution_count": 6,
   "metadata": {
    "executionInfo": {
     "elapsed": 1018,
     "status": "ok",
     "timestamp": 1606053003978,
     "user": {
      "displayName": "adrish bir",
      "photoUrl": "https://lh3.googleusercontent.com/a-/AOh14GjvnDCPOpuviVvO_227LaSth7sl8OIBxCSMqQmFO4c=s64",
      "userId": "15664726640138518444"
     },
     "user_tz": -330
    },
    "id": "i4z6AQ3rNrpj"
   },
   "outputs": [],
   "source": [
    "b = np.log(a)"
   ]
  },
  {
   "cell_type": "code",
   "execution_count": 7,
   "metadata": {
    "colab": {
     "base_uri": "https://localhost:8080/"
    },
    "executionInfo": {
     "elapsed": 1366,
     "status": "ok",
     "timestamp": 1606053008038,
     "user": {
      "displayName": "adrish bir",
      "photoUrl": "https://lh3.googleusercontent.com/a-/AOh14GjvnDCPOpuviVvO_227LaSth7sl8OIBxCSMqQmFO4c=s64",
      "userId": "15664726640138518444"
     },
     "user_tz": -330
    },
    "id": "vG3985n9N6Lf",
    "outputId": "ad5c170b-2d07-4446-e79f-1086024c582d"
   },
   "outputs": [
    {
     "data": {
      "text/plain": [
       "array([1., 2., 3., 4., 5.])"
      ]
     },
     "execution_count": 7,
     "metadata": {
      "tags": []
     },
     "output_type": "execute_result"
    }
   ],
   "source": [
    "np.exp(b)"
   ]
  },
  {
   "cell_type": "code",
   "execution_count": null,
   "metadata": {
    "id": "ek0DdhogOArC"
   },
   "outputs": [],
   "source": []
  }
 ],
 "metadata": {
  "colab": {
   "authorship_tag": "ABX9TyP+PV1tolae9ZNi7n7cLsPb",
   "name": "RetailPricePredictionPt3.ipynb",
   "provenance": []
  },
  "kernelspec": {
   "display_name": "Python 3",
   "language": "python",
   "name": "python3"
  },
  "language_info": {
   "codemirror_mode": {
    "name": "ipython",
    "version": 3
   },
   "file_extension": ".py",
   "mimetype": "text/x-python",
   "name": "python",
   "nbconvert_exporter": "python",
   "pygments_lexer": "ipython3",
   "version": "3.8.3"
  }
 },
 "nbformat": 4,
 "nbformat_minor": 1
}
