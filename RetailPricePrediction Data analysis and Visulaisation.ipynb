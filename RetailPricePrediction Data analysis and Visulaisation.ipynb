{
 "cells": [
  {
   "cell_type": "code",
   "execution_count": 2,
   "metadata": {
    "executionInfo": {
     "elapsed": 2068,
     "status": "ok",
     "timestamp": 1605090113888,
     "user": {
      "displayName": "adrish bir",
      "photoUrl": "https://lh3.googleusercontent.com/a-/AOh14GjvnDCPOpuviVvO_227LaSth7sl8OIBxCSMqQmFO4c=s64",
      "userId": "15664726640138518444"
     },
     "user_tz": -330
    },
    "id": "GOPQ0RVNInt8"
   },
   "outputs": [],
   "source": [
    "import numpy as np\n",
    "import pandas as pd\n",
    "import matplotlib.pyplot as plt\n",
    "from matplotlib import style\n",
    "import seaborn as sns\n",
    "%matplotlib inline\n",
    "import datetime"
   ]
  },
  {
   "cell_type": "code",
   "execution_count": 4,
   "metadata": {
    "colab": {
     "base_uri": "https://localhost:8080/"
    },
    "executionInfo": {
     "elapsed": 52963,
     "status": "ok",
     "timestamp": 1605090180372,
     "user": {
      "displayName": "adrish bir",
      "photoUrl": "https://lh3.googleusercontent.com/a-/AOh14GjvnDCPOpuviVvO_227LaSth7sl8OIBxCSMqQmFO4c=s64",
      "userId": "15664726640138518444"
     },
     "user_tz": -330
    },
    "id": "mIp-yCE-Llzc",
    "outputId": "ad010fc9-c451-4051-91a6-c59ec35b038a"
   },
   "outputs": [
    {
     "name": "stdout",
     "output_type": "stream",
     "text": [
      "Mounted at /content/gdrive\n"
     ]
    }
   ],
   "source": [
    "from google.colab import drive\n",
    "drive.mount('/content/gdrive')"
   ]
  },
  {
   "cell_type": "code",
   "execution_count": null,
   "metadata": {
    "colab": {
     "base_uri": "https://localhost:8080/"
    },
    "executionInfo": {
     "elapsed": 32473,
     "status": "ok",
     "timestamp": 1604933773041,
     "user": {
      "displayName": "adrish bir",
      "photoUrl": "https://lh3.googleusercontent.com/a-/AOh14GjvnDCPOpuviVvO_227LaSth7sl8OIBxCSMqQmFO4c=s64",
      "userId": "15664726640138518444"
     },
     "user_tz": -330
    },
    "id": "MQbv6rV0KMl4",
    "outputId": "7b8d0078-44ef-4b0c-dae0-1b3b1ee219ee"
   },
   "outputs": [
    {
     "name": "stdout",
     "output_type": "stream",
     "text": [
      "Datasets  RetailPricePrediction.ipynb  Untitled1.ipynb\tUntitled2.ipynb\n"
     ]
    }
   ],
   "source": [
    "!ls '/content/gdrive/My Drive/Colab Notebooks/'"
   ]
  },
  {
   "cell_type": "code",
   "execution_count": 6,
   "metadata": {
    "colab": {
     "base_uri": "https://localhost:8080/",
     "height": 206
    },
    "executionInfo": {
     "elapsed": 2478,
     "status": "ok",
     "timestamp": 1605090270600,
     "user": {
      "displayName": "adrish bir",
      "photoUrl": "https://lh3.googleusercontent.com/a-/AOh14GjvnDCPOpuviVvO_227LaSth7sl8OIBxCSMqQmFO4c=s64",
      "userId": "15664726640138518444"
     },
     "user_tz": -330
    },
    "id": "Mxpfn41rJblE",
    "outputId": "b984db4c-bd88-457f-dbc9-7cae8e4201bd"
   },
   "outputs": [
    {
     "data": {
      "text/html": [
       "<div>\n",
       "<style scoped>\n",
       "    .dataframe tbody tr th:only-of-type {\n",
       "        vertical-align: middle;\n",
       "    }\n",
       "\n",
       "    .dataframe tbody tr th {\n",
       "        vertical-align: top;\n",
       "    }\n",
       "\n",
       "    .dataframe thead th {\n",
       "        text-align: right;\n",
       "    }\n",
       "</style>\n",
       "<table border=\"1\" class=\"dataframe\">\n",
       "  <thead>\n",
       "    <tr style=\"text-align: right;\">\n",
       "      <th></th>\n",
       "      <th>InvoiceNo</th>\n",
       "      <th>StockCode</th>\n",
       "      <th>Description</th>\n",
       "      <th>Quantity</th>\n",
       "      <th>InvoiceDate</th>\n",
       "      <th>UnitPrice</th>\n",
       "      <th>CustomerID</th>\n",
       "      <th>Country</th>\n",
       "    </tr>\n",
       "  </thead>\n",
       "  <tbody>\n",
       "    <tr>\n",
       "      <th>0</th>\n",
       "      <td>6141</td>\n",
       "      <td>1583</td>\n",
       "      <td>144</td>\n",
       "      <td>3</td>\n",
       "      <td>2011-05-06 16:54:00</td>\n",
       "      <td>3.75</td>\n",
       "      <td>14056.0</td>\n",
       "      <td>35</td>\n",
       "    </tr>\n",
       "    <tr>\n",
       "      <th>1</th>\n",
       "      <td>6349</td>\n",
       "      <td>1300</td>\n",
       "      <td>3682</td>\n",
       "      <td>6</td>\n",
       "      <td>2011-05-11 07:35:00</td>\n",
       "      <td>1.95</td>\n",
       "      <td>13098.0</td>\n",
       "      <td>35</td>\n",
       "    </tr>\n",
       "    <tr>\n",
       "      <th>2</th>\n",
       "      <td>16783</td>\n",
       "      <td>2178</td>\n",
       "      <td>1939</td>\n",
       "      <td>4</td>\n",
       "      <td>2011-11-20 13:20:00</td>\n",
       "      <td>5.95</td>\n",
       "      <td>15044.0</td>\n",
       "      <td>35</td>\n",
       "    </tr>\n",
       "    <tr>\n",
       "      <th>3</th>\n",
       "      <td>16971</td>\n",
       "      <td>2115</td>\n",
       "      <td>2983</td>\n",
       "      <td>1</td>\n",
       "      <td>2011-11-22 12:07:00</td>\n",
       "      <td>0.83</td>\n",
       "      <td>15525.0</td>\n",
       "      <td>35</td>\n",
       "    </tr>\n",
       "    <tr>\n",
       "      <th>4</th>\n",
       "      <td>6080</td>\n",
       "      <td>1210</td>\n",
       "      <td>2886</td>\n",
       "      <td>12</td>\n",
       "      <td>2011-05-06 09:00:00</td>\n",
       "      <td>1.65</td>\n",
       "      <td>13952.0</td>\n",
       "      <td>35</td>\n",
       "    </tr>\n",
       "  </tbody>\n",
       "</table>\n",
       "</div>"
      ],
      "text/plain": [
       "   InvoiceNo  StockCode  Description  ...  UnitPrice CustomerID  Country\n",
       "0       6141       1583          144  ...       3.75    14056.0       35\n",
       "1       6349       1300         3682  ...       1.95    13098.0       35\n",
       "2      16783       2178         1939  ...       5.95    15044.0       35\n",
       "3      16971       2115         2983  ...       0.83    15525.0       35\n",
       "4       6080       1210         2886  ...       1.65    13952.0       35\n",
       "\n",
       "[5 rows x 8 columns]"
      ]
     },
     "execution_count": 6,
     "metadata": {
      "tags": []
     },
     "output_type": "execute_result"
    }
   ],
   "source": [
    "Data_dir = '/content/gdrive/My Drive/Colab Notebooks/Datasets/MahineHack - Retail Price Prediction/'\n",
    "df = pd.read_csv(Data_dir+ 'Train.csv')\n",
    "test_data = pd.read_csv(Data_dir + 'Test.csv')\n",
    "df.head()"
   ]
  },
  {
   "cell_type": "code",
   "execution_count": 7,
   "metadata": {
    "executionInfo": {
     "elapsed": 4047,
     "status": "ok",
     "timestamp": 1605090277934,
     "user": {
      "displayName": "adrish bir",
      "photoUrl": "https://lh3.googleusercontent.com/a-/AOh14GjvnDCPOpuviVvO_227LaSth7sl8OIBxCSMqQmFO4c=s64",
      "userId": "15664726640138518444"
     },
     "user_tz": -330
    },
    "id": "wR5hVhaNMxEe"
   },
   "outputs": [],
   "source": [
    "def df_trans(train):\n",
    "  train['Date'] = train['InvoiceDate'].apply(lambda x: x.split(' ')[0])\n",
    "  train['InvoiceDate'] = pd.to_datetime(train['InvoiceDate'])\n",
    "  train['Year'] = train['InvoiceDate'].dt.year\n",
    "  train['Month'] = train['InvoiceDate'].dt.month\n",
    "  train['Day'] = train['InvoiceDate'].dt.day\n",
    "  train['Time'] = train['InvoiceDate'].dt.time \n",
    "  train['Timelight'] = train['Time'].apply(lambda x : 'Morning' if 6<=x.hour<12 else ('Noon' if 12<=x.hour<18 else 'Night' ))\n",
    "  day_name= ['Monday', 'Tuesday', 'Wednesday', 'Thursday', 'Friday', 'Saturday','Sunday']\n",
    "  train['Weekday'] = train['Date'].apply(lambda x: day_name[datetime.datetime.strptime(x, '%Y-%m-%d').weekday()])\n",
    "  train1 = train.copy()\n",
    "  train1.drop(['InvoiceDate','Time'],axis = 1,inplace=True)\n",
    "  #train['Quantity'] = abs(train['Quantity']))\n",
    "  return train1\n",
    "\n",
    "df1 = df_trans(df)"
   ]
  },
  {
   "cell_type": "code",
   "execution_count": null,
   "metadata": {
    "colab": {
     "base_uri": "https://localhost:8080/",
     "height": 320
    },
    "executionInfo": {
     "elapsed": 36821,
     "status": "ok",
     "timestamp": 1604933777433,
     "user": {
      "displayName": "adrish bir",
      "photoUrl": "https://lh3.googleusercontent.com/a-/AOh14GjvnDCPOpuviVvO_227LaSth7sl8OIBxCSMqQmFO4c=s64",
      "userId": "15664726640138518444"
     },
     "user_tz": -330
    },
    "id": "0HnON9oZb4-J",
    "outputId": "42be13a8-5e50-403c-e5c2-5881e3e6ef2f"
   },
   "outputs": [
    {
     "data": {
      "text/html": [
       "<div>\n",
       "<style scoped>\n",
       "    .dataframe tbody tr th:only-of-type {\n",
       "        vertical-align: middle;\n",
       "    }\n",
       "\n",
       "    .dataframe tbody tr th {\n",
       "        vertical-align: top;\n",
       "    }\n",
       "\n",
       "    .dataframe thead th {\n",
       "        text-align: right;\n",
       "    }\n",
       "</style>\n",
       "<table border=\"1\" class=\"dataframe\">\n",
       "  <thead>\n",
       "    <tr style=\"text-align: right;\">\n",
       "      <th></th>\n",
       "      <th>InvoiceNo</th>\n",
       "      <th>StockCode</th>\n",
       "      <th>Description</th>\n",
       "      <th>Quantity</th>\n",
       "      <th>UnitPrice</th>\n",
       "      <th>CustomerID</th>\n",
       "      <th>Country</th>\n",
       "      <th>Year</th>\n",
       "      <th>Month</th>\n",
       "      <th>Day</th>\n",
       "    </tr>\n",
       "  </thead>\n",
       "  <tbody>\n",
       "    <tr>\n",
       "      <th>count</th>\n",
       "      <td>284780.000000</td>\n",
       "      <td>284780.000000</td>\n",
       "      <td>284780.000000</td>\n",
       "      <td>284780.000000</td>\n",
       "      <td>284780.000000</td>\n",
       "      <td>284780.000000</td>\n",
       "      <td>284780.000000</td>\n",
       "      <td>284780.000000</td>\n",
       "      <td>284780.000000</td>\n",
       "      <td>284780.000000</td>\n",
       "    </tr>\n",
       "    <tr>\n",
       "      <th>mean</th>\n",
       "      <td>9955.394083</td>\n",
       "      <td>1573.386807</td>\n",
       "      <td>2023.955573</td>\n",
       "      <td>12.028468</td>\n",
       "      <td>3.451216</td>\n",
       "      <td>15288.224278</td>\n",
       "      <td>32.823846</td>\n",
       "      <td>2010.933910</td>\n",
       "      <td>7.612922</td>\n",
       "      <td>15.030318</td>\n",
       "    </tr>\n",
       "    <tr>\n",
       "      <th>std</th>\n",
       "      <td>5551.519138</td>\n",
       "      <td>843.604991</td>\n",
       "      <td>1089.812078</td>\n",
       "      <td>295.111588</td>\n",
       "      <td>78.399541</td>\n",
       "      <td>1714.336529</td>\n",
       "      <td>6.743602</td>\n",
       "      <td>0.248439</td>\n",
       "      <td>3.415785</td>\n",
       "      <td>8.652114</td>\n",
       "    </tr>\n",
       "    <tr>\n",
       "      <th>min</th>\n",
       "      <td>0.000000</td>\n",
       "      <td>0.000000</td>\n",
       "      <td>0.000000</td>\n",
       "      <td>-80995.000000</td>\n",
       "      <td>0.000000</td>\n",
       "      <td>12346.000000</td>\n",
       "      <td>0.000000</td>\n",
       "      <td>2010.000000</td>\n",
       "      <td>1.000000</td>\n",
       "      <td>1.000000</td>\n",
       "    </tr>\n",
       "    <tr>\n",
       "      <th>25%</th>\n",
       "      <td>5069.000000</td>\n",
       "      <td>939.000000</td>\n",
       "      <td>1141.000000</td>\n",
       "      <td>2.000000</td>\n",
       "      <td>1.250000</td>\n",
       "      <td>13953.000000</td>\n",
       "      <td>35.000000</td>\n",
       "      <td>2011.000000</td>\n",
       "      <td>5.000000</td>\n",
       "      <td>7.000000</td>\n",
       "    </tr>\n",
       "    <tr>\n",
       "      <th>50%</th>\n",
       "      <td>10310.000000</td>\n",
       "      <td>1521.000000</td>\n",
       "      <td>1987.000000</td>\n",
       "      <td>5.000000</td>\n",
       "      <td>1.950000</td>\n",
       "      <td>15152.000000</td>\n",
       "      <td>35.000000</td>\n",
       "      <td>2011.000000</td>\n",
       "      <td>8.000000</td>\n",
       "      <td>15.000000</td>\n",
       "    </tr>\n",
       "    <tr>\n",
       "      <th>75%</th>\n",
       "      <td>14657.000000</td>\n",
       "      <td>2106.000000</td>\n",
       "      <td>2945.000000</td>\n",
       "      <td>12.000000</td>\n",
       "      <td>3.750000</td>\n",
       "      <td>16794.000000</td>\n",
       "      <td>35.000000</td>\n",
       "      <td>2011.000000</td>\n",
       "      <td>11.000000</td>\n",
       "      <td>22.000000</td>\n",
       "    </tr>\n",
       "    <tr>\n",
       "      <th>max</th>\n",
       "      <td>22188.000000</td>\n",
       "      <td>3683.000000</td>\n",
       "      <td>3895.000000</td>\n",
       "      <td>80995.000000</td>\n",
       "      <td>38970.000000</td>\n",
       "      <td>18287.000000</td>\n",
       "      <td>36.000000</td>\n",
       "      <td>2011.000000</td>\n",
       "      <td>12.000000</td>\n",
       "      <td>31.000000</td>\n",
       "    </tr>\n",
       "  </tbody>\n",
       "</table>\n",
       "</div>"
      ],
      "text/plain": [
       "           InvoiceNo      StockCode  ...          Month            Day\n",
       "count  284780.000000  284780.000000  ...  284780.000000  284780.000000\n",
       "mean     9955.394083    1573.386807  ...       7.612922      15.030318\n",
       "std      5551.519138     843.604991  ...       3.415785       8.652114\n",
       "min         0.000000       0.000000  ...       1.000000       1.000000\n",
       "25%      5069.000000     939.000000  ...       5.000000       7.000000\n",
       "50%     10310.000000    1521.000000  ...       8.000000      15.000000\n",
       "75%     14657.000000    2106.000000  ...      11.000000      22.000000\n",
       "max     22188.000000    3683.000000  ...      12.000000      31.000000\n",
       "\n",
       "[8 rows x 10 columns]"
      ]
     },
     "execution_count": 7,
     "metadata": {
      "tags": []
     },
     "output_type": "execute_result"
    }
   ],
   "source": [
    "df1.describe()"
   ]
  },
  {
   "cell_type": "code",
   "execution_count": null,
   "metadata": {
    "colab": {
     "base_uri": "https://localhost:8080/",
     "height": 298
    },
    "executionInfo": {
     "elapsed": 36809,
     "status": "ok",
     "timestamp": 1604933777438,
     "user": {
      "displayName": "adrish bir",
      "photoUrl": "https://lh3.googleusercontent.com/a-/AOh14GjvnDCPOpuviVvO_227LaSth7sl8OIBxCSMqQmFO4c=s64",
      "userId": "15664726640138518444"
     },
     "user_tz": -330
    },
    "id": "Ssxohg40b605",
    "outputId": "1953db52-35ec-4758-ae10-4dd886cf2d6a"
   },
   "outputs": [
    {
     "data": {
      "text/plain": [
       "<matplotlib.axes._subplots.AxesSubplot at 0x7f43cd5f99b0>"
      ]
     },
     "execution_count": 8,
     "metadata": {
      "tags": []
     },
     "output_type": "execute_result"
    },
    {
     "data": {
      "image/png": "[encoded data removed]",
      "text/plain": [
       "<Figure size 432x288 with 1 Axes>"
      ]
     },
     "metadata": {
      "needs_background": "light",
      "tags": []
     },
     "output_type": "display_data"
    }
   ],
   "source": [
    "# let see count frequency based on days,months,years\n",
    "sns.countplot(x='Day',data=df1)\n",
    "# maybe shopping spree decrease towards the end of the month and increases in the beginning of month."
   ]
  },
  {
   "cell_type": "code",
   "execution_count": null,
   "metadata": {
    "colab": {
     "base_uri": "https://localhost:8080/",
     "height": 318
    },
    "executionInfo": {
     "elapsed": 36796,
     "status": "ok",
     "timestamp": 1604933777443,
     "user": {
      "displayName": "adrish bir",
      "photoUrl": "https://lh3.googleusercontent.com/a-/AOh14GjvnDCPOpuviVvO_227LaSth7sl8OIBxCSMqQmFO4c=s64",
      "userId": "15664726640138518444"
     },
     "user_tz": -330
    },
    "id": "As4TBVcqd37H",
    "outputId": "1be86b02-9380-4139-e377-f587df9124ae"
   },
   "outputs": [
    {
     "data": {
      "text/plain": [
       "(array([84319., 65222., 75313., 59926.]),\n",
       " array([ 1. ,  8.5, 16. , 23.5, 31. ]),\n",
       " <a list of 4 Patch objects>)"
      ]
     },
     "execution_count": 9,
     "metadata": {
      "tags": []
     },
     "output_type": "execute_result"
    },
    {
     "data": {
      "image/png": "[encoded data removed]",
      "text/plain": [
       "<Figure size 432x288 with 1 Axes>"
      ]
     },
     "metadata": {
      "tags": []
     },
     "output_type": "display_data"
    }
   ],
   "source": [
    "style.use('seaborn-dark')\n",
    "plt.hist(df1['Day'],bins=4,edgecolor='white')\n",
    "# So we can divide day column into 4 categories"
   ]
  },
  {
   "cell_type": "code",
   "execution_count": null,
   "metadata": {
    "colab": {
     "base_uri": "https://localhost:8080/"
    },
    "executionInfo": {
     "elapsed": 1392,
     "status": "ok",
     "timestamp": 1605019649188,
     "user": {
      "displayName": "adrish bir",
      "photoUrl": "https://lh3.googleusercontent.com/a-/AOh14GjvnDCPOpuviVvO_227LaSth7sl8OIBxCSMqQmFO4c=s64",
      "userId": "15664726640138518444"
     },
     "user_tz": -330
    },
    "id": "QPyLzfbXelM_",
    "outputId": "9bf61be5-e5b9-404f-896e-804045aec4e6"
   },
   "outputs": [
    {
     "name": "stdout",
     "output_type": "stream",
     "text": [
      "<class 'pandas.core.frame.DataFrame'>\n",
      "RangeIndex: 284780 entries, 0 to 284779\n",
      "Data columns (total 13 columns):\n",
      " #   Column       Non-Null Count   Dtype  \n",
      "---  ------       --------------   -----  \n",
      " 0   InvoiceNo    284780 non-null  int64  \n",
      " 1   StockCode    284780 non-null  int64  \n",
      " 2   Description  284780 non-null  int64  \n",
      " 3   Quantity     284780 non-null  int64  \n",
      " 4   UnitPrice    284780 non-null  float64\n",
      " 5   CustomerID   284780 non-null  float64\n",
      " 6   Country      284780 non-null  int64  \n",
      " 7   Date         284780 non-null  object \n",
      " 8   Year         284780 non-null  int64  \n",
      " 9   Month        284780 non-null  int64  \n",
      " 10  Day          284780 non-null  int64  \n",
      " 11  Timelight    284780 non-null  object \n",
      " 12  Weekday      284780 non-null  object \n",
      "dtypes: float64(2), int64(8), object(3)\n",
      "memory usage: 28.2+ MB\n"
     ]
    }
   ],
   "source": [
    "df1.info()"
   ]
  },
  {
   "cell_type": "code",
   "execution_count": null,
   "metadata": {
    "colab": {
     "base_uri": "https://localhost:8080/",
     "height": 297
    },
    "executionInfo": {
     "elapsed": 39474,
     "status": "ok",
     "timestamp": 1604933780145,
     "user": {
      "displayName": "adrish bir",
      "photoUrl": "https://lh3.googleusercontent.com/a-/AOh14GjvnDCPOpuviVvO_227LaSth7sl8OIBxCSMqQmFO4c=s64",
      "userId": "15664726640138518444"
     },
     "user_tz": -330
    },
    "id": "KpQd3RUsjGI9",
    "outputId": "224a5e35-0512-4c36-d784-bda67aa41599"
   },
   "outputs": [
    {
     "data": {
      "text/plain": [
       "<matplotlib.axes._subplots.AxesSubplot at 0x7f43cd4cc2e8>"
      ]
     },
     "execution_count": 11,
     "metadata": {
      "tags": []
     },
     "output_type": "execute_result"
    },
    {
     "data": {
      "image/png": "[encoded data removed]",
      "text/plain": [
       "<Figure size 432x288 with 1 Axes>"
      ]
     },
     "metadata": {
      "tags": []
     },
     "output_type": "display_data"
    }
   ],
   "source": [
    "#Let see frequency of buying acc to day\n",
    "sns.countplot(x='Weekday',data=df1)\n",
    "#From friday to Thursday shopping gradually increases with peak on Thursday"
   ]
  },
  {
   "cell_type": "code",
   "execution_count": null,
   "metadata": {
    "colab": {
     "base_uri": "https://localhost:8080/"
    },
    "executionInfo": {
     "elapsed": 39469,
     "status": "ok",
     "timestamp": 1604933780150,
     "user": {
      "displayName": "adrish bir",
      "photoUrl": "https://lh3.googleusercontent.com/a-/AOh14GjvnDCPOpuviVvO_227LaSth7sl8OIBxCSMqQmFO4c=s64",
      "userId": "15664726640138518444"
     },
     "user_tz": -330
    },
    "id": "YZ3Sx0Yan-RO",
    "outputId": "a24d4d20-2cee-489b-b2f7-08148249f8ad"
   },
   "outputs": [
    {
     "data": {
      "text/plain": [
       "False"
      ]
     },
     "execution_count": 12,
     "metadata": {
      "tags": []
     },
     "output_type": "execute_result"
    }
   ],
   "source": [
    "df1.Weekday.str.contains('Saturday').any()\n",
    "#there`s not a single record for saturday, maybe it`s a holiday"
   ]
  },
  {
   "cell_type": "code",
   "execution_count": null,
   "metadata": {
    "colab": {
     "base_uri": "https://localhost:8080/",
     "height": 295
    },
    "executionInfo": {
     "elapsed": 39465,
     "status": "ok",
     "timestamp": 1604933780155,
     "user": {
      "displayName": "adrish bir",
      "photoUrl": "https://lh3.googleusercontent.com/a-/AOh14GjvnDCPOpuviVvO_227LaSth7sl8OIBxCSMqQmFO4c=s64",
      "userId": "15664726640138518444"
     },
     "user_tz": -330
    },
    "id": "pyvzD8sPrM82",
    "outputId": "4989f3ee-a24d-441f-acd1-be8e07378eba"
   },
   "outputs": [
    {
     "data": {
      "text/plain": [
       "<matplotlib.axes._subplots.AxesSubplot at 0x7f43ccf71048>"
      ]
     },
     "execution_count": 13,
     "metadata": {
      "tags": []
     },
     "output_type": "execute_result"
    },
    {
     "data": {
      "image/png": "[encoded data removed]",
      "text/plain": [
       "<Figure size 432x288 with 1 Axes>"
      ]
     },
     "metadata": {
      "tags": []
     },
     "output_type": "display_data"
    }
   ],
   "source": [
    "#Let see frequency of buying acc to month\n",
    "sns.countplot(x='Month',data=df1)"
   ]
  },
  {
   "cell_type": "code",
   "execution_count": null,
   "metadata": {
    "colab": {
     "base_uri": "https://localhost:8080/",
     "height": 338
    },
    "executionInfo": {
     "elapsed": 39461,
     "status": "ok",
     "timestamp": 1604933780161,
     "user": {
      "displayName": "adrish bir",
      "photoUrl": "https://lh3.googleusercontent.com/a-/AOh14GjvnDCPOpuviVvO_227LaSth7sl8OIBxCSMqQmFO4c=s64",
      "userId": "15664726640138518444"
     },
     "user_tz": -330
    },
    "id": "yDDe3IVJsV4Q",
    "outputId": "aafe8b31-339f-469a-faf5-a67d7b476836"
   },
   "outputs": [
    {
     "data": {
      "text/plain": [
       "(array([29374., 35648., 39799., 38705., 63973., 77281.]),\n",
       " array([ 1.        ,  2.83333333,  4.66666667,  6.5       ,  8.33333333,\n",
       "        10.16666667, 12.        ]),\n",
       " <a list of 6 Patch objects>)"
      ]
     },
     "execution_count": 14,
     "metadata": {
      "tags": []
     },
     "output_type": "execute_result"
    },
    {
     "data": {
      "image/png": "[encoded data removed]",
      "text/plain": [
       "<Figure size 432x288 with 1 Axes>"
      ]
     },
     "metadata": {
      "tags": []
     },
     "output_type": "display_data"
    }
   ],
   "source": [
    "style.use('seaborn-dark')\n",
    "plt.hist(df1['Month'],bins=6,edgecolor='Black')\n",
    "#can distribute month into 6 divisions"
   ]
  },
  {
   "cell_type": "code",
   "execution_count": null,
   "metadata": {
    "id": "HxmgthMstA7A"
   },
   "outputs": [],
   "source": [
    "#lets divide time, as daylight and night\n"
   ]
  },
  {
   "cell_type": "code",
   "execution_count": null,
   "metadata": {
    "colab": {
     "base_uri": "https://localhost:8080/",
     "height": 295
    },
    "executionInfo": {
     "elapsed": 39460,
     "status": "ok",
     "timestamp": 1604933780173,
     "user": {
      "displayName": "adrish bir",
      "photoUrl": "https://lh3.googleusercontent.com/a-/AOh14GjvnDCPOpuviVvO_227LaSth7sl8OIBxCSMqQmFO4c=s64",
      "userId": "15664726640138518444"
     },
     "user_tz": -330
    },
    "id": "xQX5WQBNuIMY",
    "outputId": "9b33f570-05f1-4232-e26f-3d58506ae325"
   },
   "outputs": [
    {
     "data": {
      "text/plain": [
       "<matplotlib.axes._subplots.AxesSubplot at 0x7f43cce6bc50>"
      ]
     },
     "execution_count": 16,
     "metadata": {
      "tags": []
     },
     "output_type": "execute_result"
    },
    {
     "data": {
      "image/png": "[encoded data removed]",
      "text/plain": [
       "<Figure size 432x288 with 1 Axes>"
      ]
     },
     "metadata": {
      "tags": []
     },
     "output_type": "display_data"
    }
   ],
   "source": [
    "#Let see frequency of buying acc to month\n",
    "sns.countplot(x='Timelight',data=df1)"
   ]
  },
  {
   "cell_type": "code",
   "execution_count": null,
   "metadata": {
    "colab": {
     "base_uri": "https://localhost:8080/"
    },
    "executionInfo": {
     "elapsed": 39454,
     "status": "ok",
     "timestamp": 1604933780177,
     "user": {
      "displayName": "adrish bir",
      "photoUrl": "https://lh3.googleusercontent.com/a-/AOh14GjvnDCPOpuviVvO_227LaSth7sl8OIBxCSMqQmFO4c=s64",
      "userId": "15664726640138518444"
     },
     "user_tz": -330
    },
    "id": "wlthLpYRHJBf",
    "outputId": "c08e3dd3-b54e-4a43-e50a-e080130ab48e"
   },
   "outputs": [
    {
     "data": {
      "text/plain": [
       "35    253253\n",
       "14      6653\n",
       "13      5946\n",
       "10      5244\n",
       "30      1776\n",
       "23      1680\n",
       "3       1435\n",
       "32      1293\n",
       "26      1049\n",
       "0        883\n",
       "Name: Country, dtype: int64"
      ]
     },
     "execution_count": 17,
     "metadata": {
      "tags": []
     },
     "output_type": "execute_result"
    }
   ],
   "source": [
    "#sns.countplot(x='Country',data=df1)\n",
    "df1.Country.value_counts()[0:10]\n",
    "#Divide country into 5 segments"
   ]
  },
  {
   "cell_type": "code",
   "execution_count": null,
   "metadata": {
    "colab": {
     "base_uri": "https://localhost:8080/"
    },
    "executionInfo": {
     "elapsed": 39449,
     "status": "ok",
     "timestamp": 1604933780181,
     "user": {
      "displayName": "adrish bir",
      "photoUrl": "https://lh3.googleusercontent.com/a-/AOh14GjvnDCPOpuviVvO_227LaSth7sl8OIBxCSMqQmFO4c=s64",
      "userId": "15664726640138518444"
     },
     "user_tz": -330
    },
    "id": "wzeuIoNrJ7Uw",
    "outputId": "c4b70a75-7cf2-4f07-d020-f9ad1b025e2b"
   },
   "outputs": [
    {
     "name": "stdout",
     "output_type": "stream",
     "text": [
      "There are 37 unique countries\n",
      "There are 3819 unique Description\n",
      "There are 3619 unique StockCode\n",
      "There are 4339 unique CustomerID\n",
      "There are 20971 unique InvoiceNo\n"
     ]
    }
   ],
   "source": [
    "print(\"There are \" + str(df1.Country.nunique()) + \" unique countries\")\n",
    "print(\"There are \" + str(df1.Description.nunique()) + \" unique Description\")\n",
    "print(\"There are \" + str(df1.StockCode.nunique()) + \" unique StockCode\")\n",
    "print(\"There are \" + str(df1.CustomerID.nunique()) + \" unique CustomerID\")\n",
    "print(\"There are \" + str(df1.InvoiceNo.nunique()) + \" unique InvoiceNo\")"
   ]
  },
  {
   "cell_type": "code",
   "execution_count": null,
   "metadata": {
    "colab": {
     "base_uri": "https://localhost:8080/"
    },
    "executionInfo": {
     "elapsed": 39444,
     "status": "ok",
     "timestamp": 1604933780186,
     "user": {
      "displayName": "adrish bir",
      "photoUrl": "https://lh3.googleusercontent.com/a-/AOh14GjvnDCPOpuviVvO_227LaSth7sl8OIBxCSMqQmFO4c=s64",
      "userId": "15664726640138518444"
     },
     "user_tz": -330
    },
    "id": "nnLlC0WmUmDd",
    "outputId": "16a7e432-ecf0-445e-c252-2281876cbfdc"
   },
   "outputs": [
    {
     "data": {
      "text/plain": [
       "3249    1478\n",
       "1292    1292\n",
       "3235    1172\n",
       "3069     998\n",
       "170      997\n",
       "Name: StockCode, dtype: int64"
      ]
     },
     "execution_count": 19,
     "metadata": {
      "tags": []
     },
     "output_type": "execute_result"
    }
   ],
   "source": [
    "df1.StockCode.value_counts()[0:5]"
   ]
  },
  {
   "cell_type": "code",
   "execution_count": null,
   "metadata": {
    "colab": {
     "base_uri": "https://localhost:8080/",
     "height": 371
    },
    "executionInfo": {
     "elapsed": 39435,
     "status": "ok",
     "timestamp": 1604933780190,
     "user": {
      "displayName": "adrish bir",
      "photoUrl": "https://lh3.googleusercontent.com/a-/AOh14GjvnDCPOpuviVvO_227LaSth7sl8OIBxCSMqQmFO4c=s64",
      "userId": "15664726640138518444"
     },
     "user_tz": -330
    },
    "id": "Zy3Cb8HjLQyn",
    "outputId": "e293a38d-c54b-4a82-cd8a-e2a9d023a545"
   },
   "outputs": [
    {
     "data": {
      "text/plain": [
       "Text(0.5, 1.0, '3235-Days Histogram')"
      ]
     },
     "execution_count": 20,
     "metadata": {
      "tags": []
     },
     "output_type": "execute_result"
    },
    {
     "data": {
      "image/png": "[encoded data removed]",
      "text/plain": [
       "<Figure size 1080x360 with 2 Axes>"
      ]
     },
     "metadata": {
      "tags": []
     },
     "output_type": "display_data"
    }
   ],
   "source": [
    "# Lets see if for a same product price varies in diff countries,Months,Weekdays, try with stockcode=3249, test your deductions with stockcode=3235\n",
    "style.use('seaborn-dark')\n",
    "df_prod = df1[df1.StockCode==3249]\n",
    "#df_prod.head()\n",
    "fig, (ax1, ax2) = plt.subplots(1, 2,figsize=(15,5))\n",
    "fig.suptitle('Testing Deductions')\n",
    "ax1.hist(df_prod['Day'],bins=4,edgecolor='red')\n",
    "ax1.set_title('3249-Days Histogram')\n",
    "ax2.hist(df1[df1.StockCode==3235]['Day'],bins=4,edgecolor='red')\n",
    "ax2.set_title('3235-Days Histogram')\n",
    "# Shopping spree decreses with days, with high at month start probably due to salary"
   ]
  },
  {
   "cell_type": "code",
   "execution_count": null,
   "metadata": {
    "colab": {
     "base_uri": "https://localhost:8080/",
     "height": 371
    },
    "executionInfo": {
     "elapsed": 44362,
     "status": "ok",
     "timestamp": 1604933785131,
     "user": {
      "displayName": "adrish bir",
      "photoUrl": "https://lh3.googleusercontent.com/a-/AOh14GjvnDCPOpuviVvO_227LaSth7sl8OIBxCSMqQmFO4c=s64",
      "userId": "15664726640138518444"
     },
     "user_tz": -330
    },
    "id": "VfDCzP5VLvKq",
    "outputId": "c41d818f-872b-492d-8210-01a2516e0169"
   },
   "outputs": [
    {
     "data": {
      "text/plain": [
       "Text(0.5, 1.0, '3235-DaysvsPrice Histogram')"
      ]
     },
     "execution_count": 21,
     "metadata": {
      "tags": []
     },
     "output_type": "execute_result"
    },
    {
     "data": {
      "image/png": "[encoded data removed]",
      "text/plain": [
       "<Figure size 1080x360 with 2 Axes>"
      ]
     },
     "metadata": {
      "tags": []
     },
     "output_type": "display_data"
    }
   ],
   "source": [
    "style.use('seaborn-dark')\n",
    "df_prod1 = df1[df1.StockCode==3249]\n",
    "df_prod2 = df1[df1.StockCode==3235]\n",
    "#df_prod.head()\n",
    "fig, (ax1, ax2) = plt.subplots(1, 2,figsize=(15,5))\n",
    "fig.suptitle('Testing Deductions')\n",
    "ax1.bar(df_prod1['Day'],df_prod1['UnitPrice'],color=['red'])\n",
    "ax1.set_title('3249-DaysvsPrice Histogram')\n",
    "ax2.bar(df_prod2['Day'],df_prod2['UnitPrice'],color='blue')\n",
    "ax2.set_title('3235-DaysvsPrice Histogram')\n",
    "#Some abrupt price hikes on some days...can`t find reason yet"
   ]
  },
  {
   "cell_type": "code",
   "execution_count": 25,
   "metadata": {
    "colab": {
     "base_uri": "https://localhost:8080/",
     "height": 371
    },
    "executionInfo": {
     "elapsed": 8969,
     "status": "ok",
     "timestamp": 1605091486920,
     "user": {
      "displayName": "adrish bir",
      "photoUrl": "https://lh3.googleusercontent.com/a-/AOh14GjvnDCPOpuviVvO_227LaSth7sl8OIBxCSMqQmFO4c=s64",
      "userId": "15664726640138518444"
     },
     "user_tz": -330
    },
    "id": "uSmPNTzASr67",
    "outputId": "942159cb-89f6-40bc-ce59-3b91c2c2e445"
   },
   "outputs": [
    {
     "data": {
      "text/plain": [
       "Text(0.5, 1.0, '1292-DaysvsPrice Histogram')"
      ]
     },
     "execution_count": 25,
     "metadata": {
      "tags": []
     },
     "output_type": "execute_result"
    },
    {
     "data": {
      "image/png": "[encoded data removed]",
      "text/plain": [
       "<Figure size 1440x360 with 3 Axes>"
      ]
     },
     "metadata": {
      "tags": []
     },
     "output_type": "display_data"
    }
   ],
   "source": [
    "style.use('seaborn-dark')\n",
    "df_prod1 = df1[df1.StockCode==3249]\n",
    "df_prod2 = df1[df1.StockCode==3235]\n",
    "df_prod3 = df1[df1.StockCode==1292]\n",
    "#df_prod.head()\n",
    "fig, (ax1, ax2,ax3) = plt.subplots(1, 3,figsize=(20,5))\n",
    "fig.suptitle('Testing Deductions')\n",
    "ax1.bar(df_prod1['Weekday'],df_prod1['UnitPrice'],color=['purple'])\n",
    "ax1.set_title('3249-DaysvsPrice Histogram')\n",
    "ax2.bar(df_prod2['Weekday'],df_prod2['UnitPrice'],color=['green'])\n",
    "ax2.set_title('3235-DaysvsPrice Histogram')\n",
    "ax3.bar(df_prod3['Weekday'],df_prod3['UnitPrice'])\n",
    "ax3.set_title('1292-DaysvsPrice Histogram')\n",
    "\n",
    "#Cleary Monday is vulnerable to price hike actually price gets doubled on Monday."
   ]
  },
  {
   "cell_type": "code",
   "execution_count": null,
   "metadata": {
    "colab": {
     "base_uri": "https://localhost:8080/",
     "height": 371
    },
    "executionInfo": {
     "elapsed": 60279,
     "status": "ok",
     "timestamp": 1604933801075,
     "user": {
      "displayName": "adrish bir",
      "photoUrl": "https://lh3.googleusercontent.com/a-/AOh14GjvnDCPOpuviVvO_227LaSth7sl8OIBxCSMqQmFO4c=s64",
      "userId": "15664726640138518444"
     },
     "user_tz": -330
    },
    "id": "f6QWwIKmTuV9",
    "outputId": "8a384483-02b1-492e-815c-f41c174d2077"
   },
   "outputs": [
    {
     "data": {
      "text/plain": [
       "Text(0.5, 1.0, '1292-MonthvsPrice Histogram')"
      ]
     },
     "execution_count": 23,
     "metadata": {
      "tags": []
     },
     "output_type": "execute_result"
    },
    {
     "data": {
      "image/png": "[encoded data removed]",
      "text/plain": [
       "<Figure size 1440x360 with 3 Axes>"
      ]
     },
     "metadata": {
      "tags": []
     },
     "output_type": "display_data"
    }
   ],
   "source": [
    "style.use('seaborn-dark')\n",
    "df_prod1 = df1[df1.StockCode==3249]\n",
    "df_prod2 = df1[df1.StockCode==3235]\n",
    "df_prod3 = df1[df1.StockCode==1292]\n",
    "#df_prod.head()\n",
    "fig, (ax1, ax2,ax3) = plt.subplots(1, 3,figsize=(20,5))\n",
    "fig.suptitle('Testing Deductions')\n",
    "ax1.bar(df_prod1['Month'],df_prod1['UnitPrice'],color=['pink'])\n",
    "ax1.set_title('3249-MonthvsPrice Histogram')\n",
    "ax2.bar(df_prod2['Month'],df_prod2['UnitPrice'],color=['cyan'])\n",
    "ax2.set_title('3235-MonthvsPrice Histogram')\n",
    "ax3.bar(df_prod3['Month'],df_prod3['UnitPrice'])\n",
    "ax3.set_title('1292-MonthvsPrice Histogram')\n",
    "# they increase price due to demand in the last 4-3 months especially in oct-nov, So categorizing months in bins of 3 or 4 seems right"
   ]
  },
  {
   "cell_type": "code",
   "execution_count": null,
   "metadata": {
    "colab": {
     "base_uri": "https://localhost:8080/",
     "height": 371
    },
    "executionInfo": {
     "elapsed": 61158,
     "status": "ok",
     "timestamp": 1604933801967,
     "user": {
      "displayName": "adrish bir",
      "photoUrl": "https://lh3.googleusercontent.com/a-/AOh14GjvnDCPOpuviVvO_227LaSth7sl8OIBxCSMqQmFO4c=s64",
      "userId": "15664726640138518444"
     },
     "user_tz": -330
    },
    "id": "jjMy-wCJLJiq",
    "outputId": "3ca478f2-0430-4cde-f994-a56bedb5aa67"
   },
   "outputs": [
    {
     "data": {
      "text/plain": [
       "Text(0.5, 1.0, '1292-Month Histogram')"
      ]
     },
     "execution_count": 24,
     "metadata": {
      "tags": []
     },
     "output_type": "execute_result"
    },
    {
     "data": {
      "image/png": "[encoded data removed]",
      "text/plain": [
       "<Figure size 1440x360 with 3 Axes>"
      ]
     },
     "metadata": {
      "tags": []
     },
     "output_type": "display_data"
    }
   ],
   "source": [
    "style.use('seaborn-dark')\n",
    "df_prod = df1[df1.StockCode==3249]\n",
    "#df_prod.head()\n",
    "fig, (ax1, ax2,ax3) = plt.subplots(1, 3,figsize=(20,5))\n",
    "fig.suptitle('Testing Deductions')\n",
    "ax1.hist(df_prod['Month'],bins=4,edgecolor='black')\n",
    "ax1.set_title('3249-Month Histogram')\n",
    "ax2.hist(df1[df1.StockCode==3235]['Month'],bins=4,edgecolor='black',color='cyan')\n",
    "ax2.set_title('3235-Month Histogram')\n",
    "ax3.hist(df1[df1.StockCode==1292]['Month'],bins=4,edgecolor='black',color='purple')\n",
    "ax3.set_title('1292-Month Histogram')\n",
    "#Divide months in bins of 4"
   ]
  },
  {
   "cell_type": "code",
   "execution_count": null,
   "metadata": {
    "colab": {
     "base_uri": "https://localhost:8080/",
     "height": 371
    },
    "executionInfo": {
     "elapsed": 68564,
     "status": "ok",
     "timestamp": 1604933809385,
     "user": {
      "displayName": "adrish bir",
      "photoUrl": "https://lh3.googleusercontent.com/a-/AOh14GjvnDCPOpuviVvO_227LaSth7sl8OIBxCSMqQmFO4c=s64",
      "userId": "15664726640138518444"
     },
     "user_tz": -330
    },
    "id": "Hv7j4q_bQL_O",
    "outputId": "945082ba-17cd-400b-bcf4-a93fd8aab8fa"
   },
   "outputs": [
    {
     "data": {
      "text/plain": [
       "Text(0.5, 1.0, '1292-CountryvsPrice barplot')"
      ]
     },
     "execution_count": 25,
     "metadata": {
      "tags": []
     },
     "output_type": "execute_result"
    },
    {
     "data": {
      "image/png": "[encoded data removed]",
      "text/plain": [
       "<Figure size 1440x360 with 3 Axes>"
      ]
     },
     "metadata": {
      "tags": []
     },
     "output_type": "display_data"
    }
   ],
   "source": [
    "style.use('seaborn-dark')\n",
    "df_prod1 = df1[df1.StockCode==3249]\n",
    "df_prod2 = df1[df1.StockCode==3235]\n",
    "df_prod3 = df1[df1.StockCode==1292]\n",
    "#df_prod.head()\n",
    "fig, (ax1, ax2,ax3) = plt.subplots(1, 3,figsize=(20,5))\n",
    "fig.suptitle('Testing Deductions')\n",
    "ax1.bar(df_prod1['Country'],df_prod1['UnitPrice'],color=['purple'])\n",
    "ax1.set_title('3249-CountryvsPrice barplot')\n",
    "ax2.bar(df_prod2['Country'],df_prod2['UnitPrice'],color=['cyan'])\n",
    "ax2.set_title('3235-CountryvsPrice barplot')\n",
    "ax3.bar(df_prod3['Country'],df_prod3['UnitPrice'])\n",
    "ax3.set_title('1292-CountryvsPrice barplot')\n",
    "#Country cod e35 has double price ...and it is justified as most of the records are for country 35\n",
    "#And not every product is sold in every country"
   ]
  },
  {
   "cell_type": "code",
   "execution_count": null,
   "metadata": {
    "colab": {
     "base_uri": "https://localhost:8080/",
     "height": 371
    },
    "executionInfo": {
     "elapsed": 9334,
     "status": "ok",
     "timestamp": 1604935699480,
     "user": {
      "displayName": "adrish bir",
      "photoUrl": "https://lh3.googleusercontent.com/a-/AOh14GjvnDCPOpuviVvO_227LaSth7sl8OIBxCSMqQmFO4c=s64",
      "userId": "15664726640138518444"
     },
     "user_tz": -330
    },
    "id": "V2W3Nl0aQQ8E",
    "outputId": "81f775c1-d8b4-4e34-ee7f-6b293b70c40d"
   },
   "outputs": [
    {
     "data": {
      "text/plain": [
       "Text(0.5, 1.0, '1292-CountryvsPrice barplot')"
      ]
     },
     "execution_count": 44,
     "metadata": {
      "tags": []
     },
     "output_type": "execute_result"
    },
    {
     "data": {
      "image/png": "[encoded data removed]",
      "text/plain": [
       "<Figure size 1440x360 with 3 Axes>"
      ]
     },
     "metadata": {
      "tags": []
     },
     "output_type": "display_data"
    }
   ],
   "source": [
    "style.use('seaborn-dark')\n",
    "df_prod1 = df1[(df1.StockCode==3249) & (abs(df1.Quantity)<30) ]\n",
    "df_prod2 = df1[(df1.StockCode==3235) & (abs(df1.Quantity)<30 )]\n",
    "df_prod3 = df1[(df1.StockCode==1292) & (abs(df1.Quantity)<30 )]\n",
    "#df_prod.head()\n",
    "fig, (ax1, ax2,ax3) = plt.subplots(1, 3,figsize=(20,5))\n",
    "fig.suptitle('Testing Deductions')\n",
    "ax1.bar(abs(df_prod1['Quantity']),df_prod1['UnitPrice'],color=['red'])\n",
    "ax1.set_title('3249-QuantityvsPrice barplot')\n",
    "ax2.bar(abs(df_prod2['Quantity']),df_prod2['UnitPrice'],color=['green'])\n",
    "ax2.set_title('3235-QuantityvsPrice barplot')\n",
    "ax3.bar(abs(df_prod3['Quantity']),df_prod3['UnitPrice'])\n",
    "ax3.set_title('1292-CountryvsPrice barplot')\n",
    "#For buying 1 or 2 quantity price doubles"
   ]
  },
  {
   "cell_type": "code",
   "execution_count": null,
   "metadata": {
    "colab": {
     "base_uri": "https://localhost:8080/",
     "height": 371
    },
    "executionInfo": {
     "elapsed": 83729,
     "status": "ok",
     "timestamp": 1604933824575,
     "user": {
      "displayName": "adrish bir",
      "photoUrl": "https://lh3.googleusercontent.com/a-/AOh14GjvnDCPOpuviVvO_227LaSth7sl8OIBxCSMqQmFO4c=s64",
      "userId": "15664726640138518444"
     },
     "user_tz": -330
    },
    "id": "qmYMbf26dknz",
    "outputId": "7e4a4b22-a8ad-43b9-f7d8-14270c744a64"
   },
   "outputs": [
    {
     "data": {
      "text/plain": [
       "Text(0.5, 1.0, '1292-TimelightvsPrice Histogram')"
      ]
     },
     "execution_count": 27,
     "metadata": {
      "tags": []
     },
     "output_type": "execute_result"
    },
    {
     "data": {
      "image/png": "[encoded data removed]",
      "text/plain": [
       "<Figure size 1440x360 with 3 Axes>"
      ]
     },
     "metadata": {
      "tags": []
     },
     "output_type": "display_data"
    }
   ],
   "source": [
    "style.use('seaborn-dark')\n",
    "df_prod1 = df1[df1.StockCode==3249]\n",
    "df_prod2 = df1[df1.StockCode==3235]\n",
    "df_prod3 = df1[df1.StockCode==1292]\n",
    "#df_prod.head()\n",
    "fig, (ax1, ax2,ax3) = plt.subplots(1, 3,figsize=(20,5))\n",
    "fig.suptitle('Testing Deductions')\n",
    "ax1.bar(df_prod1['Timelight'],df_prod1['UnitPrice'],color=['green'])\n",
    "ax1.set_title('3249-TimelightvsPrice Histogram')\n",
    "ax2.bar(df_prod2['Timelight'],df_prod2['UnitPrice'],color=['blue'])\n",
    "ax2.set_title('3235-TimelightvsPrice Histogram')\n",
    "ax3.bar(df_prod3['Timelight'],df_prod3['UnitPrice'],color='pink')\n",
    "ax3.set_title('1292-TimelightvsPrice Histogram')\n",
    "\n",
    "#In noon price gets doubled."
   ]
  },
  {
   "cell_type": "code",
   "execution_count": null,
   "metadata": {
    "colab": {
     "base_uri": "https://localhost:8080/",
     "height": 331
    },
    "executionInfo": {
     "elapsed": 83724,
     "status": "ok",
     "timestamp": 1604933824584,
     "user": {
      "displayName": "adrish bir",
      "photoUrl": "https://lh3.googleusercontent.com/a-/AOh14GjvnDCPOpuviVvO_227LaSth7sl8OIBxCSMqQmFO4c=s64",
      "userId": "15664726640138518444"
     },
     "user_tz": -330
    },
    "id": "Cb1tJdgGTxKW",
    "outputId": "fc1eb7f1-abf1-42db-afac-1d57a75dce61"
   },
   "outputs": [
    {
     "data": {
      "text/html": [
       "<div>\n",
       "<style scoped>\n",
       "    .dataframe tbody tr th:only-of-type {\n",
       "        vertical-align: middle;\n",
       "    }\n",
       "\n",
       "    .dataframe tbody tr th {\n",
       "        vertical-align: top;\n",
       "    }\n",
       "\n",
       "    .dataframe thead th {\n",
       "        text-align: right;\n",
       "    }\n",
       "</style>\n",
       "<table border=\"1\" class=\"dataframe\">\n",
       "  <thead>\n",
       "    <tr style=\"text-align: right;\">\n",
       "      <th></th>\n",
       "      <th>StockCode</th>\n",
       "      <th>Description</th>\n",
       "      <th>Quantity</th>\n",
       "      <th>UnitPrice</th>\n",
       "      <th>CustomerID</th>\n",
       "      <th>Country</th>\n",
       "      <th>Year</th>\n",
       "      <th>Month</th>\n",
       "      <th>Day</th>\n",
       "    </tr>\n",
       "  </thead>\n",
       "  <tbody>\n",
       "    <tr>\n",
       "      <th>StockCode</th>\n",
       "      <td>1.000000</td>\n",
       "      <td>-0.013230</td>\n",
       "      <td>-0.000942</td>\n",
       "      <td>0.020073</td>\n",
       "      <td>0.002887</td>\n",
       "      <td>0.006242</td>\n",
       "      <td>0.030964</td>\n",
       "      <td>0.065018</td>\n",
       "      <td>0.005046</td>\n",
       "    </tr>\n",
       "    <tr>\n",
       "      <th>Description</th>\n",
       "      <td>-0.013230</td>\n",
       "      <td>1.000000</td>\n",
       "      <td>0.000194</td>\n",
       "      <td>-0.000424</td>\n",
       "      <td>-0.005227</td>\n",
       "      <td>-0.014791</td>\n",
       "      <td>0.023590</td>\n",
       "      <td>0.009275</td>\n",
       "      <td>0.004880</td>\n",
       "    </tr>\n",
       "    <tr>\n",
       "      <th>Quantity</th>\n",
       "      <td>-0.000942</td>\n",
       "      <td>0.000194</td>\n",
       "      <td>1.000000</td>\n",
       "      <td>-0.000924</td>\n",
       "      <td>-0.002930</td>\n",
       "      <td>-0.008001</td>\n",
       "      <td>0.000746</td>\n",
       "      <td>-0.001970</td>\n",
       "      <td>-0.000066</td>\n",
       "    </tr>\n",
       "    <tr>\n",
       "      <th>UnitPrice</th>\n",
       "      <td>0.020073</td>\n",
       "      <td>-0.000424</td>\n",
       "      <td>-0.000924</td>\n",
       "      <td>1.000000</td>\n",
       "      <td>-0.004932</td>\n",
       "      <td>-0.005378</td>\n",
       "      <td>0.000838</td>\n",
       "      <td>-0.002478</td>\n",
       "      <td>-0.000975</td>\n",
       "    </tr>\n",
       "    <tr>\n",
       "      <th>CustomerID</th>\n",
       "      <td>0.002887</td>\n",
       "      <td>-0.005227</td>\n",
       "      <td>-0.002930</td>\n",
       "      <td>-0.004932</td>\n",
       "      <td>1.000000</td>\n",
       "      <td>0.388198</td>\n",
       "      <td>-0.037739</td>\n",
       "      <td>0.029939</td>\n",
       "      <td>-0.001384</td>\n",
       "    </tr>\n",
       "    <tr>\n",
       "      <th>Country</th>\n",
       "      <td>0.006242</td>\n",
       "      <td>-0.014791</td>\n",
       "      <td>-0.008001</td>\n",
       "      <td>-0.005378</td>\n",
       "      <td>0.388198</td>\n",
       "      <td>1.000000</td>\n",
       "      <td>-0.017584</td>\n",
       "      <td>0.022823</td>\n",
       "      <td>0.000217</td>\n",
       "    </tr>\n",
       "    <tr>\n",
       "      <th>Year</th>\n",
       "      <td>0.030964</td>\n",
       "      <td>0.023590</td>\n",
       "      <td>0.000746</td>\n",
       "      <td>0.000838</td>\n",
       "      <td>-0.037739</td>\n",
       "      <td>-0.017584</td>\n",
       "      <td>1.000000</td>\n",
       "      <td>-0.341664</td>\n",
       "      <td>0.168553</td>\n",
       "    </tr>\n",
       "    <tr>\n",
       "      <th>Month</th>\n",
       "      <td>0.065018</td>\n",
       "      <td>0.009275</td>\n",
       "      <td>-0.001970</td>\n",
       "      <td>-0.002478</td>\n",
       "      <td>0.029939</td>\n",
       "      <td>0.022823</td>\n",
       "      <td>-0.341664</td>\n",
       "      <td>1.000000</td>\n",
       "      <td>-0.117902</td>\n",
       "    </tr>\n",
       "    <tr>\n",
       "      <th>Day</th>\n",
       "      <td>0.005046</td>\n",
       "      <td>0.004880</td>\n",
       "      <td>-0.000066</td>\n",
       "      <td>-0.000975</td>\n",
       "      <td>-0.001384</td>\n",
       "      <td>0.000217</td>\n",
       "      <td>0.168553</td>\n",
       "      <td>-0.117902</td>\n",
       "      <td>1.000000</td>\n",
       "    </tr>\n",
       "  </tbody>\n",
       "</table>\n",
       "</div>"
      ],
      "text/plain": [
       "             StockCode  Description  Quantity  ...      Year     Month       Day\n",
       "StockCode     1.000000    -0.013230 -0.000942  ...  0.030964  0.065018  0.005046\n",
       "Description  -0.013230     1.000000  0.000194  ...  0.023590  0.009275  0.004880\n",
       "Quantity     -0.000942     0.000194  1.000000  ...  0.000746 -0.001970 -0.000066\n",
       "UnitPrice     0.020073    -0.000424 -0.000924  ...  0.000838 -0.002478 -0.000975\n",
       "CustomerID    0.002887    -0.005227 -0.002930  ... -0.037739  0.029939 -0.001384\n",
       "Country       0.006242    -0.014791 -0.008001  ... -0.017584  0.022823  0.000217\n",
       "Year          0.030964     0.023590  0.000746  ...  1.000000 -0.341664  0.168553\n",
       "Month         0.065018     0.009275 -0.001970  ... -0.341664  1.000000 -0.117902\n",
       "Day           0.005046     0.004880 -0.000066  ...  0.168553 -0.117902  1.000000\n",
       "\n",
       "[9 rows x 9 columns]"
      ]
     },
     "execution_count": 28,
     "metadata": {
      "tags": []
     },
     "output_type": "execute_result"
    }
   ],
   "source": [
    "#Lets chec for correlation.\n",
    "df1.drop(['InvoiceNo','Time',],axis=1,inplace=True)\n",
    "corr = df1.corr()\n",
    "corr"
   ]
  },
  {
   "cell_type": "code",
   "execution_count": null,
   "metadata": {
    "colab": {
     "base_uri": "https://localhost:8080/",
     "height": 328
    },
    "executionInfo": {
     "elapsed": 83719,
     "status": "ok",
     "timestamp": 1604933824592,
     "user": {
      "displayName": "adrish bir",
      "photoUrl": "https://lh3.googleusercontent.com/a-/AOh14GjvnDCPOpuviVvO_227LaSth7sl8OIBxCSMqQmFO4c=s64",
      "userId": "15664726640138518444"
     },
     "user_tz": -330
    },
    "id": "Qhj7SftWXZC6",
    "outputId": "f630e981-c412-417d-f4d3-331ba3263677"
   },
   "outputs": [
    {
     "data": {
      "text/plain": [
       "<matplotlib.axes._subplots.AxesSubplot at 0x7f43c9e9fe48>"
      ]
     },
     "execution_count": 29,
     "metadata": {
      "tags": []
     },
     "output_type": "execute_result"
    },
    {
     "data": {
      "image/png": "[encoded data removed]",
      "text/plain": [
       "<Figure size 432x288 with 2 Axes>"
      ]
     },
     "metadata": {
      "tags": []
     },
     "output_type": "display_data"
    }
   ],
   "source": [
    "sns.heatmap(corr,vmin=-1, vmax=1, center=0,cmap=sns.diverging_palette(20, 220, n=200),square=True)\n",
    "#No such Correlation"
   ]
  },
  {
   "cell_type": "code",
   "execution_count": null,
   "metadata": {
    "colab": {
     "base_uri": "https://localhost:8080/",
     "height": 328
    },
    "executionInfo": {
     "elapsed": 85093,
     "status": "ok",
     "timestamp": 1604933825977,
     "user": {
      "displayName": "adrish bir",
      "photoUrl": "https://lh3.googleusercontent.com/a-/AOh14GjvnDCPOpuviVvO_227LaSth7sl8OIBxCSMqQmFO4c=s64",
      "userId": "15664726640138518444"
     },
     "user_tz": -330
    },
    "id": "JqvhP8ObZVdh",
    "outputId": "b1f9f802-36d6-42e9-aa46-ce8a5fdeff1b"
   },
   "outputs": [
    {
     "data": {
      "text/plain": [
       "<matplotlib.axes._subplots.AxesSubplot at 0x7f43bef3b208>"
      ]
     },
     "execution_count": 30,
     "metadata": {
      "tags": []
     },
     "output_type": "execute_result"
    },
    {
     "data": {
      "image/png": "[encoded data removed]",
      "text/plain": [
       "<Figure size 432x288 with 2 Axes>"
      ]
     },
     "metadata": {
      "tags": []
     },
     "output_type": "display_data"
    }
   ],
   "source": [
    "#Lets try it for a single product 3249\n",
    "corr = df1[df1.StockCode==3249].corr()\n",
    "sns.heatmap(corr,vmin=-1, vmax=1, center=0,cmap=sns.diverging_palette(20, 220, n=200),square=True)"
   ]
  },
  {
   "cell_type": "code",
   "execution_count": null,
   "metadata": {
    "colab": {
     "base_uri": "https://localhost:8080/"
    },
    "executionInfo": {
     "elapsed": 85091,
     "status": "ok",
     "timestamp": 1604933825984,
     "user": {
      "displayName": "adrish bir",
      "photoUrl": "https://lh3.googleusercontent.com/a-/AOh14GjvnDCPOpuviVvO_227LaSth7sl8OIBxCSMqQmFO4c=s64",
      "userId": "15664726640138518444"
     },
     "user_tz": -330
    },
    "id": "x9j4U197aMKY",
    "outputId": "650f9041-4435-4fd0-e375-7b26a0df64ae"
   },
   "outputs": [
    {
     "name": "stdout",
     "output_type": "stream",
     "text": [
      "<class 'pandas.core.frame.DataFrame'>\n",
      "RangeIndex: 284780 entries, 0 to 284779\n",
      "Data columns (total 10 columns):\n",
      " #   Column       Non-Null Count   Dtype  \n",
      "---  ------       --------------   -----  \n",
      " 0   StockCode    284780 non-null  int64  \n",
      " 1   Description  284780 non-null  int64  \n",
      " 2   Quantity     284780 non-null  int64  \n",
      " 3   UnitPrice    284780 non-null  float64\n",
      " 4   Country      284780 non-null  int64  \n",
      " 5   Year         284780 non-null  int64  \n",
      " 6   Month        284780 non-null  int64  \n",
      " 7   Day          284780 non-null  int64  \n",
      " 8   Weekday      284780 non-null  object \n",
      " 9   Timelight    284780 non-null  object \n",
      "dtypes: float64(1), int64(7), object(2)\n",
      "memory usage: 21.7+ MB\n"
     ]
    }
   ],
   "source": [
    "#df1.drop(['CustomerID'],axis=1,inplace=True)\n",
    "df1.info()"
   ]
  },
  {
   "cell_type": "code",
   "execution_count": null,
   "metadata": {
    "colab": {
     "base_uri": "https://localhost:8080/"
    },
    "executionInfo": {
     "elapsed": 85090,
     "status": "ok",
     "timestamp": 1604933825991,
     "user": {
      "displayName": "adrish bir",
      "photoUrl": "https://lh3.googleusercontent.com/a-/AOh14GjvnDCPOpuviVvO_227LaSth7sl8OIBxCSMqQmFO4c=s64",
      "userId": "15664726640138518444"
     },
     "user_tz": -330
    },
    "id": "XB1sFCPcatjX",
    "outputId": "ba5e6592-7196-4b2c-b308-b3ccb6a0b105"
   },
   "outputs": [
    {
     "data": {
      "text/plain": [
       "2780    1292\n",
       "Name: Description, dtype: int64"
      ]
     },
     "execution_count": 32,
     "metadata": {
      "tags": []
     },
     "output_type": "execute_result"
    }
   ],
   "source": [
    "df_prod3.Description.value_counts()"
   ]
  },
  {
   "cell_type": "code",
   "execution_count": 43,
   "metadata": {
    "executionInfo": {
     "elapsed": 2746,
     "status": "ok",
     "timestamp": 1605094999611,
     "user": {
      "displayName": "adrish bir",
      "photoUrl": "https://lh3.googleusercontent.com/a-/AOh14GjvnDCPOpuviVvO_227LaSth7sl8OIBxCSMqQmFO4c=s64",
      "userId": "15664726640138518444"
     },
     "user_tz": -330
    },
    "id": "mlcCA6hRa--e"
   },
   "outputs": [],
   "source": [
    "df1.to_csv(Data_dir+'DataPrep1.csv',index=False)"
   ]
  },
  {
   "cell_type": "code",
   "execution_count": 44,
   "metadata": {
    "colab": {
     "base_uri": "https://localhost:8080/",
     "height": 267
    },
    "executionInfo": {
     "elapsed": 2365,
     "status": "ok",
     "timestamp": 1605095056653,
     "user": {
      "displayName": "adrish bir",
      "photoUrl": "https://lh3.googleusercontent.com/a-/AOh14GjvnDCPOpuviVvO_227LaSth7sl8OIBxCSMqQmFO4c=s64",
      "userId": "15664726640138518444"
     },
     "user_tz": -330
    },
    "id": "P4CbGCmohoQ3",
    "outputId": "f50ec22e-619f-40d9-8123-348f2dd6e011"
   },
   "outputs": [
    {
     "data": {
      "text/plain": [
       "<matplotlib.axes._subplots.AxesSubplot at 0x7f331bc436a0>"
      ]
     },
     "execution_count": 44,
     "metadata": {
      "tags": []
     },
     "output_type": "execute_result"
    },
    {
     "data": {
      "image/png": "[encoded data removed]",
      "text/plain": [
       "<Figure size 432x288 with 1 Axes>"
      ]
     },
     "metadata": {
      "tags": []
     },
     "output_type": "display_data"
    }
   ],
   "source": [
    "#df1.hist(['UnitPrice'],bins=10,figsize=(10,5))\n",
    "sns.set_theme(style=\"whitegrid\")\n",
    "sns.boxplot(y=df1[\"UnitPrice\"])\n",
    "#Price heavily left skewed"
   ]
  },
  {
   "cell_type": "code",
   "execution_count": null,
   "metadata": {
    "colab": {
     "base_uri": "https://localhost:8080/"
    },
    "executionInfo": {
     "elapsed": 2250,
     "status": "ok",
     "timestamp": 1605020770046,
     "user": {
      "displayName": "adrish bir",
      "photoUrl": "https://lh3.googleusercontent.com/a-/AOh14GjvnDCPOpuviVvO_227LaSth7sl8OIBxCSMqQmFO4c=s64",
      "userId": "15664726640138518444"
     },
     "user_tz": -330
    },
    "id": "kYsuUJOWo3fR",
    "outputId": "967e54cd-f5f8-4562-f7b4-a4dca5420ec5"
   },
   "outputs": [
    {
     "data": {
      "text/plain": [
       "12.75    1023\n",
       "10.95     257\n",
       "24.96       8\n",
       "4.00        2\n",
       "0.00        1\n",
       "5.00        1\n",
       "Name: UnitPrice, dtype: int64"
      ]
     },
     "execution_count": 33,
     "metadata": {
      "tags": []
     },
     "output_type": "execute_result"
    }
   ],
   "source": [
    "df_prod3.UnitPrice.value_counts()"
   ]
  },
  {
   "cell_type": "code",
   "execution_count": 45,
   "metadata": {
    "colab": {
     "base_uri": "https://localhost:8080/",
     "height": 363
    },
    "executionInfo": {
     "elapsed": 1291,
     "status": "ok",
     "timestamp": 1605095058960,
     "user": {
      "displayName": "adrish bir",
      "photoUrl": "https://lh3.googleusercontent.com/a-/AOh14GjvnDCPOpuviVvO_227LaSth7sl8OIBxCSMqQmFO4c=s64",
      "userId": "15664726640138518444"
     },
     "user_tz": -330
    },
    "id": "3K2S_ZvUrLJ8",
    "outputId": "530c5a0d-0e02-4679-fd59-c1cc0cad5bf5"
   },
   "outputs": [
    {
     "data": {
      "text/html": [
       "<div>\n",
       "<style scoped>\n",
       "    .dataframe tbody tr th:only-of-type {\n",
       "        vertical-align: middle;\n",
       "    }\n",
       "\n",
       "    .dataframe tbody tr th {\n",
       "        vertical-align: top;\n",
       "    }\n",
       "\n",
       "    .dataframe thead th {\n",
       "        text-align: right;\n",
       "    }\n",
       "</style>\n",
       "<table border=\"1\" class=\"dataframe\">\n",
       "  <thead>\n",
       "    <tr style=\"text-align: right;\">\n",
       "      <th></th>\n",
       "      <th>InvoiceNo</th>\n",
       "      <th>StockCode</th>\n",
       "      <th>Description</th>\n",
       "      <th>Quantity</th>\n",
       "      <th>UnitPrice</th>\n",
       "      <th>CustomerID</th>\n",
       "      <th>Country</th>\n",
       "      <th>Year</th>\n",
       "      <th>Month</th>\n",
       "      <th>Day</th>\n",
       "      <th>Timelight</th>\n",
       "      <th>Weekday</th>\n",
       "    </tr>\n",
       "  </thead>\n",
       "  <tbody>\n",
       "    <tr>\n",
       "      <th>227483</th>\n",
       "      <td>16165</td>\n",
       "      <td>3249</td>\n",
       "      <td>3716</td>\n",
       "      <td>320</td>\n",
       "      <td>3.20</td>\n",
       "      <td>17450.0</td>\n",
       "      <td>35</td>\n",
       "      <td>2011</td>\n",
       "      <td>11</td>\n",
       "      <td>14</td>\n",
       "      <td>Morning</td>\n",
       "      <td>Monday</td>\n",
       "    </tr>\n",
       "    <tr>\n",
       "      <th>180113</th>\n",
       "      <td>15327</td>\n",
       "      <td>3249</td>\n",
       "      <td>3716</td>\n",
       "      <td>224</td>\n",
       "      <td>3.20</td>\n",
       "      <td>17450.0</td>\n",
       "      <td>35</td>\n",
       "      <td>2011</td>\n",
       "      <td>11</td>\n",
       "      <td>3</td>\n",
       "      <td>Noon</td>\n",
       "      <td>Thursday</td>\n",
       "    </tr>\n",
       "    <tr>\n",
       "      <th>204045</th>\n",
       "      <td>1659</td>\n",
       "      <td>3249</td>\n",
       "      <td>3716</td>\n",
       "      <td>1010</td>\n",
       "      <td>3.24</td>\n",
       "      <td>17450.0</td>\n",
       "      <td>35</td>\n",
       "      <td>2011</td>\n",
       "      <td>1</td>\n",
       "      <td>11</td>\n",
       "      <td>Morning</td>\n",
       "      <td>Tuesday</td>\n",
       "    </tr>\n",
       "    <tr>\n",
       "      <th>32428</th>\n",
       "      <td>9229</td>\n",
       "      <td>3249</td>\n",
       "      <td>3716</td>\n",
       "      <td>128</td>\n",
       "      <td>3.24</td>\n",
       "      <td>17450.0</td>\n",
       "      <td>35</td>\n",
       "      <td>2011</td>\n",
       "      <td>7</td>\n",
       "      <td>12</td>\n",
       "      <td>Morning</td>\n",
       "      <td>Tuesday</td>\n",
       "    </tr>\n",
       "    <tr>\n",
       "      <th>259266</th>\n",
       "      <td>10015</td>\n",
       "      <td>3249</td>\n",
       "      <td>3716</td>\n",
       "      <td>480</td>\n",
       "      <td>3.24</td>\n",
       "      <td>17450.0</td>\n",
       "      <td>35</td>\n",
       "      <td>2011</td>\n",
       "      <td>7</td>\n",
       "      <td>28</td>\n",
       "      <td>Noon</td>\n",
       "      <td>Thursday</td>\n",
       "    </tr>\n",
       "    <tr>\n",
       "      <th>3146</th>\n",
       "      <td>14606</td>\n",
       "      <td>3249</td>\n",
       "      <td>3716</td>\n",
       "      <td>2</td>\n",
       "      <td>5.79</td>\n",
       "      <td>14096.0</td>\n",
       "      <td>35</td>\n",
       "      <td>2011</td>\n",
       "      <td>10</td>\n",
       "      <td>24</td>\n",
       "      <td>Noon</td>\n",
       "      <td>Monday</td>\n",
       "    </tr>\n",
       "    <tr>\n",
       "      <th>97355</th>\n",
       "      <td>16242</td>\n",
       "      <td>3249</td>\n",
       "      <td>3716</td>\n",
       "      <td>1</td>\n",
       "      <td>5.79</td>\n",
       "      <td>14096.0</td>\n",
       "      <td>35</td>\n",
       "      <td>2011</td>\n",
       "      <td>11</td>\n",
       "      <td>14</td>\n",
       "      <td>Noon</td>\n",
       "      <td>Monday</td>\n",
       "    </tr>\n",
       "    <tr>\n",
       "      <th>148290</th>\n",
       "      <td>17128</td>\n",
       "      <td>3249</td>\n",
       "      <td>3716</td>\n",
       "      <td>1</td>\n",
       "      <td>5.79</td>\n",
       "      <td>14096.0</td>\n",
       "      <td>35</td>\n",
       "      <td>2011</td>\n",
       "      <td>11</td>\n",
       "      <td>23</td>\n",
       "      <td>Noon</td>\n",
       "      <td>Wednesday</td>\n",
       "    </tr>\n",
       "    <tr>\n",
       "      <th>283643</th>\n",
       "      <td>14160</td>\n",
       "      <td>3249</td>\n",
       "      <td>3716</td>\n",
       "      <td>1</td>\n",
       "      <td>5.79</td>\n",
       "      <td>14096.0</td>\n",
       "      <td>35</td>\n",
       "      <td>2011</td>\n",
       "      <td>10</td>\n",
       "      <td>17</td>\n",
       "      <td>Noon</td>\n",
       "      <td>Monday</td>\n",
       "    </tr>\n",
       "    <tr>\n",
       "      <th>264296</th>\n",
       "      <td>15896</td>\n",
       "      <td>3249</td>\n",
       "      <td>3716</td>\n",
       "      <td>2</td>\n",
       "      <td>5.79</td>\n",
       "      <td>14096.0</td>\n",
       "      <td>35</td>\n",
       "      <td>2011</td>\n",
       "      <td>11</td>\n",
       "      <td>10</td>\n",
       "      <td>Noon</td>\n",
       "      <td>Thursday</td>\n",
       "    </tr>\n",
       "  </tbody>\n",
       "</table>\n",
       "</div>"
      ],
      "text/plain": [
       "        InvoiceNo  StockCode  Description  ...  Day  Timelight    Weekday\n",
       "227483      16165       3249         3716  ...   14    Morning     Monday\n",
       "180113      15327       3249         3716  ...    3       Noon   Thursday\n",
       "204045       1659       3249         3716  ...   11    Morning    Tuesday\n",
       "32428        9229       3249         3716  ...   12    Morning    Tuesday\n",
       "259266      10015       3249         3716  ...   28       Noon   Thursday\n",
       "3146        14606       3249         3716  ...   24       Noon     Monday\n",
       "97355       16242       3249         3716  ...   14       Noon     Monday\n",
       "148290      17128       3249         3716  ...   23       Noon  Wednesday\n",
       "283643      14160       3249         3716  ...   17       Noon     Monday\n",
       "264296      15896       3249         3716  ...   10       Noon   Thursday\n",
       "\n",
       "[10 rows x 12 columns]"
      ]
     },
     "execution_count": 45,
     "metadata": {
      "tags": []
     },
     "output_type": "execute_result"
    }
   ],
   "source": [
    "#df_prod2['Quantity'] = abs(df_prod2.Quantity)\n",
    "df1[df1.StockCode==3249].sort_values(by=['UnitPrice']).tail(10)\n",
    "#df_prod2['UnitPrice'].value_counts()"
   ]
  },
  {
   "cell_type": "code",
   "execution_count": 38,
   "metadata": {
    "colab": {
     "base_uri": "https://localhost:8080/",
     "height": 314
    },
    "executionInfo": {
     "elapsed": 1243,
     "status": "ok",
     "timestamp": 1605094707229,
     "user": {
      "displayName": "adrish bir",
      "photoUrl": "https://lh3.googleusercontent.com/a-/AOh14GjvnDCPOpuviVvO_227LaSth7sl8OIBxCSMqQmFO4c=s64",
      "userId": "15664726640138518444"
     },
     "user_tz": -330
    },
    "id": "gzDGeSPu2VBu",
    "outputId": "83929976-2025-4bd8-d451-28aa2c6fddec"
   },
   "outputs": [
    {
     "data": {
      "text/plain": [
       "array([[<matplotlib.axes._subplots.AxesSubplot object at 0x7f33165387b8>]],\n",
       "      dtype=object)"
      ]
     },
     "execution_count": 38,
     "metadata": {
      "tags": []
     },
     "output_type": "execute_result"
    },
    {
     "data": {
      "image/png": "[encoded data removed]",
      "text/plain": [
       "<Figure size 432x288 with 1 Axes>"
      ]
     },
     "metadata": {
      "tags": []
     },
     "output_type": "display_data"
    }
   ],
   "source": [
    "#df1.drop(['Date'],axis=1,inplace=True)\n",
    "df_prod3.hist(['CustomerID'])"
   ]
  },
  {
   "cell_type": "code",
   "execution_count": 107,
   "metadata": {
    "colab": {
     "base_uri": "https://localhost:8080/",
     "height": 281
    },
    "executionInfo": {
     "elapsed": 1534,
     "status": "ok",
     "timestamp": 1605100951571,
     "user": {
      "displayName": "adrish bir",
      "photoUrl": "https://lh3.googleusercontent.com/a-/AOh14GjvnDCPOpuviVvO_227LaSth7sl8OIBxCSMqQmFO4c=s64",
      "userId": "15664726640138518444"
     },
     "user_tz": -330
    },
    "id": "Xrpy_yWw1ZoP",
    "outputId": "a280ccc6-19f5-4d83-ca8c-a01d56e324e1"
   },
   "outputs": [
    {
     "data": {
      "text/plain": [
       "<matplotlib.collections.PathCollection at 0x7f330fac59e8>"
      ]
     },
     "execution_count": 107,
     "metadata": {
      "tags": []
     },
     "output_type": "execute_result"
    },
    {
     "data": {
      "image/png": "[encoded data removed]",
      "text/plain": [
       "<Figure size 432x288 with 1 Axes>"
      ]
     },
     "metadata": {
      "tags": []
     },
     "output_type": "display_data"
    }
   ],
   "source": [
    "style.use('seaborn-dark')\n",
    "df_prod1 = df1[df1.StockCode==3249]\n",
    "#df_prod1['Quantity']= df_prod1.Quantity.abs()\n",
    "\n",
    "df_prod2 = df1[df1.StockCode==3235]\n",
    "df_prod3 = df1[df1.StockCode==1292]\n",
    "\n",
    "plt.scatter(x='CustomerID',y='UnitPrice',data=df_prod3)"
   ]
  },
  {
   "cell_type": "code",
   "execution_count": null,
   "metadata": {
    "id": "wCXohtm2Jpkt"
   },
   "outputs": [],
   "source": []
  }
 ],
 "metadata": {
  "colab": {
   "authorship_tag": "ABX9TyPEDapes8lk94hEnYkRxkYl",
   "name": "RetailPricePredictionPt1.ipynb",
   "provenance": []
  },
  "kernelspec": {
   "display_name": "Python 3",
   "language": "python",
   "name": "python3"
  },
  "language_info": {
   "codemirror_mode": {
    "name": "ipython",
    "version": 3
   },
   "file_extension": ".py",
   "mimetype": "text/x-python",
   "name": "python",
   "nbconvert_exporter": "python",
   "pygments_lexer": "ipython3",
   "version": "3.8.3"
  }
 },
 "nbformat": 4,
 "nbformat_minor": 1
}
